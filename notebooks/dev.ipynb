{
 "cells": [
  {
   "cell_type": "code",
   "execution_count": 1,
   "metadata": {},
   "outputs": [
    {
     "name": "stdout",
     "output_type": "stream",
     "text": [
      "Number of tables extracted: 2\n",
      "\n",
      "Table 1:\n",
      "       0           1       2      3       4\n",
      "0  Datum   Wochentag  Tiefst  Preis  Höchst\n",
      "1  12.03    Mittwoch     102    111     120\n",
      "2  13.03  Donnerstag      97    105     113\n",
      "3  14.03     Freitag      98    107     116\n",
      "4  17.03      Montag      94    102     110\n",
      "\n",
      "Table 2:\n",
      "       0              1     2         3\n",
      "0  Monat  Tiefst-Höchst  Ende  Gesamt,%\n",
      "1   2025           2025  2025      2025\n",
      "2   März         86-125    94    -24.8%\n",
      "3  April         75-112    81    -35.2%\n",
      "4    Mai          77-91    84    -32.8%\n"
     ]
    }
   ],
   "source": [
    "import pandas as pd\n",
    "\n",
    "# URL of the webpage containing the tables\n",
    "url = 'https://kursprognose.com/nvidia'\n",
    "\n",
    "# Use pandas to read the HTML tables from the webpage\n",
    "tables = pd.read_html(url)\n",
    "\n",
    "# Check the number of tables extracted\n",
    "print(f\"Number of tables extracted: {len(tables)}\")\n",
    "\n",
    "# Display the first few rows of each table\n",
    "for i, table in enumerate(tables):\n",
    "    print(f\"\\nTable {i+1}:\")\n",
    "    print(table.head())\n"
   ]
  },
  {
   "cell_type": "code",
   "execution_count": 2,
   "metadata": {},
   "outputs": [
    {
     "name": "stdout",
     "output_type": "stream",
     "text": [
      "        0           1       2      3       4\n",
      "0   Datum   Wochentag  Tiefst  Preis  Höchst\n",
      "1   12.03    Mittwoch     102    111     120\n",
      "2   13.03  Donnerstag      97    105     113\n",
      "3   14.03     Freitag      98    107     116\n",
      "4   17.03      Montag      94    102     110\n",
      "5   18.03    Dienstag      95    103     111\n",
      "6   19.03    Mittwoch      97    105     113\n",
      "7   20.03  Donnerstag      92    100     108\n",
      "8   21.03     Freitag      96    104     112\n",
      "9   24.03      Montag      91     99     107\n",
      "10  25.03    Dienstag      95    103     111\n",
      "11  26.03    Mittwoch      92    100     108\n",
      "12  27.03  Donnerstag      89     97     105\n",
      "13  28.03     Freitag      86     93     100\n",
      "14  31.03      Montag      86     94     102\n",
      "15  01.04    Dienstag      86     94     102\n",
      "16  02.04    Mittwoch      86     94     102\n",
      "17  03.04  Donnerstag      86     94     102\n",
      "18  04.04     Freitag      88     96     104\n",
      "19  07.04      Montag      91     99     107\n",
      "20  08.04    Dienstag      90     98     106\n",
      "21  09.04    Mittwoch      89     97     105\n",
      "22  10.04  Donnerstag      92    100     108\n",
      "23  11.04     Freitag      93    101     109\n",
      "24  14.04      Montag      96    104     112\n"
     ]
    }
   ],
   "source": [
    "daily_forecast = tables[0]\n",
    "print(daily_forecast)\n"
   ]
  },
  {
   "cell_type": "code",
   "execution_count": 3,
   "metadata": {},
   "outputs": [
    {
     "name": "stdout",
     "output_type": "stream",
     "text": [
      "            0              1     2         3\n",
      "0       Monat  Tiefst-Höchst  Ende  Gesamt,%\n",
      "1        2025           2025  2025      2025\n",
      "2        März         86-125    94    -24.8%\n",
      "3       April         75-112    81    -35.2%\n",
      "4         Mai          77-91    84    -32.8%\n",
      "5        Juni          69-84    75    -40.0%\n",
      "6        Juli          67-79    73    -41.6%\n",
      "7      August          69-81    75    -40.0%\n",
      "8   September          75-93    86    -31.2%\n",
      "9     Oktober          79-93    86    -31.2%\n",
      "10   November         86-104    96    -23.2%\n",
      "11   Dezember         89-105    97    -22.4%\n",
      "12       2026           2026  2026      2026\n",
      "13     Januar         97-121   112    -10.4%\n",
      "14    Februar        105-123   114     -8.8%\n",
      "15       März        114-135   125      0.0%\n",
      "16      April        125-156   144     15.2%\n",
      "17        Mai        144-179   166     32.8%\n",
      "18       Juni        161-189   175     40.0%\n",
      "19       Juli        175-208   193     54.4%\n",
      "20     August        170-200   185     48.0%\n",
      "21  September        155-185   169     35.2%\n",
      "22    Oktober        162-190   176     40.8%\n",
      "23   November        176-208   193     54.4%\n",
      "24   Dezember        188-220   204     63.2%\n",
      "25       2027           2027  2027      2027\n",
      "26     Januar        204-254   235     88.0%\n",
      "27    Februar        219-257   238     90.4%\n",
      "28       März        238-296   274      119%\n"
     ]
    }
   ],
   "source": [
    "monthly_forecast = tables[1]\n",
    "print(monthly_forecast)"
   ]
  }
 ],
 "metadata": {
  "kernelspec": {
   "display_name": ".venv",
   "language": "python",
   "name": "python3"
  },
  "language_info": {
   "codemirror_mode": {
    "name": "ipython",
    "version": 3
   },
   "file_extension": ".py",
   "mimetype": "text/x-python",
   "name": "python",
   "nbconvert_exporter": "python",
   "pygments_lexer": "ipython3",
   "version": "3.10.0"
  }
 },
 "nbformat": 4,
 "nbformat_minor": 2
}

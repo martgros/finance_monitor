{
 "cells": [
  {
   "cell_type": "markdown",
   "metadata": {},
   "source": [
    "## Check Forecast Quality\n",
    "\n",
    "- create csv files every day by running `get_forecast.ipynb`\n",
    "- use this notebook to load all forecast of previous days and plot agains real stock prize of last week"
   ]
  },
  {
   "cell_type": "code",
   "execution_count": 9,
   "metadata": {},
   "outputs": [],
   "source": [
    "import pandas as pd\n",
    "import numpy as np\n",
    "import matplotlib.pyplot as plt\n",
    "import os\n",
    "from datetime import datetime\n",
    "import yfinance as yf\n",
    "import plotly.graph_objects as go\n",
    "import plotly.express as px\n",
    "from finance_monitor.utils import company_to_ticker_mapping\n",
    "\n",
    "cmap = px.colors.qualitative.Plotly\n",
    "\n",
    "class ForecastHandler:\n",
    "    def __init__(self, company=\"nvidia\", folder=\".\"):\n",
    "        self.company = company\n",
    "        self.folder = folder\n",
    "        self.forecasts = dict()\n",
    "        self.forecast_files = [f for f in os.listdir(self.folder) if f.endswith(\".csv\") and company in f]\n",
    "        print(\"found forecast files:\", self.forecast_files)\n",
    " \n",
    "    def load_all_forecasts(self):\n",
    "        for forecast_file in self.forecast_files:\n",
    "            date = forecast_file.split(\"_\")[0]\n",
    "            self.load_forecast(date)\n",
    " \n",
    "    def load_forecast(self, date):\n",
    "        filename = f'{date}_{self.company}_forecast.csv'\n",
    "        print('load file '+filename)\n",
    "        self.forecasts[date] = pd.read_csv(filename)\n",
    " \n",
    "    def get_stock_price_series(self):\n",
    "        ticker_symbol = company_to_ticker_mapping()[self.company]\n",
    "        ticker_data = yf.Ticker(ticker_symbol)\n",
    "        historical_data = ticker_data.history(period='1mo')\n",
    "        stock_prize = historical_data['Close']\n",
    "        dates = []\n",
    "        for date_i in historical_data.index:\n",
    "            dates.append(pd.Timestamp(year=date_i.year, month=int(date_i.month), day=int(date_i.day)))\n",
    " \n",
    "        #---### todo: dates.append(pd.Timestamp(year=current_year, month=int(day_month[1]), day=int(day_month[0])))\n",
    "        #print(f\"Current stock price of {self.company} is {current_price_usd} USD\")\n",
    "        return stock_prize, dates\n",
    " \n",
    "    def _get_start_date(self, external_start_date):\n",
    "        oldest_date = None\n",
    "        for fc in self.forecasts:\n",
    "            date = self.forecasts[fc]['date']\n",
    "            if oldest_date is None or pd.Timestamp(date[0]) < oldest_date:\n",
    "                oldest_date = pd.Timestamp(date[0])\n",
    "        if external_start_date < oldest_date:\n",
    "                oldest_date = external_start_date\n",
    "        return oldest_date\n",
    "\n",
    "    def plot_forecasts(self):\n",
    "        current_stock_prize, current_stock_prize_dates = self.get_stock_price_series()\n",
    "        idx_forecast_plot = 29  # max.number of forecast day to be plotted\n",
    "        start_date = self._get_start_date(current_stock_prize_dates[0])\n",
    "        \n",
    "        fig, ax = plt.subplots(figsize=(10, 5))\n",
    "        for idx, fc in enumerate(self.forecasts):\n",
    "            date = pd.to_datetime(self.forecasts[fc]['date'])\n",
    "            forecast_list = self.forecasts[fc]['forecast']\n",
    "            ax.plot(date, forecast_list, linestyle='dashed', label=f'Forecast - {fc}', color=cmap[idx % len(cmap)])\n",
    "            ax.scatter([date[0]], [forecast_list[0]], color=cmap[idx % len(cmap)], label=f'Start Forecast - {fc}', zorder=3)\n",
    "        # Current and past stock price as red line\n",
    "        ax.plot(current_stock_prize_dates, current_stock_prize, marker='o', linestyle='-', color='red', label='Current Price')\n",
    "        ax.set_title(f'{self.company} Forecast')\n",
    "        ax.set_xlabel('Date')\n",
    "        ax.set_ylabel('Price / USD')\n",
    "        ax.legend()\n",
    "        ax.grid(True)\n",
    "        plt.xticks(rotation=45)\n",
    "        plt.tight_layout()\n",
    "        plt.xlim([pd.to_datetime(start_date), date[min(idx_forecast_plot, len(date)-1)]])\n",
    "        plt.ylim([0, max(max(current_stock_prize), max(forecast_list[:idx_forecast_plot])) * 1.4])\n",
    "\n",
    "        plt.show()\n",
    "\n",
    "        fig = go.Figure()\n",
    "        for idx, fc in enumerate(self.forecasts):\n",
    "            date = pd.to_datetime(self.forecasts[fc]['date'])\n",
    "            forecast_list = self.forecasts[fc]['forecast']\n",
    "            #low = self.forecasts[fc]['low']\n",
    "            #high = self.forecasts[fc]['high']\n",
    "            \n",
    "            fig.add_trace(go.Scatter(\n",
    "                x=date, y=forecast_list,\n",
    "                mode='lines', \n",
    "                line=dict(dash='dash',color=cmap[np.mod(idx,len(cmap))]),\n",
    "                name=f'Forecast - {fc}'\n",
    "            ))\n",
    "\n",
    "            fig.add_trace(go.Scatter(\n",
    "                x=[date[0]], y=[forecast_list[0]],\n",
    "                mode='markers',\n",
    "                marker=dict(size=8, symbol='circle',color=cmap[np.mod(idx,len(cmap))]),\n",
    "                name=f'Start Forecast - {fc}'\n",
    "            ))\n",
    "            '''\n",
    "            fig.add_trace(go.Scatter(\n",
    "                x=list(date) + list(date[::-1]),\n",
    "                y=list(low) + list(high[::-1]),\n",
    "                fill='toself',\n",
    "                fillcolor='rgba(0, 100, 255, 0.2)',\n",
    "                line=dict(color='rgba(255,255,255,0)'),\n",
    "                name=f'Confidence Interval - {fc}'\n",
    "            ))\n",
    "            '''\n",
    "        # current and past stock prize as red line\n",
    "        fig.add_trace(go.Scatter(\n",
    "            x=current_stock_prize_dates, y=current_stock_prize,\n",
    "            mode='lines+markers',\n",
    "            marker=dict(color='red', size=6),\n",
    "            line=dict(color='red'),\n",
    "            name='Current Price'\n",
    "        ))\n",
    "\n",
    "        fig.update_layout(\n",
    "            title=f'{self.company} Forecast',\n",
    "            xaxis_title='Date',\n",
    "            yaxis_title='Price / USD',\n",
    "            xaxis=dict(tickangle=-45),\n",
    "            template='plotly_white',\n",
    "            legend=dict(\n",
    "                x=1.05,\n",
    "                y=1,\n",
    "                xanchor=\"left\",\n",
    "                yanchor=\"top\",\n",
    "                font=dict(size=10)\n",
    "            )\n",
    "        )\n",
    "        fig.update_xaxes(range=[pd.to_datetime(start_date), date[min(idx_forecast_plot, len(date)-1)]])\n",
    "        fig.update_yaxes(range=[0, max(max(current_stock_prize), max(forecast_list[:idx_forecast_plot])) * 1.4])\n",
    "\n",
    "        #fig.update_layout(\n",
    "        #    plot_bgcolor=\"black\",  # Hintergrund der Zeichenfläche\n",
    "        #    paper_bgcolor=\"black\",  # Gesamter Plot-Hintergrund\n",
    "        #    font=dict(color=\"white\"),  # Schriftfarbe auf weiß setzen\n",
    "        #    xaxis=dict(gridcolor=\"gray\"),  # Gitterlinien in Grau\n",
    "        #    yaxis=dict(gridcolor=\"gray\")\n",
    "        #)\n",
    "        # Plot anzeigen\n",
    "        fig.show()"
   ]
  },
  {
   "cell_type": "code",
   "execution_count": 10,
   "metadata": {},
   "outputs": [
    {
     "name": "stderr",
     "output_type": "stream",
     "text": [
      "$NVDA: possibly delisted; no price data found  (period=1mo)\n"
     ]
    },
    {
     "name": "stdout",
     "output_type": "stream",
     "text": [
      "found forecast files: ['20250312_nvidia_forecast.csv', '20250313_nvidia_forecast.csv', '20250315_nvidia_forecast.csv', '20250317_nvidia_forecast.csv', '20250318_nvidia_forecast.csv', '20250319_nvidia_forecast.csv', '20250329_nvidia_forecast.csv', '20250402_nvidia_forecast.csv', '20250403_nvidia_forecast.csv', '20250407_nvidia_forecast.csv', '20250408_nvidia_forecast.csv', '20250410_nvidia_forecast.csv', '20250418_nvidia_forecast.csv', '20250423_nvidia_forecast.csv']\n",
      "load file 20250312_nvidia_forecast.csv\n",
      "load file 20250313_nvidia_forecast.csv\n",
      "load file 20250315_nvidia_forecast.csv\n",
      "load file 20250317_nvidia_forecast.csv\n",
      "load file 20250318_nvidia_forecast.csv\n",
      "load file 20250319_nvidia_forecast.csv\n",
      "load file 20250329_nvidia_forecast.csv\n",
      "load file 20250402_nvidia_forecast.csv\n",
      "load file 20250403_nvidia_forecast.csv\n",
      "load file 20250407_nvidia_forecast.csv\n",
      "load file 20250408_nvidia_forecast.csv\n",
      "load file 20250410_nvidia_forecast.csv\n",
      "load file 20250418_nvidia_forecast.csv\n",
      "load file 20250423_nvidia_forecast.csv\n"
     ]
    },
    {
     "ename": "IndexError",
     "evalue": "list index out of range",
     "output_type": "error",
     "traceback": [
      "\u001b[1;31m---------------------------------------------------------------------------\u001b[0m",
      "\u001b[1;31mIndexError\u001b[0m                                Traceback (most recent call last)",
      "Cell \u001b[1;32mIn[10], line 3\u001b[0m\n\u001b[0;32m      1\u001b[0m fh\u001b[38;5;241m=\u001b[39mForecastHandler(company\u001b[38;5;241m=\u001b[39m\u001b[38;5;124m'\u001b[39m\u001b[38;5;124mnvidia\u001b[39m\u001b[38;5;124m'\u001b[39m)\n\u001b[0;32m      2\u001b[0m fh\u001b[38;5;241m.\u001b[39mload_all_forecasts()\n\u001b[1;32m----> 3\u001b[0m \u001b[43mfh\u001b[49m\u001b[38;5;241;43m.\u001b[39;49m\u001b[43mplot_forecasts\u001b[49m\u001b[43m(\u001b[49m\u001b[43m)\u001b[49m\n",
      "Cell \u001b[1;32mIn[9], line 57\u001b[0m, in \u001b[0;36mForecastHandler.plot_forecasts\u001b[1;34m(self)\u001b[0m\n\u001b[0;32m     55\u001b[0m current_stock_prize, current_stock_prize_dates \u001b[38;5;241m=\u001b[39m \u001b[38;5;28mself\u001b[39m\u001b[38;5;241m.\u001b[39mget_stock_price_series()\n\u001b[0;32m     56\u001b[0m idx_forecast_plot \u001b[38;5;241m=\u001b[39m \u001b[38;5;241m29\u001b[39m  \u001b[38;5;66;03m# max.number of forecast day to be plotted\u001b[39;00m\n\u001b[1;32m---> 57\u001b[0m start_date \u001b[38;5;241m=\u001b[39m \u001b[38;5;28mself\u001b[39m\u001b[38;5;241m.\u001b[39m_get_start_date(\u001b[43mcurrent_stock_prize_dates\u001b[49m\u001b[43m[\u001b[49m\u001b[38;5;241;43m0\u001b[39;49m\u001b[43m]\u001b[49m)\n\u001b[0;32m     59\u001b[0m fig, ax \u001b[38;5;241m=\u001b[39m plt\u001b[38;5;241m.\u001b[39msubplots(figsize\u001b[38;5;241m=\u001b[39m(\u001b[38;5;241m10\u001b[39m, \u001b[38;5;241m5\u001b[39m))\n\u001b[0;32m     60\u001b[0m \u001b[38;5;28;01mfor\u001b[39;00m idx, fc \u001b[38;5;129;01min\u001b[39;00m \u001b[38;5;28menumerate\u001b[39m(\u001b[38;5;28mself\u001b[39m\u001b[38;5;241m.\u001b[39mforecasts):\n",
      "\u001b[1;31mIndexError\u001b[0m: list index out of range"
     ]
    }
   ],
   "source": [
    "fh=ForecastHandler(company='nvidia')\n",
    "fh.load_all_forecasts()\n",
    "fh.plot_forecasts()"
   ]
  },
  {
   "cell_type": "code",
   "execution_count": null,
   "metadata": {},
   "outputs": [
    {
     "name": "stdout",
     "output_type": "stream",
     "text": [
      "found forecast files: ['20250312_rhm-aktie_forecast.csv', '20250313_rhm-aktie_forecast.csv', '20250315_rhm-aktie_forecast.csv', '20250317_rhm-aktie_forecast.csv', '20250318_rhm-aktie_forecast.csv', '20250319_rhm-aktie_forecast.csv', '20250329_rhm-aktie_forecast.csv', '20250402_rhm-aktie_forecast.csv', '20250403_rhm-aktie_forecast.csv', '20250407_rhm-aktie_forecast.csv', '20250408_rhm-aktie_forecast.csv', '20250410_rhm-aktie_forecast.csv', '20250418_rhm-aktie_forecast.csv', '20250423_rhm-aktie_forecast.csv']\n",
      "load file 20250312_rhm-aktie_forecast.csv\n",
      "load file 20250313_rhm-aktie_forecast.csv\n",
      "load file 20250315_rhm-aktie_forecast.csv\n",
      "load file 20250317_rhm-aktie_forecast.csv\n",
      "load file 20250318_rhm-aktie_forecast.csv\n",
      "load file 20250319_rhm-aktie_forecast.csv\n",
      "load file 20250329_rhm-aktie_forecast.csv\n",
      "load file 20250402_rhm-aktie_forecast.csv\n",
      "load file 20250403_rhm-aktie_forecast.csv\n",
      "load file 20250407_rhm-aktie_forecast.csv\n",
      "load file 20250408_rhm-aktie_forecast.csv\n",
      "load file 20250410_rhm-aktie_forecast.csv\n",
      "load file 20250418_rhm-aktie_forecast.csv\n",
      "load file 20250423_rhm-aktie_forecast.csv\n"
     ]
    },
    {
     "data": {
      "image/png": "[encoded data removed]",
      "text/plain": [
       "<Figure size 1000x500 with 1 Axes>"
      ]
     },
     "metadata": {},
     "output_type": "display_data"
    },
    {
     "data": {
      "application/vnd.plotly.v1+json": {
       "config": {
        "plotlyServerURL": "https://plot.ly"
       },
       "data": [
        {
         "line": {
          "color": "#636EFA",
          "dash": "dash"
         },
         "mode": "lines",
         "name": "Forecast - 20250312",
         "type": "scatter",
         "x": [
          "2025-03-13T00:00:00.000000000",
          "2025-03-14T00:00:00.000000000",
          "2025-03-17T00:00:00.000000000",
          "2025-03-18T00:00:00.000000000",
          "2025-03-19T00:00:00.000000000",
          "2025-03-20T00:00:00.000000000",
          "2025-03-21T00:00:00.000000000",
          "2025-03-24T00:00:00.000000000",
          "2025-03-25T00:00:00.000000000",
          "2025-03-26T00:00:00.000000000",
          "2025-03-27T00:00:00.000000000",
          "2025-03-28T00:00:00.000000000",
          "2025-03-31T00:00:00.000000000",
          "2025-04-01T00:00:00.000000000",
          "2025-04-02T00:00:00.000000000",
          "2025-04-03T00:00:00.000000000",
          "2025-04-04T00:00:00.000000000",
          "2025-04-07T00:00:00.000000000",
          "2025-04-08T00:00:00.000000000",
          "2025-04-09T00:00:00.000000000",
          "2025-04-10T00:00:00.000000000",
          "2025-04-11T00:00:00.000000000",
          "2025-04-14T00:00:00.000000000",
          "2025-04-15T00:00:00.000000000",
          "2025-05-01T00:00:00.000000000",
          "2025-06-01T00:00:00.000000000",
          "2025-07-01T00:00:00.000000000",
          "2025-08-01T00:00:00.000000000",
          "2025-09-01T00:00:00.000000000",
          "2025-10-01T00:00:00.000000000",
          "2025-11-01T00:00:00.000000000",
          "2025-12-01T00:00:00.000000000",
          "2026-01-01T00:00:00.000000000",
          "2026-02-01T00:00:00.000000000",
          "2026-03-01T00:00:00.000000000",
          "2026-04-01T00:00:00.000000000",
          "2026-05-01T00:00:00.000000000",
          "2026-06-01T00:00:00.000000000",
          "2026-07-01T00:00:00.000000000",
          "2026-08-01T00:00:00.000000000",
          "2026-09-01T00:00:00.000000000",
          "2026-10-01T00:00:00.000000000",
          "2026-11-01T00:00:00.000000000",
          "2026-12-01T00:00:00.000000000",
          "2027-01-01T00:00:00.000000000",
          "2027-02-01T00:00:00.000000000",
          "2027-03-01T00:00:00.000000000"
         ],
         "y": {
          "bdata": "AAAAAADAlEAAAAAAAGiVQAAAAAAAfJVAAAAAAABolEAAAAAAAFiUQAAAAAAAXJVAAAAAAADwlEAAAAAAAPyVQAAAAAAAHJZAAAAAAADQlkAAAAAAADiXQAAAAAAAQJdAAAAAAABomEAAAAAAAIiYQAAAAAAAZJdAAAAAAAB8l0AAAAAAAGiXQAAAAAAAlJhAAAAAAADQmUAAAAAAANiaQAAAAAAAuJpAAAAAAAC8mkAAAAAAAASbQAAAAAAArJtAAAAAAADomkAAAAAAAJCZQAAAAAAAUJpAAAAAAAAIm0AAAAAAAGCbQAAAAAAA8JtAAAAAAAD8m0AAAAAAAGSdQAAAAAAA3J5AAAAAAAA0oEAAAAAAAIKgQAAAAAAA0qBAAAAAAACqoUAAAAAAAOKhQAAAAAAAWKJAAAAAAAAgo0AAAAAAAKCjQAAAAAAAaKNAAAAAAAAgpEAAAAAAACKlQAAAAAAAjKRAAAAAAAC+o0AAAAAAALqkQA==",
          "dtype": "f8"
         }
        },
        {
         "marker": {
          "color": "#636EFA",
          "size": 8,
          "symbol": "circle"
         },
         "mode": "markers",
         "name": "Start Forecast - 20250312",
         "type": "scatter",
         "x": [
          "2025-03-13T00:00:00"
         ],
         "y": [
          1328
         ]
        },
        {
         "line": {
          "color": "#EF553B",
          "dash": "dash"
         },
         "mode": "lines",
         "name": "Forecast - 20250313",
         "type": "scatter",
         "x": [
          "2025-03-13T00:00:00.000000000",
          "2025-03-14T00:00:00.000000000",
          "2025-03-17T00:00:00.000000000",
          "2025-03-18T00:00:00.000000000",
          "2025-03-19T00:00:00.000000000",
          "2025-03-20T00:00:00.000000000",
          "2025-03-21T00:00:00.000000000",
          "2025-03-24T00:00:00.000000000",
          "2025-03-25T00:00:00.000000000",
          "2025-03-26T00:00:00.000000000",
          "2025-03-27T00:00:00.000000000",
          "2025-03-28T00:00:00.000000000",
          "2025-03-31T00:00:00.000000000",
          "2025-04-01T00:00:00.000000000",
          "2025-04-02T00:00:00.000000000",
          "2025-04-03T00:00:00.000000000",
          "2025-04-04T00:00:00.000000000",
          "2025-04-07T00:00:00.000000000",
          "2025-04-08T00:00:00.000000000",
          "2025-04-09T00:00:00.000000000",
          "2025-04-10T00:00:00.000000000",
          "2025-04-11T00:00:00.000000000",
          "2025-04-14T00:00:00.000000000",
          "2025-04-15T00:00:00.000000000",
          "2025-05-01T00:00:00.000000000",
          "2025-06-01T00:00:00.000000000",
          "2025-07-01T00:00:00.000000000",
          "2025-08-01T00:00:00.000000000",
          "2025-09-01T00:00:00.000000000",
          "2025-10-01T00:00:00.000000000",
          "2025-11-01T00:00:00.000000000",
          "2025-12-01T00:00:00.000000000",
          "2026-01-01T00:00:00.000000000",
          "2026-02-01T00:00:00.000000000",
          "2026-03-01T00:00:00.000000000",
          "2026-04-01T00:00:00.000000000",
          "2026-05-01T00:00:00.000000000",
          "2026-06-01T00:00:00.000000000",
          "2026-07-01T00:00:00.000000000",
          "2026-08-01T00:00:00.000000000",
          "2026-09-01T00:00:00.000000000",
          "2026-10-01T00:00:00.000000000",
          "2026-11-01T00:00:00.000000000",
          "2026-12-01T00:00:00.000000000",
          "2027-01-01T00:00:00.000000000",
          "2027-02-01T00:00:00.000000000",
          "2027-03-01T00:00:00.000000000"
         ],
         "y": {
          "bdata": "AAAAAADAlEAAAAAAAGiVQAAAAAAAfJVAAAAAAABolEAAAAAAAFiUQAAAAAAAXJVAAAAAAADwlEAAAAAAAPyVQAAAAAAAHJZAAAAAAADQlkAAAAAAADiXQAAAAAAAQJdAAAAAAABomEAAAAAAAIiYQAAAAAAAZJdAAAAAAAB8l0AAAAAAAGiXQAAAAAAAlJhAAAAAAADQmUAAAAAAANiaQAAAAAAAuJpAAAAAAAC8mkAAAAAAAASbQAAAAAAArJtAAAAAAADomkAAAAAAAJCZQAAAAAAAUJpAAAAAAAAIm0AAAAAAAGCbQAAAAAAA8JtAAAAAAAD8m0AAAAAAAGSdQAAAAAAA3J5AAAAAAAA0oEAAAAAAAIKgQAAAAAAA0qBAAAAAAACqoUAAAAAAAOKhQAAAAAAAWKJAAAAAAAAgo0AAAAAAAKCjQAAAAAAAaKNAAAAAAAAgpEAAAAAAACKlQAAAAAAAjKRAAAAAAAC+o0AAAAAAALqkQA==",
          "dtype": "f8"
         }
        },
        {
         "marker": {
          "color": "#EF553B",
          "size": 8,
          "symbol": "circle"
         },
         "mode": "markers",
         "name": "Start Forecast - 20250313",
         "type": "scatter",
         "x": [
          "2025-03-13T00:00:00"
         ],
         "y": [
          1328
         ]
        },
        {
         "line": {
          "color": "#00CC96",
          "dash": "dash"
         },
         "mode": "lines",
         "name": "Forecast - 20250315",
         "type": "scatter",
         "x": [
          "2025-03-17T00:00:00.000000000",
          "2025-03-18T00:00:00.000000000",
          "2025-03-19T00:00:00.000000000",
          "2025-03-20T00:00:00.000000000",
          "2025-03-21T00:00:00.000000000",
          "2025-03-24T00:00:00.000000000",
          "2025-03-25T00:00:00.000000000",
          "2025-03-26T00:00:00.000000000",
          "2025-03-27T00:00:00.000000000",
          "2025-03-28T00:00:00.000000000",
          "2025-03-31T00:00:00.000000000",
          "2025-04-01T00:00:00.000000000",
          "2025-04-02T00:00:00.000000000",
          "2025-04-03T00:00:00.000000000",
          "2025-04-04T00:00:00.000000000",
          "2025-04-07T00:00:00.000000000",
          "2025-04-08T00:00:00.000000000",
          "2025-04-09T00:00:00.000000000",
          "2025-04-10T00:00:00.000000000",
          "2025-04-11T00:00:00.000000000",
          "2025-04-14T00:00:00.000000000",
          "2025-04-15T00:00:00.000000000",
          "2025-04-16T00:00:00.000000000",
          "2025-04-17T00:00:00.000000000",
          "2025-05-01T00:00:00.000000000",
          "2025-06-01T00:00:00.000000000",
          "2025-07-01T00:00:00.000000000",
          "2025-08-01T00:00:00.000000000",
          "2025-09-01T00:00:00.000000000",
          "2025-10-01T00:00:00.000000000",
          "2025-11-01T00:00:00.000000000",
          "2025-12-01T00:00:00.000000000",
          "2026-01-01T00:00:00.000000000",
          "2026-02-01T00:00:00.000000000",
          "2026-03-01T00:00:00.000000000",
          "2026-04-01T00:00:00.000000000",
          "2026-05-01T00:00:00.000000000",
          "2026-06-01T00:00:00.000000000",
          "2026-07-01T00:00:00.000000000",
          "2026-08-01T00:00:00.000000000",
          "2026-09-01T00:00:00.000000000",
          "2026-10-01T00:00:00.000000000",
          "2026-11-01T00:00:00.000000000",
          "2026-12-01T00:00:00.000000000",
          "2027-01-01T00:00:00.000000000",
          "2027-02-01T00:00:00.000000000",
          "2027-03-01T00:00:00.000000000"
         ],
         "y": {
          "bdata": "AAAAAAB0lkAAAAAAANyWQAAAAAAAAJhAAAAAAADAmEAAAAAAANiYQAAAAAAAnJdAAAAAAACMl0AAAAAAALiYQAAAAAAAPJhAAAAAAAB0mUAAAAAAAJiZQAAAAAAAaJpAAAAAAADkmkAAAAAAAPCaQAAAAAAASJxAAAAAAABsnEAAAAAAABybQAAAAAAAOJtAAAAAAAAkm0AAAAAAAICcQAAAAAAA7J1AAAAAAAAcn0AAAAAAAPieQAAAAAAA/J5AAAAAAAA4nEAAAAAAANCaQAAAAAAAmJtAAAAAAABYnEAAAAAAALScQAAAAAAATJ1AAAAAAABYnUAAAAAAANCeQAAAAAAALqBAAAAAAAD+oEAAAAAAAFChQAAAAAAApKFAAAAAAACGokAAAAAAAMKiQAAAAAAAPqNAAAAAAAAQpEAAAAAAAJakQAAAAAAAXKRAAAAAAAAepUAAAAAAACymQAAAAAAAkKVAAAAAAAC4pEAAAAAAAMKlQA==",
          "dtype": "f8"
         }
        },
        {
         "marker": {
          "color": "#00CC96",
          "size": 8,
          "symbol": "circle"
         },
         "mode": "markers",
         "name": "Start Forecast - 20250315",
         "type": "scatter",
         "x": [
          "2025-03-17T00:00:00"
         ],
         "y": [
          1437
         ]
        },
        {
         "line": {
          "color": "#AB63FA",
          "dash": "dash"
         },
         "mode": "lines",
         "name": "Forecast - 20250317",
         "type": "scatter",
         "x": [
          "2025-03-18T00:00:00.000000000",
          "2025-03-19T00:00:00.000000000",
          "2025-03-20T00:00:00.000000000",
          "2025-03-21T00:00:00.000000000",
          "2025-03-24T00:00:00.000000000",
          "2025-03-25T00:00:00.000000000",
          "2025-03-26T00:00:00.000000000",
          "2025-03-27T00:00:00.000000000",
          "2025-03-28T00:00:00.000000000",
          "2025-03-31T00:00:00.000000000",
          "2025-04-01T00:00:00.000000000",
          "2025-04-02T00:00:00.000000000",
          "2025-04-03T00:00:00.000000000",
          "2025-04-04T00:00:00.000000000",
          "2025-04-07T00:00:00.000000000",
          "2025-04-08T00:00:00.000000000",
          "2025-04-09T00:00:00.000000000",
          "2025-04-10T00:00:00.000000000",
          "2025-04-11T00:00:00.000000000",
          "2025-04-14T00:00:00.000000000",
          "2025-04-15T00:00:00.000000000",
          "2025-04-16T00:00:00.000000000",
          "2025-04-17T00:00:00.000000000",
          "2025-04-18T00:00:00.000000000",
          "2025-05-01T00:00:00.000000000",
          "2025-06-01T00:00:00.000000000",
          "2025-07-01T00:00:00.000000000",
          "2025-08-01T00:00:00.000000000",
          "2025-09-01T00:00:00.000000000",
          "2025-10-01T00:00:00.000000000",
          "2025-11-01T00:00:00.000000000",
          "2025-12-01T00:00:00.000000000",
          "2026-01-01T00:00:00.000000000",
          "2026-02-01T00:00:00.000000000",
          "2026-03-01T00:00:00.000000000",
          "2026-04-01T00:00:00.000000000",
          "2026-05-01T00:00:00.000000000",
          "2026-06-01T00:00:00.000000000",
          "2026-07-01T00:00:00.000000000",
          "2026-08-01T00:00:00.000000000",
          "2026-09-01T00:00:00.000000000",
          "2026-10-01T00:00:00.000000000",
          "2026-11-01T00:00:00.000000000",
          "2026-12-01T00:00:00.000000000",
          "2027-01-01T00:00:00.000000000",
          "2027-02-01T00:00:00.000000000",
          "2027-03-01T00:00:00.000000000"
         ],
         "y": {
          "bdata": "AAAAAAB0lkAAAAAAANyWQAAAAAAAAJhAAAAAAADAmEAAAAAAANiYQAAAAAAAnJdAAAAAAACMl0AAAAAAALiYQAAAAAAAPJhAAAAAAAB0mUAAAAAAAJiZQAAAAAAAaJpAAAAAAADkmkAAAAAAAPCaQAAAAAAASJxAAAAAAABsnEAAAAAAABybQAAAAAAAOJtAAAAAAAAkm0AAAAAAAICcQAAAAAAA7J1AAAAAAAAcn0AAAAAAAPieQAAAAAAA/J5AAAAAAAAQnEAAAAAAAKiaQAAAAAAAcJtAAAAAAAAwnEAAAAAAAIycQAAAAAAAIJ1AAAAAAAAsnUAAAAAAAKCeQAAAAAAAFKBAAAAAAADioEAAAAAAADShQAAAAAAAhqFAAAAAAABmokAAAAAAAKCiQAAAAAAAGqNAAAAAAADqo0AAAAAAAG6kQAAAAAAANKRAAAAAAAD0pEAAAAAAAACmQAAAAAAAZKVAAAAAAACOpEAAAAAAAJalQA==",
          "dtype": "f8"
         }
        },
        {
         "marker": {
          "color": "#AB63FA",
          "size": 8,
          "symbol": "circle"
         },
         "mode": "markers",
         "name": "Start Forecast - 20250317",
         "type": "scatter",
         "x": [
          "2025-03-18T00:00:00"
         ],
         "y": [
          1437
         ]
        },
        {
         "line": {
          "color": "#FFA15A",
          "dash": "dash"
         },
         "mode": "lines",
         "name": "Forecast - 20250318",
         "type": "scatter",
         "x": [
          "2025-03-19T00:00:00.000000000",
          "2025-03-20T00:00:00.000000000",
          "2025-03-21T00:00:00.000000000",
          "2025-03-24T00:00:00.000000000",
          "2025-03-25T00:00:00.000000000",
          "2025-03-26T00:00:00.000000000",
          "2025-03-27T00:00:00.000000000",
          "2025-03-28T00:00:00.000000000",
          "2025-03-31T00:00:00.000000000",
          "2025-04-01T00:00:00.000000000",
          "2025-04-02T00:00:00.000000000",
          "2025-04-03T00:00:00.000000000",
          "2025-04-04T00:00:00.000000000",
          "2025-04-07T00:00:00.000000000",
          "2025-04-08T00:00:00.000000000",
          "2025-04-09T00:00:00.000000000",
          "2025-04-10T00:00:00.000000000",
          "2025-04-11T00:00:00.000000000",
          "2025-04-14T00:00:00.000000000",
          "2025-04-15T00:00:00.000000000",
          "2025-04-16T00:00:00.000000000",
          "2025-04-17T00:00:00.000000000",
          "2025-04-18T00:00:00.000000000",
          "2025-04-21T00:00:00.000000000",
          "2025-05-01T00:00:00.000000000",
          "2025-06-01T00:00:00.000000000",
          "2025-07-01T00:00:00.000000000",
          "2025-08-01T00:00:00.000000000",
          "2025-09-01T00:00:00.000000000",
          "2025-10-01T00:00:00.000000000",
          "2025-11-01T00:00:00.000000000",
          "2025-12-01T00:00:00.000000000",
          "2026-01-01T00:00:00.000000000",
          "2026-02-01T00:00:00.000000000",
          "2026-03-01T00:00:00.000000000",
          "2026-04-01T00:00:00.000000000",
          "2026-05-01T00:00:00.000000000",
          "2026-06-01T00:00:00.000000000",
          "2026-07-01T00:00:00.000000000",
          "2026-08-01T00:00:00.000000000",
          "2026-09-01T00:00:00.000000000",
          "2026-10-01T00:00:00.000000000",
          "2026-11-01T00:00:00.000000000",
          "2026-12-01T00:00:00.000000000",
          "2027-01-01T00:00:00.000000000",
          "2027-02-01T00:00:00.000000000",
          "2027-03-01T00:00:00.000000000"
         ],
         "y": {
          "bdata": "AAAAAAC4l0AAAAAAALSXQAAAAAAA5JhAAAAAAABYmUAAAAAAAJyaQAAAAAAAcJtAAAAAAACIm0AAAAAAACiaQAAAAAAAFJpAAAAAAABgm0AAAAAAANiaQAAAAAAAMJxAAAAAAABYnEAAAAAAAECdQAAAAAAAyJ1AAAAAAADUnUAAAAAAAFCfQAAAAAAAeJ9AAAAAAAAEnkAAAAAAACSeQAAAAAAADJ5AAAAAAACMn0AAAAAAAJCgQAAAAAAAOKFAAAAAAADAnEAAAAAAAFCbQAAAAAAAHJxAAAAAAADgnEAAAAAAADydQAAAAAAA1J1AAAAAAADgnUAAAAAAAGCfQAAAAAAAeKBAAAAAAABKoUAAAAAAAJ6hQAAAAAAA8qFAAAAAAADYokAAAAAAABSjQAAAAAAAkqNAAAAAAABmpEAAAAAAAO6kQAAAAAAAsqRAAAAAAAB2pUAAAAAAAIimQAAAAAAA6KVAAAAAAAAMpUAAAAAAABqmQA==",
          "dtype": "f8"
         }
        },
        {
         "marker": {
          "color": "#FFA15A",
          "size": 8,
          "symbol": "circle"
         },
         "mode": "markers",
         "name": "Start Forecast - 20250318",
         "type": "scatter",
         "x": [
          "2025-03-19T00:00:00"
         ],
         "y": [
          1518
         ]
        },
        {
         "line": {
          "color": "#19D3F3",
          "dash": "dash"
         },
         "mode": "lines",
         "name": "Forecast - 20250319",
         "type": "scatter",
         "x": [
          "2025-03-20T00:00:00.000000000",
          "2025-03-21T00:00:00.000000000",
          "2025-03-24T00:00:00.000000000",
          "2025-03-25T00:00:00.000000000",
          "2025-03-26T00:00:00.000000000",
          "2025-03-27T00:00:00.000000000",
          "2025-03-28T00:00:00.000000000",
          "2025-03-31T00:00:00.000000000",
          "2025-04-01T00:00:00.000000000",
          "2025-04-02T00:00:00.000000000",
          "2025-04-03T00:00:00.000000000",
          "2025-04-04T00:00:00.000000000",
          "2025-04-07T00:00:00.000000000",
          "2025-04-08T00:00:00.000000000",
          "2025-04-09T00:00:00.000000000",
          "2025-04-10T00:00:00.000000000",
          "2025-04-11T00:00:00.000000000",
          "2025-04-14T00:00:00.000000000",
          "2025-04-15T00:00:00.000000000",
          "2025-04-16T00:00:00.000000000",
          "2025-04-17T00:00:00.000000000",
          "2025-04-18T00:00:00.000000000",
          "2025-04-21T00:00:00.000000000",
          "2025-04-22T00:00:00.000000000",
          "2025-05-01T00:00:00.000000000",
          "2025-06-01T00:00:00.000000000",
          "2025-07-01T00:00:00.000000000",
          "2025-08-01T00:00:00.000000000",
          "2025-09-01T00:00:00.000000000",
          "2025-10-01T00:00:00.000000000",
          "2025-11-01T00:00:00.000000000",
          "2025-12-01T00:00:00.000000000",
          "2026-01-01T00:00:00.000000000",
          "2026-02-01T00:00:00.000000000",
          "2026-03-01T00:00:00.000000000",
          "2026-04-01T00:00:00.000000000",
          "2026-05-01T00:00:00.000000000",
          "2026-06-01T00:00:00.000000000",
          "2026-07-01T00:00:00.000000000",
          "2026-08-01T00:00:00.000000000",
          "2026-09-01T00:00:00.000000000",
          "2026-10-01T00:00:00.000000000",
          "2026-11-01T00:00:00.000000000",
          "2026-12-01T00:00:00.000000000",
          "2027-01-01T00:00:00.000000000",
          "2027-02-01T00:00:00.000000000",
          "2027-03-01T00:00:00.000000000"
         ],
         "y": {
          "bdata": "AAAAAAC4l0AAAAAAALSXQAAAAAAA5JhAAAAAAABYmUAAAAAAAJyaQAAAAAAAcJtAAAAAAACIm0AAAAAAACiaQAAAAAAAFJpAAAAAAABgm0AAAAAAANiaQAAAAAAAMJxAAAAAAABYnEAAAAAAAECdQAAAAAAAyJ1AAAAAAADUnUAAAAAAAFCfQAAAAAAAeJ9AAAAAAAAEnkAAAAAAACSeQAAAAAAADJ5AAAAAAACMn0AAAAAAAJCgQAAAAAAAOKFAAAAAAADYnEAAAAAAAGibQAAAAAAANJxAAAAAAAD4nEAAAAAAAFSdQAAAAAAA7J1AAAAAAAD4nUAAAAAAAHifQAAAAAAAhqBAAAAAAABaoUAAAAAAAK6hQAAAAAAABKJAAAAAAADqokAAAAAAACajQAAAAAAApKNAAAAAAAB6pEAAAAAAAAKlQAAAAAAAxqRAAAAAAACMpUAAAAAAAKCmQAAAAAAAAKZAAAAAAAAkpUAAAAAAADKmQA==",
          "dtype": "f8"
         }
        },
        {
         "marker": {
          "color": "#19D3F3",
          "size": 8,
          "symbol": "circle"
         },
         "mode": "markers",
         "name": "Start Forecast - 20250319",
         "type": "scatter",
         "x": [
          "2025-03-20T00:00:00"
         ],
         "y": [
          1518
         ]
        },
        {
         "line": {
          "color": "#FF6692",
          "dash": "dash"
         },
         "mode": "lines",
         "name": "Forecast - 20250329",
         "type": "scatter",
         "x": [
          "2025-03-31T00:00:00.000000000",
          "2025-04-01T00:00:00.000000000",
          "2025-04-02T00:00:00.000000000",
          "2025-04-03T00:00:00.000000000",
          "2025-04-04T00:00:00.000000000",
          "2025-04-07T00:00:00.000000000",
          "2025-04-08T00:00:00.000000000",
          "2025-04-09T00:00:00.000000000",
          "2025-04-10T00:00:00.000000000",
          "2025-04-11T00:00:00.000000000",
          "2025-04-14T00:00:00.000000000",
          "2025-04-15T00:00:00.000000000",
          "2025-04-16T00:00:00.000000000",
          "2025-04-17T00:00:00.000000000",
          "2025-04-18T00:00:00.000000000",
          "2025-04-21T00:00:00.000000000",
          "2025-04-22T00:00:00.000000000",
          "2025-04-23T00:00:00.000000000",
          "2025-04-24T00:00:00.000000000",
          "2025-04-25T00:00:00.000000000",
          "2025-04-28T00:00:00.000000000",
          "2025-04-29T00:00:00.000000000",
          "2025-04-30T00:00:00.000000000",
          "2025-05-01T00:00:00.000000000",
          "2025-05-01T00:00:00.000000000",
          "2025-06-01T00:00:00.000000000",
          "2025-07-01T00:00:00.000000000",
          "2025-08-01T00:00:00.000000000",
          "2025-09-01T00:00:00.000000000",
          "2025-10-01T00:00:00.000000000",
          "2025-11-01T00:00:00.000000000",
          "2025-12-01T00:00:00.000000000",
          "2026-01-01T00:00:00.000000000",
          "2026-02-01T00:00:00.000000000",
          "2026-03-01T00:00:00.000000000",
          "2026-04-01T00:00:00.000000000",
          "2026-05-01T00:00:00.000000000",
          "2026-06-01T00:00:00.000000000",
          "2026-07-01T00:00:00.000000000",
          "2026-08-01T00:00:00.000000000",
          "2026-09-01T00:00:00.000000000",
          "2026-10-01T00:00:00.000000000",
          "2026-11-01T00:00:00.000000000",
          "2026-12-01T00:00:00.000000000",
          "2027-01-01T00:00:00.000000000",
          "2027-02-01T00:00:00.000000000",
          "2027-03-01T00:00:00.000000000"
         ],
         "y": {
          "bdata": "AAAAAADck0AAAAAAANCTQAAAAAAAVJRAAAAAAABUlEAAAAAAAIyUQAAAAAAAEJRAAAAAAABsk0AAAAAAAIySQAAAAAAAeJNAAAAAAAB0k0AAAAAAAGyUQAAAAAAAzJRAAAAAAADYlUAAAAAAAIiWQAAAAAAAnJZAAAAAAAB8lUAAAAAAAGyVQAAAAAAAgJZAAAAAAAAQlkAAAAAAACyXQAAAAAAATJdAAAAAAAAMmEAAAAAAAHyYQAAAAAAAhJhAAAAAAAC0mUAAAAAAAGyYQAAAAAAAJJlAAAAAAADUmUAAAAAAACiaQAAAAAAAsJpAAAAAAAC8mkAAAAAAABScQAAAAAAAfJ1AAAAAAAD0nkAAAAAAAIifQAAAAAAAEKBAAAAAAADeoEAAAAAAABShQAAAAAAAhKFAAAAAAABCokAAAAAAALyiQAAAAAAAhqJAAAAAAAA2o0AAAAAAACykQAAAAAAAnqNAAAAAAADaokAAAAAAAMyjQA==",
          "dtype": "f8"
         }
        },
        {
         "marker": {
          "color": "#FF6692",
          "size": 8,
          "symbol": "circle"
         },
         "mode": "markers",
         "name": "Start Forecast - 20250329",
         "type": "scatter",
         "x": [
          "2025-03-31T00:00:00"
         ],
         "y": [
          1271
         ]
        },
        {
         "line": {
          "color": "#B6E880",
          "dash": "dash"
         },
         "mode": "lines",
         "name": "Forecast - 20250402",
         "type": "scatter",
         "x": [
          "2025-04-03T00:00:00.000000000",
          "2025-04-04T00:00:00.000000000",
          "2025-04-07T00:00:00.000000000",
          "2025-04-08T00:00:00.000000000",
          "2025-04-09T00:00:00.000000000",
          "2025-04-10T00:00:00.000000000",
          "2025-04-11T00:00:00.000000000",
          "2025-04-14T00:00:00.000000000",
          "2025-04-15T00:00:00.000000000",
          "2025-04-16T00:00:00.000000000",
          "2025-04-17T00:00:00.000000000",
          "2025-04-18T00:00:00.000000000",
          "2025-04-21T00:00:00.000000000",
          "2025-04-22T00:00:00.000000000",
          "2025-04-23T00:00:00.000000000",
          "2025-04-24T00:00:00.000000000",
          "2025-04-25T00:00:00.000000000",
          "2025-04-28T00:00:00.000000000",
          "2025-04-29T00:00:00.000000000",
          "2025-04-30T00:00:00.000000000",
          "2025-05-01T00:00:00.000000000",
          "2025-05-02T00:00:00.000000000",
          "2025-05-05T00:00:00.000000000",
          "2025-05-06T00:00:00.000000000",
          "2025-06-01T00:00:00.000000000",
          "2025-07-01T00:00:00.000000000",
          "2025-08-01T00:00:00.000000000",
          "2025-09-01T00:00:00.000000000",
          "2025-10-01T00:00:00.000000000",
          "2025-11-01T00:00:00.000000000",
          "2025-12-01T00:00:00.000000000",
          "2026-01-01T00:00:00.000000000",
          "2026-02-01T00:00:00.000000000",
          "2026-03-01T00:00:00.000000000",
          "2026-04-01T00:00:00.000000000",
          "2026-05-01T00:00:00.000000000",
          "2026-06-01T00:00:00.000000000",
          "2026-07-01T00:00:00.000000000",
          "2026-08-01T00:00:00.000000000",
          "2026-09-01T00:00:00.000000000",
          "2026-10-01T00:00:00.000000000",
          "2026-11-01T00:00:00.000000000",
          "2026-12-01T00:00:00.000000000",
          "2027-01-01T00:00:00.000000000",
          "2027-02-01T00:00:00.000000000",
          "2027-03-01T00:00:00.000000000",
          "2027-04-01T00:00:00.000000000"
         ],
         "y": {
          "bdata": "AAAAAAC4lUAAAAAAAOCVQAAAAAAAPJVAAAAAAAAslUAAAAAAALiVQAAAAAAAuJVAAAAAAAD0lUAAAAAAAHCVQAAAAAAAwJRAAAAAAADQk0AAAAAAAMyUQAAAAAAAyJRAAAAAAADUlUAAAAAAADiWQAAAAAAAVJdAAAAAAAAQmEAAAAAAACiYQAAAAAAA9JZAAAAAAADklkAAAAAAAAiYQAAAAAAAkJdAAAAAAAC8mEAAAAAAAOCYQAAAAAAArJlAAAAAAACAmkAAAAAAANSbQAAAAAAAcJpAAAAAAAA0m0AAAAAAAPCbQAAAAAAASJxAAAAAAADcnEAAAAAAAOicQAAAAAAAXJ5AAAAAAADgn0AAAAAAALygQAAAAAAADKFAAAAAAABeoUAAAAAAADyiQAAAAAAAdqJAAAAAAADwokAAAAAAAL6jQAAAAAAAQqRAAAAAAAAIpEAAAAAAAMakQAAAAAAA0KVAAAAAAAA2pUAAAAAAAGKkQA==",
          "dtype": "f8"
         }
        },
        {
         "marker": {
          "color": "#B6E880",
          "size": 8,
          "symbol": "circle"
         },
         "mode": "markers",
         "name": "Start Forecast - 20250402",
         "type": "scatter",
         "x": [
          "2025-04-03T00:00:00"
         ],
         "y": [
          1390
         ]
        },
        {
         "line": {
          "color": "#FF97FF",
          "dash": "dash"
         },
         "mode": "lines",
         "name": "Forecast - 20250403",
         "type": "scatter",
         "x": [
          "2025-04-04T00:00:00.000000000",
          "2025-04-07T00:00:00.000000000",
          "2025-04-08T00:00:00.000000000",
          "2025-04-09T00:00:00.000000000",
          "2025-04-10T00:00:00.000000000",
          "2025-04-11T00:00:00.000000000",
          "2025-04-14T00:00:00.000000000",
          "2025-04-15T00:00:00.000000000",
          "2025-04-16T00:00:00.000000000",
          "2025-04-17T00:00:00.000000000",
          "2025-04-18T00:00:00.000000000",
          "2025-04-21T00:00:00.000000000",
          "2025-04-22T00:00:00.000000000",
          "2025-04-23T00:00:00.000000000",
          "2025-04-24T00:00:00.000000000",
          "2025-04-25T00:00:00.000000000",
          "2025-04-28T00:00:00.000000000",
          "2025-04-29T00:00:00.000000000",
          "2025-04-30T00:00:00.000000000",
          "2025-05-01T00:00:00.000000000",
          "2025-05-02T00:00:00.000000000",
          "2025-05-05T00:00:00.000000000",
          "2025-05-06T00:00:00.000000000",
          "2025-05-07T00:00:00.000000000",
          "2025-06-01T00:00:00.000000000",
          "2025-07-01T00:00:00.000000000",
          "2025-08-01T00:00:00.000000000",
          "2025-09-01T00:00:00.000000000",
          "2025-10-01T00:00:00.000000000",
          "2025-11-01T00:00:00.000000000",
          "2025-12-01T00:00:00.000000000",
          "2026-01-01T00:00:00.000000000",
          "2026-02-01T00:00:00.000000000",
          "2026-03-01T00:00:00.000000000",
          "2026-04-01T00:00:00.000000000",
          "2026-05-01T00:00:00.000000000",
          "2026-06-01T00:00:00.000000000",
          "2026-07-01T00:00:00.000000000",
          "2026-08-01T00:00:00.000000000",
          "2026-09-01T00:00:00.000000000",
          "2026-10-01T00:00:00.000000000",
          "2026-11-01T00:00:00.000000000",
          "2026-12-01T00:00:00.000000000",
          "2027-01-01T00:00:00.000000000",
          "2027-02-01T00:00:00.000000000",
          "2027-03-01T00:00:00.000000000",
          "2027-04-01T00:00:00.000000000"
         ],
         "y": {
          "bdata": "AAAAAABok0AAAAAAAOyTQAAAAAAAEJRAAAAAAAB4k0AAAAAAAGyTQAAAAAAA7JNAAAAAAADsk0AAAAAAACSUQAAAAAAArJNAAAAAAAAMk0AAAAAAADCSQAAAAAAAGJNAAAAAAAAUk0AAAAAAAAiUQAAAAAAAZJRAAAAAAABolUAAAAAAABSWQAAAAAAAKJZAAAAAAAAMlUAAAAAAAPyUQAAAAAAACJZAAAAAAACYlUAAAAAAAKyWQAAAAAAAzJZAAAAAAAD0lkAAAAAAABiYQAAAAAAA5JZAAAAAAACQl0AAAAAAADSYQAAAAAAAgJhAAAAAAAAAmUAAAAAAAAyZQAAAAAAATJpAAAAAAACcm0AAAAAAAPycQAAAAAAAiJ1AAAAAAAAYnkAAAAAAAJifQAAAAAAA/J9AAAAAAABooEAAAAAAABqhQAAAAAAAjKFAAAAAAABaoUAAAAAAAP6hQAAAAAAA5KJAAAAAAABeokAAAAAAAKahQA==",
          "dtype": "f8"
         }
        },
        {
         "marker": {
          "color": "#FF97FF",
          "size": 8,
          "symbol": "circle"
         },
         "mode": "markers",
         "name": "Start Forecast - 20250403",
         "type": "scatter",
         "x": [
          "2025-04-04T00:00:00"
         ],
         "y": [
          1242
         ]
        },
        {
         "line": {
          "color": "#FECB52",
          "dash": "dash"
         },
         "mode": "lines",
         "name": "Forecast - 20250407",
         "type": "scatter",
         "x": [
          "2025-04-08T00:00:00.000000000",
          "2025-04-09T00:00:00.000000000",
          "2025-04-10T00:00:00.000000000",
          "2025-04-11T00:00:00.000000000",
          "2025-04-14T00:00:00.000000000",
          "2025-04-15T00:00:00.000000000",
          "2025-04-16T00:00:00.000000000",
          "2025-04-17T00:00:00.000000000",
          "2025-04-18T00:00:00.000000000",
          "2025-04-21T00:00:00.000000000",
          "2025-04-22T00:00:00.000000000",
          "2025-04-23T00:00:00.000000000",
          "2025-04-24T00:00:00.000000000",
          "2025-04-25T00:00:00.000000000",
          "2025-04-28T00:00:00.000000000",
          "2025-04-29T00:00:00.000000000",
          "2025-04-30T00:00:00.000000000",
          "2025-05-01T00:00:00.000000000",
          "2025-05-02T00:00:00.000000000",
          "2025-05-05T00:00:00.000000000",
          "2025-05-06T00:00:00.000000000",
          "2025-05-07T00:00:00.000000000",
          "2025-05-08T00:00:00.000000000",
          "2025-05-09T00:00:00.000000000",
          "2025-06-01T00:00:00.000000000",
          "2025-07-01T00:00:00.000000000",
          "2025-08-01T00:00:00.000000000",
          "2025-09-01T00:00:00.000000000",
          "2025-10-01T00:00:00.000000000",
          "2025-11-01T00:00:00.000000000",
          "2025-12-01T00:00:00.000000000",
          "2026-01-01T00:00:00.000000000",
          "2026-02-01T00:00:00.000000000",
          "2026-03-01T00:00:00.000000000",
          "2026-04-01T00:00:00.000000000",
          "2026-05-01T00:00:00.000000000",
          "2026-06-01T00:00:00.000000000",
          "2026-07-01T00:00:00.000000000",
          "2026-08-01T00:00:00.000000000",
          "2026-09-01T00:00:00.000000000",
          "2026-10-01T00:00:00.000000000",
          "2026-11-01T00:00:00.000000000",
          "2026-12-01T00:00:00.000000000",
          "2027-01-01T00:00:00.000000000",
          "2027-02-01T00:00:00.000000000",
          "2027-03-01T00:00:00.000000000",
          "2027-04-01T00:00:00.000000000"
         ],
         "y": {
          "bdata": "AAAAAADwkkAAAAAAAMCTQAAAAAAA7JJAAAAAAABsk0AAAAAAAJCTQAAAAAAA/JJAAAAAAADwkkAAAAAAAGyTQAAAAAAAbJNAAAAAAACkk0AAAAAAADCTQAAAAAAAlJJAAAAAAAC8kUAAAAAAAKCSQAAAAAAAnJJAAAAAAACMk0AAAAAAAOiTQAAAAAAA6JRAAAAAAACQlUAAAAAAAKSVQAAAAAAAkJRAAAAAAACAlEAAAAAAAIiVQAAAAAAAHJVAAAAAAADglEAAAAAAAOyVQAAAAAAA1JRAAAAAAABwlUAAAAAAAASWQAAAAAAATJZAAAAAAADAlkAAAAAAAMyWQAAAAAAA8JdAAAAAAAAkmUAAAAAAAGSaQAAAAAAA5JpAAAAAAABkm0AAAAAAAMScQAAAAAAAIJ1AAAAAAADgnUAAAAAAACSfQAAAAAAA9J9AAAAAAACYn0AAAAAAAGKgQAAAAAAANKFAAAAAAAC6oEAAAAAAABKgQA==",
          "dtype": "f8"
         }
        },
        {
         "marker": {
          "color": "#FECB52",
          "size": 8,
          "symbol": "circle"
         },
         "mode": "markers",
         "name": "Start Forecast - 20250407",
         "type": "scatter",
         "x": [
          "2025-04-08T00:00:00"
         ],
         "y": [
          1212
         ]
        },
        {
         "line": {
          "color": "#636EFA",
          "dash": "dash"
         },
         "mode": "lines",
         "name": "Forecast - 20250408",
         "type": "scatter",
         "x": [
          "2025-04-09T00:00:00.000000000",
          "2025-04-10T00:00:00.000000000",
          "2025-04-11T00:00:00.000000000",
          "2025-04-14T00:00:00.000000000",
          "2025-04-15T00:00:00.000000000",
          "2025-04-16T00:00:00.000000000",
          "2025-04-17T00:00:00.000000000",
          "2025-04-18T00:00:00.000000000",
          "2025-04-21T00:00:00.000000000",
          "2025-04-22T00:00:00.000000000",
          "2025-04-23T00:00:00.000000000",
          "2025-04-24T00:00:00.000000000",
          "2025-04-25T00:00:00.000000000",
          "2025-04-28T00:00:00.000000000",
          "2025-04-29T00:00:00.000000000",
          "2025-04-30T00:00:00.000000000",
          "2025-05-01T00:00:00.000000000",
          "2025-05-02T00:00:00.000000000",
          "2025-05-05T00:00:00.000000000",
          "2025-05-06T00:00:00.000000000",
          "2025-05-07T00:00:00.000000000",
          "2025-05-08T00:00:00.000000000",
          "2025-05-09T00:00:00.000000000",
          "2025-05-12T00:00:00.000000000",
          "2025-06-01T00:00:00.000000000",
          "2025-07-01T00:00:00.000000000",
          "2025-08-01T00:00:00.000000000",
          "2025-09-01T00:00:00.000000000",
          "2025-10-01T00:00:00.000000000",
          "2025-11-01T00:00:00.000000000",
          "2025-12-01T00:00:00.000000000",
          "2026-01-01T00:00:00.000000000",
          "2026-02-01T00:00:00.000000000",
          "2026-03-01T00:00:00.000000000",
          "2026-04-01T00:00:00.000000000",
          "2026-05-01T00:00:00.000000000",
          "2026-06-01T00:00:00.000000000",
          "2026-07-01T00:00:00.000000000",
          "2026-08-01T00:00:00.000000000",
          "2026-09-01T00:00:00.000000000",
          "2026-10-01T00:00:00.000000000",
          "2026-11-01T00:00:00.000000000",
          "2026-12-01T00:00:00.000000000",
          "2027-01-01T00:00:00.000000000",
          "2027-02-01T00:00:00.000000000",
          "2027-03-01T00:00:00.000000000",
          "2027-04-01T00:00:00.000000000"
         ],
         "y": {
          "bdata": "AAAAAAD0kkAAAAAAAACSQAAAAAAAyJJAAAAAAAD8kUAAAAAAAHiSQAAAAAAAmJJAAAAAAAAMkkAAAAAAAACSQAAAAAAAeJJAAAAAAAB4kkAAAAAAAKySQAAAAAAAPJJAAAAAAACokUAAAAAAANyQQAAAAAAAtJFAAAAAAACwkUAAAAAAAJSSQAAAAAAA7JJAAAAAAADgk0AAAAAAAICUQAAAAAAAlJRAAAAAAACMk0AAAAAAAHyTQAAAAAAAdJRAAAAAAACkkUAAAAAAAISSQAAAAAAAmJFAAAAAAAAckkAAAAAAAJiSQAAAAAAA1JJAAAAAAAA4k0AAAAAAAECTQAAAAAAAOJRAAAAAAAA8lUAAAAAAAEyWQAAAAAAAuJZAAAAAAAAkl0AAAAAAAEyYQAAAAAAAmJhAAAAAAAA8mUAAAAAAAFCaQAAAAAAAAJtAAAAAAAC0mkAAAAAAALCbQAAAAAAAFJ1AAAAAAABInEAAAAAAACybQA==",
          "dtype": "f8"
         }
        },
        {
         "marker": {
          "color": "#636EFA",
          "size": 8,
          "symbol": "circle"
         },
         "mode": "markers",
         "name": "Start Forecast - 20250408",
         "type": "scatter",
         "x": [
          "2025-04-09T00:00:00"
         ],
         "y": [
          1213
         ]
        },
        {
         "line": {
          "color": "#EF553B",
          "dash": "dash"
         },
         "mode": "lines",
         "name": "Forecast - 20250410",
         "type": "scatter",
         "x": [
          "2025-04-11T00:00:00.000000000",
          "2025-04-14T00:00:00.000000000",
          "2025-04-15T00:00:00.000000000",
          "2025-04-16T00:00:00.000000000",
          "2025-04-17T00:00:00.000000000",
          "2025-04-18T00:00:00.000000000",
          "2025-04-21T00:00:00.000000000",
          "2025-04-22T00:00:00.000000000",
          "2025-04-23T00:00:00.000000000",
          "2025-04-24T00:00:00.000000000",
          "2025-04-25T00:00:00.000000000",
          "2025-04-28T00:00:00.000000000",
          "2025-04-29T00:00:00.000000000",
          "2025-04-30T00:00:00.000000000",
          "2025-05-01T00:00:00.000000000",
          "2025-05-02T00:00:00.000000000",
          "2025-05-05T00:00:00.000000000",
          "2025-05-06T00:00:00.000000000",
          "2025-05-07T00:00:00.000000000",
          "2025-05-08T00:00:00.000000000",
          "2025-05-09T00:00:00.000000000",
          "2025-05-12T00:00:00.000000000",
          "2025-05-13T00:00:00.000000000",
          "2025-05-14T00:00:00.000000000",
          "2025-06-01T00:00:00.000000000",
          "2025-07-01T00:00:00.000000000",
          "2025-08-01T00:00:00.000000000",
          "2025-09-01T00:00:00.000000000",
          "2025-10-01T00:00:00.000000000",
          "2025-11-01T00:00:00.000000000",
          "2025-12-01T00:00:00.000000000",
          "2026-01-01T00:00:00.000000000",
          "2026-02-01T00:00:00.000000000",
          "2026-03-01T00:00:00.000000000",
          "2026-04-01T00:00:00.000000000",
          "2026-05-01T00:00:00.000000000",
          "2026-06-01T00:00:00.000000000",
          "2026-07-01T00:00:00.000000000",
          "2026-08-01T00:00:00.000000000",
          "2026-09-01T00:00:00.000000000",
          "2026-10-01T00:00:00.000000000",
          "2026-11-01T00:00:00.000000000",
          "2026-12-01T00:00:00.000000000",
          "2027-01-01T00:00:00.000000000",
          "2027-02-01T00:00:00.000000000",
          "2027-03-01T00:00:00.000000000",
          "2027-04-01T00:00:00.000000000"
         ],
         "y": {
          "bdata": "AAAAAABIlEAAAAAAAEyVQAAAAAAAxJRAAAAAAAC8k0AAAAAAAJiUQAAAAAAAvJNAAAAAAABElEAAAAAAAGiUQAAAAAAAzJNAAAAAAADAk0AAAAAAAESUQAAAAAAARJRAAAAAAAB8lEAAAAAAAASUQAAAAAAAYJNAAAAAAACAkkAAAAAAAGyTQAAAAAAAaJNAAAAAAABglEAAAAAAAMCUQAAAAAAAyJVAAAAAAAB4lkAAAAAAAIyWQAAAAAAAbJVAAAAAAACclEAAAAAAAKSVQAAAAAAAkJRAAAAAAAAolUAAAAAAALyVQAAAAAAAAJZAAAAAAAB0lkAAAAAAAICWQAAAAAAAoJdAAAAAAADQmEAAAAAAAAyaQAAAAAAAiJpAAAAAAAAIm0AAAAAAAGScQAAAAAAAwJxAAAAAAAB8nUAAAAAAALyeQAAAAAAAiJ9AAAAAAAAwn0AAAAAAACygQAAAAAAA/KBAAAAAAACEoEAAAAAAALyfQA==",
          "dtype": "f8"
         }
        },
        {
         "marker": {
          "color": "#EF553B",
          "size": 8,
          "symbol": "circle"
         },
         "mode": "markers",
         "name": "Start Forecast - 20250410",
         "type": "scatter",
         "x": [
          "2025-04-11T00:00:00"
         ],
         "y": [
          1298
         ]
        },
        {
         "line": {
          "color": "#00CC96",
          "dash": "dash"
         },
         "mode": "lines",
         "name": "Forecast - 20250418",
         "type": "scatter",
         "x": [
          "2025-04-21T00:00:00.000000000",
          "2025-04-22T00:00:00.000000000",
          "2025-04-23T00:00:00.000000000",
          "2025-04-24T00:00:00.000000000",
          "2025-04-25T00:00:00.000000000",
          "2025-04-28T00:00:00.000000000",
          "2025-04-29T00:00:00.000000000",
          "2025-04-30T00:00:00.000000000",
          "2025-05-01T00:00:00.000000000",
          "2025-05-02T00:00:00.000000000",
          "2025-05-05T00:00:00.000000000",
          "2025-05-06T00:00:00.000000000",
          "2025-05-07T00:00:00.000000000",
          "2025-05-08T00:00:00.000000000",
          "2025-05-09T00:00:00.000000000",
          "2025-05-12T00:00:00.000000000",
          "2025-05-13T00:00:00.000000000",
          "2025-05-14T00:00:00.000000000",
          "2025-05-15T00:00:00.000000000",
          "2025-05-16T00:00:00.000000000",
          "2025-05-19T00:00:00.000000000",
          "2025-05-20T00:00:00.000000000",
          "2025-05-21T00:00:00.000000000",
          "2025-05-22T00:00:00.000000000",
          "2025-06-01T00:00:00.000000000",
          "2025-07-01T00:00:00.000000000",
          "2025-08-01T00:00:00.000000000",
          "2025-09-01T00:00:00.000000000",
          "2025-10-01T00:00:00.000000000",
          "2025-11-01T00:00:00.000000000",
          "2025-12-01T00:00:00.000000000",
          "2026-01-01T00:00:00.000000000",
          "2026-02-01T00:00:00.000000000",
          "2026-03-01T00:00:00.000000000",
          "2026-04-01T00:00:00.000000000",
          "2026-05-01T00:00:00.000000000",
          "2026-06-01T00:00:00.000000000",
          "2026-07-01T00:00:00.000000000",
          "2026-08-01T00:00:00.000000000",
          "2026-09-01T00:00:00.000000000",
          "2026-10-01T00:00:00.000000000",
          "2026-11-01T00:00:00.000000000",
          "2026-12-01T00:00:00.000000000",
          "2027-01-01T00:00:00.000000000",
          "2027-02-01T00:00:00.000000000",
          "2027-03-01T00:00:00.000000000",
          "2027-04-01T00:00:00.000000000"
         ],
         "y": {
          "bdata": "AAAAAACQlkAAAAAAAGyWQAAAAAAARJdAAAAAAABsmEAAAAAAABSYQAAAAAAASJlAAAAAAAAcmUAAAAAAAFyaQAAAAAAAtJlAAAAAAABsmEAAAAAAAHiZQAAAAAAAZJhAAAAAAAAImUAAAAAAADSZQAAAAAAAdJhAAAAAAABkmEAAAAAAAASZQAAAAAAABJlAAAAAAABMmUAAAAAAALSYQAAAAAAA7JdAAAAAAADYlkAAAAAAAPyXQAAAAAAA+JdAAAAAAAAQnUAAAAAAAISeQAAAAAAA/JxAAAAAAADUnUAAAAAAAKSeQAAAAAAACJ9AAAAAAACsn0AAAAAAALyfQAAAAAAAqqBAAAAAAACAoUAAAAAAAGCiQAAAAAAAuKJAAAAAAAASo0AAAAAAAAakQAAAAAAARqRAAAAAAADMpEAAAAAAAK6lQAAAAAAAPqZAAAAAAAD+pUAAAAAAANCmQAAAAAAA9KdAAAAAAABKp0AAAAAAAGCmQA==",
          "dtype": "f8"
         }
        },
        {
         "marker": {
          "color": "#00CC96",
          "size": 8,
          "symbol": "circle"
         },
         "mode": "markers",
         "name": "Start Forecast - 20250418",
         "type": "scatter",
         "x": [
          "2025-04-21T00:00:00"
         ],
         "y": [
          1444
         ]
        },
        {
         "line": {
          "color": "#AB63FA",
          "dash": "dash"
         },
         "mode": "lines",
         "name": "Forecast - 20250423",
         "type": "scatter",
         "x": [
          "2025-04-24T00:00:00.000000000",
          "2025-04-25T00:00:00.000000000",
          "2025-04-28T00:00:00.000000000",
          "2025-04-29T00:00:00.000000000",
          "2025-04-30T00:00:00.000000000",
          "2025-05-01T00:00:00.000000000",
          "2025-05-02T00:00:00.000000000",
          "2025-05-05T00:00:00.000000000",
          "2025-05-06T00:00:00.000000000",
          "2025-05-07T00:00:00.000000000",
          "2025-05-08T00:00:00.000000000",
          "2025-05-09T00:00:00.000000000",
          "2025-05-12T00:00:00.000000000",
          "2025-05-13T00:00:00.000000000",
          "2025-05-14T00:00:00.000000000",
          "2025-05-15T00:00:00.000000000",
          "2025-05-16T00:00:00.000000000",
          "2025-05-19T00:00:00.000000000",
          "2025-05-20T00:00:00.000000000",
          "2025-05-21T00:00:00.000000000",
          "2025-05-22T00:00:00.000000000",
          "2025-05-23T00:00:00.000000000",
          "2025-05-26T00:00:00.000000000",
          "2025-05-27T00:00:00.000000000",
          "2025-06-01T00:00:00.000000000",
          "2025-07-01T00:00:00.000000000",
          "2025-08-01T00:00:00.000000000",
          "2025-09-01T00:00:00.000000000",
          "2025-10-01T00:00:00.000000000",
          "2025-11-01T00:00:00.000000000",
          "2025-12-01T00:00:00.000000000",
          "2026-01-01T00:00:00.000000000",
          "2026-02-01T00:00:00.000000000",
          "2026-03-01T00:00:00.000000000",
          "2026-04-01T00:00:00.000000000",
          "2026-05-01T00:00:00.000000000",
          "2026-06-01T00:00:00.000000000",
          "2026-07-01T00:00:00.000000000",
          "2026-08-01T00:00:00.000000000",
          "2026-09-01T00:00:00.000000000",
          "2026-10-01T00:00:00.000000000",
          "2026-11-01T00:00:00.000000000",
          "2026-12-01T00:00:00.000000000",
          "2027-01-01T00:00:00.000000000",
          "2027-02-01T00:00:00.000000000",
          "2027-03-01T00:00:00.000000000",
          "2027-04-01T00:00:00.000000000"
         ],
         "y": {
          "bdata": "AAAAAAC0lUAAAAAAAGiVQAAAAAAARJVAAAAAAAAQlkAAAAAAACyXQAAAAAAA3JZAAAAAAAAAmEAAAAAAANSXQAAAAAAABJlAAAAAAABkmEAAAAAAACyXQAAAAAAALJhAAAAAAAAol0AAAAAAAMSXQAAAAAAA7JdAAAAAAAA4l0AAAAAAACiXQAAAAAAAwJdAAAAAAADAl0AAAAAAAASYQAAAAAAAdJdAAAAAAAC0lkAAAAAAAKyVQAAAAAAAwJZAAAAAAABMmUAAAAAAAJCaQAAAAAAAPJlAAAAAAAD4mUAAAAAAAKyaQAAAAAAAAJtAAAAAAACMm0AAAAAAAJibQAAAAAAA+JxAAAAAAABsnkAAAAAAAPCfQAAAAAAARKBAAAAAAACSoEAAAAAAAGahQAAAAAAAnqFAAAAAAAASokAAAAAAANaiQAAAAAAAVKNAAAAAAAAco0AAAAAAANKjQAAAAAAA0KRAAAAAAAA8pEAAAAAAAHCjQA==",
          "dtype": "f8"
         }
        },
        {
         "marker": {
          "color": "#AB63FA",
          "size": 8,
          "symbol": "circle"
         },
         "mode": "markers",
         "name": "Start Forecast - 20250423",
         "type": "scatter",
         "x": [
          "2025-04-24T00:00:00"
         ],
         "y": [
          1389
         ]
        },
        {
         "line": {
          "color": "red"
         },
         "marker": {
          "color": "red",
          "size": 6
         },
         "mode": "lines+markers",
         "name": "Current Price",
         "type": "scatter",
         "x": [
          "2025-03-24T00:00:00",
          "2025-03-25T00:00:00",
          "2025-03-26T00:00:00",
          "2025-03-27T00:00:00",
          "2025-03-28T00:00:00",
          "2025-03-31T00:00:00",
          "2025-04-01T00:00:00",
          "2025-04-02T00:00:00",
          "2025-04-03T00:00:00",
          "2025-04-04T00:00:00",
          "2025-04-07T00:00:00",
          "2025-04-08T00:00:00",
          "2025-04-09T00:00:00",
          "2025-04-10T00:00:00",
          "2025-04-11T00:00:00",
          "2025-04-14T00:00:00",
          "2025-04-15T00:00:00",
          "2025-04-16T00:00:00",
          "2025-04-17T00:00:00",
          "2025-04-21T00:00:00",
          "2025-04-22T00:00:00",
          "2025-04-23T00:00:00"
         ],
         "y": {
          "bdata": "AAAAAAAjlkAAAAAAAIGWQAAAAAAAqJZAAAAAQAi0lkAAAABAMzuWQAAAAAAAUJZAAAAAAADElkAAAAAAAAiWQAAAAAAASJdAAAAAgMAllEAAAABA4Y6VQAAAAAAAxJZAAAAAAADUlkAAAAAA17iXQAAAAKDwQZhAAAAAAACgmUAAAAAAAGSaQAAAAAAAuZpAAAAAoJkcmkAAAAAAAMiZQAAAAABXyplAAAAAAADAl0A=",
          "dtype": "f8"
         }
        }
       ],
       "layout": {
        "legend": {
         "font": {
          "size": 10
         },
         "x": 1.05,
         "xanchor": "left",
         "y": 1,
         "yanchor": "top"
        },
        "template": {
         "data": {
          "bar": [
           {
            "error_x": {
             "color": "#2a3f5f"
            },
            "error_y": {
             "color": "#2a3f5f"
            },
            "marker": {
             "line": {
              "color": "white",
              "width": 0.5
             },
             "pattern": {
              "fillmode": "overlay",
              "size": 10,
              "solidity": 0.2
             }
            },
            "type": "bar"
           }
          ],
          "barpolar": [
           {
            "marker": {
             "line": {
              "color": "white",
              "width": 0.5
             },
             "pattern": {
              "fillmode": "overlay",
              "size": 10,
              "solidity": 0.2
             }
            },
            "type": "barpolar"
           }
          ],
          "carpet": [
           {
            "aaxis": {
             "endlinecolor": "#2a3f5f",
             "gridcolor": "#C8D4E3",
             "linecolor": "#C8D4E3",
             "minorgridcolor": "#C8D4E3",
             "startlinecolor": "#2a3f5f"
            },
            "baxis": {
             "endlinecolor": "#2a3f5f",
             "gridcolor": "#C8D4E3",
             "linecolor": "#C8D4E3",
             "minorgridcolor": "#C8D4E3",
             "startlinecolor": "#2a3f5f"
            },
            "type": "carpet"
           }
          ],
          "choropleth": [
           {
            "colorbar": {
             "outlinewidth": 0,
             "ticks": ""
            },
            "type": "choropleth"
           }
          ],
          "contour": [
           {
            "colorbar": {
             "outlinewidth": 0,
             "ticks": ""
            },
            "colorscale": [
             [
              0,
              "#0d0887"
             ],
             [
              0.1111111111111111,
              "#46039f"
             ],
             [
              0.2222222222222222,
              "#7201a8"
             ],
             [
              0.3333333333333333,
              "#9c179e"
             ],
             [
              0.4444444444444444,
              "#bd3786"
             ],
             [
              0.5555555555555556,
              "#d8576b"
             ],
             [
              0.6666666666666666,
              "#ed7953"
             ],
             [
              0.7777777777777778,
              "#fb9f3a"
             ],
             [
              0.8888888888888888,
              "#fdca26"
             ],
             [
              1,
              "#f0f921"
             ]
            ],
            "type": "contour"
           }
          ],
          "contourcarpet": [
           {
            "colorbar": {
             "outlinewidth": 0,
             "ticks": ""
            },
            "type": "contourcarpet"
           }
          ],
          "heatmap": [
           {
            "colorbar": {
             "outlinewidth": 0,
             "ticks": ""
            },
            "colorscale": [
             [
              0,
              "#0d0887"
             ],
             [
              0.1111111111111111,
              "#46039f"
             ],
             [
              0.2222222222222222,
              "#7201a8"
             ],
             [
              0.3333333333333333,
              "#9c179e"
             ],
             [
              0.4444444444444444,
              "#bd3786"
             ],
             [
              0.5555555555555556,
              "#d8576b"
             ],
             [
              0.6666666666666666,
              "#ed7953"
             ],
             [
              0.7777777777777778,
              "#fb9f3a"
             ],
             [
              0.8888888888888888,
              "#fdca26"
             ],
             [
              1,
              "#f0f921"
             ]
            ],
            "type": "heatmap"
           }
          ],
          "histogram": [
           {
            "marker": {
             "pattern": {
              "fillmode": "overlay",
              "size": 10,
              "solidity": 0.2
             }
            },
            "type": "histogram"
           }
          ],
          "histogram2d": [
           {
            "colorbar": {
             "outlinewidth": 0,
             "ticks": ""
            },
            "colorscale": [
             [
              0,
              "#0d0887"
             ],
             [
              0.1111111111111111,
              "#46039f"
             ],
             [
              0.2222222222222222,
              "#7201a8"
             ],
             [
              0.3333333333333333,
              "#9c179e"
             ],
             [
              0.4444444444444444,
              "#bd3786"
             ],
             [
              0.5555555555555556,
              "#d8576b"
             ],
             [
              0.6666666666666666,
              "#ed7953"
             ],
             [
              0.7777777777777778,
              "#fb9f3a"
             ],
             [
              0.8888888888888888,
              "#fdca26"
             ],
             [
              1,
              "#f0f921"
             ]
            ],
            "type": "histogram2d"
           }
          ],
          "histogram2dcontour": [
           {
            "colorbar": {
             "outlinewidth": 0,
             "ticks": ""
            },
            "colorscale": [
             [
              0,
              "#0d0887"
             ],
             [
              0.1111111111111111,
              "#46039f"
             ],
             [
              0.2222222222222222,
              "#7201a8"
             ],
             [
              0.3333333333333333,
              "#9c179e"
             ],
             [
              0.4444444444444444,
              "#bd3786"
             ],
             [
              0.5555555555555556,
              "#d8576b"
             ],
             [
              0.6666666666666666,
              "#ed7953"
             ],
             [
              0.7777777777777778,
              "#fb9f3a"
             ],
             [
              0.8888888888888888,
              "#fdca26"
             ],
             [
              1,
              "#f0f921"
             ]
            ],
            "type": "histogram2dcontour"
           }
          ],
          "mesh3d": [
           {
            "colorbar": {
             "outlinewidth": 0,
             "ticks": ""
            },
            "type": "mesh3d"
           }
          ],
          "parcoords": [
           {
            "line": {
             "colorbar": {
              "outlinewidth": 0,
              "ticks": ""
             }
            },
            "type": "parcoords"
           }
          ],
          "pie": [
           {
            "automargin": true,
            "type": "pie"
           }
          ],
          "scatter": [
           {
            "fillpattern": {
             "fillmode": "overlay",
             "size": 10,
             "solidity": 0.2
            },
            "type": "scatter"
           }
          ],
          "scatter3d": [
           {
            "line": {
             "colorbar": {
              "outlinewidth": 0,
              "ticks": ""
             }
            },
            "marker": {
             "colorbar": {
              "outlinewidth": 0,
              "ticks": ""
             }
            },
            "type": "scatter3d"
           }
          ],
          "scattercarpet": [
           {
            "marker": {
             "colorbar": {
              "outlinewidth": 0,
              "ticks": ""
             }
            },
            "type": "scattercarpet"
           }
          ],
          "scattergeo": [
           {
            "marker": {
             "colorbar": {
              "outlinewidth": 0,
              "ticks": ""
             }
            },
            "type": "scattergeo"
           }
          ],
          "scattergl": [
           {
            "marker": {
             "colorbar": {
              "outlinewidth": 0,
              "ticks": ""
             }
            },
            "type": "scattergl"
           }
          ],
          "scattermap": [
           {
            "marker": {
             "colorbar": {
              "outlinewidth": 0,
              "ticks": ""
             }
            },
            "type": "scattermap"
           }
          ],
          "scattermapbox": [
           {
            "marker": {
             "colorbar": {
              "outlinewidth": 0,
              "ticks": ""
             }
            },
            "type": "scattermapbox"
           }
          ],
          "scatterpolar": [
           {
            "marker": {
             "colorbar": {
              "outlinewidth": 0,
              "ticks": ""
             }
            },
            "type": "scatterpolar"
           }
          ],
          "scatterpolargl": [
           {
            "marker": {
             "colorbar": {
              "outlinewidth": 0,
              "ticks": ""
             }
            },
            "type": "scatterpolargl"
           }
          ],
          "scatterternary": [
           {
            "marker": {
             "colorbar": {
              "outlinewidth": 0,
              "ticks": ""
             }
            },
            "type": "scatterternary"
           }
          ],
          "surface": [
           {
            "colorbar": {
             "outlinewidth": 0,
             "ticks": ""
            },
            "colorscale": [
             [
              0,
              "#0d0887"
             ],
             [
              0.1111111111111111,
              "#46039f"
             ],
             [
              0.2222222222222222,
              "#7201a8"
             ],
             [
              0.3333333333333333,
              "#9c179e"
             ],
             [
              0.4444444444444444,
              "#bd3786"
             ],
             [
              0.5555555555555556,
              "#d8576b"
             ],
             [
              0.6666666666666666,
              "#ed7953"
             ],
             [
              0.7777777777777778,
              "#fb9f3a"
             ],
             [
              0.8888888888888888,
              "#fdca26"
             ],
             [
              1,
              "#f0f921"
             ]
            ],
            "type": "surface"
           }
          ],
          "table": [
           {
            "cells": {
             "fill": {
              "color": "#EBF0F8"
             },
             "line": {
              "color": "white"
             }
            },
            "header": {
             "fill": {
              "color": "#C8D4E3"
             },
             "line": {
              "color": "white"
             }
            },
            "type": "table"
           }
          ]
         },
         "layout": {
          "annotationdefaults": {
           "arrowcolor": "#2a3f5f",
           "arrowhead": 0,
           "arrowwidth": 1
          },
          "autotypenumbers": "strict",
          "coloraxis": {
           "colorbar": {
            "outlinewidth": 0,
            "ticks": ""
           }
          },
          "colorscale": {
           "diverging": [
            [
             0,
             "#8e0152"
            ],
            [
             0.1,
             "#c51b7d"
            ],
            [
             0.2,
             "#de77ae"
            ],
            [
             0.3,
             "#f1b6da"
            ],
            [
             0.4,
             "#fde0ef"
            ],
            [
             0.5,
             "#f7f7f7"
            ],
            [
             0.6,
             "#e6f5d0"
            ],
            [
             0.7,
             "#b8e186"
            ],
            [
             0.8,
             "#7fbc41"
            ],
            [
             0.9,
             "#4d9221"
            ],
            [
             1,
             "#276419"
            ]
           ],
           "sequential": [
            [
             0,
             "#0d0887"
            ],
            [
             0.1111111111111111,
             "#46039f"
            ],
            [
             0.2222222222222222,
             "#7201a8"
            ],
            [
             0.3333333333333333,
             "#9c179e"
            ],
            [
             0.4444444444444444,
             "#bd3786"
            ],
            [
             0.5555555555555556,
             "#d8576b"
            ],
            [
             0.6666666666666666,
             "#ed7953"
            ],
            [
             0.7777777777777778,
             "#fb9f3a"
            ],
            [
             0.8888888888888888,
             "#fdca26"
            ],
            [
             1,
             "#f0f921"
            ]
           ],
           "sequentialminus": [
            [
             0,
             "#0d0887"
            ],
            [
             0.1111111111111111,
             "#46039f"
            ],
            [
             0.2222222222222222,
             "#7201a8"
            ],
            [
             0.3333333333333333,
             "#9c179e"
            ],
            [
             0.4444444444444444,
             "#bd3786"
            ],
            [
             0.5555555555555556,
             "#d8576b"
            ],
            [
             0.6666666666666666,
             "#ed7953"
            ],
            [
             0.7777777777777778,
             "#fb9f3a"
            ],
            [
             0.8888888888888888,
             "#fdca26"
            ],
            [
             1,
             "#f0f921"
            ]
           ]
          },
          "colorway": [
           "#636efa",
           "#EF553B",
           "#00cc96",
           "#ab63fa",
           "#FFA15A",
           "#19d3f3",
           "#FF6692",
           "#B6E880",
           "#FF97FF",
           "#FECB52"
          ],
          "font": {
           "color": "#2a3f5f"
          },
          "geo": {
           "bgcolor": "white",
           "lakecolor": "white",
           "landcolor": "white",
           "showlakes": true,
           "showland": true,
           "subunitcolor": "#C8D4E3"
          },
          "hoverlabel": {
           "align": "left"
          },
          "hovermode": "closest",
          "mapbox": {
           "style": "light"
          },
          "paper_bgcolor": "white",
          "plot_bgcolor": "white",
          "polar": {
           "angularaxis": {
            "gridcolor": "#EBF0F8",
            "linecolor": "#EBF0F8",
            "ticks": ""
           },
           "bgcolor": "white",
           "radialaxis": {
            "gridcolor": "#EBF0F8",
            "linecolor": "#EBF0F8",
            "ticks": ""
           }
          },
          "scene": {
           "xaxis": {
            "backgroundcolor": "white",
            "gridcolor": "#DFE8F3",
            "gridwidth": 2,
            "linecolor": "#EBF0F8",
            "showbackground": true,
            "ticks": "",
            "zerolinecolor": "#EBF0F8"
           },
           "yaxis": {
            "backgroundcolor": "white",
            "gridcolor": "#DFE8F3",
            "gridwidth": 2,
            "linecolor": "#EBF0F8",
            "showbackground": true,
            "ticks": "",
            "zerolinecolor": "#EBF0F8"
           },
           "zaxis": {
            "backgroundcolor": "white",
            "gridcolor": "#DFE8F3",
            "gridwidth": 2,
            "linecolor": "#EBF0F8",
            "showbackground": true,
            "ticks": "",
            "zerolinecolor": "#EBF0F8"
           }
          },
          "shapedefaults": {
           "line": {
            "color": "#2a3f5f"
           }
          },
          "ternary": {
           "aaxis": {
            "gridcolor": "#DFE8F3",
            "linecolor": "#A2B1C6",
            "ticks": ""
           },
           "baxis": {
            "gridcolor": "#DFE8F3",
            "linecolor": "#A2B1C6",
            "ticks": ""
           },
           "bgcolor": "white",
           "caxis": {
            "gridcolor": "#DFE8F3",
            "linecolor": "#A2B1C6",
            "ticks": ""
           }
          },
          "title": {
           "x": 0.05
          },
          "xaxis": {
           "automargin": true,
           "gridcolor": "#EBF0F8",
           "linecolor": "#EBF0F8",
           "ticks": "",
           "title": {
            "standoff": 15
           },
           "zerolinecolor": "#EBF0F8",
           "zerolinewidth": 2
          },
          "yaxis": {
           "automargin": true,
           "gridcolor": "#EBF0F8",
           "linecolor": "#EBF0F8",
           "ticks": "",
           "title": {
            "standoff": 15
           },
           "zerolinecolor": "#EBF0F8",
           "zerolinewidth": 2
          }
         }
        },
        "title": {
         "text": "rhm-aktie Forecast"
        },
        "xaxis": {
         "range": [
          "2025-03-13T00:00:00",
          "2025-11-01T00:00:00"
         ],
         "tickangle": -45,
         "title": {
          "text": "Date"
         }
        },
        "yaxis": {
         "range": [
          0,
          2394.35
         ],
         "title": {
          "text": "Price / USD"
         }
        }
       }
      }
     },
     "metadata": {},
     "output_type": "display_data"
    }
   ],
   "source": [
    "fh=ForecastHandler(company='rhm-aktie')\n",
    "fh.load_all_forecasts()\n",
    "fh.plot_forecasts()"
   ]
  },
  {
   "cell_type": "code",
   "execution_count": null,
   "metadata": {},
   "outputs": [
    {
     "name": "stdout",
     "output_type": "stream",
     "text": [
      "found forecast files: ['20250329_netflix_forecast.csv', '20250402_netflix_forecast.csv', '20250403_netflix_forecast.csv', '20250407_netflix_forecast.csv', '20250408_netflix_forecast.csv', '20250410_netflix_forecast.csv', '20250418_netflix_forecast.csv', '20250423_netflix_forecast.csv']\n",
      "load file 20250329_netflix_forecast.csv\n",
      "load file 20250402_netflix_forecast.csv\n",
      "load file 20250403_netflix_forecast.csv\n",
      "load file 20250407_netflix_forecast.csv\n",
      "load file 20250408_netflix_forecast.csv\n",
      "load file 20250410_netflix_forecast.csv\n",
      "load file 20250418_netflix_forecast.csv\n",
      "load file 20250423_netflix_forecast.csv\n"
     ]
    },
    {
     "data": {
      "image/png": "[encoded data removed]",
      "text/plain": [
       "<Figure size 1000x500 with 1 Axes>"
      ]
     },
     "metadata": {},
     "output_type": "display_data"
    },
    {
     "data": {
      "application/vnd.plotly.v1+json": {
       "config": {
        "plotlyServerURL": "https://plot.ly"
       },
       "data": [
        {
         "line": {
          "color": "#636EFA",
          "dash": "dash"
         },
         "mode": "lines",
         "name": "Forecast - 20250329",
         "type": "scatter",
         "x": [
          "2025-03-31T00:00:00.000000000",
          "2025-04-01T00:00:00.000000000",
          "2025-04-02T00:00:00.000000000",
          "2025-04-03T00:00:00.000000000",
          "2025-04-04T00:00:00.000000000",
          "2025-04-07T00:00:00.000000000",
          "2025-04-08T00:00:00.000000000",
          "2025-04-09T00:00:00.000000000",
          "2025-04-10T00:00:00.000000000",
          "2025-04-11T00:00:00.000000000",
          "2025-04-14T00:00:00.000000000",
          "2025-04-15T00:00:00.000000000",
          "2025-04-16T00:00:00.000000000",
          "2025-04-17T00:00:00.000000000",
          "2025-04-18T00:00:00.000000000",
          "2025-04-21T00:00:00.000000000",
          "2025-04-22T00:00:00.000000000",
          "2025-04-23T00:00:00.000000000",
          "2025-04-24T00:00:00.000000000",
          "2025-04-25T00:00:00.000000000",
          "2025-04-28T00:00:00.000000000",
          "2025-04-29T00:00:00.000000000",
          "2025-04-30T00:00:00.000000000",
          "2025-05-01T00:00:00.000000000",
          "2025-05-01T00:00:00.000000000",
          "2025-06-01T00:00:00.000000000",
          "2025-07-01T00:00:00.000000000",
          "2025-08-01T00:00:00.000000000",
          "2025-09-01T00:00:00.000000000",
          "2025-10-01T00:00:00.000000000",
          "2025-11-01T00:00:00.000000000",
          "2025-12-01T00:00:00.000000000",
          "2026-01-01T00:00:00.000000000",
          "2026-02-01T00:00:00.000000000",
          "2026-03-01T00:00:00.000000000",
          "2026-04-01T00:00:00.000000000",
          "2026-05-01T00:00:00.000000000",
          "2026-06-01T00:00:00.000000000",
          "2026-07-01T00:00:00.000000000",
          "2026-08-01T00:00:00.000000000",
          "2026-09-01T00:00:00.000000000",
          "2026-10-01T00:00:00.000000000",
          "2026-11-01T00:00:00.000000000",
          "2026-12-01T00:00:00.000000000",
          "2027-01-01T00:00:00.000000000",
          "2027-02-01T00:00:00.000000000",
          "2027-03-01T00:00:00.000000000"
         ],
         "y": {
          "bdata": "AAAAAADoi0AAAAAAABiMQAAAAAAAWItAAAAAAAAQjEAAAAAAAGiMQAAAAAAAsIxAAAAAAABwjEAAAAAAAFiNQAAAAAAAuIxAAAAAAAC4jUAAAAAAAKiOQAAAAAAAsI1AAAAAAACAjkAAAAAAAICPQAAAAAAAoI5AAAAAAAAgjkAAAAAAAKCMQAAAAAAAKI1AAAAAAAAgjUAAAAAAAOiMQAAAAAAAcI1AAAAAAACgjEAAAAAAAACNQAAAAAAAqIxAAAAAAAAgjUAAAAAAAOiPQAAAAAAACJBAAAAAAABwkkAAAAAAAMCTQAAAAAAA5JNAAAAAAABYlkAAAAAAAICWQAAAAAAA4JlAAAAAAACImkAAAAAAAJSaQAAAAAAAAJ1AAAAAAACsoEAAAAAAAG6hQAAAAAAAUqNAAAAAAACApUAAAAAAAHSiQAAAAAAAgqJAAAAAAABuokAAAAAAACSkQAAAAAAAKqdAAAAAAAC8pUAAAAAAAPSnQA==",
          "dtype": "f8"
         }
        },
        {
         "marker": {
          "color": "#636EFA",
          "size": 8,
          "symbol": "circle"
         },
         "mode": "markers",
         "name": "Start Forecast - 20250329",
         "type": "scatter",
         "x": [
          "2025-03-31T00:00:00"
         ],
         "y": [
          893
         ]
        },
        {
         "line": {
          "color": "#EF553B",
          "dash": "dash"
         },
         "mode": "lines",
         "name": "Forecast - 20250402",
         "type": "scatter",
         "x": [
          "2025-04-03T00:00:00.000000000",
          "2025-04-04T00:00:00.000000000",
          "2025-04-07T00:00:00.000000000",
          "2025-04-08T00:00:00.000000000",
          "2025-04-09T00:00:00.000000000",
          "2025-04-10T00:00:00.000000000",
          "2025-04-11T00:00:00.000000000",
          "2025-04-14T00:00:00.000000000",
          "2025-04-15T00:00:00.000000000",
          "2025-04-16T00:00:00.000000000",
          "2025-04-17T00:00:00.000000000",
          "2025-04-18T00:00:00.000000000",
          "2025-04-21T00:00:00.000000000",
          "2025-04-22T00:00:00.000000000",
          "2025-04-23T00:00:00.000000000",
          "2025-04-24T00:00:00.000000000",
          "2025-04-25T00:00:00.000000000",
          "2025-04-28T00:00:00.000000000",
          "2025-04-29T00:00:00.000000000",
          "2025-04-30T00:00:00.000000000",
          "2025-05-01T00:00:00.000000000",
          "2025-05-02T00:00:00.000000000",
          "2025-05-05T00:00:00.000000000",
          "2025-05-06T00:00:00.000000000",
          "2025-06-01T00:00:00.000000000",
          "2025-07-01T00:00:00.000000000",
          "2025-08-01T00:00:00.000000000",
          "2025-09-01T00:00:00.000000000",
          "2025-10-01T00:00:00.000000000",
          "2025-11-01T00:00:00.000000000",
          "2025-12-01T00:00:00.000000000",
          "2026-01-01T00:00:00.000000000",
          "2026-02-01T00:00:00.000000000",
          "2026-03-01T00:00:00.000000000",
          "2026-04-01T00:00:00.000000000",
          "2026-05-01T00:00:00.000000000",
          "2026-06-01T00:00:00.000000000",
          "2026-07-01T00:00:00.000000000",
          "2026-08-01T00:00:00.000000000",
          "2026-09-01T00:00:00.000000000",
          "2026-10-01T00:00:00.000000000",
          "2026-11-01T00:00:00.000000000",
          "2026-12-01T00:00:00.000000000",
          "2027-01-01T00:00:00.000000000",
          "2027-02-01T00:00:00.000000000",
          "2027-03-01T00:00:00.000000000",
          "2027-04-01T00:00:00.000000000"
         ],
         "y": {
          "bdata": "AAAAAAB4jUAAAAAAAFiNQAAAAAAAUI1AAAAAAAAIjEAAAAAAADiMQAAAAAAAeItAAAAAAAAwjEAAAAAAAIiMQAAAAAAA0IxAAAAAAACQjEAAAAAAAHiNQAAAAAAA2IxAAAAAAADYjUAAAAAAAMiOQAAAAAAAyI1AAAAAAACYjkAAAAAAAJiPQAAAAAAAuI5AAAAAAAAwjkAAAAAAALCMQAAAAAAAOI1AAAAAAAAwjUAAAAAAAPiMQAAAAAAAgI1AAAAAAACoikAAAAAAAMCKQAAAAAAAUI1AAAAAAAB4jUAAAAAAAPCQQAAAAAAAJJJAAAAAAABEkkAAAAAAAISUQAAAAAAAqJRAAAAAAADAl0AAAAAAAFyYQAAAAAAAaJhAAAAAAACkmkAAAAAAAKSeQAAAAAAABKBAAAAAAADAoUAAAAAAAMCjQAAAAAAA9KBAAAAAAAAAoUAAAAAAAO6gQAAAAAAAgKJAAAAAAABGpUAAAAAAAPajQA==",
          "dtype": "f8"
         }
        },
        {
         "marker": {
          "color": "#EF553B",
          "size": 8,
          "symbol": "circle"
         },
         "mode": "markers",
         "name": "Start Forecast - 20250402",
         "type": "scatter",
         "x": [
          "2025-04-03T00:00:00"
         ],
         "y": [
          943
         ]
        },
        {
         "line": {
          "color": "#00CC96",
          "dash": "dash"
         },
         "mode": "lines",
         "name": "Forecast - 20250403",
         "type": "scatter",
         "x": [
          "2025-04-04T00:00:00.000000000",
          "2025-04-07T00:00:00.000000000",
          "2025-04-08T00:00:00.000000000",
          "2025-04-09T00:00:00.000000000",
          "2025-04-10T00:00:00.000000000",
          "2025-04-11T00:00:00.000000000",
          "2025-04-14T00:00:00.000000000",
          "2025-04-15T00:00:00.000000000",
          "2025-04-16T00:00:00.000000000",
          "2025-04-17T00:00:00.000000000",
          "2025-04-18T00:00:00.000000000",
          "2025-04-21T00:00:00.000000000",
          "2025-04-22T00:00:00.000000000",
          "2025-04-23T00:00:00.000000000",
          "2025-04-24T00:00:00.000000000",
          "2025-04-25T00:00:00.000000000",
          "2025-04-28T00:00:00.000000000",
          "2025-04-29T00:00:00.000000000",
          "2025-04-30T00:00:00.000000000",
          "2025-05-01T00:00:00.000000000",
          "2025-05-02T00:00:00.000000000",
          "2025-05-05T00:00:00.000000000",
          "2025-05-06T00:00:00.000000000",
          "2025-05-07T00:00:00.000000000",
          "2025-06-01T00:00:00.000000000",
          "2025-07-01T00:00:00.000000000",
          "2025-08-01T00:00:00.000000000",
          "2025-09-01T00:00:00.000000000",
          "2025-10-01T00:00:00.000000000",
          "2025-11-01T00:00:00.000000000",
          "2025-12-01T00:00:00.000000000",
          "2026-01-01T00:00:00.000000000",
          "2026-02-01T00:00:00.000000000",
          "2026-03-01T00:00:00.000000000",
          "2026-04-01T00:00:00.000000000",
          "2026-05-01T00:00:00.000000000",
          "2026-06-01T00:00:00.000000000",
          "2026-07-01T00:00:00.000000000",
          "2026-08-01T00:00:00.000000000",
          "2026-09-01T00:00:00.000000000",
          "2026-10-01T00:00:00.000000000",
          "2026-11-01T00:00:00.000000000",
          "2026-12-01T00:00:00.000000000",
          "2027-01-01T00:00:00.000000000",
          "2027-02-01T00:00:00.000000000",
          "2027-03-01T00:00:00.000000000",
          "2027-04-01T00:00:00.000000000"
         ],
         "y": {
          "bdata": "AAAAAAB4jUAAAAAAAFiNQAAAAAAAUI1AAAAAAAAIjEAAAAAAADiMQAAAAAAAeItAAAAAAAAwjEAAAAAAAIiMQAAAAAAA0IxAAAAAAACQjEAAAAAAAHiNQAAAAAAA2IxAAAAAAADYjUAAAAAAAMiOQAAAAAAAyI1AAAAAAACYjkAAAAAAAJiPQAAAAAAAuI5AAAAAAAAwjkAAAAAAALCMQAAAAAAAOI1AAAAAAAAwjUAAAAAAAPiMQAAAAAAAgI1AAAAAAACAjUAAAAAAAKCNQAAAAAAAPJBAAAAAAABQkEAAAAAAAMSSQAAAAAAAGJRAAAAAAAA8lEAAAAAAALiWQAAAAAAA4JZAAAAAAABQmkAAAAAAAPyaQAAAAAAADJtAAAAAAACEnUAAAAAAAPigQAAAAAAAvqFAAAAAAACqo0AAAAAAAOKlQAAAAAAAyKJAAAAAAADWokAAAAAAAMKiQAAAAAAAgKRAAAAAAACUp0AAAAAAAB6mQA==",
          "dtype": "f8"
         }
        },
        {
         "marker": {
          "color": "#00CC96",
          "size": 8,
          "symbol": "circle"
         },
         "mode": "markers",
         "name": "Start Forecast - 20250403",
         "type": "scatter",
         "x": [
          "2025-04-04T00:00:00"
         ],
         "y": [
          943
         ]
        },
        {
         "line": {
          "color": "#AB63FA",
          "dash": "dash"
         },
         "mode": "lines",
         "name": "Forecast - 20250407",
         "type": "scatter",
         "x": [
          "2025-04-08T00:00:00.000000000",
          "2025-04-09T00:00:00.000000000",
          "2025-04-10T00:00:00.000000000",
          "2025-04-11T00:00:00.000000000",
          "2025-04-14T00:00:00.000000000",
          "2025-04-15T00:00:00.000000000",
          "2025-04-16T00:00:00.000000000",
          "2025-04-17T00:00:00.000000000",
          "2025-04-18T00:00:00.000000000",
          "2025-04-21T00:00:00.000000000",
          "2025-04-22T00:00:00.000000000",
          "2025-04-23T00:00:00.000000000",
          "2025-04-24T00:00:00.000000000",
          "2025-04-25T00:00:00.000000000",
          "2025-04-28T00:00:00.000000000",
          "2025-04-29T00:00:00.000000000",
          "2025-04-30T00:00:00.000000000",
          "2025-05-01T00:00:00.000000000",
          "2025-05-02T00:00:00.000000000",
          "2025-05-05T00:00:00.000000000",
          "2025-05-06T00:00:00.000000000",
          "2025-05-07T00:00:00.000000000",
          "2025-05-08T00:00:00.000000000",
          "2025-05-09T00:00:00.000000000",
          "2025-06-01T00:00:00.000000000",
          "2025-07-01T00:00:00.000000000",
          "2025-08-01T00:00:00.000000000",
          "2025-09-01T00:00:00.000000000",
          "2025-10-01T00:00:00.000000000",
          "2025-11-01T00:00:00.000000000",
          "2025-12-01T00:00:00.000000000",
          "2026-01-01T00:00:00.000000000",
          "2026-02-01T00:00:00.000000000",
          "2026-03-01T00:00:00.000000000",
          "2026-04-01T00:00:00.000000000",
          "2026-05-01T00:00:00.000000000",
          "2026-06-01T00:00:00.000000000",
          "2026-07-01T00:00:00.000000000",
          "2026-08-01T00:00:00.000000000",
          "2026-09-01T00:00:00.000000000",
          "2026-10-01T00:00:00.000000000",
          "2026-11-01T00:00:00.000000000",
          "2026-12-01T00:00:00.000000000",
          "2027-01-01T00:00:00.000000000",
          "2027-02-01T00:00:00.000000000",
          "2027-03-01T00:00:00.000000000",
          "2027-04-01T00:00:00.000000000"
         ],
         "y": {
          "bdata": "AAAAAABoiUAAAAAAAOiIQAAAAAAAGIlAAAAAAAD4iEAAAAAAAPCIQAAAAAAA2IdAAAAAAAAAiEAAAAAAAFiHQAAAAAAA8IdAAAAAAAA4iEAAAAAAAHiIQAAAAAAAQIhAAAAAAAAIiUAAAAAAAICIQAAAAAAAWIlAAAAAAAAgikAAAAAAAEiJQAAAAAAA+IlAAAAAAADQikAAAAAAABCKQAAAAAAAoIlAAAAAAABYiEAAAAAAANCIQAAAAAAAyIhAAAAAAACghkAAAAAAALiGQAAAAAAA6IhAAAAAAAAIiUAAAAAAAMiMQAAAAAAA0I5AAAAAAAAIj0AAAAAAAGyRQAAAAAAAiJFAAAAAAAAolEAAAAAAAKyUQAAAAAAAuJRAAAAAAACclkAAAAAAAACaQAAAAAAAMJtAAAAAAAAknkAAAAAAAMagQAAAAAAAzJxAAAAAAADgnEAAAAAAAMCcQAAAAAAAbJ9AAAAAAAASokAAAAAAAPSgQA==",
          "dtype": "f8"
         }
        },
        {
         "marker": {
          "color": "#AB63FA",
          "size": 8,
          "symbol": "circle"
         },
         "mode": "markers",
         "name": "Start Forecast - 20250407",
         "type": "scatter",
         "x": [
          "2025-04-08T00:00:00"
         ],
         "y": [
          813
         ]
        },
        {
         "line": {
          "color": "#FFA15A",
          "dash": "dash"
         },
         "mode": "lines",
         "name": "Forecast - 20250408",
         "type": "scatter",
         "x": [
          "2025-04-09T00:00:00.000000000",
          "2025-04-10T00:00:00.000000000",
          "2025-04-11T00:00:00.000000000",
          "2025-04-14T00:00:00.000000000",
          "2025-04-15T00:00:00.000000000",
          "2025-04-16T00:00:00.000000000",
          "2025-04-17T00:00:00.000000000",
          "2025-04-18T00:00:00.000000000",
          "2025-04-21T00:00:00.000000000",
          "2025-04-22T00:00:00.000000000",
          "2025-04-23T00:00:00.000000000",
          "2025-04-24T00:00:00.000000000",
          "2025-04-25T00:00:00.000000000",
          "2025-04-28T00:00:00.000000000",
          "2025-04-29T00:00:00.000000000",
          "2025-04-30T00:00:00.000000000",
          "2025-05-01T00:00:00.000000000",
          "2025-05-02T00:00:00.000000000",
          "2025-05-05T00:00:00.000000000",
          "2025-05-06T00:00:00.000000000",
          "2025-05-07T00:00:00.000000000",
          "2025-05-08T00:00:00.000000000",
          "2025-05-09T00:00:00.000000000",
          "2025-05-12T00:00:00.000000000",
          "2025-06-01T00:00:00.000000000",
          "2025-07-01T00:00:00.000000000",
          "2025-08-01T00:00:00.000000000",
          "2025-09-01T00:00:00.000000000",
          "2025-10-01T00:00:00.000000000",
          "2025-11-01T00:00:00.000000000",
          "2025-12-01T00:00:00.000000000",
          "2026-01-01T00:00:00.000000000",
          "2026-02-01T00:00:00.000000000",
          "2026-03-01T00:00:00.000000000",
          "2026-04-01T00:00:00.000000000",
          "2026-05-01T00:00:00.000000000",
          "2026-06-01T00:00:00.000000000",
          "2026-07-01T00:00:00.000000000",
          "2026-08-01T00:00:00.000000000",
          "2026-09-01T00:00:00.000000000",
          "2026-10-01T00:00:00.000000000",
          "2026-11-01T00:00:00.000000000",
          "2026-12-01T00:00:00.000000000",
          "2027-01-01T00:00:00.000000000",
          "2027-02-01T00:00:00.000000000",
          "2027-03-01T00:00:00.000000000",
          "2027-04-01T00:00:00.000000000"
         ],
         "y": {
          "bdata": "AAAAAACAi0AAAAAAACCKQAAAAAAAmIlAAAAAAADIiUAAAAAAAKiJQAAAAAAAoIlAAAAAAACAiEAAAAAAAKiIQAAAAAAAAIhAAAAAAACgiEAAAAAAAPCIQAAAAAAAMIlAAAAAAAD4iEAAAAAAAMCJQAAAAAAAOIlAAAAAAAAYikAAAAAAAOiKQAAAAAAACIpAAAAAAADAikAAAAAAAKCLQAAAAAAA4IpAAAAAAABwikAAAAAAACCJQAAAAAAAmIlAAAAAAADAh0AAAAAAANiHQAAAAAAAIIpAAAAAAABAikAAAAAAADCOQAAAAAAAKJBAAAAAAABEkEAAAAAAAESSQAAAAAAAZJJAAAAAAAAolUAAAAAAALCVQAAAAAAAvJVAAAAAAAC4l0AAAAAAAEibQAAAAAAAhJxAAAAAAACcn0AAAAAAAJahQAAAAAAAMJ5AAAAAAABInkAAAAAAACieQAAAAAAAeqBAAAAAAADyokAAAAAAAMahQA==",
          "dtype": "f8"
         }
        },
        {
         "marker": {
          "color": "#FFA15A",
          "size": 8,
          "symbol": "circle"
         },
         "mode": "markers",
         "name": "Start Forecast - 20250408",
         "type": "scatter",
         "x": [
          "2025-04-09T00:00:00"
         ],
         "y": [
          880
         ]
        },
        {
         "line": {
          "color": "#19D3F3",
          "dash": "dash"
         },
         "mode": "lines",
         "name": "Forecast - 20250410",
         "type": "scatter",
         "x": [
          "2025-04-11T00:00:00.000000000",
          "2025-04-14T00:00:00.000000000",
          "2025-04-15T00:00:00.000000000",
          "2025-04-16T00:00:00.000000000",
          "2025-04-17T00:00:00.000000000",
          "2025-04-18T00:00:00.000000000",
          "2025-04-21T00:00:00.000000000",
          "2025-04-22T00:00:00.000000000",
          "2025-04-23T00:00:00.000000000",
          "2025-04-24T00:00:00.000000000",
          "2025-04-25T00:00:00.000000000",
          "2025-04-28T00:00:00.000000000",
          "2025-04-29T00:00:00.000000000",
          "2025-04-30T00:00:00.000000000",
          "2025-05-01T00:00:00.000000000",
          "2025-05-02T00:00:00.000000000",
          "2025-05-05T00:00:00.000000000",
          "2025-05-06T00:00:00.000000000",
          "2025-05-07T00:00:00.000000000",
          "2025-05-08T00:00:00.000000000",
          "2025-05-09T00:00:00.000000000",
          "2025-05-12T00:00:00.000000000",
          "2025-05-13T00:00:00.000000000",
          "2025-05-14T00:00:00.000000000",
          "2025-06-01T00:00:00.000000000",
          "2025-07-01T00:00:00.000000000",
          "2025-08-01T00:00:00.000000000",
          "2025-09-01T00:00:00.000000000",
          "2025-10-01T00:00:00.000000000",
          "2025-11-01T00:00:00.000000000",
          "2025-12-01T00:00:00.000000000",
          "2026-01-01T00:00:00.000000000",
          "2026-02-01T00:00:00.000000000",
          "2026-03-01T00:00:00.000000000",
          "2026-04-01T00:00:00.000000000",
          "2026-05-01T00:00:00.000000000",
          "2026-06-01T00:00:00.000000000",
          "2026-07-01T00:00:00.000000000",
          "2026-08-01T00:00:00.000000000",
          "2026-09-01T00:00:00.000000000",
          "2026-10-01T00:00:00.000000000",
          "2026-11-01T00:00:00.000000000",
          "2026-12-01T00:00:00.000000000",
          "2027-01-01T00:00:00.000000000",
          "2027-02-01T00:00:00.000000000",
          "2027-03-01T00:00:00.000000000",
          "2027-04-01T00:00:00.000000000"
         ],
         "y": {
          "bdata": "AAAAAAAIjEAAAAAAAHCNQAAAAAAAiI1AAAAAAADwjUAAAAAAAHCMQAAAAAAA4ItAAAAAAAAYjEAAAAAAAPiLQAAAAAAA8ItAAAAAAAC4ikAAAAAAAOCKQAAAAAAAKIpAAAAAAADYikAAAAAAACiLQAAAAAAAcItAAAAAAAAwi0AAAAAAABCMQAAAAAAAeItAAAAAAABwjEAAAAAAAFCNQAAAAAAAYIxAAAAAAAAojUAAAAAAACCOQAAAAAAAUI1AAAAAAABAiEAAAAAAAFiIQAAAAAAAsIpAAAAAAADQikAAAAAAANiOQAAAAAAAhJBAAAAAAACgkEAAAAAAAKySQAAAAAAAzJJAAAAAAACclUAAAAAAACiWQAAAAAAANJZAAAAAAAA8mEAAAAAAAOCbQAAAAAAAJJ1AAAAAAAAmoEAAAAAAAPihQAAAAAAA2J5AAAAAAADwnkAAAAAAANCeQAAAAAAA1qBAAAAAAABco0AAAAAAACqiQA==",
          "dtype": "f8"
         }
        },
        {
         "marker": {
          "color": "#19D3F3",
          "size": 8,
          "symbol": "circle"
         },
         "mode": "markers",
         "name": "Start Forecast - 20250410",
         "type": "scatter",
         "x": [
          "2025-04-11T00:00:00"
         ],
         "y": [
          897
         ]
        },
        {
         "line": {
          "color": "#FF6692",
          "dash": "dash"
         },
         "mode": "lines",
         "name": "Forecast - 20250418",
         "type": "scatter",
         "x": [
          "2025-04-21T00:00:00.000000000",
          "2025-04-22T00:00:00.000000000",
          "2025-04-23T00:00:00.000000000",
          "2025-04-24T00:00:00.000000000",
          "2025-04-25T00:00:00.000000000",
          "2025-04-28T00:00:00.000000000",
          "2025-04-29T00:00:00.000000000",
          "2025-04-30T00:00:00.000000000",
          "2025-05-01T00:00:00.000000000",
          "2025-05-02T00:00:00.000000000",
          "2025-05-05T00:00:00.000000000",
          "2025-05-06T00:00:00.000000000",
          "2025-05-07T00:00:00.000000000",
          "2025-05-08T00:00:00.000000000",
          "2025-05-09T00:00:00.000000000",
          "2025-05-12T00:00:00.000000000",
          "2025-05-13T00:00:00.000000000",
          "2025-05-14T00:00:00.000000000",
          "2025-05-15T00:00:00.000000000",
          "2025-05-16T00:00:00.000000000",
          "2025-05-19T00:00:00.000000000",
          "2025-05-20T00:00:00.000000000",
          "2025-05-21T00:00:00.000000000",
          "2025-05-22T00:00:00.000000000",
          "2025-06-01T00:00:00.000000000",
          "2025-07-01T00:00:00.000000000",
          "2025-08-01T00:00:00.000000000",
          "2025-09-01T00:00:00.000000000",
          "2025-10-01T00:00:00.000000000",
          "2025-11-01T00:00:00.000000000",
          "2025-12-01T00:00:00.000000000",
          "2026-01-01T00:00:00.000000000",
          "2026-02-01T00:00:00.000000000",
          "2026-03-01T00:00:00.000000000",
          "2026-04-01T00:00:00.000000000",
          "2026-05-01T00:00:00.000000000",
          "2026-06-01T00:00:00.000000000",
          "2026-07-01T00:00:00.000000000",
          "2026-08-01T00:00:00.000000000",
          "2026-09-01T00:00:00.000000000",
          "2026-10-01T00:00:00.000000000",
          "2026-11-01T00:00:00.000000000",
          "2026-12-01T00:00:00.000000000",
          "2027-01-01T00:00:00.000000000",
          "2027-02-01T00:00:00.000000000",
          "2027-03-01T00:00:00.000000000",
          "2027-04-01T00:00:00.000000000"
         ],
         "y": {
          "bdata": "AAAAAADIjkAAAAAAAFCOQAAAAAAAyI9AAAAAAAAckEAAAAAAABCQQAAAAAAAUI9AAAAAAABwkEAAAAAAAHyQQAAAAAAAuJBAAAAAAADIj0AAAAAAACiPQAAAAAAAaI9AAAAAAABIj0AAAAAAAECPQAAAAAAA4I1AAAAAAAAQjkAAAAAAAECNQAAAAAAAAI5AAAAAAABgjkAAAAAAALCOQAAAAAAAaI5AAAAAAABgj0AAAAAAALiOQAAAAAAAyI9AAAAAAADskEAAAAAAAPyQQAAAAAAAnJJAAAAAAAC0kkAAAAAAAISVQAAAAAAACJdAAAAAAAAwl0AAAAAAAAyaQAAAAAAAOJpAAAAAAAAonkAAAAAAAOyeQAAAAAAA/J5AAAAAAADooEAAAAAAAHKjQAAAAAAAVKRAAAAAAACIpkAAAAAAABKpQAAAAAAAhqVAAAAAAACWpUAAAAAAAH6lQAAAAAAAfKdAAAAAAAACq0AAAAAAAFapQA==",
          "dtype": "f8"
         }
        },
        {
         "marker": {
          "color": "#FF6692",
          "size": 8,
          "symbol": "circle"
         },
         "mode": "markers",
         "name": "Start Forecast - 20250418",
         "type": "scatter",
         "x": [
          "2025-04-21T00:00:00"
         ],
         "y": [
          985
         ]
        },
        {
         "line": {
          "color": "#B6E880",
          "dash": "dash"
         },
         "mode": "lines",
         "name": "Forecast - 20250423",
         "type": "scatter",
         "x": [
          "2025-04-24T00:00:00.000000000",
          "2025-04-25T00:00:00.000000000",
          "2025-04-28T00:00:00.000000000",
          "2025-04-29T00:00:00.000000000",
          "2025-04-30T00:00:00.000000000",
          "2025-05-01T00:00:00.000000000",
          "2025-05-02T00:00:00.000000000",
          "2025-05-05T00:00:00.000000000",
          "2025-05-06T00:00:00.000000000",
          "2025-05-07T00:00:00.000000000",
          "2025-05-08T00:00:00.000000000",
          "2025-05-09T00:00:00.000000000",
          "2025-05-12T00:00:00.000000000",
          "2025-05-13T00:00:00.000000000",
          "2025-05-14T00:00:00.000000000",
          "2025-05-15T00:00:00.000000000",
          "2025-05-16T00:00:00.000000000",
          "2025-05-19T00:00:00.000000000",
          "2025-05-20T00:00:00.000000000",
          "2025-05-21T00:00:00.000000000",
          "2025-05-22T00:00:00.000000000",
          "2025-05-23T00:00:00.000000000",
          "2025-05-26T00:00:00.000000000",
          "2025-05-27T00:00:00.000000000",
          "2025-06-01T00:00:00.000000000",
          "2025-07-01T00:00:00.000000000",
          "2025-08-01T00:00:00.000000000",
          "2025-09-01T00:00:00.000000000",
          "2025-10-01T00:00:00.000000000",
          "2025-11-01T00:00:00.000000000",
          "2025-12-01T00:00:00.000000000",
          "2026-01-01T00:00:00.000000000",
          "2026-02-01T00:00:00.000000000",
          "2026-03-01T00:00:00.000000000",
          "2026-04-01T00:00:00.000000000",
          "2026-05-01T00:00:00.000000000",
          "2026-06-01T00:00:00.000000000",
          "2026-07-01T00:00:00.000000000",
          "2026-08-01T00:00:00.000000000",
          "2026-09-01T00:00:00.000000000",
          "2026-10-01T00:00:00.000000000",
          "2026-11-01T00:00:00.000000000",
          "2026-12-01T00:00:00.000000000",
          "2027-01-01T00:00:00.000000000",
          "2027-02-01T00:00:00.000000000",
          "2027-03-01T00:00:00.000000000",
          "2027-04-01T00:00:00.000000000"
         ],
         "y": {
          "bdata": "AAAAAACMkEAAAAAAAGCRQAAAAAAApJFAAAAAAADYkUAAAAAAAJSRQAAAAAAAbJJAAAAAAACwkkAAAAAAAKCSQAAAAAAAJJJAAAAAAAAMk0AAAAAAAByTQAAAAAAAYJNAAAAAAABokkAAAAAAAAySQAAAAAAAMJJAAAAAAAAckkAAAAAAABSSQAAAAAAASJFAAAAAAABkkUAAAAAAAOyQQAAAAAAAXJFAAAAAAACUkUAAAAAAAMCRQAAAAAAAmJFAAAAAAADYkUAAAAAAAOiRQAAAAAAAoJNAAAAAAAC4k0AAAAAAAKyWQAAAAAAASJhAAAAAAAB0mEAAAAAAAHibQAAAAAAAqJtAAAAAAADQn0AAAAAAAFCgQAAAAAAAWKBAAAAAAADWoUAAAAAAAIKkQAAAAAAAcKVAAAAAAADCp0AAAAAAAHCqQAAAAAAAsqZAAAAAAADCpkAAAAAAAKqmQAAAAAAAxKhAAAAAAAB8rEAAAAAAALqqQA==",
          "dtype": "f8"
         }
        },
        {
         "marker": {
          "color": "#B6E880",
          "size": 8,
          "symbol": "circle"
         },
         "mode": "markers",
         "name": "Start Forecast - 20250423",
         "type": "scatter",
         "x": [
          "2025-04-24T00:00:00"
         ],
         "y": [
          1059
         ]
        },
        {
         "line": {
          "color": "red"
         },
         "marker": {
          "color": "red",
          "size": 6
         },
         "mode": "lines+markers",
         "name": "Current Price",
         "type": "scatter",
         "x": [
          "2025-03-24T00:00:00",
          "2025-03-25T00:00:00",
          "2025-03-26T00:00:00",
          "2025-03-27T00:00:00",
          "2025-03-28T00:00:00",
          "2025-03-31T00:00:00",
          "2025-04-01T00:00:00",
          "2025-04-02T00:00:00",
          "2025-04-03T00:00:00",
          "2025-04-04T00:00:00",
          "2025-04-07T00:00:00",
          "2025-04-08T00:00:00",
          "2025-04-09T00:00:00",
          "2025-04-10T00:00:00",
          "2025-04-11T00:00:00",
          "2025-04-14T00:00:00",
          "2025-04-15T00:00:00",
          "2025-04-16T00:00:00",
          "2025-04-17T00:00:00",
          "2025-04-21T00:00:00",
          "2025-04-22T00:00:00",
          "2025-04-23T00:00:00"
         ],
         "y": {
          "bdata": "AAAAgOtfjkAAAACAPSqPQAAAAEAzVY5AAAAAgMKFjkAAAADAzC6NQAAAAIA9JI1AAAAAQAoDjUAAAAAAKTyNQAAAAGBmqIxAAAAAQOG+ikAAAADgox6LQAAAAEAzM4tAAAAAgMKLjUAAAAAgXMmMQAAAAOBRsoxAAAAAgD0ajUAAAACAPYKOQAAAAEAKDY5AAAAAgD1ojkAAAACgR9+OQAAAACBcQZBAAAAAIFxmkEA=",
          "dtype": "f8"
         }
        }
       ],
       "layout": {
        "legend": {
         "font": {
          "size": 10
         },
         "x": 1.05,
         "xanchor": "left",
         "y": 1,
         "yanchor": "top"
        },
        "template": {
         "data": {
          "bar": [
           {
            "error_x": {
             "color": "#2a3f5f"
            },
            "error_y": {
             "color": "#2a3f5f"
            },
            "marker": {
             "line": {
              "color": "white",
              "width": 0.5
             },
             "pattern": {
              "fillmode": "overlay",
              "size": 10,
              "solidity": 0.2
             }
            },
            "type": "bar"
           }
          ],
          "barpolar": [
           {
            "marker": {
             "line": {
              "color": "white",
              "width": 0.5
             },
             "pattern": {
              "fillmode": "overlay",
              "size": 10,
              "solidity": 0.2
             }
            },
            "type": "barpolar"
           }
          ],
          "carpet": [
           {
            "aaxis": {
             "endlinecolor": "#2a3f5f",
             "gridcolor": "#C8D4E3",
             "linecolor": "#C8D4E3",
             "minorgridcolor": "#C8D4E3",
             "startlinecolor": "#2a3f5f"
            },
            "baxis": {
             "endlinecolor": "#2a3f5f",
             "gridcolor": "#C8D4E3",
             "linecolor": "#C8D4E3",
             "minorgridcolor": "#C8D4E3",
             "startlinecolor": "#2a3f5f"
            },
            "type": "carpet"
           }
          ],
          "choropleth": [
           {
            "colorbar": {
             "outlinewidth": 0,
             "ticks": ""
            },
            "type": "choropleth"
           }
          ],
          "contour": [
           {
            "colorbar": {
             "outlinewidth": 0,
             "ticks": ""
            },
            "colorscale": [
             [
              0,
              "#0d0887"
             ],
             [
              0.1111111111111111,
              "#46039f"
             ],
             [
              0.2222222222222222,
              "#7201a8"
             ],
             [
              0.3333333333333333,
              "#9c179e"
             ],
             [
              0.4444444444444444,
              "#bd3786"
             ],
             [
              0.5555555555555556,
              "#d8576b"
             ],
             [
              0.6666666666666666,
              "#ed7953"
             ],
             [
              0.7777777777777778,
              "#fb9f3a"
             ],
             [
              0.8888888888888888,
              "#fdca26"
             ],
             [
              1,
              "#f0f921"
             ]
            ],
            "type": "contour"
           }
          ],
          "contourcarpet": [
           {
            "colorbar": {
             "outlinewidth": 0,
             "ticks": ""
            },
            "type": "contourcarpet"
           }
          ],
          "heatmap": [
           {
            "colorbar": {
             "outlinewidth": 0,
             "ticks": ""
            },
            "colorscale": [
             [
              0,
              "#0d0887"
             ],
             [
              0.1111111111111111,
              "#46039f"
             ],
             [
              0.2222222222222222,
              "#7201a8"
             ],
             [
              0.3333333333333333,
              "#9c179e"
             ],
             [
              0.4444444444444444,
              "#bd3786"
             ],
             [
              0.5555555555555556,
              "#d8576b"
             ],
             [
              0.6666666666666666,
              "#ed7953"
             ],
             [
              0.7777777777777778,
              "#fb9f3a"
             ],
             [
              0.8888888888888888,
              "#fdca26"
             ],
             [
              1,
              "#f0f921"
             ]
            ],
            "type": "heatmap"
           }
          ],
          "histogram": [
           {
            "marker": {
             "pattern": {
              "fillmode": "overlay",
              "size": 10,
              "solidity": 0.2
             }
            },
            "type": "histogram"
           }
          ],
          "histogram2d": [
           {
            "colorbar": {
             "outlinewidth": 0,
             "ticks": ""
            },
            "colorscale": [
             [
              0,
              "#0d0887"
             ],
             [
              0.1111111111111111,
              "#46039f"
             ],
             [
              0.2222222222222222,
              "#7201a8"
             ],
             [
              0.3333333333333333,
              "#9c179e"
             ],
             [
              0.4444444444444444,
              "#bd3786"
             ],
             [
              0.5555555555555556,
              "#d8576b"
             ],
             [
              0.6666666666666666,
              "#ed7953"
             ],
             [
              0.7777777777777778,
              "#fb9f3a"
             ],
             [
              0.8888888888888888,
              "#fdca26"
             ],
             [
              1,
              "#f0f921"
             ]
            ],
            "type": "histogram2d"
           }
          ],
          "histogram2dcontour": [
           {
            "colorbar": {
             "outlinewidth": 0,
             "ticks": ""
            },
            "colorscale": [
             [
              0,
              "#0d0887"
             ],
             [
              0.1111111111111111,
              "#46039f"
             ],
             [
              0.2222222222222222,
              "#7201a8"
             ],
             [
              0.3333333333333333,
              "#9c179e"
             ],
             [
              0.4444444444444444,
              "#bd3786"
             ],
             [
              0.5555555555555556,
              "#d8576b"
             ],
             [
              0.6666666666666666,
              "#ed7953"
             ],
             [
              0.7777777777777778,
              "#fb9f3a"
             ],
             [
              0.8888888888888888,
              "#fdca26"
             ],
             [
              1,
              "#f0f921"
             ]
            ],
            "type": "histogram2dcontour"
           }
          ],
          "mesh3d": [
           {
            "colorbar": {
             "outlinewidth": 0,
             "ticks": ""
            },
            "type": "mesh3d"
           }
          ],
          "parcoords": [
           {
            "line": {
             "colorbar": {
              "outlinewidth": 0,
              "ticks": ""
             }
            },
            "type": "parcoords"
           }
          ],
          "pie": [
           {
            "automargin": true,
            "type": "pie"
           }
          ],
          "scatter": [
           {
            "fillpattern": {
             "fillmode": "overlay",
             "size": 10,
             "solidity": 0.2
            },
            "type": "scatter"
           }
          ],
          "scatter3d": [
           {
            "line": {
             "colorbar": {
              "outlinewidth": 0,
              "ticks": ""
             }
            },
            "marker": {
             "colorbar": {
              "outlinewidth": 0,
              "ticks": ""
             }
            },
            "type": "scatter3d"
           }
          ],
          "scattercarpet": [
           {
            "marker": {
             "colorbar": {
              "outlinewidth": 0,
              "ticks": ""
             }
            },
            "type": "scattercarpet"
           }
          ],
          "scattergeo": [
           {
            "marker": {
             "colorbar": {
              "outlinewidth": 0,
              "ticks": ""
             }
            },
            "type": "scattergeo"
           }
          ],
          "scattergl": [
           {
            "marker": {
             "colorbar": {
              "outlinewidth": 0,
              "ticks": ""
             }
            },
            "type": "scattergl"
           }
          ],
          "scattermap": [
           {
            "marker": {
             "colorbar": {
              "outlinewidth": 0,
              "ticks": ""
             }
            },
            "type": "scattermap"
           }
          ],
          "scattermapbox": [
           {
            "marker": {
             "colorbar": {
              "outlinewidth": 0,
              "ticks": ""
             }
            },
            "type": "scattermapbox"
           }
          ],
          "scatterpolar": [
           {
            "marker": {
             "colorbar": {
              "outlinewidth": 0,
              "ticks": ""
             }
            },
            "type": "scatterpolar"
           }
          ],
          "scatterpolargl": [
           {
            "marker": {
             "colorbar": {
              "outlinewidth": 0,
              "ticks": ""
             }
            },
            "type": "scatterpolargl"
           }
          ],
          "scatterternary": [
           {
            "marker": {
             "colorbar": {
              "outlinewidth": 0,
              "ticks": ""
             }
            },
            "type": "scatterternary"
           }
          ],
          "surface": [
           {
            "colorbar": {
             "outlinewidth": 0,
             "ticks": ""
            },
            "colorscale": [
             [
              0,
              "#0d0887"
             ],
             [
              0.1111111111111111,
              "#46039f"
             ],
             [
              0.2222222222222222,
              "#7201a8"
             ],
             [
              0.3333333333333333,
              "#9c179e"
             ],
             [
              0.4444444444444444,
              "#bd3786"
             ],
             [
              0.5555555555555556,
              "#d8576b"
             ],
             [
              0.6666666666666666,
              "#ed7953"
             ],
             [
              0.7777777777777778,
              "#fb9f3a"
             ],
             [
              0.8888888888888888,
              "#fdca26"
             ],
             [
              1,
              "#f0f921"
             ]
            ],
            "type": "surface"
           }
          ],
          "table": [
           {
            "cells": {
             "fill": {
              "color": "#EBF0F8"
             },
             "line": {
              "color": "white"
             }
            },
            "header": {
             "fill": {
              "color": "#C8D4E3"
             },
             "line": {
              "color": "white"
             }
            },
            "type": "table"
           }
          ]
         },
         "layout": {
          "annotationdefaults": {
           "arrowcolor": "#2a3f5f",
           "arrowhead": 0,
           "arrowwidth": 1
          },
          "autotypenumbers": "strict",
          "coloraxis": {
           "colorbar": {
            "outlinewidth": 0,
            "ticks": ""
           }
          },
          "colorscale": {
           "diverging": [
            [
             0,
             "#8e0152"
            ],
            [
             0.1,
             "#c51b7d"
            ],
            [
             0.2,
             "#de77ae"
            ],
            [
             0.3,
             "#f1b6da"
            ],
            [
             0.4,
             "#fde0ef"
            ],
            [
             0.5,
             "#f7f7f7"
            ],
            [
             0.6,
             "#e6f5d0"
            ],
            [
             0.7,
             "#b8e186"
            ],
            [
             0.8,
             "#7fbc41"
            ],
            [
             0.9,
             "#4d9221"
            ],
            [
             1,
             "#276419"
            ]
           ],
           "sequential": [
            [
             0,
             "#0d0887"
            ],
            [
             0.1111111111111111,
             "#46039f"
            ],
            [
             0.2222222222222222,
             "#7201a8"
            ],
            [
             0.3333333333333333,
             "#9c179e"
            ],
            [
             0.4444444444444444,
             "#bd3786"
            ],
            [
             0.5555555555555556,
             "#d8576b"
            ],
            [
             0.6666666666666666,
             "#ed7953"
            ],
            [
             0.7777777777777778,
             "#fb9f3a"
            ],
            [
             0.8888888888888888,
             "#fdca26"
            ],
            [
             1,
             "#f0f921"
            ]
           ],
           "sequentialminus": [
            [
             0,
             "#0d0887"
            ],
            [
             0.1111111111111111,
             "#46039f"
            ],
            [
             0.2222222222222222,
             "#7201a8"
            ],
            [
             0.3333333333333333,
             "#9c179e"
            ],
            [
             0.4444444444444444,
             "#bd3786"
            ],
            [
             0.5555555555555556,
             "#d8576b"
            ],
            [
             0.6666666666666666,
             "#ed7953"
            ],
            [
             0.7777777777777778,
             "#fb9f3a"
            ],
            [
             0.8888888888888888,
             "#fdca26"
            ],
            [
             1,
             "#f0f921"
            ]
           ]
          },
          "colorway": [
           "#636efa",
           "#EF553B",
           "#00cc96",
           "#ab63fa",
           "#FFA15A",
           "#19d3f3",
           "#FF6692",
           "#B6E880",
           "#FF97FF",
           "#FECB52"
          ],
          "font": {
           "color": "#2a3f5f"
          },
          "geo": {
           "bgcolor": "white",
           "lakecolor": "white",
           "landcolor": "white",
           "showlakes": true,
           "showland": true,
           "subunitcolor": "#C8D4E3"
          },
          "hoverlabel": {
           "align": "left"
          },
          "hovermode": "closest",
          "mapbox": {
           "style": "light"
          },
          "paper_bgcolor": "white",
          "plot_bgcolor": "white",
          "polar": {
           "angularaxis": {
            "gridcolor": "#EBF0F8",
            "linecolor": "#EBF0F8",
            "ticks": ""
           },
           "bgcolor": "white",
           "radialaxis": {
            "gridcolor": "#EBF0F8",
            "linecolor": "#EBF0F8",
            "ticks": ""
           }
          },
          "scene": {
           "xaxis": {
            "backgroundcolor": "white",
            "gridcolor": "#DFE8F3",
            "gridwidth": 2,
            "linecolor": "#EBF0F8",
            "showbackground": true,
            "ticks": "",
            "zerolinecolor": "#EBF0F8"
           },
           "yaxis": {
            "backgroundcolor": "white",
            "gridcolor": "#DFE8F3",
            "gridwidth": 2,
            "linecolor": "#EBF0F8",
            "showbackground": true,
            "ticks": "",
            "zerolinecolor": "#EBF0F8"
           },
           "zaxis": {
            "backgroundcolor": "white",
            "gridcolor": "#DFE8F3",
            "gridwidth": 2,
            "linecolor": "#EBF0F8",
            "showbackground": true,
            "ticks": "",
            "zerolinecolor": "#EBF0F8"
           }
          },
          "shapedefaults": {
           "line": {
            "color": "#2a3f5f"
           }
          },
          "ternary": {
           "aaxis": {
            "gridcolor": "#DFE8F3",
            "linecolor": "#A2B1C6",
            "ticks": ""
           },
           "baxis": {
            "gridcolor": "#DFE8F3",
            "linecolor": "#A2B1C6",
            "ticks": ""
           },
           "bgcolor": "white",
           "caxis": {
            "gridcolor": "#DFE8F3",
            "linecolor": "#A2B1C6",
            "ticks": ""
           }
          },
          "title": {
           "x": 0.05
          },
          "xaxis": {
           "automargin": true,
           "gridcolor": "#EBF0F8",
           "linecolor": "#EBF0F8",
           "ticks": "",
           "title": {
            "standoff": 15
           },
           "zerolinecolor": "#EBF0F8",
           "zerolinewidth": 2
          },
          "yaxis": {
           "automargin": true,
           "gridcolor": "#EBF0F8",
           "linecolor": "#EBF0F8",
           "ticks": "",
           "title": {
            "standoff": 15
           },
           "zerolinecolor": "#EBF0F8",
           "zerolinewidth": 2
          }
         }
        },
        "title": {
         "text": "netflix Forecast"
        },
        "xaxis": {
         "range": [
          "2025-03-24T00:00:00",
          "2025-11-01T00:00:00"
         ],
         "tickangle": -45,
         "title": {
          "text": "Date"
         }
        },
        "yaxis": {
         "range": [
          0,
          2031.3999999999999
         ],
         "title": {
          "text": "Price / USD"
         }
        }
       }
      }
     },
     "metadata": {},
     "output_type": "display_data"
    }
   ],
   "source": [
    "fh=ForecastHandler(company='netflix')\n",
    "fh.load_all_forecasts()\n",
    "fh.plot_forecasts()"
   ]
  },
  {
   "cell_type": "code",
   "execution_count": null,
   "metadata": {},
   "outputs": [
    {
     "name": "stdout",
     "output_type": "stream",
     "text": [
      "found forecast files: ['20250402_wmt-stock_forecast.csv', '20250403_wmt-stock_forecast.csv', '20250407_wmt-stock_forecast.csv', '20250408_wmt-stock_forecast.csv', '20250410_wmt-stock_forecast.csv', '20250418_wmt-stock_forecast.csv', '20250423_wmt-stock_forecast.csv']\n",
      "load file 20250402_wmt-stock_forecast.csv\n",
      "load file 20250403_wmt-stock_forecast.csv\n",
      "load file 20250407_wmt-stock_forecast.csv\n",
      "load file 20250408_wmt-stock_forecast.csv\n",
      "load file 20250410_wmt-stock_forecast.csv\n",
      "load file 20250418_wmt-stock_forecast.csv\n",
      "load file 20250423_wmt-stock_forecast.csv\n"
     ]
    },
    {
     "data": {
      "image/png": "[encoded data removed]",
      "text/plain": [
       "<Figure size 1000x500 with 1 Axes>"
      ]
     },
     "metadata": {},
     "output_type": "display_data"
    },
    {
     "data": {
      "application/vnd.plotly.v1+json": {
       "config": {
        "plotlyServerURL": "https://plot.ly"
       },
       "data": [
        {
         "line": {
          "color": "#636EFA",
          "dash": "dash"
         },
         "mode": "lines",
         "name": "Forecast - 20250402",
         "type": "scatter",
         "x": [
          "2025-04-03T00:00:00.000000000",
          "2025-04-04T00:00:00.000000000",
          "2025-04-07T00:00:00.000000000",
          "2025-04-08T00:00:00.000000000",
          "2025-04-09T00:00:00.000000000",
          "2025-04-10T00:00:00.000000000",
          "2025-04-11T00:00:00.000000000",
          "2025-04-14T00:00:00.000000000",
          "2025-04-15T00:00:00.000000000",
          "2025-04-16T00:00:00.000000000",
          "2025-04-17T00:00:00.000000000",
          "2025-04-18T00:00:00.000000000",
          "2025-04-21T00:00:00.000000000",
          "2025-04-22T00:00:00.000000000",
          "2025-04-23T00:00:00.000000000",
          "2025-04-24T00:00:00.000000000",
          "2025-04-25T00:00:00.000000000",
          "2025-04-28T00:00:00.000000000",
          "2025-04-29T00:00:00.000000000",
          "2025-04-30T00:00:00.000000000",
          "2025-05-01T00:00:00.000000000",
          "2025-05-02T00:00:00.000000000",
          "2025-05-05T00:00:00.000000000",
          "2025-05-06T00:00:00.000000000",
          "2025-06-01T00:00:00.000000000",
          "2025-07-01T00:00:00.000000000",
          "2025-08-01T00:00:00.000000000",
          "2025-09-01T00:00:00.000000000",
          "2025-10-01T00:00:00.000000000",
          "2025-11-01T00:00:00.000000000",
          "2025-12-01T00:00:00.000000000",
          "2026-01-01T00:00:00.000000000",
          "2026-02-01T00:00:00.000000000",
          "2026-03-01T00:00:00.000000000",
          "2026-04-01T00:00:00.000000000",
          "2026-05-01T00:00:00.000000000",
          "2026-06-01T00:00:00.000000000",
          "2026-07-01T00:00:00.000000000",
          "2026-08-01T00:00:00.000000000",
          "2026-09-01T00:00:00.000000000",
          "2026-10-01T00:00:00.000000000",
          "2026-11-01T00:00:00.000000000",
          "2026-12-01T00:00:00.000000000",
          "2027-01-01T00:00:00.000000000",
          "2027-02-01T00:00:00.000000000",
          "2027-03-01T00:00:00.000000000",
          "2027-04-01T00:00:00.000000000"
         ],
         "y": {
          "bdata": "/////yisVkD/////KOxWQAEAAEDhqldA////PzODV0D///8/M6NXQAAAAKBHwVdAAAAAQAoHV0AAAACAFG5XQAAAAIDCdVdAAAAAYI9SV0AAAADgeoRXQAEAAADXA1dAAAAAoJmZV0ABAAAA19NXQAEAAADXo1dA////31EIV0AAAACAFO5WQAAAAEAK91VAAAAA4FFIVUAAAABA4fpUQAAAAEAzM1VAAAAAAACgVEAAAABA4WpUQAAAAKCZyVRAAAAAQOGqUUAAAAAgXL9RQAAAAOBRSFNAAAAAwB5lU0AAAAAA19NVQAAAAEAzE1ZAAAAAgD06V0ABAAAgrqdZQAEAACCuR1tAAAAAIIV7XkABAADgo6BeQAAAAGBmRl9AAAAAoEc5YEAAAACAPVJhQAAAAKBHsWFAAAAAAACQYEAAAABA4RJhQAAAAGBm5mBAAAAAoEcpYUAAAAAgXF9hQAAAAGBmpmFAAAAAgBRmYkAAAADA9eBiQA==",
          "dtype": "f8"
         }
        },
        {
         "marker": {
          "color": "#636EFA",
          "size": 8,
          "symbol": "circle"
         },
         "mode": "markers",
         "name": "Start Forecast - 20250402",
         "type": "scatter",
         "x": [
          "2025-04-03T00:00:00"
         ],
         "y": [
          90.69000244140624
         ]
        },
        {
         "line": {
          "color": "#EF553B",
          "dash": "dash"
         },
         "mode": "lines",
         "name": "Forecast - 20250403",
         "type": "scatter",
         "x": [
          "2025-04-04T00:00:00.000000000",
          "2025-04-07T00:00:00.000000000",
          "2025-04-08T00:00:00.000000000",
          "2025-04-09T00:00:00.000000000",
          "2025-04-10T00:00:00.000000000",
          "2025-04-11T00:00:00.000000000",
          "2025-04-14T00:00:00.000000000",
          "2025-04-15T00:00:00.000000000",
          "2025-04-16T00:00:00.000000000",
          "2025-04-17T00:00:00.000000000",
          "2025-04-18T00:00:00.000000000",
          "2025-04-21T00:00:00.000000000",
          "2025-04-22T00:00:00.000000000",
          "2025-04-23T00:00:00.000000000",
          "2025-04-24T00:00:00.000000000",
          "2025-04-25T00:00:00.000000000",
          "2025-04-28T00:00:00.000000000",
          "2025-04-29T00:00:00.000000000",
          "2025-04-30T00:00:00.000000000",
          "2025-05-01T00:00:00.000000000",
          "2025-05-02T00:00:00.000000000",
          "2025-05-05T00:00:00.000000000",
          "2025-05-06T00:00:00.000000000",
          "2025-05-07T00:00:00.000000000",
          "2025-06-01T00:00:00.000000000",
          "2025-07-01T00:00:00.000000000",
          "2025-08-01T00:00:00.000000000",
          "2025-09-01T00:00:00.000000000",
          "2025-10-01T00:00:00.000000000",
          "2025-11-01T00:00:00.000000000",
          "2025-12-01T00:00:00.000000000",
          "2026-01-01T00:00:00.000000000",
          "2026-02-01T00:00:00.000000000",
          "2026-03-01T00:00:00.000000000",
          "2026-04-01T00:00:00.000000000",
          "2026-05-01T00:00:00.000000000",
          "2026-06-01T00:00:00.000000000",
          "2026-07-01T00:00:00.000000000",
          "2026-08-01T00:00:00.000000000",
          "2026-09-01T00:00:00.000000000",
          "2026-10-01T00:00:00.000000000",
          "2026-11-01T00:00:00.000000000",
          "2026-12-01T00:00:00.000000000",
          "2027-01-01T00:00:00.000000000",
          "2027-02-01T00:00:00.000000000",
          "2027-03-01T00:00:00.000000000",
          "2027-04-01T00:00:00.000000000"
         ],
         "y": {
          "bdata": "/////yisVkD/////KOxWQAEAAEDhqldA////PzODV0D///8/M6NXQAAAAKBHwVdAAAAAQAoHV0AAAACAFG5XQAAAAIDCdVdAAAAAYI9SV0AAAADgeoRXQAEAAADXA1dAAAAAoJmZV0ABAAAA19NXQAEAAADXo1dA////31EIV0AAAACAFO5WQAAAAEAK91VAAAAA4FFIVUAAAABA4fpUQAAAAEAzM1VAAAAAAACgVEAAAABA4WpUQAAAAKCZyVRAAAAAgBQuUkAAAABAM0NSQAAAAEAK11NAAAAA4Hr0U0AAAADAHnVWQAAAAGBmtlZAAAAAYGbmV0AAAACAwmVaQAAAAIDrEVxAAAAAoHBdX0ABAAAA14NfQAAAAEAKF2BAAAAAoJmxYEAAAABgj9JhQAAAAOB6NGJAAAAAQOEKYUAAAACgmZFhQAAAAADXY2FAAAAA4KOoYUAAAAAAAOBhQAAAAMD1KGJAAAAAYGbuYkAAAADAzGxjQA==",
          "dtype": "f8"
         }
        },
        {
         "marker": {
          "color": "#EF553B",
          "size": 8,
          "symbol": "circle"
         },
         "mode": "markers",
         "name": "Start Forecast - 20250403",
         "type": "scatter",
         "x": [
          "2025-04-04T00:00:00"
         ],
         "y": [
          90.69000244140624
         ]
        },
        {
         "line": {
          "color": "#00CC96",
          "dash": "dash"
         },
         "mode": "lines",
         "name": "Forecast - 20250407",
         "type": "scatter",
         "x": [
          "2025-04-08T00:00:00.000000000",
          "2025-04-09T00:00:00.000000000",
          "2025-04-10T00:00:00.000000000",
          "2025-04-11T00:00:00.000000000",
          "2025-04-14T00:00:00.000000000",
          "2025-04-15T00:00:00.000000000",
          "2025-04-16T00:00:00.000000000",
          "2025-04-17T00:00:00.000000000",
          "2025-04-18T00:00:00.000000000",
          "2025-04-21T00:00:00.000000000",
          "2025-04-22T00:00:00.000000000",
          "2025-04-23T00:00:00.000000000",
          "2025-04-24T00:00:00.000000000",
          "2025-04-25T00:00:00.000000000",
          "2025-04-28T00:00:00.000000000",
          "2025-04-29T00:00:00.000000000",
          "2025-04-30T00:00:00.000000000",
          "2025-05-01T00:00:00.000000000",
          "2025-05-02T00:00:00.000000000",
          "2025-05-05T00:00:00.000000000",
          "2025-05-06T00:00:00.000000000",
          "2025-05-07T00:00:00.000000000",
          "2025-05-08T00:00:00.000000000",
          "2025-05-09T00:00:00.000000000",
          "2025-06-01T00:00:00.000000000",
          "2025-07-01T00:00:00.000000000",
          "2025-08-01T00:00:00.000000000",
          "2025-09-01T00:00:00.000000000",
          "2025-10-01T00:00:00.000000000",
          "2025-11-01T00:00:00.000000000",
          "2025-12-01T00:00:00.000000000",
          "2026-01-01T00:00:00.000000000",
          "2026-02-01T00:00:00.000000000",
          "2026-03-01T00:00:00.000000000",
          "2026-04-01T00:00:00.000000000",
          "2026-05-01T00:00:00.000000000",
          "2026-06-01T00:00:00.000000000",
          "2026-07-01T00:00:00.000000000",
          "2026-08-01T00:00:00.000000000",
          "2026-09-01T00:00:00.000000000",
          "2026-10-01T00:00:00.000000000",
          "2026-11-01T00:00:00.000000000",
          "2026-12-01T00:00:00.000000000",
          "2027-01-01T00:00:00.000000000",
          "2027-02-01T00:00:00.000000000",
          "2027-03-01T00:00:00.000000000",
          "2027-04-01T00:00:00.000000000"
         ],
         "y": {
          "bdata": "AAAAACnMU0AAAACAFD5TQAAAAGCPclNAAAAAwPWoU0AAAAAAKUxUQAAAAIA9KlRAAAAAgMJFVEAAAAAgXF9UQAAAACBcv1NAAAAAIK4XVEAAAACAFB5UQAAAAAAAAFRAAAAAQOEqVEAAAADAzLxTQAAAAMDMPFRAAAAAYLhuVEAAAACAwkVUQAAAAAAAwFNAAAAAwPWoU0AAAADAHtVSQAAAACBcP1JAAAAAoHD9UUAAAACAFC5SQAAAAAAAsFFAAAAAIFzPUUAAAADgeuRRQAAAAOCjcFNAAAAAoHCNU0AAAACgRwFWQAAAAKBHQVZAAQAAQOFqV0AAAACgcN1ZQAEAAOCjgFtAAAAAIIW7XkAAAACgR+FeQP///99RiF9AAAAAIIVbYEAAAABguHZhQAAAAGC41mFAAAAAQDOzYEAAAAAgXDdhQAAAAGCPCmFAAAAAgBROYUAAAADgeoRhQAAAAAApzGFAAAAAoHCNYkAAAACgRwljQA==",
          "dtype": "f8"
         }
        },
        {
         "marker": {
          "color": "#00CC96",
          "size": 8,
          "symbol": "circle"
         },
         "mode": "markers",
         "name": "Start Forecast - 20250407",
         "type": "scatter",
         "x": [
          "2025-04-08T00:00:00"
         ],
         "y": [
          79.19000244140625
         ]
        },
        {
         "line": {
          "color": "#AB63FA",
          "dash": "dash"
         },
         "mode": "lines",
         "name": "Forecast - 20250408",
         "type": "scatter",
         "x": [
          "2025-04-09T00:00:00.000000000",
          "2025-04-10T00:00:00.000000000",
          "2025-04-11T00:00:00.000000000",
          "2025-04-14T00:00:00.000000000",
          "2025-04-15T00:00:00.000000000",
          "2025-04-16T00:00:00.000000000",
          "2025-04-17T00:00:00.000000000",
          "2025-04-18T00:00:00.000000000",
          "2025-04-21T00:00:00.000000000",
          "2025-04-22T00:00:00.000000000",
          "2025-04-23T00:00:00.000000000",
          "2025-04-24T00:00:00.000000000",
          "2025-04-25T00:00:00.000000000",
          "2025-04-28T00:00:00.000000000",
          "2025-04-29T00:00:00.000000000",
          "2025-04-30T00:00:00.000000000",
          "2025-05-01T00:00:00.000000000",
          "2025-05-02T00:00:00.000000000",
          "2025-05-05T00:00:00.000000000",
          "2025-05-06T00:00:00.000000000",
          "2025-05-07T00:00:00.000000000",
          "2025-05-08T00:00:00.000000000",
          "2025-05-09T00:00:00.000000000",
          "2025-05-12T00:00:00.000000000",
          "2025-06-01T00:00:00.000000000",
          "2025-07-01T00:00:00.000000000",
          "2025-08-01T00:00:00.000000000",
          "2025-09-01T00:00:00.000000000",
          "2025-10-01T00:00:00.000000000",
          "2025-11-01T00:00:00.000000000",
          "2025-12-01T00:00:00.000000000",
          "2026-01-01T00:00:00.000000000",
          "2026-02-01T00:00:00.000000000",
          "2026-03-01T00:00:00.000000000",
          "2026-04-01T00:00:00.000000000",
          "2026-05-01T00:00:00.000000000",
          "2026-06-01T00:00:00.000000000",
          "2026-07-01T00:00:00.000000000",
          "2026-08-01T00:00:00.000000000",
          "2026-09-01T00:00:00.000000000",
          "2026-10-01T00:00:00.000000000",
          "2026-11-01T00:00:00.000000000",
          "2026-12-01T00:00:00.000000000",
          "2027-01-01T00:00:00.000000000",
          "2027-02-01T00:00:00.000000000",
          "2027-03-01T00:00:00.000000000",
          "2027-04-01T00:00:00.000000000"
         ],
         "y": {
          "bdata": "AAAAAAAgVUAAAACgRyFUQAAAAKBHkVNAAAAAYGbGU0AAAACAFP5TQAAAAADXo1RAAAAAoEeBVEAAAADAzJxUQAAAAEAKt1RAAAAA4HoUVEAAAACAFG5UQAAAAOB6dFRAAAAAgMJVVEAAAACgR4FUQAAAAKBHEVRAAAAAANeTVEAAAABgZsZUQAAAAMDMnFRAAAAAwB4VVEAAAACAFP5TQAAAAEAKJ1NAAAAAYLiOUkAAAAAghUtSQAAAAMDMfFJAAAAAYI8yUkAAAAAgrkdSQAAAAAAp3FNAAAAAoJn5U0AAAABA4XpWQP////8ovFZA/////yjsV0D/////KGxaQP///99RGFxA////vx5lX0AAAAAghYtfQAAAAEDhGmBAAAAAoHC1YEAAAABguNZhQAAAAOCjOGJAAAAAYLgOYUAAAACAwpVhQAAAAAAAaGFAAAAAwMysYUAAAADgeuRhQAAAAIDCLWJAAAAAQDPzYkAAAACgmXFjQA==",
          "dtype": "f8"
         }
        },
        {
         "marker": {
          "color": "#AB63FA",
          "size": 8,
          "symbol": "circle"
         },
         "mode": "markers",
         "name": "Start Forecast - 20250408",
         "type": "scatter",
         "x": [
          "2025-04-09T00:00:00"
         ],
         "y": [
          84.5
         ]
        },
        {
         "line": {
          "color": "#FFA15A",
          "dash": "dash"
         },
         "mode": "lines",
         "name": "Forecast - 20250410",
         "type": "scatter",
         "x": [
          "2025-04-11T00:00:00.000000000",
          "2025-04-14T00:00:00.000000000",
          "2025-04-15T00:00:00.000000000",
          "2025-04-16T00:00:00.000000000",
          "2025-04-17T00:00:00.000000000",
          "2025-04-18T00:00:00.000000000",
          "2025-04-21T00:00:00.000000000",
          "2025-04-22T00:00:00.000000000",
          "2025-04-23T00:00:00.000000000",
          "2025-04-24T00:00:00.000000000",
          "2025-04-25T00:00:00.000000000",
          "2025-04-28T00:00:00.000000000",
          "2025-04-29T00:00:00.000000000",
          "2025-04-30T00:00:00.000000000",
          "2025-05-01T00:00:00.000000000",
          "2025-05-02T00:00:00.000000000",
          "2025-05-05T00:00:00.000000000",
          "2025-05-06T00:00:00.000000000",
          "2025-05-07T00:00:00.000000000",
          "2025-05-08T00:00:00.000000000",
          "2025-05-09T00:00:00.000000000",
          "2025-05-12T00:00:00.000000000",
          "2025-05-13T00:00:00.000000000",
          "2025-05-14T00:00:00.000000000",
          "2025-06-01T00:00:00.000000000",
          "2025-07-01T00:00:00.000000000",
          "2025-08-01T00:00:00.000000000",
          "2025-09-01T00:00:00.000000000",
          "2025-10-01T00:00:00.000000000",
          "2025-11-01T00:00:00.000000000",
          "2025-12-01T00:00:00.000000000",
          "2026-01-01T00:00:00.000000000",
          "2026-02-01T00:00:00.000000000",
          "2026-03-01T00:00:00.000000000",
          "2026-04-01T00:00:00.000000000",
          "2026-05-01T00:00:00.000000000",
          "2026-06-01T00:00:00.000000000",
          "2026-07-01T00:00:00.000000000",
          "2026-08-01T00:00:00.000000000",
          "2026-09-01T00:00:00.000000000",
          "2026-10-01T00:00:00.000000000",
          "2026-11-01T00:00:00.000000000",
          "2026-12-01T00:00:00.000000000",
          "2027-01-01T00:00:00.000000000",
          "2027-02-01T00:00:00.000000000",
          "2027-03-01T00:00:00.000000000",
          "2027-04-01T00:00:00.000000000"
         ],
         "y": {
          "bdata": "AAAA4HrkVkAAAACgmQlYQAAAAEAKd1dAAAAAwPWoV0AAAAAghYtWQAAAAIA96lVAAAAAgMIlVkAAAAAA12NWQAAAAIAUHldAAQAAIK73VkAAAABAChdXQAAAAOB6NFdAAAAAgBR+VkAAAABgj+JWQAAAAIA96lZAAQAAIK7HVkD////fUfhWQAAAAEDhelZAAQAAwMwMV0AAAACAwkVXQAAAAEAKF1dAAAAAYLh+VkAAAADAHmVWQAAAAADXc1VAAAAAYI/SVEAAAABA4epUQAAAAKCZuVZAAAAAIIXbVkAAAACgmblZQAAAAOB6BFpAAQAA4KNgW0ABAADAzDxeQAAAACCFE2BAAAAAYLj2YUAAAADAzAxiQAAAAGBmbmJAAAAAIFwfY0AAAACAPWpkQAAAAIA92mRAAAAAoHCFY0AAAAAgrh9kQAAAACCF62NAAAAAgD06ZEAAAACA63lkQAAAAIDCzWRAAAAAIK6vZUAAAADgUUBmQA==",
          "dtype": "f8"
         }
        },
        {
         "marker": {
          "color": "#FFA15A",
          "size": 8,
          "symbol": "circle"
         },
         "mode": "markers",
         "name": "Start Forecast - 20250410",
         "type": "scatter",
         "x": [
          "2025-04-11T00:00:00"
         ],
         "y": [
          91.56999969482422
         ]
        },
        {
         "line": {
          "color": "#19D3F3",
          "dash": "dash"
         },
         "mode": "lines",
         "name": "Forecast - 20250418",
         "type": "scatter",
         "x": [
          "2025-04-21T00:00:00.000000000",
          "2025-04-22T00:00:00.000000000",
          "2025-04-23T00:00:00.000000000",
          "2025-04-24T00:00:00.000000000",
          "2025-04-25T00:00:00.000000000",
          "2025-04-28T00:00:00.000000000",
          "2025-04-29T00:00:00.000000000",
          "2025-04-30T00:00:00.000000000",
          "2025-05-01T00:00:00.000000000",
          "2025-05-02T00:00:00.000000000",
          "2025-05-05T00:00:00.000000000",
          "2025-05-06T00:00:00.000000000",
          "2025-05-07T00:00:00.000000000",
          "2025-05-08T00:00:00.000000000",
          "2025-05-09T00:00:00.000000000",
          "2025-05-12T00:00:00.000000000",
          "2025-05-13T00:00:00.000000000",
          "2025-05-14T00:00:00.000000000",
          "2025-05-15T00:00:00.000000000",
          "2025-05-16T00:00:00.000000000",
          "2025-05-19T00:00:00.000000000",
          "2025-05-20T00:00:00.000000000",
          "2025-05-21T00:00:00.000000000",
          "2025-05-22T00:00:00.000000000",
          "2025-06-01T00:00:00.000000000",
          "2025-07-01T00:00:00.000000000",
          "2025-08-01T00:00:00.000000000",
          "2025-09-01T00:00:00.000000000",
          "2025-10-01T00:00:00.000000000",
          "2025-11-01T00:00:00.000000000",
          "2025-12-01T00:00:00.000000000",
          "2026-01-01T00:00:00.000000000",
          "2026-02-01T00:00:00.000000000",
          "2026-03-01T00:00:00.000000000",
          "2026-04-01T00:00:00.000000000",
          "2026-05-01T00:00:00.000000000",
          "2026-06-01T00:00:00.000000000",
          "2026-07-01T00:00:00.000000000",
          "2026-08-01T00:00:00.000000000",
          "2026-09-01T00:00:00.000000000",
          "2026-10-01T00:00:00.000000000",
          "2026-11-01T00:00:00.000000000",
          "2026-12-01T00:00:00.000000000",
          "2027-01-01T00:00:00.000000000",
          "2027-02-01T00:00:00.000000000",
          "2027-03-01T00:00:00.000000000",
          "2027-04-01T00:00:00.000000000"
         ],
         "y": {
          "bdata": "////vx7VV0D///8fXB9XQAEAAEDh6lZAAAAAgBRuV0AAAACAFP5XQAEAAOCjQFhAAAAAQAp3WUAAAAAghdtYQAEAAOCjEFlAAAAAYI/iV0ABAAAgrjdXQAAAAEAKd1dAAAAAwPW4V0AAAACAFH5YQP///78eVVhAAAAAgMJ1WEAAAADgepRYQAEAAADX01dAAAAAgBQ+WEAAAACAwkVYQAAAAKBHIVhA////vx5VWEAAAAAAANBXQAEAAEDhalhAAAAAgBTeV0AAAACAPfpXQAEAAMDMDFpAAQAAANczWkAAAACgcH1dQP///z8z011AAAAAgOthX0AAAADgelRhQAAAAKBwbWJAAAAAIFyXZEAAAADgo7BkQAAAAOBRIGVAAAAAQDPrZUAAAABguGZnQAAAAEAK52dAAAAA4FFgZkAAAACgRxFnQAAAAKBw1WZAAQAAIK4vZ0D////fo3hnQP///9+j2GdAAAAAANfbaEAAAACgmYFpQA==",
          "dtype": "f8"
         }
        },
        {
         "marker": {
          "color": "#19D3F3",
          "size": 8,
          "symbol": "circle"
         },
         "mode": "markers",
         "name": "Start Forecast - 20250418",
         "type": "scatter",
         "x": [
          "2025-04-21T00:00:00"
         ],
         "y": [
          95.33000183105467
         ]
        },
        {
         "line": {
          "color": "#FF6692",
          "dash": "dash"
         },
         "mode": "lines",
         "name": "Forecast - 20250423",
         "type": "scatter",
         "x": [
          "2025-04-24T00:00:00.000000000",
          "2025-04-25T00:00:00.000000000",
          "2025-04-28T00:00:00.000000000",
          "2025-04-29T00:00:00.000000000",
          "2025-04-30T00:00:00.000000000",
          "2025-05-01T00:00:00.000000000",
          "2025-05-02T00:00:00.000000000",
          "2025-05-05T00:00:00.000000000",
          "2025-05-06T00:00:00.000000000",
          "2025-05-07T00:00:00.000000000",
          "2025-05-08T00:00:00.000000000",
          "2025-05-09T00:00:00.000000000",
          "2025-05-12T00:00:00.000000000",
          "2025-05-13T00:00:00.000000000",
          "2025-05-14T00:00:00.000000000",
          "2025-05-15T00:00:00.000000000",
          "2025-05-16T00:00:00.000000000",
          "2025-05-19T00:00:00.000000000",
          "2025-05-20T00:00:00.000000000",
          "2025-05-21T00:00:00.000000000",
          "2025-05-22T00:00:00.000000000",
          "2025-05-23T00:00:00.000000000",
          "2025-05-26T00:00:00.000000000",
          "2025-05-27T00:00:00.000000000",
          "2025-06-01T00:00:00.000000000",
          "2025-07-01T00:00:00.000000000",
          "2025-08-01T00:00:00.000000000",
          "2025-09-01T00:00:00.000000000",
          "2025-10-01T00:00:00.000000000",
          "2025-11-01T00:00:00.000000000",
          "2025-12-01T00:00:00.000000000",
          "2026-01-01T00:00:00.000000000",
          "2026-02-01T00:00:00.000000000",
          "2026-03-01T00:00:00.000000000",
          "2026-04-01T00:00:00.000000000",
          "2026-05-01T00:00:00.000000000",
          "2026-06-01T00:00:00.000000000",
          "2026-07-01T00:00:00.000000000",
          "2026-08-01T00:00:00.000000000",
          "2026-09-01T00:00:00.000000000",
          "2026-10-01T00:00:00.000000000",
          "2026-11-01T00:00:00.000000000",
          "2026-12-01T00:00:00.000000000",
          "2027-01-01T00:00:00.000000000",
          "2027-02-01T00:00:00.000000000",
          "2027-03-01T00:00:00.000000000",
          "2027-04-01T00:00:00.000000000"
         ],
         "y": {
          "bdata": "AAAA4HrEV0AAAADA9WhYQAAAAGC4LlhAAAAAoHAtWED////fUbhYQAAAACCF+1dA////vx7FV0AAAACgcE1YQAAAAGCP4lhAAQAAIK4nWUAAAACgmWlaQP///99RyFlA////H1z/WUAAAACAwsVYQAAAAOB6FFhAAAAAYGZWWEABAABA4ZpYQAAAAEAKZ1lAAQAAwMw8WUAAAABguF5ZQAAAAGC4fllAAAAAYGa2WED///+/HiVZQAAAAKBwLVlAAQAAwMwsV0ABAAAgrkdXQAEAAEDhSllAAQAA4KNwWUAAAACgR6FcQAAAAOB69FxAAQAAIK53XkAAAABAM9NgQAAAAAAp5GFAAAAAgBT+Y0AAAABguBZkQAAAAEAzg2RAAAAAAABIZUABAADgUbhmQP///78eNWdAAAAAoJm5ZUAAAACgcGVmQAAAAEAzK2ZAAAAAQOGCZkAAAACgmclmQAAAAGC4JmdAAAAAgD0iaED///8/M8NoQA==",
          "dtype": "f8"
         }
        },
        {
         "marker": {
          "color": "#FF6692",
          "size": 8,
          "symbol": "circle"
         },
         "mode": "markers",
         "name": "Start Forecast - 20250423",
         "type": "scatter",
         "x": [
          "2025-04-24T00:00:00"
         ],
         "y": [
          95.06999969482422
         ]
        },
        {
         "line": {
          "color": "red"
         },
         "marker": {
          "color": "red",
          "size": 6
         },
         "mode": "lines+markers",
         "name": "Current Price",
         "type": "scatter",
         "x": [
          "2025-03-24T00:00:00",
          "2025-03-25T00:00:00",
          "2025-03-26T00:00:00",
          "2025-03-27T00:00:00",
          "2025-03-28T00:00:00",
          "2025-03-31T00:00:00",
          "2025-04-01T00:00:00",
          "2025-04-02T00:00:00",
          "2025-04-03T00:00:00",
          "2025-04-04T00:00:00",
          "2025-04-07T00:00:00",
          "2025-04-08T00:00:00",
          "2025-04-09T00:00:00",
          "2025-04-10T00:00:00",
          "2025-04-11T00:00:00",
          "2025-04-14T00:00:00",
          "2025-04-15T00:00:00",
          "2025-04-16T00:00:00",
          "2025-04-17T00:00:00",
          "2025-04-21T00:00:00",
          "2025-04-22T00:00:00",
          "2025-04-23T00:00:00"
         ],
         "y": {
          "bdata": "AAAAIFzfVUAAAADgozBVQAAAAKBwTVVAAAAA4FFoVUAAAACgmUlVQAAAAGCP8lVAAAAAwB41VkAAAADgo3BWQAAAAOCj0FVAAAAAACnMVEAAAADAHvVUQAAAAGCPclRAAAAAYGZmVkAAAABACqdWQAAAAEAzM1dAAAAAYLiuV0AAAACAFH5XQAAAAAApzFZAAAAAgBROV0AAAACAPRpXQAAAAGBmtldAAAAAoHC9V0A=",
          "dtype": "f8"
         }
        }
       ],
       "layout": {
        "legend": {
         "font": {
          "size": 10
         },
         "x": 1.05,
         "xanchor": "left",
         "y": 1,
         "yanchor": "top"
        },
        "template": {
         "data": {
          "bar": [
           {
            "error_x": {
             "color": "#2a3f5f"
            },
            "error_y": {
             "color": "#2a3f5f"
            },
            "marker": {
             "line": {
              "color": "white",
              "width": 0.5
             },
             "pattern": {
              "fillmode": "overlay",
              "size": 10,
              "solidity": 0.2
             }
            },
            "type": "bar"
           }
          ],
          "barpolar": [
           {
            "marker": {
             "line": {
              "color": "white",
              "width": 0.5
             },
             "pattern": {
              "fillmode": "overlay",
              "size": 10,
              "solidity": 0.2
             }
            },
            "type": "barpolar"
           }
          ],
          "carpet": [
           {
            "aaxis": {
             "endlinecolor": "#2a3f5f",
             "gridcolor": "#C8D4E3",
             "linecolor": "#C8D4E3",
             "minorgridcolor": "#C8D4E3",
             "startlinecolor": "#2a3f5f"
            },
            "baxis": {
             "endlinecolor": "#2a3f5f",
             "gridcolor": "#C8D4E3",
             "linecolor": "#C8D4E3",
             "minorgridcolor": "#C8D4E3",
             "startlinecolor": "#2a3f5f"
            },
            "type": "carpet"
           }
          ],
          "choropleth": [
           {
            "colorbar": {
             "outlinewidth": 0,
             "ticks": ""
            },
            "type": "choropleth"
           }
          ],
          "contour": [
           {
            "colorbar": {
             "outlinewidth": 0,
             "ticks": ""
            },
            "colorscale": [
             [
              0,
              "#0d0887"
             ],
             [
              0.1111111111111111,
              "#46039f"
             ],
             [
              0.2222222222222222,
              "#7201a8"
             ],
             [
              0.3333333333333333,
              "#9c179e"
             ],
             [
              0.4444444444444444,
              "#bd3786"
             ],
             [
              0.5555555555555556,
              "#d8576b"
             ],
             [
              0.6666666666666666,
              "#ed7953"
             ],
             [
              0.7777777777777778,
              "#fb9f3a"
             ],
             [
              0.8888888888888888,
              "#fdca26"
             ],
             [
              1,
              "#f0f921"
             ]
            ],
            "type": "contour"
           }
          ],
          "contourcarpet": [
           {
            "colorbar": {
             "outlinewidth": 0,
             "ticks": ""
            },
            "type": "contourcarpet"
           }
          ],
          "heatmap": [
           {
            "colorbar": {
             "outlinewidth": 0,
             "ticks": ""
            },
            "colorscale": [
             [
              0,
              "#0d0887"
             ],
             [
              0.1111111111111111,
              "#46039f"
             ],
             [
              0.2222222222222222,
              "#7201a8"
             ],
             [
              0.3333333333333333,
              "#9c179e"
             ],
             [
              0.4444444444444444,
              "#bd3786"
             ],
             [
              0.5555555555555556,
              "#d8576b"
             ],
             [
              0.6666666666666666,
              "#ed7953"
             ],
             [
              0.7777777777777778,
              "#fb9f3a"
             ],
             [
              0.8888888888888888,
              "#fdca26"
             ],
             [
              1,
              "#f0f921"
             ]
            ],
            "type": "heatmap"
           }
          ],
          "histogram": [
           {
            "marker": {
             "pattern": {
              "fillmode": "overlay",
              "size": 10,
              "solidity": 0.2
             }
            },
            "type": "histogram"
           }
          ],
          "histogram2d": [
           {
            "colorbar": {
             "outlinewidth": 0,
             "ticks": ""
            },
            "colorscale": [
             [
              0,
              "#0d0887"
             ],
             [
              0.1111111111111111,
              "#46039f"
             ],
             [
              0.2222222222222222,
              "#7201a8"
             ],
             [
              0.3333333333333333,
              "#9c179e"
             ],
             [
              0.4444444444444444,
              "#bd3786"
             ],
             [
              0.5555555555555556,
              "#d8576b"
             ],
             [
              0.6666666666666666,
              "#ed7953"
             ],
             [
              0.7777777777777778,
              "#fb9f3a"
             ],
             [
              0.8888888888888888,
              "#fdca26"
             ],
             [
              1,
              "#f0f921"
             ]
            ],
            "type": "histogram2d"
           }
          ],
          "histogram2dcontour": [
           {
            "colorbar": {
             "outlinewidth": 0,
             "ticks": ""
            },
            "colorscale": [
             [
              0,
              "#0d0887"
             ],
             [
              0.1111111111111111,
              "#46039f"
             ],
             [
              0.2222222222222222,
              "#7201a8"
             ],
             [
              0.3333333333333333,
              "#9c179e"
             ],
             [
              0.4444444444444444,
              "#bd3786"
             ],
             [
              0.5555555555555556,
              "#d8576b"
             ],
             [
              0.6666666666666666,
              "#ed7953"
             ],
             [
              0.7777777777777778,
              "#fb9f3a"
             ],
             [
              0.8888888888888888,
              "#fdca26"
             ],
             [
              1,
              "#f0f921"
             ]
            ],
            "type": "histogram2dcontour"
           }
          ],
          "mesh3d": [
           {
            "colorbar": {
             "outlinewidth": 0,
             "ticks": ""
            },
            "type": "mesh3d"
           }
          ],
          "parcoords": [
           {
            "line": {
             "colorbar": {
              "outlinewidth": 0,
              "ticks": ""
             }
            },
            "type": "parcoords"
           }
          ],
          "pie": [
           {
            "automargin": true,
            "type": "pie"
           }
          ],
          "scatter": [
           {
            "fillpattern": {
             "fillmode": "overlay",
             "size": 10,
             "solidity": 0.2
            },
            "type": "scatter"
           }
          ],
          "scatter3d": [
           {
            "line": {
             "colorbar": {
              "outlinewidth": 0,
              "ticks": ""
             }
            },
            "marker": {
             "colorbar": {
              "outlinewidth": 0,
              "ticks": ""
             }
            },
            "type": "scatter3d"
           }
          ],
          "scattercarpet": [
           {
            "marker": {
             "colorbar": {
              "outlinewidth": 0,
              "ticks": ""
             }
            },
            "type": "scattercarpet"
           }
          ],
          "scattergeo": [
           {
            "marker": {
             "colorbar": {
              "outlinewidth": 0,
              "ticks": ""
             }
            },
            "type": "scattergeo"
           }
          ],
          "scattergl": [
           {
            "marker": {
             "colorbar": {
              "outlinewidth": 0,
              "ticks": ""
             }
            },
            "type": "scattergl"
           }
          ],
          "scattermap": [
           {
            "marker": {
             "colorbar": {
              "outlinewidth": 0,
              "ticks": ""
             }
            },
            "type": "scattermap"
           }
          ],
          "scattermapbox": [
           {
            "marker": {
             "colorbar": {
              "outlinewidth": 0,
              "ticks": ""
             }
            },
            "type": "scattermapbox"
           }
          ],
          "scatterpolar": [
           {
            "marker": {
             "colorbar": {
              "outlinewidth": 0,
              "ticks": ""
             }
            },
            "type": "scatterpolar"
           }
          ],
          "scatterpolargl": [
           {
            "marker": {
             "colorbar": {
              "outlinewidth": 0,
              "ticks": ""
             }
            },
            "type": "scatterpolargl"
           }
          ],
          "scatterternary": [
           {
            "marker": {
             "colorbar": {
              "outlinewidth": 0,
              "ticks": ""
             }
            },
            "type": "scatterternary"
           }
          ],
          "surface": [
           {
            "colorbar": {
             "outlinewidth": 0,
             "ticks": ""
            },
            "colorscale": [
             [
              0,
              "#0d0887"
             ],
             [
              0.1111111111111111,
              "#46039f"
             ],
             [
              0.2222222222222222,
              "#7201a8"
             ],
             [
              0.3333333333333333,
              "#9c179e"
             ],
             [
              0.4444444444444444,
              "#bd3786"
             ],
             [
              0.5555555555555556,
              "#d8576b"
             ],
             [
              0.6666666666666666,
              "#ed7953"
             ],
             [
              0.7777777777777778,
              "#fb9f3a"
             ],
             [
              0.8888888888888888,
              "#fdca26"
             ],
             [
              1,
              "#f0f921"
             ]
            ],
            "type": "surface"
           }
          ],
          "table": [
           {
            "cells": {
             "fill": {
              "color": "#EBF0F8"
             },
             "line": {
              "color": "white"
             }
            },
            "header": {
             "fill": {
              "color": "#C8D4E3"
             },
             "line": {
              "color": "white"
             }
            },
            "type": "table"
           }
          ]
         },
         "layout": {
          "annotationdefaults": {
           "arrowcolor": "#2a3f5f",
           "arrowhead": 0,
           "arrowwidth": 1
          },
          "autotypenumbers": "strict",
          "coloraxis": {
           "colorbar": {
            "outlinewidth": 0,
            "ticks": ""
           }
          },
          "colorscale": {
           "diverging": [
            [
             0,
             "#8e0152"
            ],
            [
             0.1,
             "#c51b7d"
            ],
            [
             0.2,
             "#de77ae"
            ],
            [
             0.3,
             "#f1b6da"
            ],
            [
             0.4,
             "#fde0ef"
            ],
            [
             0.5,
             "#f7f7f7"
            ],
            [
             0.6,
             "#e6f5d0"
            ],
            [
             0.7,
             "#b8e186"
            ],
            [
             0.8,
             "#7fbc41"
            ],
            [
             0.9,
             "#4d9221"
            ],
            [
             1,
             "#276419"
            ]
           ],
           "sequential": [
            [
             0,
             "#0d0887"
            ],
            [
             0.1111111111111111,
             "#46039f"
            ],
            [
             0.2222222222222222,
             "#7201a8"
            ],
            [
             0.3333333333333333,
             "#9c179e"
            ],
            [
             0.4444444444444444,
             "#bd3786"
            ],
            [
             0.5555555555555556,
             "#d8576b"
            ],
            [
             0.6666666666666666,
             "#ed7953"
            ],
            [
             0.7777777777777778,
             "#fb9f3a"
            ],
            [
             0.8888888888888888,
             "#fdca26"
            ],
            [
             1,
             "#f0f921"
            ]
           ],
           "sequentialminus": [
            [
             0,
             "#0d0887"
            ],
            [
             0.1111111111111111,
             "#46039f"
            ],
            [
             0.2222222222222222,
             "#7201a8"
            ],
            [
             0.3333333333333333,
             "#9c179e"
            ],
            [
             0.4444444444444444,
             "#bd3786"
            ],
            [
             0.5555555555555556,
             "#d8576b"
            ],
            [
             0.6666666666666666,
             "#ed7953"
            ],
            [
             0.7777777777777778,
             "#fb9f3a"
            ],
            [
             0.8888888888888888,
             "#fdca26"
            ],
            [
             1,
             "#f0f921"
            ]
           ]
          },
          "colorway": [
           "#636efa",
           "#EF553B",
           "#00cc96",
           "#ab63fa",
           "#FFA15A",
           "#19d3f3",
           "#FF6692",
           "#B6E880",
           "#FF97FF",
           "#FECB52"
          ],
          "font": {
           "color": "#2a3f5f"
          },
          "geo": {
           "bgcolor": "white",
           "lakecolor": "white",
           "landcolor": "white",
           "showlakes": true,
           "showland": true,
           "subunitcolor": "#C8D4E3"
          },
          "hoverlabel": {
           "align": "left"
          },
          "hovermode": "closest",
          "mapbox": {
           "style": "light"
          },
          "paper_bgcolor": "white",
          "plot_bgcolor": "white",
          "polar": {
           "angularaxis": {
            "gridcolor": "#EBF0F8",
            "linecolor": "#EBF0F8",
            "ticks": ""
           },
           "bgcolor": "white",
           "radialaxis": {
            "gridcolor": "#EBF0F8",
            "linecolor": "#EBF0F8",
            "ticks": ""
           }
          },
          "scene": {
           "xaxis": {
            "backgroundcolor": "white",
            "gridcolor": "#DFE8F3",
            "gridwidth": 2,
            "linecolor": "#EBF0F8",
            "showbackground": true,
            "ticks": "",
            "zerolinecolor": "#EBF0F8"
           },
           "yaxis": {
            "backgroundcolor": "white",
            "gridcolor": "#DFE8F3",
            "gridwidth": 2,
            "linecolor": "#EBF0F8",
            "showbackground": true,
            "ticks": "",
            "zerolinecolor": "#EBF0F8"
           },
           "zaxis": {
            "backgroundcolor": "white",
            "gridcolor": "#DFE8F3",
            "gridwidth": 2,
            "linecolor": "#EBF0F8",
            "showbackground": true,
            "ticks": "",
            "zerolinecolor": "#EBF0F8"
           }
          },
          "shapedefaults": {
           "line": {
            "color": "#2a3f5f"
           }
          },
          "ternary": {
           "aaxis": {
            "gridcolor": "#DFE8F3",
            "linecolor": "#A2B1C6",
            "ticks": ""
           },
           "baxis": {
            "gridcolor": "#DFE8F3",
            "linecolor": "#A2B1C6",
            "ticks": ""
           },
           "bgcolor": "white",
           "caxis": {
            "gridcolor": "#DFE8F3",
            "linecolor": "#A2B1C6",
            "ticks": ""
           }
          },
          "title": {
           "x": 0.05
          },
          "xaxis": {
           "automargin": true,
           "gridcolor": "#EBF0F8",
           "linecolor": "#EBF0F8",
           "ticks": "",
           "title": {
            "standoff": 15
           },
           "zerolinecolor": "#EBF0F8",
           "zerolinewidth": 2
          },
          "yaxis": {
           "automargin": true,
           "gridcolor": "#EBF0F8",
           "linecolor": "#EBF0F8",
           "ticks": "",
           "title": {
            "standoff": 15
           },
           "zerolinecolor": "#EBF0F8",
           "zerolinewidth": 2
          }
         }
        },
        "title": {
         "text": "wmt-stock Forecast"
        },
        "xaxis": {
         "range": [
          "2025-03-24T00:00:00",
          "2025-11-01T00:00:00"
         ],
         "tickangle": -45,
         "title": {
          "text": "Date"
         }
        },
        "yaxis": {
         "range": [
          0,
          160.32799530029297
         ],
         "title": {
          "text": "Price / USD"
         }
        }
       }
      }
     },
     "metadata": {},
     "output_type": "display_data"
    }
   ],
   "source": [
    "fh=ForecastHandler(company='wmt-stock')\n",
    "fh.load_all_forecasts()\n",
    "fh.plot_forecasts()"
   ]
  },
  {
   "cell_type": "code",
   "execution_count": null,
   "metadata": {},
   "outputs": [
    {
     "name": "stdout",
     "output_type": "stream",
     "text": [
      "found forecast files: ['20250402_xpeng_forecast.csv', '20250403_xpeng_forecast.csv', '20250407_xpeng_forecast.csv', '20250408_xpeng_forecast.csv', '20250410_xpeng_forecast.csv', '20250418_xpeng_forecast.csv', '20250423_xpeng_forecast.csv']\n",
      "load file 20250402_xpeng_forecast.csv\n",
      "load file 20250403_xpeng_forecast.csv\n",
      "load file 20250407_xpeng_forecast.csv\n",
      "load file 20250408_xpeng_forecast.csv\n",
      "load file 20250410_xpeng_forecast.csv\n",
      "load file 20250418_xpeng_forecast.csv\n",
      "load file 20250423_xpeng_forecast.csv\n"
     ]
    },
    {
     "data": {
      "image/png": "[encoded data removed]",
      "text/plain": [
       "<Figure size 1000x500 with 1 Axes>"
      ]
     },
     "metadata": {},
     "output_type": "display_data"
    },
    {
     "data": {
      "application/vnd.plotly.v1+json": {
       "config": {
        "plotlyServerURL": "https://plot.ly"
       },
       "data": [
        {
         "line": {
          "color": "#636EFA",
          "dash": "dash"
         },
         "mode": "lines",
         "name": "Forecast - 20250402",
         "type": "scatter",
         "x": [
          "2025-04-03T00:00:00.000000000",
          "2025-04-04T00:00:00.000000000",
          "2025-04-07T00:00:00.000000000",
          "2025-04-08T00:00:00.000000000",
          "2025-04-09T00:00:00.000000000",
          "2025-04-10T00:00:00.000000000",
          "2025-04-11T00:00:00.000000000",
          "2025-04-14T00:00:00.000000000",
          "2025-04-15T00:00:00.000000000",
          "2025-04-16T00:00:00.000000000",
          "2025-04-17T00:00:00.000000000",
          "2025-04-18T00:00:00.000000000",
          "2025-04-21T00:00:00.000000000",
          "2025-04-22T00:00:00.000000000",
          "2025-04-23T00:00:00.000000000",
          "2025-04-24T00:00:00.000000000",
          "2025-04-25T00:00:00.000000000",
          "2025-04-28T00:00:00.000000000",
          "2025-04-29T00:00:00.000000000",
          "2025-04-30T00:00:00.000000000",
          "2025-05-01T00:00:00.000000000",
          "2025-05-02T00:00:00.000000000",
          "2025-05-05T00:00:00.000000000",
          "2025-05-06T00:00:00.000000000",
          "2025-06-01T00:00:00.000000000",
          "2025-07-01T00:00:00.000000000",
          "2025-08-01T00:00:00.000000000",
          "2025-09-01T00:00:00.000000000",
          "2025-10-01T00:00:00.000000000",
          "2025-11-01T00:00:00.000000000",
          "2025-12-01T00:00:00.000000000",
          "2026-01-01T00:00:00.000000000",
          "2026-02-01T00:00:00.000000000",
          "2026-03-01T00:00:00.000000000",
          "2026-04-01T00:00:00.000000000",
          "2026-05-01T00:00:00.000000000",
          "2026-06-01T00:00:00.000000000",
          "2026-07-01T00:00:00.000000000",
          "2026-08-01T00:00:00.000000000",
          "2026-09-01T00:00:00.000000000",
          "2026-10-01T00:00:00.000000000",
          "2026-11-01T00:00:00.000000000",
          "2026-12-01T00:00:00.000000000",
          "2027-01-01T00:00:00.000000000",
          "2027-02-01T00:00:00.000000000",
          "2027-03-01T00:00:00.000000000",
          "2027-04-01T00:00:00.000000000"
         ],
         "y": {
          "bdata": "AAAAIK5HNUABAABgj4I1QAAAAEAKlzZAAAAAgD0KNkD////fUXg1QAAAAEAzMzVA////33rUNEAAAACAFG40QAAAACCFKzRAAAAAwPUoM0AAAABguB40QP////8oHDNAAAAAwB7FM0AAAAAgrscyQAAAAKBwPTNAAAAAIK5HMkAAAADgozAzQAAAACCFqzJAAAAAoJmZM0ABAAAA1yM0QAEAAGBmJjVAAAAAYLgeNUAAAAAgXA80QAAAAIDrUTNAAAAAoHC9MkAAAADAzIw1QAAAACCuxzhAAQAAYGbmOEAAAAAgXA86QAAAAKBwvTpAAAAAAADAPkAAAABACpdAQAAAAADXA0FAAAAAgD1qQUAAAACgmTlCQAAAAMD16EJAAAAAYLi+RUAAAAAgXI9GQP///99R+EZAAAAAQDNTR0AAAABAM9NDQAAAAOB6dENAAAAAIK4nQkAAAACgR+FEQAAAAGCPAkhAAAAAwPVoREAAAAAgXC9CQA==",
          "dtype": "f8"
         }
        },
        {
         "marker": {
          "color": "#636EFA",
          "size": 8,
          "symbol": "circle"
         },
         "mode": "markers",
         "name": "Start Forecast - 20250402",
         "type": "scatter",
         "x": [
          "2025-04-03T00:00:00"
         ],
         "y": [
          21.280000686645508
         ]
        },
        {
         "line": {
          "color": "#EF553B",
          "dash": "dash"
         },
         "mode": "lines",
         "name": "Forecast - 20250403",
         "type": "scatter",
         "x": [
          "2025-04-04T00:00:00.000000000",
          "2025-04-07T00:00:00.000000000",
          "2025-04-08T00:00:00.000000000",
          "2025-04-09T00:00:00.000000000",
          "2025-04-10T00:00:00.000000000",
          "2025-04-11T00:00:00.000000000",
          "2025-04-14T00:00:00.000000000",
          "2025-04-15T00:00:00.000000000",
          "2025-04-16T00:00:00.000000000",
          "2025-04-17T00:00:00.000000000",
          "2025-04-18T00:00:00.000000000",
          "2025-04-21T00:00:00.000000000",
          "2025-04-22T00:00:00.000000000",
          "2025-04-23T00:00:00.000000000",
          "2025-04-24T00:00:00.000000000",
          "2025-04-25T00:00:00.000000000",
          "2025-04-28T00:00:00.000000000",
          "2025-04-29T00:00:00.000000000",
          "2025-04-30T00:00:00.000000000",
          "2025-05-01T00:00:00.000000000",
          "2025-05-02T00:00:00.000000000",
          "2025-05-05T00:00:00.000000000",
          "2025-05-06T00:00:00.000000000",
          "2025-05-07T00:00:00.000000000",
          "2025-06-01T00:00:00.000000000",
          "2025-07-01T00:00:00.000000000",
          "2025-08-01T00:00:00.000000000",
          "2025-09-01T00:00:00.000000000",
          "2025-10-01T00:00:00.000000000",
          "2025-11-01T00:00:00.000000000",
          "2025-12-01T00:00:00.000000000",
          "2026-01-01T00:00:00.000000000",
          "2026-02-01T00:00:00.000000000",
          "2026-03-01T00:00:00.000000000",
          "2026-04-01T00:00:00.000000000",
          "2026-05-01T00:00:00.000000000",
          "2026-06-01T00:00:00.000000000",
          "2026-07-01T00:00:00.000000000",
          "2026-08-01T00:00:00.000000000",
          "2026-09-01T00:00:00.000000000",
          "2026-10-01T00:00:00.000000000",
          "2026-11-01T00:00:00.000000000",
          "2026-12-01T00:00:00.000000000",
          "2027-01-01T00:00:00.000000000",
          "2027-02-01T00:00:00.000000000",
          "2027-03-01T00:00:00.000000000",
          "2027-04-01T00:00:00.000000000"
         ],
         "y": {
          "bdata": "AAAAIK5HNUABAABgj4I1QAAAAEAKlzZAAAAAgD0KNkD////fUXg1QAAAAEAzMzVA////33rUNEAAAACAFG40QAAAACCFKzRAAAAAwPUoM0AAAABguB40QP////8oHDNAAAAAwB7FM0AAAAAgrscyQAAAAKBwPTNAAAAAIK5HMkAAAADgozAzQAAAACCFqzJAAAAAoJmZM0ABAAAA1yM0QAEAAGBmJjVAAAAAYLgeNUAAAAAgXA80QAAAAIDrUTNAAAAAoHC9MUABAABgZmY0QAAAAIDCdTdAAAAAgOuRN0AAAAAghas4QAAAAIDrUTlAAAAAYLgePUAAAAAghWs/QAAAAAApHEBAAAAAACl8QEAAAAAAAEBBQAAAAMAe5UFAAAAA4HqUREAAAACgmVlFQAAAAKBwvUVAAAAAQDMTRkABAAAA18NCQAAAAIA9akJAAAAAIFwvQUABAAAA18NDQAAAAEDhukZAAAAAgOtRQ0AAAABACjdBQA==",
          "dtype": "f8"
         }
        },
        {
         "marker": {
          "color": "#EF553B",
          "size": 8,
          "symbol": "circle"
         },
         "mode": "markers",
         "name": "Start Forecast - 20250403",
         "type": "scatter",
         "x": [
          "2025-04-04T00:00:00"
         ],
         "y": [
          21.280000686645508
         ]
        },
        {
         "line": {
          "color": "#00CC96",
          "dash": "dash"
         },
         "mode": "lines",
         "name": "Forecast - 20250407",
         "type": "scatter",
         "x": [
          "2025-04-08T00:00:00.000000000",
          "2025-04-09T00:00:00.000000000",
          "2025-04-10T00:00:00.000000000",
          "2025-04-11T00:00:00.000000000",
          "2025-04-14T00:00:00.000000000",
          "2025-04-15T00:00:00.000000000",
          "2025-04-16T00:00:00.000000000",
          "2025-04-17T00:00:00.000000000",
          "2025-04-18T00:00:00.000000000",
          "2025-04-21T00:00:00.000000000",
          "2025-04-22T00:00:00.000000000",
          "2025-04-23T00:00:00.000000000",
          "2025-04-24T00:00:00.000000000",
          "2025-04-25T00:00:00.000000000",
          "2025-04-28T00:00:00.000000000",
          "2025-04-29T00:00:00.000000000",
          "2025-04-30T00:00:00.000000000",
          "2025-05-01T00:00:00.000000000",
          "2025-05-02T00:00:00.000000000",
          "2025-05-05T00:00:00.000000000",
          "2025-05-06T00:00:00.000000000",
          "2025-05-07T00:00:00.000000000",
          "2025-05-08T00:00:00.000000000",
          "2025-05-09T00:00:00.000000000",
          "2025-06-01T00:00:00.000000000",
          "2025-07-01T00:00:00.000000000",
          "2025-08-01T00:00:00.000000000",
          "2025-09-01T00:00:00.000000000",
          "2025-10-01T00:00:00.000000000",
          "2025-11-01T00:00:00.000000000",
          "2025-12-01T00:00:00.000000000",
          "2026-01-01T00:00:00.000000000",
          "2026-02-01T00:00:00.000000000",
          "2026-03-01T00:00:00.000000000",
          "2026-04-01T00:00:00.000000000",
          "2026-05-01T00:00:00.000000000",
          "2026-06-01T00:00:00.000000000",
          "2026-07-01T00:00:00.000000000",
          "2026-08-01T00:00:00.000000000",
          "2026-09-01T00:00:00.000000000",
          "2026-10-01T00:00:00.000000000",
          "2026-11-01T00:00:00.000000000",
          "2026-12-01T00:00:00.000000000",
          "2027-01-01T00:00:00.000000000",
          "2027-02-01T00:00:00.000000000",
          "2027-03-01T00:00:00.000000000",
          "2027-04-01T00:00:00.000000000"
         ],
         "y": {
          "bdata": "AAAAQDNzMkD////fUXgyQP////8onDJAAAAAIFzPMkAAAAAAAMAzQAAAAMAeRTNAAAAAwB7FMkAAAAAgrocyQAAAAEAzMzJAAAAAoJnZMUAAAABguJ4xQAAAAKBwvTBAAAAA4HqUMUAAAABAM7MwQAAAAMAeRTFAAAAAwPVoMEAAAAAgXM8wQAAAAOCj8C9AAAAAwB7FMEAAAACA61EwQAAAAADXIzFAAAAAACmcMUAAAACgcH0yQAAAAIDCdTJAAAAAoEdhLEAAAACA61EwQAAAAMAexTJA/////yjcMkAAAACgcL0zQAEAAGCPQjRAAAAAwMxMN0ABAAAA1yM5QAAAACCuxzlAAAAAoEdhOkAAAACgmZk7QAEAAADXozxAAAAA4FF4QEAAAABAChdBQAAAAGBmZkFAAAAAIIWrQUAAAACAPQo+QAAAAEDhej1AAQAAYI+CO0ABAAAA16M/QAAAAIDrMUJAAAAAgBTuPkAAAAAgXI87QA==",
          "dtype": "f8"
         }
        },
        {
         "marker": {
          "color": "#00CC96",
          "size": 8,
          "symbol": "circle"
         },
         "mode": "markers",
         "name": "Start Forecast - 20250407",
         "type": "scatter",
         "x": [
          "2025-04-08T00:00:00"
         ],
         "y": [
          18.450000762939453
         ]
        },
        {
         "line": {
          "color": "#AB63FA",
          "dash": "dash"
         },
         "mode": "lines",
         "name": "Forecast - 20250408",
         "type": "scatter",
         "x": [
          "2025-04-09T00:00:00.000000000",
          "2025-04-10T00:00:00.000000000",
          "2025-04-11T00:00:00.000000000",
          "2025-04-14T00:00:00.000000000",
          "2025-04-15T00:00:00.000000000",
          "2025-04-16T00:00:00.000000000",
          "2025-04-17T00:00:00.000000000",
          "2025-04-18T00:00:00.000000000",
          "2025-04-21T00:00:00.000000000",
          "2025-04-22T00:00:00.000000000",
          "2025-04-23T00:00:00.000000000",
          "2025-04-24T00:00:00.000000000",
          "2025-04-25T00:00:00.000000000",
          "2025-04-28T00:00:00.000000000",
          "2025-04-29T00:00:00.000000000",
          "2025-04-30T00:00:00.000000000",
          "2025-05-01T00:00:00.000000000",
          "2025-05-02T00:00:00.000000000",
          "2025-05-05T00:00:00.000000000",
          "2025-05-06T00:00:00.000000000",
          "2025-05-07T00:00:00.000000000",
          "2025-05-08T00:00:00.000000000",
          "2025-05-09T00:00:00.000000000",
          "2025-05-12T00:00:00.000000000",
          "2025-06-01T00:00:00.000000000",
          "2025-07-01T00:00:00.000000000",
          "2025-08-01T00:00:00.000000000",
          "2025-09-01T00:00:00.000000000",
          "2025-10-01T00:00:00.000000000",
          "2025-11-01T00:00:00.000000000",
          "2025-12-01T00:00:00.000000000",
          "2026-01-01T00:00:00.000000000",
          "2026-02-01T00:00:00.000000000",
          "2026-03-01T00:00:00.000000000",
          "2026-04-01T00:00:00.000000000",
          "2026-05-01T00:00:00.000000000",
          "2026-06-01T00:00:00.000000000",
          "2026-07-01T00:00:00.000000000",
          "2026-08-01T00:00:00.000000000",
          "2026-09-01T00:00:00.000000000",
          "2026-10-01T00:00:00.000000000",
          "2026-11-01T00:00:00.000000000",
          "2026-12-01T00:00:00.000000000",
          "2027-01-01T00:00:00.000000000",
          "2027-02-01T00:00:00.000000000",
          "2027-03-01T00:00:00.000000000",
          "2027-04-01T00:00:00.000000000"
         ],
         "y": {
          "bdata": "AAAAQArXMEAAAAAAAAAwQAAAAMAeBTBAAAAAANcjMEAAAACA61EwQAAAAADXIzFAAAAA4FG4MEAAAAAgrkcwQAAAAIDrETBAAAAA4HqUL0AAAABA4fouQAAAAOB6lC5AAAAAIFwPLUAAAADAHoUuQAAAAAAAAC1AAAAAAAAALkAAAAAAAIAsQAEAAEAzMy1AAAAAoHC9K0AAAABguB4tQP///z8KVyxAAAAAYI/CLUAAAADgepQuQAAAAMDMDDBAAAAAoEfhKEAAAABguJ4sQAAAAIDCdTBAAAAAgD2KMEAAAAAgXE8xQAAAAGCPwjFAAAAAIIVrNEAAAAAgrgc2QAAAAEAKlzZAAAAAYLgeN0AAAADgozA4QAAAAKCZGTlAAAAAYLjePEAAAABAM/M9QAAAAAAAgD5A////31H4PkAAAACA61E6QP///9961DlAAAAAoJkZOED////fUbg7QAAAAKBH4T9AAAAAoJkZO0ABAABgZiY4QA==",
          "dtype": "f8"
         }
        },
        {
         "marker": {
          "color": "#AB63FA",
          "size": 8,
          "symbol": "circle"
         },
         "mode": "markers",
         "name": "Start Forecast - 20250408",
         "type": "scatter",
         "x": [
          "2025-04-09T00:00:00"
         ],
         "y": [
          16.84000015258789
         ]
        },
        {
         "line": {
          "color": "#FFA15A",
          "dash": "dash"
         },
         "mode": "lines",
         "name": "Forecast - 20250410",
         "type": "scatter",
         "x": [
          "2025-04-11T00:00:00.000000000",
          "2025-04-14T00:00:00.000000000",
          "2025-04-15T00:00:00.000000000",
          "2025-04-16T00:00:00.000000000",
          "2025-04-17T00:00:00.000000000",
          "2025-04-18T00:00:00.000000000",
          "2025-04-21T00:00:00.000000000",
          "2025-04-22T00:00:00.000000000",
          "2025-04-23T00:00:00.000000000",
          "2025-04-24T00:00:00.000000000",
          "2025-04-25T00:00:00.000000000",
          "2025-04-28T00:00:00.000000000",
          "2025-04-29T00:00:00.000000000",
          "2025-04-30T00:00:00.000000000",
          "2025-05-01T00:00:00.000000000",
          "2025-05-02T00:00:00.000000000",
          "2025-05-05T00:00:00.000000000",
          "2025-05-06T00:00:00.000000000",
          "2025-05-07T00:00:00.000000000",
          "2025-05-08T00:00:00.000000000",
          "2025-05-09T00:00:00.000000000",
          "2025-05-12T00:00:00.000000000",
          "2025-05-13T00:00:00.000000000",
          "2025-05-14T00:00:00.000000000",
          "2025-06-01T00:00:00.000000000",
          "2025-07-01T00:00:00.000000000",
          "2025-08-01T00:00:00.000000000",
          "2025-09-01T00:00:00.000000000",
          "2025-10-01T00:00:00.000000000",
          "2025-11-01T00:00:00.000000000",
          "2025-12-01T00:00:00.000000000",
          "2026-01-01T00:00:00.000000000",
          "2026-02-01T00:00:00.000000000",
          "2026-03-01T00:00:00.000000000",
          "2026-04-01T00:00:00.000000000",
          "2026-05-01T00:00:00.000000000",
          "2026-06-01T00:00:00.000000000",
          "2026-07-01T00:00:00.000000000",
          "2026-08-01T00:00:00.000000000",
          "2026-09-01T00:00:00.000000000",
          "2026-10-01T00:00:00.000000000",
          "2026-11-01T00:00:00.000000000",
          "2026-12-01T00:00:00.000000000",
          "2027-01-01T00:00:00.000000000",
          "2027-02-01T00:00:00.000000000",
          "2027-03-01T00:00:00.000000000",
          "2027-04-01T00:00:00.000000000"
         ],
         "y": {
          "bdata": "AAAAQDNzMkAAAABguF4zQAEAAGBmZjJAAAAAQOF6MUAAAAAAKZwwQAAAAKBHoTBAAAAAYI/CMEAAAADgo/AwQAAAAIA9yjFAAAAAAClcMUAAAADA9egwQAAAAEAzszBAAAAAwPVoMEAAAACgmRkwQAAAACCuxy9AAQAAQDMzLkAAAADgUbgvQAEAAADXIy5AAAAAgBQuL0AAAABguJ4tQP///z8KVy5AAAAAgOvRLEAAAABgj0IuQAAAAOCjcC1AAQAAwPUoLEAAAADgozAwQAAAAGC4njJAAAAAgMK1MkD////fepQzQAAAAEAKFzRAAAAAoJkZN0AAAACAFO44QAAAAIDrkTlAAAAAIIUrOkAAAACgR2E7QAAAAMD1aDxAAAAAgMJVQEAAAABAM/NAQAAAAGCPQkFAAAAAYGaGQUAAAACAPco9QAAAAEDhOj1AAAAAIK5HO0AAAABguF4/QAAAAIA9CkJAAAAAIIWrPkD////felQ7QA==",
          "dtype": "f8"
         }
        },
        {
         "marker": {
          "color": "#FFA15A",
          "size": 8,
          "symbol": "circle"
         },
         "mode": "markers",
         "name": "Start Forecast - 20250410",
         "type": "scatter",
         "x": [
          "2025-04-11T00:00:00"
         ],
         "y": [
          18.450000762939453
         ]
        },
        {
         "line": {
          "color": "#19D3F3",
          "dash": "dash"
         },
         "mode": "lines",
         "name": "Forecast - 20250418",
         "type": "scatter",
         "x": [
          "2025-04-21T00:00:00.000000000",
          "2025-04-22T00:00:00.000000000",
          "2025-04-23T00:00:00.000000000",
          "2025-04-24T00:00:00.000000000",
          "2025-04-25T00:00:00.000000000",
          "2025-04-28T00:00:00.000000000",
          "2025-04-29T00:00:00.000000000",
          "2025-04-30T00:00:00.000000000",
          "2025-05-01T00:00:00.000000000",
          "2025-05-02T00:00:00.000000000",
          "2025-05-05T00:00:00.000000000",
          "2025-05-06T00:00:00.000000000",
          "2025-05-07T00:00:00.000000000",
          "2025-05-08T00:00:00.000000000",
          "2025-05-09T00:00:00.000000000",
          "2025-05-12T00:00:00.000000000",
          "2025-05-13T00:00:00.000000000",
          "2025-05-14T00:00:00.000000000",
          "2025-05-15T00:00:00.000000000",
          "2025-05-16T00:00:00.000000000",
          "2025-05-19T00:00:00.000000000",
          "2025-05-20T00:00:00.000000000",
          "2025-05-21T00:00:00.000000000",
          "2025-05-22T00:00:00.000000000",
          "2025-06-01T00:00:00.000000000",
          "2025-07-01T00:00:00.000000000",
          "2025-08-01T00:00:00.000000000",
          "2025-09-01T00:00:00.000000000",
          "2025-10-01T00:00:00.000000000",
          "2025-11-01T00:00:00.000000000",
          "2025-12-01T00:00:00.000000000",
          "2026-01-01T00:00:00.000000000",
          "2026-02-01T00:00:00.000000000",
          "2026-03-01T00:00:00.000000000",
          "2026-04-01T00:00:00.000000000",
          "2026-05-01T00:00:00.000000000",
          "2026-06-01T00:00:00.000000000",
          "2026-07-01T00:00:00.000000000",
          "2026-08-01T00:00:00.000000000",
          "2026-09-01T00:00:00.000000000",
          "2026-10-01T00:00:00.000000000",
          "2026-11-01T00:00:00.000000000",
          "2026-12-01T00:00:00.000000000",
          "2027-01-01T00:00:00.000000000",
          "2027-02-01T00:00:00.000000000",
          "2027-03-01T00:00:00.000000000",
          "2027-04-01T00:00:00.000000000"
         ],
         "y": {
          "bdata": "AAAA4FG4MUAAAADgetQwQAAAAEDh+i9AAAAAgD3KMEAAAACgR6ExQAAAAKBHITJAAAAAgD0KM0AAAABAChcyQAAAAOCjMDFAAAAA4HpUMEAAAACgmVkwQAAAAOBReDBAAAAAYGamMEAAAABA4XoxQAAAACBcDzFAAAAAYLieMEAAAADA9WgwQAAAAGC4HjBAAAAAYLieL0AAAADgUTgvQAEAAMD1qC1AAQAAANcjL0AAAADgepQtQAAAAKCZmS5AAAAAIK6HMUAAAADA9Sg0QAAAAIAULjdAAAAAgD1KN0AAAABguF44QAEAAGCPAjlAAQAAYI/CPEAAAAAgrgc/QAAAAIDr0T9AAAAAIK5HQEAAAADA9QhBQAAAAMDMrEFAAAAAQDNTREAAAACAwhVFQP///99ReEVA////v8zMRUAAAAAgrodCQAAAACBcL0JAAAAA4FH4QEABAAAA14NDQAAAAOCjcEZAAAAAQDMTQ0AAAAAAAABBQA==",
          "dtype": "f8"
         }
        },
        {
         "marker": {
          "color": "#19D3F3",
          "size": 8,
          "symbol": "circle"
         },
         "mode": "markers",
         "name": "Start Forecast - 20250418",
         "type": "scatter",
         "x": [
          "2025-04-21T00:00:00"
         ],
         "y": [
          17.719999313354492
         ]
        },
        {
         "line": {
          "color": "#FF6692",
          "dash": "dash"
         },
         "mode": "lines",
         "name": "Forecast - 20250423",
         "type": "scatter",
         "x": [
          "2025-04-24T00:00:00.000000000",
          "2025-04-25T00:00:00.000000000",
          "2025-04-28T00:00:00.000000000",
          "2025-04-29T00:00:00.000000000",
          "2025-04-30T00:00:00.000000000",
          "2025-05-01T00:00:00.000000000",
          "2025-05-02T00:00:00.000000000",
          "2025-05-05T00:00:00.000000000",
          "2025-05-06T00:00:00.000000000",
          "2025-05-07T00:00:00.000000000",
          "2025-05-08T00:00:00.000000000",
          "2025-05-09T00:00:00.000000000",
          "2025-05-12T00:00:00.000000000",
          "2025-05-13T00:00:00.000000000",
          "2025-05-14T00:00:00.000000000",
          "2025-05-15T00:00:00.000000000",
          "2025-05-16T00:00:00.000000000",
          "2025-05-19T00:00:00.000000000",
          "2025-05-20T00:00:00.000000000",
          "2025-05-21T00:00:00.000000000",
          "2025-05-22T00:00:00.000000000",
          "2025-05-23T00:00:00.000000000",
          "2025-05-26T00:00:00.000000000",
          "2025-05-27T00:00:00.000000000",
          "2025-06-01T00:00:00.000000000",
          "2025-07-01T00:00:00.000000000",
          "2025-08-01T00:00:00.000000000",
          "2025-09-01T00:00:00.000000000",
          "2025-10-01T00:00:00.000000000",
          "2025-11-01T00:00:00.000000000",
          "2025-12-01T00:00:00.000000000",
          "2026-01-01T00:00:00.000000000",
          "2026-02-01T00:00:00.000000000",
          "2026-03-01T00:00:00.000000000",
          "2026-04-01T00:00:00.000000000",
          "2026-05-01T00:00:00.000000000",
          "2026-06-01T00:00:00.000000000",
          "2026-07-01T00:00:00.000000000",
          "2026-08-01T00:00:00.000000000",
          "2026-09-01T00:00:00.000000000",
          "2026-10-01T00:00:00.000000000",
          "2026-11-01T00:00:00.000000000",
          "2026-12-01T00:00:00.000000000",
          "2027-01-01T00:00:00.000000000",
          "2027-02-01T00:00:00.000000000",
          "2027-03-01T00:00:00.000000000",
          "2027-04-01T00:00:00.000000000"
         ],
         "y": {
          "bdata": "AAAAoHB9NUAAAACgcH02QAAAAAAAgDZAAQAAYGbmNUAAAAAgXM80QAAAAMAexTNAAQAAYI/CNEAAAADAzMw1QAAAACCFazZAAAAAgD2KN0D/////KFw2QAAAAKBwPTVAAAAAgBQuNEAAAABAMzM0QAAAAKCZWTRAAAAAgOuRNEAAAACgmZk1QP///996FDVAAAAAIK6HNEAAAADAHkU0QAAAAMD16DNAAAAAIK6HM0AAAAAgrkczQAAAAIDrUTJAAQAAANejNEAAAACgcL03QAAAAMDMTDtAAAAAgBRuO0AAAABAM7M8QAAAAEAzcz1AAAAAIFzvQEAAAABgZkZCQAAAAKBwvUJAAAAAgBQuQ0AAAACA6xFEQAAAAEAz00RAAAAAQDPzR0AAAACgmdlIQAAAAIAUTklAAAAAgOuxSUAAAABACtdFQAAAAIAUbkVAAAAAAAAAREAAAAAAAABHQAAAAEAzc0pAAAAAACl8RkAAAADA9QhEQA==",
          "dtype": "f8"
         }
        },
        {
         "marker": {
          "color": "#FF6692",
          "size": 8,
          "symbol": "circle"
         },
         "mode": "markers",
         "name": "Start Forecast - 20250423",
         "type": "scatter",
         "x": [
          "2025-04-24T00:00:00"
         ],
         "y": [
          21.489999771118164
         ]
        },
        {
         "line": {
          "color": "red"
         },
         "marker": {
          "color": "red",
          "size": 6
         },
         "mode": "lines+markers",
         "name": "Current Price",
         "type": "scatter",
         "x": [
          "2025-03-24T00:00:00",
          "2025-03-25T00:00:00",
          "2025-03-26T00:00:00",
          "2025-03-27T00:00:00",
          "2025-03-28T00:00:00",
          "2025-03-31T00:00:00",
          "2025-04-01T00:00:00",
          "2025-04-02T00:00:00",
          "2025-04-03T00:00:00",
          "2025-04-04T00:00:00",
          "2025-04-07T00:00:00",
          "2025-04-08T00:00:00",
          "2025-04-09T00:00:00",
          "2025-04-10T00:00:00",
          "2025-04-11T00:00:00",
          "2025-04-14T00:00:00",
          "2025-04-15T00:00:00",
          "2025-04-16T00:00:00",
          "2025-04-17T00:00:00",
          "2025-04-21T00:00:00",
          "2025-04-22T00:00:00",
          "2025-04-23T00:00:00"
         ],
         "y": {
          "bdata": "AAAAANdjNUAAAABgjwI1QAAAAOBRuDRAAAAAQDMzNEAAAABAM7MzQAAAAOBRuDRAAAAAgML1NEAAAABguB41QAAAAGC4HjVAAAAAgBRuM0AAAACgcL0xQAAAACCFazBAAAAA4KNwMUAAAADgUfgxQAAAAAAAADRAAAAA4HoUNUAAAAAgXM8zQAAAAIDCtTJAAAAA4FE4MkAAAABAMzMyQAAAAIDrETNAAAAA4FF4NEA=",
          "dtype": "f8"
         }
        }
       ],
       "layout": {
        "legend": {
         "font": {
          "size": 10
         },
         "x": 1.05,
         "xanchor": "left",
         "y": 1,
         "yanchor": "top"
        },
        "template": {
         "data": {
          "bar": [
           {
            "error_x": {
             "color": "#2a3f5f"
            },
            "error_y": {
             "color": "#2a3f5f"
            },
            "marker": {
             "line": {
              "color": "white",
              "width": 0.5
             },
             "pattern": {
              "fillmode": "overlay",
              "size": 10,
              "solidity": 0.2
             }
            },
            "type": "bar"
           }
          ],
          "barpolar": [
           {
            "marker": {
             "line": {
              "color": "white",
              "width": 0.5
             },
             "pattern": {
              "fillmode": "overlay",
              "size": 10,
              "solidity": 0.2
             }
            },
            "type": "barpolar"
           }
          ],
          "carpet": [
           {
            "aaxis": {
             "endlinecolor": "#2a3f5f",
             "gridcolor": "#C8D4E3",
             "linecolor": "#C8D4E3",
             "minorgridcolor": "#C8D4E3",
             "startlinecolor": "#2a3f5f"
            },
            "baxis": {
             "endlinecolor": "#2a3f5f",
             "gridcolor": "#C8D4E3",
             "linecolor": "#C8D4E3",
             "minorgridcolor": "#C8D4E3",
             "startlinecolor": "#2a3f5f"
            },
            "type": "carpet"
           }
          ],
          "choropleth": [
           {
            "colorbar": {
             "outlinewidth": 0,
             "ticks": ""
            },
            "type": "choropleth"
           }
          ],
          "contour": [
           {
            "colorbar": {
             "outlinewidth": 0,
             "ticks": ""
            },
            "colorscale": [
             [
              0,
              "#0d0887"
             ],
             [
              0.1111111111111111,
              "#46039f"
             ],
             [
              0.2222222222222222,
              "#7201a8"
             ],
             [
              0.3333333333333333,
              "#9c179e"
             ],
             [
              0.4444444444444444,
              "#bd3786"
             ],
             [
              0.5555555555555556,
              "#d8576b"
             ],
             [
              0.6666666666666666,
              "#ed7953"
             ],
             [
              0.7777777777777778,
              "#fb9f3a"
             ],
             [
              0.8888888888888888,
              "#fdca26"
             ],
             [
              1,
              "#f0f921"
             ]
            ],
            "type": "contour"
           }
          ],
          "contourcarpet": [
           {
            "colorbar": {
             "outlinewidth": 0,
             "ticks": ""
            },
            "type": "contourcarpet"
           }
          ],
          "heatmap": [
           {
            "colorbar": {
             "outlinewidth": 0,
             "ticks": ""
            },
            "colorscale": [
             [
              0,
              "#0d0887"
             ],
             [
              0.1111111111111111,
              "#46039f"
             ],
             [
              0.2222222222222222,
              "#7201a8"
             ],
             [
              0.3333333333333333,
              "#9c179e"
             ],
             [
              0.4444444444444444,
              "#bd3786"
             ],
             [
              0.5555555555555556,
              "#d8576b"
             ],
             [
              0.6666666666666666,
              "#ed7953"
             ],
             [
              0.7777777777777778,
              "#fb9f3a"
             ],
             [
              0.8888888888888888,
              "#fdca26"
             ],
             [
              1,
              "#f0f921"
             ]
            ],
            "type": "heatmap"
           }
          ],
          "histogram": [
           {
            "marker": {
             "pattern": {
              "fillmode": "overlay",
              "size": 10,
              "solidity": 0.2
             }
            },
            "type": "histogram"
           }
          ],
          "histogram2d": [
           {
            "colorbar": {
             "outlinewidth": 0,
             "ticks": ""
            },
            "colorscale": [
             [
              0,
              "#0d0887"
             ],
             [
              0.1111111111111111,
              "#46039f"
             ],
             [
              0.2222222222222222,
              "#7201a8"
             ],
             [
              0.3333333333333333,
              "#9c179e"
             ],
             [
              0.4444444444444444,
              "#bd3786"
             ],
             [
              0.5555555555555556,
              "#d8576b"
             ],
             [
              0.6666666666666666,
              "#ed7953"
             ],
             [
              0.7777777777777778,
              "#fb9f3a"
             ],
             [
              0.8888888888888888,
              "#fdca26"
             ],
             [
              1,
              "#f0f921"
             ]
            ],
            "type": "histogram2d"
           }
          ],
          "histogram2dcontour": [
           {
            "colorbar": {
             "outlinewidth": 0,
             "ticks": ""
            },
            "colorscale": [
             [
              0,
              "#0d0887"
             ],
             [
              0.1111111111111111,
              "#46039f"
             ],
             [
              0.2222222222222222,
              "#7201a8"
             ],
             [
              0.3333333333333333,
              "#9c179e"
             ],
             [
              0.4444444444444444,
              "#bd3786"
             ],
             [
              0.5555555555555556,
              "#d8576b"
             ],
             [
              0.6666666666666666,
              "#ed7953"
             ],
             [
              0.7777777777777778,
              "#fb9f3a"
             ],
             [
              0.8888888888888888,
              "#fdca26"
             ],
             [
              1,
              "#f0f921"
             ]
            ],
            "type": "histogram2dcontour"
           }
          ],
          "mesh3d": [
           {
            "colorbar": {
             "outlinewidth": 0,
             "ticks": ""
            },
            "type": "mesh3d"
           }
          ],
          "parcoords": [
           {
            "line": {
             "colorbar": {
              "outlinewidth": 0,
              "ticks": ""
             }
            },
            "type": "parcoords"
           }
          ],
          "pie": [
           {
            "automargin": true,
            "type": "pie"
           }
          ],
          "scatter": [
           {
            "fillpattern": {
             "fillmode": "overlay",
             "size": 10,
             "solidity": 0.2
            },
            "type": "scatter"
           }
          ],
          "scatter3d": [
           {
            "line": {
             "colorbar": {
              "outlinewidth": 0,
              "ticks": ""
             }
            },
            "marker": {
             "colorbar": {
              "outlinewidth": 0,
              "ticks": ""
             }
            },
            "type": "scatter3d"
           }
          ],
          "scattercarpet": [
           {
            "marker": {
             "colorbar": {
              "outlinewidth": 0,
              "ticks": ""
             }
            },
            "type": "scattercarpet"
           }
          ],
          "scattergeo": [
           {
            "marker": {
             "colorbar": {
              "outlinewidth": 0,
              "ticks": ""
             }
            },
            "type": "scattergeo"
           }
          ],
          "scattergl": [
           {
            "marker": {
             "colorbar": {
              "outlinewidth": 0,
              "ticks": ""
             }
            },
            "type": "scattergl"
           }
          ],
          "scattermap": [
           {
            "marker": {
             "colorbar": {
              "outlinewidth": 0,
              "ticks": ""
             }
            },
            "type": "scattermap"
           }
          ],
          "scattermapbox": [
           {
            "marker": {
             "colorbar": {
              "outlinewidth": 0,
              "ticks": ""
             }
            },
            "type": "scattermapbox"
           }
          ],
          "scatterpolar": [
           {
            "marker": {
             "colorbar": {
              "outlinewidth": 0,
              "ticks": ""
             }
            },
            "type": "scatterpolar"
           }
          ],
          "scatterpolargl": [
           {
            "marker": {
             "colorbar": {
              "outlinewidth": 0,
              "ticks": ""
             }
            },
            "type": "scatterpolargl"
           }
          ],
          "scatterternary": [
           {
            "marker": {
             "colorbar": {
              "outlinewidth": 0,
              "ticks": ""
             }
            },
            "type": "scatterternary"
           }
          ],
          "surface": [
           {
            "colorbar": {
             "outlinewidth": 0,
             "ticks": ""
            },
            "colorscale": [
             [
              0,
              "#0d0887"
             ],
             [
              0.1111111111111111,
              "#46039f"
             ],
             [
              0.2222222222222222,
              "#7201a8"
             ],
             [
              0.3333333333333333,
              "#9c179e"
             ],
             [
              0.4444444444444444,
              "#bd3786"
             ],
             [
              0.5555555555555556,
              "#d8576b"
             ],
             [
              0.6666666666666666,
              "#ed7953"
             ],
             [
              0.7777777777777778,
              "#fb9f3a"
             ],
             [
              0.8888888888888888,
              "#fdca26"
             ],
             [
              1,
              "#f0f921"
             ]
            ],
            "type": "surface"
           }
          ],
          "table": [
           {
            "cells": {
             "fill": {
              "color": "#EBF0F8"
             },
             "line": {
              "color": "white"
             }
            },
            "header": {
             "fill": {
              "color": "#C8D4E3"
             },
             "line": {
              "color": "white"
             }
            },
            "type": "table"
           }
          ]
         },
         "layout": {
          "annotationdefaults": {
           "arrowcolor": "#2a3f5f",
           "arrowhead": 0,
           "arrowwidth": 1
          },
          "autotypenumbers": "strict",
          "coloraxis": {
           "colorbar": {
            "outlinewidth": 0,
            "ticks": ""
           }
          },
          "colorscale": {
           "diverging": [
            [
             0,
             "#8e0152"
            ],
            [
             0.1,
             "#c51b7d"
            ],
            [
             0.2,
             "#de77ae"
            ],
            [
             0.3,
             "#f1b6da"
            ],
            [
             0.4,
             "#fde0ef"
            ],
            [
             0.5,
             "#f7f7f7"
            ],
            [
             0.6,
             "#e6f5d0"
            ],
            [
             0.7,
             "#b8e186"
            ],
            [
             0.8,
             "#7fbc41"
            ],
            [
             0.9,
             "#4d9221"
            ],
            [
             1,
             "#276419"
            ]
           ],
           "sequential": [
            [
             0,
             "#0d0887"
            ],
            [
             0.1111111111111111,
             "#46039f"
            ],
            [
             0.2222222222222222,
             "#7201a8"
            ],
            [
             0.3333333333333333,
             "#9c179e"
            ],
            [
             0.4444444444444444,
             "#bd3786"
            ],
            [
             0.5555555555555556,
             "#d8576b"
            ],
            [
             0.6666666666666666,
             "#ed7953"
            ],
            [
             0.7777777777777778,
             "#fb9f3a"
            ],
            [
             0.8888888888888888,
             "#fdca26"
            ],
            [
             1,
             "#f0f921"
            ]
           ],
           "sequentialminus": [
            [
             0,
             "#0d0887"
            ],
            [
             0.1111111111111111,
             "#46039f"
            ],
            [
             0.2222222222222222,
             "#7201a8"
            ],
            [
             0.3333333333333333,
             "#9c179e"
            ],
            [
             0.4444444444444444,
             "#bd3786"
            ],
            [
             0.5555555555555556,
             "#d8576b"
            ],
            [
             0.6666666666666666,
             "#ed7953"
            ],
            [
             0.7777777777777778,
             "#fb9f3a"
            ],
            [
             0.8888888888888888,
             "#fdca26"
            ],
            [
             1,
             "#f0f921"
            ]
           ]
          },
          "colorway": [
           "#636efa",
           "#EF553B",
           "#00cc96",
           "#ab63fa",
           "#FFA15A",
           "#19d3f3",
           "#FF6692",
           "#B6E880",
           "#FF97FF",
           "#FECB52"
          ],
          "font": {
           "color": "#2a3f5f"
          },
          "geo": {
           "bgcolor": "white",
           "lakecolor": "white",
           "landcolor": "white",
           "showlakes": true,
           "showland": true,
           "subunitcolor": "#C8D4E3"
          },
          "hoverlabel": {
           "align": "left"
          },
          "hovermode": "closest",
          "mapbox": {
           "style": "light"
          },
          "paper_bgcolor": "white",
          "plot_bgcolor": "white",
          "polar": {
           "angularaxis": {
            "gridcolor": "#EBF0F8",
            "linecolor": "#EBF0F8",
            "ticks": ""
           },
           "bgcolor": "white",
           "radialaxis": {
            "gridcolor": "#EBF0F8",
            "linecolor": "#EBF0F8",
            "ticks": ""
           }
          },
          "scene": {
           "xaxis": {
            "backgroundcolor": "white",
            "gridcolor": "#DFE8F3",
            "gridwidth": 2,
            "linecolor": "#EBF0F8",
            "showbackground": true,
            "ticks": "",
            "zerolinecolor": "#EBF0F8"
           },
           "yaxis": {
            "backgroundcolor": "white",
            "gridcolor": "#DFE8F3",
            "gridwidth": 2,
            "linecolor": "#EBF0F8",
            "showbackground": true,
            "ticks": "",
            "zerolinecolor": "#EBF0F8"
           },
           "zaxis": {
            "backgroundcolor": "white",
            "gridcolor": "#DFE8F3",
            "gridwidth": 2,
            "linecolor": "#EBF0F8",
            "showbackground": true,
            "ticks": "",
            "zerolinecolor": "#EBF0F8"
           }
          },
          "shapedefaults": {
           "line": {
            "color": "#2a3f5f"
           }
          },
          "ternary": {
           "aaxis": {
            "gridcolor": "#DFE8F3",
            "linecolor": "#A2B1C6",
            "ticks": ""
           },
           "baxis": {
            "gridcolor": "#DFE8F3",
            "linecolor": "#A2B1C6",
            "ticks": ""
           },
           "bgcolor": "white",
           "caxis": {
            "gridcolor": "#DFE8F3",
            "linecolor": "#A2B1C6",
            "ticks": ""
           }
          },
          "title": {
           "x": 0.05
          },
          "xaxis": {
           "automargin": true,
           "gridcolor": "#EBF0F8",
           "linecolor": "#EBF0F8",
           "ticks": "",
           "title": {
            "standoff": 15
           },
           "zerolinecolor": "#EBF0F8",
           "zerolinewidth": 2
          },
          "yaxis": {
           "automargin": true,
           "gridcolor": "#EBF0F8",
           "linecolor": "#EBF0F8",
           "ticks": "",
           "title": {
            "standoff": 15
           },
           "zerolinecolor": "#EBF0F8",
           "zerolinewidth": 2
          }
         }
        },
        "title": {
         "text": "xpeng Forecast"
        },
        "xaxis": {
         "range": [
          "2025-03-24T00:00:00",
          "2025-11-01T00:00:00"
         ],
         "tickangle": -45,
         "title": {
          "text": "Date"
         }
        },
        "yaxis": {
         "range": [
          0,
          40.18000106811523
         ],
         "title": {
          "text": "Price / USD"
         }
        }
       }
      }
     },
     "metadata": {},
     "output_type": "display_data"
    }
   ],
   "source": [
    "fh=ForecastHandler(company='xpeng')\n",
    "fh.load_all_forecasts()\n",
    "fh.plot_forecasts()"
   ]
  },
  {
   "cell_type": "code",
   "execution_count": null,
   "metadata": {},
   "outputs": [
    {
     "name": "stdout",
     "output_type": "stream",
     "text": [
      "found forecast files: ['20250402_mo-stock_forecast.csv', '20250403_mo-stock_forecast.csv', '20250407_mo-stock_forecast.csv', '20250408_mo-stock_forecast.csv', '20250410_mo-stock_forecast.csv', '20250418_mo-stock_forecast.csv', '20250423_mo-stock_forecast.csv']\n",
      "load file 20250402_mo-stock_forecast.csv\n",
      "load file 20250403_mo-stock_forecast.csv\n",
      "load file 20250407_mo-stock_forecast.csv\n",
      "load file 20250408_mo-stock_forecast.csv\n",
      "load file 20250410_mo-stock_forecast.csv\n",
      "load file 20250418_mo-stock_forecast.csv\n",
      "load file 20250423_mo-stock_forecast.csv\n"
     ]
    },
    {
     "data": {
      "image/png": "[encoded data removed]",
      "text/plain": [
       "<Figure size 1000x500 with 1 Axes>"
      ]
     },
     "metadata": {},
     "output_type": "display_data"
    },
    {
     "data": {
      "application/vnd.plotly.v1+json": {
       "config": {
        "plotlyServerURL": "https://plot.ly"
       },
       "data": [
        {
         "line": {
          "color": "#636EFA",
          "dash": "dash"
         },
         "mode": "lines",
         "name": "Forecast - 20250402",
         "type": "scatter",
         "x": [
          "2025-04-03T00:00:00.000000000",
          "2025-04-04T00:00:00.000000000",
          "2025-04-07T00:00:00.000000000",
          "2025-04-08T00:00:00.000000000",
          "2025-04-09T00:00:00.000000000",
          "2025-04-10T00:00:00.000000000",
          "2025-04-11T00:00:00.000000000",
          "2025-04-14T00:00:00.000000000",
          "2025-04-15T00:00:00.000000000",
          "2025-04-16T00:00:00.000000000",
          "2025-04-17T00:00:00.000000000",
          "2025-04-18T00:00:00.000000000",
          "2025-04-21T00:00:00.000000000",
          "2025-04-22T00:00:00.000000000",
          "2025-04-23T00:00:00.000000000",
          "2025-04-24T00:00:00.000000000",
          "2025-04-25T00:00:00.000000000",
          "2025-04-28T00:00:00.000000000",
          "2025-04-29T00:00:00.000000000",
          "2025-04-30T00:00:00.000000000",
          "2025-05-01T00:00:00.000000000",
          "2025-05-02T00:00:00.000000000",
          "2025-05-05T00:00:00.000000000",
          "2025-05-06T00:00:00.000000000",
          "2025-06-01T00:00:00.000000000",
          "2025-07-01T00:00:00.000000000",
          "2025-08-01T00:00:00.000000000",
          "2025-09-01T00:00:00.000000000",
          "2025-10-01T00:00:00.000000000",
          "2025-11-01T00:00:00.000000000",
          "2025-12-01T00:00:00.000000000",
          "2026-01-01T00:00:00.000000000",
          "2026-02-01T00:00:00.000000000",
          "2026-03-01T00:00:00.000000000",
          "2026-04-01T00:00:00.000000000",
          "2026-05-01T00:00:00.000000000",
          "2026-06-01T00:00:00.000000000",
          "2026-07-01T00:00:00.000000000",
          "2026-08-01T00:00:00.000000000",
          "2026-09-01T00:00:00.000000000",
          "2026-10-01T00:00:00.000000000",
          "2026-11-01T00:00:00.000000000",
          "2026-12-01T00:00:00.000000000",
          "2027-01-01T00:00:00.000000000",
          "2027-02-01T00:00:00.000000000",
          "2027-03-01T00:00:00.000000000",
          "2027-04-01T00:00:00.000000000"
         ],
         "y": {
          "bdata": "AAAAQOG6S0AAAAAgridLQAAAAKBwHUxAAAAAQAr3S0AAAAAAKTxMQAAAAGC4vkxAAAAAgD1KTEAAAACA61FMQAAAAOCjEExAAAAAAAAgTEAAAADgo/BLQAAAACCFq0tAAAAAgBSuS0AAAACgmdlLQAAAAEAKN0xAAAAAIK4HTEAAAACgcJ1LQAAAAEAKN0xAAAAAoJmZTEAAAABgjyJNQAAAAEAz80xAAAAAgOtxTEAAAAAgXC9NQAAAAEAzk01AAAAAIIVLT0AAAABACndNQAAAACCFC0lAAAAAACn8SUAAAABgj+JNQAAAAKBHAU9AAAAAgMIVUEAAAAAAALBQQAAAAAAAUFFAAAAAgMKlUUAAAACAPbpRQAAAAOB6ZFJAAAAAwMyMUkAAAABguD5TQAAAAIDrIVZAAAAAAADQUkAAAABA4fpPQAEAAADXY09AAAAAwMwMUkAAAACA68FUQAAAAMAepVFAAAAAwB5lUkAAAAAgXN9SQA==",
          "dtype": "f8"
         }
        },
        {
         "marker": {
          "color": "#636EFA",
          "size": 8,
          "symbol": "circle"
         },
         "mode": "markers",
         "name": "Start Forecast - 20250402",
         "type": "scatter",
         "x": [
          "2025-04-03T00:00:00"
         ],
         "y": [
          55.459999084472656
         ]
        },
        {
         "line": {
          "color": "#EF553B",
          "dash": "dash"
         },
         "mode": "lines",
         "name": "Forecast - 20250403",
         "type": "scatter",
         "x": [
          "2025-04-04T00:00:00.000000000",
          "2025-04-07T00:00:00.000000000",
          "2025-04-08T00:00:00.000000000",
          "2025-04-09T00:00:00.000000000",
          "2025-04-10T00:00:00.000000000",
          "2025-04-11T00:00:00.000000000",
          "2025-04-14T00:00:00.000000000",
          "2025-04-15T00:00:00.000000000",
          "2025-04-16T00:00:00.000000000",
          "2025-04-17T00:00:00.000000000",
          "2025-04-18T00:00:00.000000000",
          "2025-04-21T00:00:00.000000000",
          "2025-04-22T00:00:00.000000000",
          "2025-04-23T00:00:00.000000000",
          "2025-04-24T00:00:00.000000000",
          "2025-04-25T00:00:00.000000000",
          "2025-04-28T00:00:00.000000000",
          "2025-04-29T00:00:00.000000000",
          "2025-04-30T00:00:00.000000000",
          "2025-05-01T00:00:00.000000000",
          "2025-05-02T00:00:00.000000000",
          "2025-05-05T00:00:00.000000000",
          "2025-05-06T00:00:00.000000000",
          "2025-05-07T00:00:00.000000000",
          "2025-06-01T00:00:00.000000000",
          "2025-07-01T00:00:00.000000000",
          "2025-08-01T00:00:00.000000000",
          "2025-09-01T00:00:00.000000000",
          "2025-10-01T00:00:00.000000000",
          "2025-11-01T00:00:00.000000000",
          "2025-12-01T00:00:00.000000000",
          "2026-01-01T00:00:00.000000000",
          "2026-02-01T00:00:00.000000000",
          "2026-03-01T00:00:00.000000000",
          "2026-04-01T00:00:00.000000000",
          "2026-05-01T00:00:00.000000000",
          "2026-06-01T00:00:00.000000000",
          "2026-07-01T00:00:00.000000000",
          "2026-08-01T00:00:00.000000000",
          "2026-09-01T00:00:00.000000000",
          "2026-10-01T00:00:00.000000000",
          "2026-11-01T00:00:00.000000000",
          "2026-12-01T00:00:00.000000000",
          "2027-01-01T00:00:00.000000000",
          "2027-02-01T00:00:00.000000000",
          "2027-03-01T00:00:00.000000000",
          "2027-04-01T00:00:00.000000000"
         ],
         "y": {
          "bdata": "AAAAQOG6S0AAAAAgridLQAAAAKBwHUxAAAAAQAr3S0AAAAAAKTxMQAAAAGC4vkxAAAAAgD1KTEAAAACA61FMQAAAAOCjEExAAAAAAAAgTEAAAADgo/BLQAAAACCFq0tAAAAAgBSuS0AAAACgmdlLQAAAAEAKN0xAAAAAIK4HTEAAAACgcJ1LQAAAAEAKN0xAAAAAoJmZTEAAAABgjyJNQAAAAEAz80xAAAAAgOtxTEAAAAAgXC9NQAAAAEAzk01AAAAAwPUoTkAAAADAHmVMQAAAAGCPIkhAAAAAgD0KSUAAAAAghctMQAAAAAAA4E1AAAAAYLj+TkAAAAAA1xNQQAAAAIAUrlBAAAAA4KMAUUAAAADgehRRQAAAAOBRuFFAAAAAIFzfUUAAAABA4YpSQAAAAEAzU1VAAAAA4KMgUkAAAADgo9BOQAAAAAAAQE5AAAAAwB5lUUAAAACgRwFUQAAAAKBHAVFAAAAAgD26UUAAAAAAADBSQA==",
          "dtype": "f8"
         }
        },
        {
         "marker": {
          "color": "#EF553B",
          "size": 8,
          "symbol": "circle"
         },
         "mode": "markers",
         "name": "Start Forecast - 20250403",
         "type": "scatter",
         "x": [
          "2025-04-04T00:00:00"
         ],
         "y": [
          55.459999084472656
         ]
        },
        {
         "line": {
          "color": "#00CC96",
          "dash": "dash"
         },
         "mode": "lines",
         "name": "Forecast - 20250407",
         "type": "scatter",
         "x": [
          "2025-04-08T00:00:00.000000000",
          "2025-04-09T00:00:00.000000000",
          "2025-04-10T00:00:00.000000000",
          "2025-04-11T00:00:00.000000000",
          "2025-04-14T00:00:00.000000000",
          "2025-04-15T00:00:00.000000000",
          "2025-04-16T00:00:00.000000000",
          "2025-04-17T00:00:00.000000000",
          "2025-04-18T00:00:00.000000000",
          "2025-04-21T00:00:00.000000000",
          "2025-04-22T00:00:00.000000000",
          "2025-04-23T00:00:00.000000000",
          "2025-04-24T00:00:00.000000000",
          "2025-04-25T00:00:00.000000000",
          "2025-04-28T00:00:00.000000000",
          "2025-04-29T00:00:00.000000000",
          "2025-04-30T00:00:00.000000000",
          "2025-05-01T00:00:00.000000000",
          "2025-05-02T00:00:00.000000000",
          "2025-05-05T00:00:00.000000000",
          "2025-05-06T00:00:00.000000000",
          "2025-05-07T00:00:00.000000000",
          "2025-05-08T00:00:00.000000000",
          "2025-05-09T00:00:00.000000000",
          "2025-06-01T00:00:00.000000000",
          "2025-07-01T00:00:00.000000000",
          "2025-08-01T00:00:00.000000000",
          "2025-09-01T00:00:00.000000000",
          "2025-10-01T00:00:00.000000000",
          "2025-11-01T00:00:00.000000000",
          "2025-12-01T00:00:00.000000000",
          "2026-01-01T00:00:00.000000000",
          "2026-02-01T00:00:00.000000000",
          "2026-03-01T00:00:00.000000000",
          "2026-04-01T00:00:00.000000000",
          "2026-05-01T00:00:00.000000000",
          "2026-06-01T00:00:00.000000000",
          "2026-07-01T00:00:00.000000000",
          "2026-08-01T00:00:00.000000000",
          "2026-09-01T00:00:00.000000000",
          "2026-10-01T00:00:00.000000000",
          "2026-11-01T00:00:00.000000000",
          "2026-12-01T00:00:00.000000000",
          "2027-01-01T00:00:00.000000000",
          "2027-02-01T00:00:00.000000000",
          "2027-03-01T00:00:00.000000000",
          "2027-04-01T00:00:00.000000000"
         ],
         "y": {
          "bdata": "AAAAoJk5S0AAAACAFI5LQAEAAADXw0pAAAAAgMI1SkAAAABgjyJLQAAAAKBw/UpAAAAAAABAS0AAAACgcL1LQP///7/MTEtAAAAA4HpUS0AAAACAwhVLQAAAAMAeJUtAAAAAQAr3SkAAAADgerRKQAAAAEAKt0pAAAAAAADgSkAAAABA4TpLQP///7/MDEtAAAAAYGamSkAAAABA4TpLQAAAAEDhmktAAAAAYLgeTEAAAACA6/FLQAAAAOB6dEtAAAAAQDPTS0AAAABAMzNKQAAAAMAeRUZAAAAAQOEaR0AAAACA65FKQAAAAOCjkEtAAAAAoJmZTED///+/zKxNQAAAAIA9yk5AAAAAYI9iT0AAAABgZoZPQAAAAIA9WlBAAAAAgBR+UEAAAAAAKRxRQAAAAKBwrVNAAAAAoJm5UEAAAAAgXG9MQAAAAMD16EtAAAAAACkMUEAAAADgenRSQAAAAAAAYE9AAAAAQOFaUEAAAAAgrsdQQA==",
          "dtype": "f8"
         }
        },
        {
         "marker": {
          "color": "#00CC96",
          "size": 8,
          "symbol": "circle"
         },
         "mode": "markers",
         "name": "Start Forecast - 20250407",
         "type": "scatter",
         "x": [
          "2025-04-08T00:00:00"
         ],
         "y": [
          54.45000076293945
         ]
        },
        {
         "line": {
          "color": "#AB63FA",
          "dash": "dash"
         },
         "mode": "lines",
         "name": "Forecast - 20250408",
         "type": "scatter",
         "x": [
          "2025-04-09T00:00:00.000000000",
          "2025-04-10T00:00:00.000000000",
          "2025-04-11T00:00:00.000000000",
          "2025-04-14T00:00:00.000000000",
          "2025-04-15T00:00:00.000000000",
          "2025-04-16T00:00:00.000000000",
          "2025-04-17T00:00:00.000000000",
          "2025-04-18T00:00:00.000000000",
          "2025-04-21T00:00:00.000000000",
          "2025-04-22T00:00:00.000000000",
          "2025-04-23T00:00:00.000000000",
          "2025-04-24T00:00:00.000000000",
          "2025-04-25T00:00:00.000000000",
          "2025-04-28T00:00:00.000000000",
          "2025-04-29T00:00:00.000000000",
          "2025-04-30T00:00:00.000000000",
          "2025-05-01T00:00:00.000000000",
          "2025-05-02T00:00:00.000000000",
          "2025-05-05T00:00:00.000000000",
          "2025-05-06T00:00:00.000000000",
          "2025-05-07T00:00:00.000000000",
          "2025-05-08T00:00:00.000000000",
          "2025-05-09T00:00:00.000000000",
          "2025-05-12T00:00:00.000000000",
          "2025-06-01T00:00:00.000000000",
          "2025-07-01T00:00:00.000000000",
          "2025-08-01T00:00:00.000000000",
          "2025-09-01T00:00:00.000000000",
          "2025-10-01T00:00:00.000000000",
          "2025-11-01T00:00:00.000000000",
          "2025-12-01T00:00:00.000000000",
          "2026-01-01T00:00:00.000000000",
          "2026-02-01T00:00:00.000000000",
          "2026-03-01T00:00:00.000000000",
          "2026-04-01T00:00:00.000000000",
          "2026-05-01T00:00:00.000000000",
          "2026-06-01T00:00:00.000000000",
          "2026-07-01T00:00:00.000000000",
          "2026-08-01T00:00:00.000000000",
          "2026-09-01T00:00:00.000000000",
          "2026-10-01T00:00:00.000000000",
          "2026-11-01T00:00:00.000000000",
          "2026-12-01T00:00:00.000000000",
          "2027-01-01T00:00:00.000000000",
          "2027-02-01T00:00:00.000000000",
          "2027-03-01T00:00:00.000000000",
          "2027-04-01T00:00:00.000000000"
         ],
         "y": {
          "bdata": "AAAAYLieS0AAAAAgXM9KQAAAAGCPIktAAAAAQOFaSkAAAACAFM5JQAAAAEAKt0pAAAAAQDOTSkAAAACAwtVKQAAAAIDrUUtAAQAAANfjSkAAAAAghetKQAAAAIAUrkpAAAAAoHC9SkAAAADgo5BKQAAAACBcT0pAAAAAgOtRSkAAAABA4XpKQAAAAOB61EpAAAAAIK6nSkAAAABgj0JKQAAAAIDC1UpAAAAAQDMzS0AAAACAwrVLQAAAAMD1iEtAAAAAQDMzSkAAAAAghatIQP///99R+ERAAAAAoEfBRUAAAADAHgVJQAAAAIDC9UlAAAAAIFzvSkAAAACA6/FLQAAAAGC4/kxAAAAAgBSOTUAAAADgo7BNQAAAAIAUzk5AAAAAgOsRT0AAAACAFB5QQAAAAMD1iFJAAAAAYI+CT0AAAADA9chKQAAAACCFS0pAAAAAoHA9TkAAAABAM2NRQAAAACBcj01AAAAA4KPQTkAAAACgcJ1PQA==",
          "dtype": "f8"
         }
        },
        {
         "marker": {
          "color": "#AB63FA",
          "size": 8,
          "symbol": "circle"
         },
         "mode": "markers",
         "name": "Start Forecast - 20250408",
         "type": "scatter",
         "x": [
          "2025-04-09T00:00:00"
         ],
         "y": [
          55.2400016784668
         ]
        },
        {
         "line": {
          "color": "#FFA15A",
          "dash": "dash"
         },
         "mode": "lines",
         "name": "Forecast - 20250410",
         "type": "scatter",
         "x": [
          "2025-04-11T00:00:00.000000000",
          "2025-04-14T00:00:00.000000000",
          "2025-04-15T00:00:00.000000000",
          "2025-04-16T00:00:00.000000000",
          "2025-04-17T00:00:00.000000000",
          "2025-04-18T00:00:00.000000000",
          "2025-04-21T00:00:00.000000000",
          "2025-04-22T00:00:00.000000000",
          "2025-04-23T00:00:00.000000000",
          "2025-04-24T00:00:00.000000000",
          "2025-04-25T00:00:00.000000000",
          "2025-04-28T00:00:00.000000000",
          "2025-04-29T00:00:00.000000000",
          "2025-04-30T00:00:00.000000000",
          "2025-05-01T00:00:00.000000000",
          "2025-05-02T00:00:00.000000000",
          "2025-05-05T00:00:00.000000000",
          "2025-05-06T00:00:00.000000000",
          "2025-05-07T00:00:00.000000000",
          "2025-05-08T00:00:00.000000000",
          "2025-05-09T00:00:00.000000000",
          "2025-05-12T00:00:00.000000000",
          "2025-05-13T00:00:00.000000000",
          "2025-05-14T00:00:00.000000000",
          "2025-06-01T00:00:00.000000000",
          "2025-07-01T00:00:00.000000000",
          "2025-08-01T00:00:00.000000000",
          "2025-09-01T00:00:00.000000000",
          "2025-10-01T00:00:00.000000000",
          "2025-11-01T00:00:00.000000000",
          "2025-12-01T00:00:00.000000000",
          "2026-01-01T00:00:00.000000000",
          "2026-02-01T00:00:00.000000000",
          "2026-03-01T00:00:00.000000000",
          "2026-04-01T00:00:00.000000000",
          "2026-05-01T00:00:00.000000000",
          "2026-06-01T00:00:00.000000000",
          "2026-07-01T00:00:00.000000000",
          "2026-08-01T00:00:00.000000000",
          "2026-09-01T00:00:00.000000000",
          "2026-10-01T00:00:00.000000000",
          "2026-11-01T00:00:00.000000000",
          "2026-12-01T00:00:00.000000000",
          "2027-01-01T00:00:00.000000000",
          "2027-02-01T00:00:00.000000000",
          "2027-03-01T00:00:00.000000000",
          "2027-04-01T00:00:00.000000000"
         ],
         "y": {
          "bdata": "AAAAACk8TEAAAAAAKZxMQAAAAIDrkUxAAAAAoJlZTEABAAAA14NLQAAAAKCZ2UtA////v8wMS0AAAAAAKXxKQAAAACCFa0tAAAAAYGZGS0AAAACAPYpLQAAAAMD1CExAAAAAQAqXS0AAAABguJ5LQAAAAAAAYEtAAAAAIFxvS0AAAACgR0FLQAAAAGC4/kpAAAAAoEcBS0AAAAAghStLQAAAAGBmhktA////31FYS0AAAADgo/BKQAAAACCuh0tAAAAAoJl5TEAAAAAgXM9KQAAAAIA9ykZAAAAAwB6lR0AAAADgozBLQAAAAIDCNUxAAAAAwB5FTUAAAABguF5OQAAAAGCPgk9AAAAAIFwPUEAAAACA6yFQQAAAAMDMvFBAAAAAgOvhUEAAAAAA14NRQAAAAOB6JFRAAAAAYLgeUUAAAABA4RpNQAAAAIDrkUxAAAAAoHBtUEAAAADgeuRSQAAAAGC4DlBAAAAAoHC9UEAAAADAzCxRQA==",
          "dtype": "f8"
         }
        },
        {
         "marker": {
          "color": "#FFA15A",
          "size": 8,
          "symbol": "circle"
         },
         "mode": "markers",
         "name": "Start Forecast - 20250410",
         "type": "scatter",
         "x": [
          "2025-04-11T00:00:00"
         ],
         "y": [
          56.470001220703125
         ]
        },
        {
         "line": {
          "color": "#19D3F3",
          "dash": "dash"
         },
         "mode": "lines",
         "name": "Forecast - 20250418",
         "type": "scatter",
         "x": [
          "2025-04-21T00:00:00.000000000",
          "2025-04-22T00:00:00.000000000",
          "2025-04-23T00:00:00.000000000",
          "2025-04-24T00:00:00.000000000",
          "2025-04-25T00:00:00.000000000",
          "2025-04-28T00:00:00.000000000",
          "2025-04-29T00:00:00.000000000",
          "2025-04-30T00:00:00.000000000",
          "2025-05-01T00:00:00.000000000",
          "2025-05-02T00:00:00.000000000",
          "2025-05-05T00:00:00.000000000",
          "2025-05-06T00:00:00.000000000",
          "2025-05-07T00:00:00.000000000",
          "2025-05-08T00:00:00.000000000",
          "2025-05-09T00:00:00.000000000",
          "2025-05-12T00:00:00.000000000",
          "2025-05-13T00:00:00.000000000",
          "2025-05-14T00:00:00.000000000",
          "2025-05-15T00:00:00.000000000",
          "2025-05-16T00:00:00.000000000",
          "2025-05-19T00:00:00.000000000",
          "2025-05-20T00:00:00.000000000",
          "2025-05-21T00:00:00.000000000",
          "2025-05-22T00:00:00.000000000",
          "2025-06-01T00:00:00.000000000",
          "2025-07-01T00:00:00.000000000",
          "2025-08-01T00:00:00.000000000",
          "2025-09-01T00:00:00.000000000",
          "2025-10-01T00:00:00.000000000",
          "2025-11-01T00:00:00.000000000",
          "2025-12-01T00:00:00.000000000",
          "2026-01-01T00:00:00.000000000",
          "2026-02-01T00:00:00.000000000",
          "2026-03-01T00:00:00.000000000",
          "2026-04-01T00:00:00.000000000",
          "2026-05-01T00:00:00.000000000",
          "2026-06-01T00:00:00.000000000",
          "2026-07-01T00:00:00.000000000",
          "2026-08-01T00:00:00.000000000",
          "2026-09-01T00:00:00.000000000",
          "2026-10-01T00:00:00.000000000",
          "2026-11-01T00:00:00.000000000",
          "2026-12-01T00:00:00.000000000",
          "2027-01-01T00:00:00.000000000",
          "2027-02-01T00:00:00.000000000",
          "2027-03-01T00:00:00.000000000",
          "2027-04-01T00:00:00.000000000"
         ],
         "y": {
          "bdata": "AAAAoEeBTUAAAAAAAGBNQAAAAEAzk01AAAAAQDPTTUAAAADgevRNQAAAAKBw/U1AAQAAANdjTkAAAACgmVlOQAAAAKBwHU5AAAAAQOE6TUAAAACAwpVNQAAAAAApvExAAAAAYI8iTEAAAACgRyFNQAAAAKCZ+UxAAAAAoEdBTUAAAAAgrsdNQAAAACBcT01AAAAAQApXTUAAAABAMxNNQAEAAADXI01AAAAAQDPzTEAAAAAghatMQAAAAIAUrkxAAAAAgBSuUEAAAADA9WhPQAAAAEAzs0pAAAAAQDOzS0AAAABA4dpPQAAAAGBmhlBAAAAAwB4lUUAAAACgmclRQAAAAOB6dFJAAAAAAADQUkAAAACAwuVSQAAAAEDhmlNAAAAAgMLFU0AAAAAA14NUQAEAACCul1dAAAAAoHANVEAAAAAghQtRQAAAACCFu1BAAAAAgBQ+U0AAAACgRyFWQAAAACBcz1JAAAAAACmcU0AAAABguB5UQA==",
          "dtype": "f8"
         }
        },
        {
         "marker": {
          "color": "#19D3F3",
          "size": 8,
          "symbol": "circle"
         },
         "mode": "markers",
         "name": "Start Forecast - 20250418",
         "type": "scatter",
         "x": [
          "2025-04-21T00:00:00"
         ],
         "y": [
          59.0099983215332
         ]
        },
        {
         "line": {
          "color": "#FF6692",
          "dash": "dash"
         },
         "mode": "lines",
         "name": "Forecast - 20250423",
         "type": "scatter",
         "x": [
          "2025-04-24T00:00:00.000000000",
          "2025-04-25T00:00:00.000000000",
          "2025-04-28T00:00:00.000000000",
          "2025-04-29T00:00:00.000000000",
          "2025-04-30T00:00:00.000000000",
          "2025-05-01T00:00:00.000000000",
          "2025-05-02T00:00:00.000000000",
          "2025-05-05T00:00:00.000000000",
          "2025-05-06T00:00:00.000000000",
          "2025-05-07T00:00:00.000000000",
          "2025-05-08T00:00:00.000000000",
          "2025-05-09T00:00:00.000000000",
          "2025-05-12T00:00:00.000000000",
          "2025-05-13T00:00:00.000000000",
          "2025-05-14T00:00:00.000000000",
          "2025-05-15T00:00:00.000000000",
          "2025-05-16T00:00:00.000000000",
          "2025-05-19T00:00:00.000000000",
          "2025-05-20T00:00:00.000000000",
          "2025-05-21T00:00:00.000000000",
          "2025-05-22T00:00:00.000000000",
          "2025-05-23T00:00:00.000000000",
          "2025-05-26T00:00:00.000000000",
          "2025-05-27T00:00:00.000000000",
          "2025-06-01T00:00:00.000000000",
          "2025-07-01T00:00:00.000000000",
          "2025-08-01T00:00:00.000000000",
          "2025-09-01T00:00:00.000000000",
          "2025-10-01T00:00:00.000000000",
          "2025-11-01T00:00:00.000000000",
          "2025-12-01T00:00:00.000000000",
          "2026-01-01T00:00:00.000000000",
          "2026-02-01T00:00:00.000000000",
          "2026-03-01T00:00:00.000000000",
          "2026-04-01T00:00:00.000000000",
          "2026-05-01T00:00:00.000000000",
          "2026-06-01T00:00:00.000000000",
          "2026-07-01T00:00:00.000000000",
          "2026-08-01T00:00:00.000000000",
          "2026-09-01T00:00:00.000000000",
          "2026-10-01T00:00:00.000000000",
          "2026-11-01T00:00:00.000000000",
          "2026-12-01T00:00:00.000000000",
          "2027-01-01T00:00:00.000000000",
          "2027-02-01T00:00:00.000000000",
          "2027-03-01T00:00:00.000000000",
          "2027-04-01T00:00:00.000000000"
         ],
         "y": {
          "bdata": "AAAAIK4nTUAAAACgcL1NQAAAAKCZeU1AAAAAoHB9TUAAAADgo/BNQAAAAIAUzk1AAAAAYI8CTkABAAAA10NOQAAAAMAeZU5AAAAAIFxvTkAAAABACtdOQP///7/MzE5AAAAA4KOQTkAAAACAPapNQAAAAGBmBk5AAAAAwPUoTUAAAACAFI5MQAAAAOCjkE1AAAAAwPVoTUAAAACA67FNQAAAAEDhOk5AAAAAoEfBTUAAAADA9chNQAAAAMAehU1AAAAAoHAdUED////fUVhOQAAAACCFy0lAAAAAYI/CSkAAAABgZsZOQAAAAIAU7k9AAAAAAACQUEAAAABguC5RQAAAAADX01FAAAAAACksUkAAAACgR0FSQAAAAOCj8FJAAAAAgD0aU0AAAACA69FTQAEAAEDhylZAAAAAIFxfU0AAAAAgrndQQAAAAIA9KlBAAAAAQAqXUkAAAADgo2BVQAAAACCFK1JAAAAAoEfxUkAAAAAgXG9TQA==",
          "dtype": "f8"
         }
        },
        {
         "marker": {
          "color": "#FF6692",
          "size": 8,
          "symbol": "circle"
         },
         "mode": "markers",
         "name": "Start Forecast - 20250423",
         "type": "scatter",
         "x": [
          "2025-04-24T00:00:00"
         ],
         "y": [
          58.310001373291016
         ]
        },
        {
         "line": {
          "color": "red"
         },
         "marker": {
          "color": "red",
          "size": 6
         },
         "mode": "lines+markers",
         "name": "Current Price",
         "type": "scatter",
         "x": [
          "2025-03-24T00:00:00",
          "2025-03-25T00:00:00",
          "2025-03-26T00:00:00",
          "2025-03-27T00:00:00",
          "2025-03-28T00:00:00",
          "2025-03-31T00:00:00",
          "2025-04-01T00:00:00",
          "2025-04-02T00:00:00",
          "2025-04-03T00:00:00",
          "2025-04-04T00:00:00",
          "2025-04-07T00:00:00",
          "2025-04-08T00:00:00",
          "2025-04-09T00:00:00",
          "2025-04-10T00:00:00",
          "2025-04-11T00:00:00",
          "2025-04-14T00:00:00",
          "2025-04-15T00:00:00",
          "2025-04-16T00:00:00",
          "2025-04-17T00:00:00",
          "2025-04-21T00:00:00",
          "2025-04-22T00:00:00",
          "2025-04-23T00:00:00"
         ],
         "y": {
          "bdata": "AAAA4KNQTEAAAABA4VpMQAAAAAAA4ExAAAAAYGYmTUAAAABAMxNNQAAAAGCPAk5AAAAAwB5lTUAAAAAgXI9MQAAAAIDr8UxAAAAAwPUITEAAAADgetRLQAAAACCux0tAAAAAgBQuTEAAAADgozBMQAAAAEAzU0xAAAAA4KOQTEAAAABgj8JMQAAAAGCPokxAAAAA4HoUTUAAAADgo9BMQAAAAMD1aE1AAAAAIK5HTUA=",
          "dtype": "f8"
         }
        }
       ],
       "layout": {
        "legend": {
         "font": {
          "size": 10
         },
         "x": 1.05,
         "xanchor": "left",
         "y": 1,
         "yanchor": "top"
        },
        "template": {
         "data": {
          "bar": [
           {
            "error_x": {
             "color": "#2a3f5f"
            },
            "error_y": {
             "color": "#2a3f5f"
            },
            "marker": {
             "line": {
              "color": "white",
              "width": 0.5
             },
             "pattern": {
              "fillmode": "overlay",
              "size": 10,
              "solidity": 0.2
             }
            },
            "type": "bar"
           }
          ],
          "barpolar": [
           {
            "marker": {
             "line": {
              "color": "white",
              "width": 0.5
             },
             "pattern": {
              "fillmode": "overlay",
              "size": 10,
              "solidity": 0.2
             }
            },
            "type": "barpolar"
           }
          ],
          "carpet": [
           {
            "aaxis": {
             "endlinecolor": "#2a3f5f",
             "gridcolor": "#C8D4E3",
             "linecolor": "#C8D4E3",
             "minorgridcolor": "#C8D4E3",
             "startlinecolor": "#2a3f5f"
            },
            "baxis": {
             "endlinecolor": "#2a3f5f",
             "gridcolor": "#C8D4E3",
             "linecolor": "#C8D4E3",
             "minorgridcolor": "#C8D4E3",
             "startlinecolor": "#2a3f5f"
            },
            "type": "carpet"
           }
          ],
          "choropleth": [
           {
            "colorbar": {
             "outlinewidth": 0,
             "ticks": ""
            },
            "type": "choropleth"
           }
          ],
          "contour": [
           {
            "colorbar": {
             "outlinewidth": 0,
             "ticks": ""
            },
            "colorscale": [
             [
              0,
              "#0d0887"
             ],
             [
              0.1111111111111111,
              "#46039f"
             ],
             [
              0.2222222222222222,
              "#7201a8"
             ],
             [
              0.3333333333333333,
              "#9c179e"
             ],
             [
              0.4444444444444444,
              "#bd3786"
             ],
             [
              0.5555555555555556,
              "#d8576b"
             ],
             [
              0.6666666666666666,
              "#ed7953"
             ],
             [
              0.7777777777777778,
              "#fb9f3a"
             ],
             [
              0.8888888888888888,
              "#fdca26"
             ],
             [
              1,
              "#f0f921"
             ]
            ],
            "type": "contour"
           }
          ],
          "contourcarpet": [
           {
            "colorbar": {
             "outlinewidth": 0,
             "ticks": ""
            },
            "type": "contourcarpet"
           }
          ],
          "heatmap": [
           {
            "colorbar": {
             "outlinewidth": 0,
             "ticks": ""
            },
            "colorscale": [
             [
              0,
              "#0d0887"
             ],
             [
              0.1111111111111111,
              "#46039f"
             ],
             [
              0.2222222222222222,
              "#7201a8"
             ],
             [
              0.3333333333333333,
              "#9c179e"
             ],
             [
              0.4444444444444444,
              "#bd3786"
             ],
             [
              0.5555555555555556,
              "#d8576b"
             ],
             [
              0.6666666666666666,
              "#ed7953"
             ],
             [
              0.7777777777777778,
              "#fb9f3a"
             ],
             [
              0.8888888888888888,
              "#fdca26"
             ],
             [
              1,
              "#f0f921"
             ]
            ],
            "type": "heatmap"
           }
          ],
          "histogram": [
           {
            "marker": {
             "pattern": {
              "fillmode": "overlay",
              "size": 10,
              "solidity": 0.2
             }
            },
            "type": "histogram"
           }
          ],
          "histogram2d": [
           {
            "colorbar": {
             "outlinewidth": 0,
             "ticks": ""
            },
            "colorscale": [
             [
              0,
              "#0d0887"
             ],
             [
              0.1111111111111111,
              "#46039f"
             ],
             [
              0.2222222222222222,
              "#7201a8"
             ],
             [
              0.3333333333333333,
              "#9c179e"
             ],
             [
              0.4444444444444444,
              "#bd3786"
             ],
             [
              0.5555555555555556,
              "#d8576b"
             ],
             [
              0.6666666666666666,
              "#ed7953"
             ],
             [
              0.7777777777777778,
              "#fb9f3a"
             ],
             [
              0.8888888888888888,
              "#fdca26"
             ],
             [
              1,
              "#f0f921"
             ]
            ],
            "type": "histogram2d"
           }
          ],
          "histogram2dcontour": [
           {
            "colorbar": {
             "outlinewidth": 0,
             "ticks": ""
            },
            "colorscale": [
             [
              0,
              "#0d0887"
             ],
             [
              0.1111111111111111,
              "#46039f"
             ],
             [
              0.2222222222222222,
              "#7201a8"
             ],
             [
              0.3333333333333333,
              "#9c179e"
             ],
             [
              0.4444444444444444,
              "#bd3786"
             ],
             [
              0.5555555555555556,
              "#d8576b"
             ],
             [
              0.6666666666666666,
              "#ed7953"
             ],
             [
              0.7777777777777778,
              "#fb9f3a"
             ],
             [
              0.8888888888888888,
              "#fdca26"
             ],
             [
              1,
              "#f0f921"
             ]
            ],
            "type": "histogram2dcontour"
           }
          ],
          "mesh3d": [
           {
            "colorbar": {
             "outlinewidth": 0,
             "ticks": ""
            },
            "type": "mesh3d"
           }
          ],
          "parcoords": [
           {
            "line": {
             "colorbar": {
              "outlinewidth": 0,
              "ticks": ""
             }
            },
            "type": "parcoords"
           }
          ],
          "pie": [
           {
            "automargin": true,
            "type": "pie"
           }
          ],
          "scatter": [
           {
            "fillpattern": {
             "fillmode": "overlay",
             "size": 10,
             "solidity": 0.2
            },
            "type": "scatter"
           }
          ],
          "scatter3d": [
           {
            "line": {
             "colorbar": {
              "outlinewidth": 0,
              "ticks": ""
             }
            },
            "marker": {
             "colorbar": {
              "outlinewidth": 0,
              "ticks": ""
             }
            },
            "type": "scatter3d"
           }
          ],
          "scattercarpet": [
           {
            "marker": {
             "colorbar": {
              "outlinewidth": 0,
              "ticks": ""
             }
            },
            "type": "scattercarpet"
           }
          ],
          "scattergeo": [
           {
            "marker": {
             "colorbar": {
              "outlinewidth": 0,
              "ticks": ""
             }
            },
            "type": "scattergeo"
           }
          ],
          "scattergl": [
           {
            "marker": {
             "colorbar": {
              "outlinewidth": 0,
              "ticks": ""
             }
            },
            "type": "scattergl"
           }
          ],
          "scattermap": [
           {
            "marker": {
             "colorbar": {
              "outlinewidth": 0,
              "ticks": ""
             }
            },
            "type": "scattermap"
           }
          ],
          "scattermapbox": [
           {
            "marker": {
             "colorbar": {
              "outlinewidth": 0,
              "ticks": ""
             }
            },
            "type": "scattermapbox"
           }
          ],
          "scatterpolar": [
           {
            "marker": {
             "colorbar": {
              "outlinewidth": 0,
              "ticks": ""
             }
            },
            "type": "scatterpolar"
           }
          ],
          "scatterpolargl": [
           {
            "marker": {
             "colorbar": {
              "outlinewidth": 0,
              "ticks": ""
             }
            },
            "type": "scatterpolargl"
           }
          ],
          "scatterternary": [
           {
            "marker": {
             "colorbar": {
              "outlinewidth": 0,
              "ticks": ""
             }
            },
            "type": "scatterternary"
           }
          ],
          "surface": [
           {
            "colorbar": {
             "outlinewidth": 0,
             "ticks": ""
            },
            "colorscale": [
             [
              0,
              "#0d0887"
             ],
             [
              0.1111111111111111,
              "#46039f"
             ],
             [
              0.2222222222222222,
              "#7201a8"
             ],
             [
              0.3333333333333333,
              "#9c179e"
             ],
             [
              0.4444444444444444,
              "#bd3786"
             ],
             [
              0.5555555555555556,
              "#d8576b"
             ],
             [
              0.6666666666666666,
              "#ed7953"
             ],
             [
              0.7777777777777778,
              "#fb9f3a"
             ],
             [
              0.8888888888888888,
              "#fdca26"
             ],
             [
              1,
              "#f0f921"
             ]
            ],
            "type": "surface"
           }
          ],
          "table": [
           {
            "cells": {
             "fill": {
              "color": "#EBF0F8"
             },
             "line": {
              "color": "white"
             }
            },
            "header": {
             "fill": {
              "color": "#C8D4E3"
             },
             "line": {
              "color": "white"
             }
            },
            "type": "table"
           }
          ]
         },
         "layout": {
          "annotationdefaults": {
           "arrowcolor": "#2a3f5f",
           "arrowhead": 0,
           "arrowwidth": 1
          },
          "autotypenumbers": "strict",
          "coloraxis": {
           "colorbar": {
            "outlinewidth": 0,
            "ticks": ""
           }
          },
          "colorscale": {
           "diverging": [
            [
             0,
             "#8e0152"
            ],
            [
             0.1,
             "#c51b7d"
            ],
            [
             0.2,
             "#de77ae"
            ],
            [
             0.3,
             "#f1b6da"
            ],
            [
             0.4,
             "#fde0ef"
            ],
            [
             0.5,
             "#f7f7f7"
            ],
            [
             0.6,
             "#e6f5d0"
            ],
            [
             0.7,
             "#b8e186"
            ],
            [
             0.8,
             "#7fbc41"
            ],
            [
             0.9,
             "#4d9221"
            ],
            [
             1,
             "#276419"
            ]
           ],
           "sequential": [
            [
             0,
             "#0d0887"
            ],
            [
             0.1111111111111111,
             "#46039f"
            ],
            [
             0.2222222222222222,
             "#7201a8"
            ],
            [
             0.3333333333333333,
             "#9c179e"
            ],
            [
             0.4444444444444444,
             "#bd3786"
            ],
            [
             0.5555555555555556,
             "#d8576b"
            ],
            [
             0.6666666666666666,
             "#ed7953"
            ],
            [
             0.7777777777777778,
             "#fb9f3a"
            ],
            [
             0.8888888888888888,
             "#fdca26"
            ],
            [
             1,
             "#f0f921"
            ]
           ],
           "sequentialminus": [
            [
             0,
             "#0d0887"
            ],
            [
             0.1111111111111111,
             "#46039f"
            ],
            [
             0.2222222222222222,
             "#7201a8"
            ],
            [
             0.3333333333333333,
             "#9c179e"
            ],
            [
             0.4444444444444444,
             "#bd3786"
            ],
            [
             0.5555555555555556,
             "#d8576b"
            ],
            [
             0.6666666666666666,
             "#ed7953"
            ],
            [
             0.7777777777777778,
             "#fb9f3a"
            ],
            [
             0.8888888888888888,
             "#fdca26"
            ],
            [
             1,
             "#f0f921"
            ]
           ]
          },
          "colorway": [
           "#636efa",
           "#EF553B",
           "#00cc96",
           "#ab63fa",
           "#FFA15A",
           "#19d3f3",
           "#FF6692",
           "#B6E880",
           "#FF97FF",
           "#FECB52"
          ],
          "font": {
           "color": "#2a3f5f"
          },
          "geo": {
           "bgcolor": "white",
           "lakecolor": "white",
           "landcolor": "white",
           "showlakes": true,
           "showland": true,
           "subunitcolor": "#C8D4E3"
          },
          "hoverlabel": {
           "align": "left"
          },
          "hovermode": "closest",
          "mapbox": {
           "style": "light"
          },
          "paper_bgcolor": "white",
          "plot_bgcolor": "white",
          "polar": {
           "angularaxis": {
            "gridcolor": "#EBF0F8",
            "linecolor": "#EBF0F8",
            "ticks": ""
           },
           "bgcolor": "white",
           "radialaxis": {
            "gridcolor": "#EBF0F8",
            "linecolor": "#EBF0F8",
            "ticks": ""
           }
          },
          "scene": {
           "xaxis": {
            "backgroundcolor": "white",
            "gridcolor": "#DFE8F3",
            "gridwidth": 2,
            "linecolor": "#EBF0F8",
            "showbackground": true,
            "ticks": "",
            "zerolinecolor": "#EBF0F8"
           },
           "yaxis": {
            "backgroundcolor": "white",
            "gridcolor": "#DFE8F3",
            "gridwidth": 2,
            "linecolor": "#EBF0F8",
            "showbackground": true,
            "ticks": "",
            "zerolinecolor": "#EBF0F8"
           },
           "zaxis": {
            "backgroundcolor": "white",
            "gridcolor": "#DFE8F3",
            "gridwidth": 2,
            "linecolor": "#EBF0F8",
            "showbackground": true,
            "ticks": "",
            "zerolinecolor": "#EBF0F8"
           }
          },
          "shapedefaults": {
           "line": {
            "color": "#2a3f5f"
           }
          },
          "ternary": {
           "aaxis": {
            "gridcolor": "#DFE8F3",
            "linecolor": "#A2B1C6",
            "ticks": ""
           },
           "baxis": {
            "gridcolor": "#DFE8F3",
            "linecolor": "#A2B1C6",
            "ticks": ""
           },
           "bgcolor": "white",
           "caxis": {
            "gridcolor": "#DFE8F3",
            "linecolor": "#A2B1C6",
            "ticks": ""
           }
          },
          "title": {
           "x": 0.05
          },
          "xaxis": {
           "automargin": true,
           "gridcolor": "#EBF0F8",
           "linecolor": "#EBF0F8",
           "ticks": "",
           "title": {
            "standoff": 15
           },
           "zerolinecolor": "#EBF0F8",
           "zerolinewidth": 2
          },
          "yaxis": {
           "automargin": true,
           "gridcolor": "#EBF0F8",
           "linecolor": "#EBF0F8",
           "ticks": "",
           "title": {
            "standoff": 15
           },
           "zerolinecolor": "#EBF0F8",
           "zerolinewidth": 2
          }
         }
        },
        "title": {
         "text": "mo-stock Forecast"
        },
        "xaxis": {
         "range": [
          "2025-03-24T00:00:00",
          "2025-11-01T00:00:00"
         ],
         "tickangle": -45,
         "title": {
          "text": "Date"
         }
        },
        "yaxis": {
         "range": [
          0,
          90.24399871826171
         ],
         "title": {
          "text": "Price / USD"
         }
        }
       }
      }
     },
     "metadata": {},
     "output_type": "display_data"
    }
   ],
   "source": [
    "fh=ForecastHandler(company='mo-stock')\n",
    "fh.load_all_forecasts()\n",
    "fh.plot_forecasts()"
   ]
  }
 ],
 "metadata": {
  "kernelspec": {
   "display_name": ".venv",
   "language": "python",
   "name": "python3"
  },
  "language_info": {
   "codemirror_mode": {
    "name": "ipython",
    "version": 3
   },
   "file_extension": ".py",
   "mimetype": "text/x-python",
   "name": "python",
   "nbconvert_exporter": "python",
   "pygments_lexer": "ipython3",
   "version": "3.10.0"
  }
 },
 "nbformat": 4,
 "nbformat_minor": 2
}

{
 "cells": [
  {
   "cell_type": "markdown",
   "metadata": {},
   "source": [
    "## Check Forecast Quality\n",
    "\n",
    "- create csv files every day by running `get_forecast.ipynb`\n",
    "- use this notebook to load all forecast of previous days and plot agains real stock prize of last week"
   ]
  },
  {
   "cell_type": "code",
   "execution_count": 1,
   "metadata": {},
   "outputs": [],
   "source": [
    "import pandas as pd\n",
    "import numpy as np\n",
    "import matplotlib.pyplot as plt\n",
    "import os\n",
    "from datetime import datetime\n",
    "import yfinance as yf\n",
    "import plotly.graph_objects as go\n",
    "import plotly.express as px\n",
    "from finance_monitor.utils import company_to_ticker_mapping\n",
    "\n",
    "cmap = px.colors.qualitative.Plotly\n",
    "\n",
    "class ForecastHandler:\n",
    "    def __init__(self, company=\"nvidia\", folder=\".\"):\n",
    "        self.company = company\n",
    "        self.folder = folder\n",
    "        self.forecasts = dict()\n",
    "        self.forecast_files = [f for f in os.listdir(self.folder) if f.endswith(\".csv\") and company in f]\n",
    "        print(\"found forecast files:\", self.forecast_files)\n",
    " \n",
    "    def load_all_forecasts(self):\n",
    "        for forecast_file in self.forecast_files:\n",
    "            date = forecast_file.split(\"_\")[0]\n",
    "            self.load_forecast(date)\n",
    " \n",
    "    def load_forecast(self, date):\n",
    "        filename = f'{date}_{self.company}_forecast.csv'\n",
    "        print('load file '+filename)\n",
    "        self.forecasts[date] = pd.read_csv(filename)\n",
    " \n",
    "    def get_stock_price_series(self):\n",
    "        ticker_symbol = company_to_ticker_mapping()[self.company]\n",
    "        ticker_data = yf.Ticker(ticker_symbol)\n",
    "        historical_data = ticker_data.history(period='1mo')\n",
    "        stock_prize = historical_data['Close']\n",
    "        dates = []\n",
    "        for date_i in historical_data.index:\n",
    "            dates.append(pd.Timestamp(year=date_i.year, month=int(date_i.month), day=int(date_i.day)))\n",
    " \n",
    "        #---### todo: dates.append(pd.Timestamp(year=current_year, month=int(day_month[1]), day=int(day_month[0])))\n",
    "        #print(f\"Current stock price of {self.company} is {current_price_usd} USD\")\n",
    "        return stock_prize, dates\n",
    " \n",
    "    def _get_start_date(self, external_start_date):\n",
    "        oldest_date = None\n",
    "        for fc in self.forecasts:\n",
    "            date = self.forecasts[fc]['date']\n",
    "            if oldest_date is None or pd.Timestamp(date[0]) < oldest_date:\n",
    "                oldest_date = pd.Timestamp(date[0])\n",
    "        if external_start_date < oldest_date:\n",
    "                oldest_date = external_start_date\n",
    "        return oldest_date\n",
    "\n",
    "    def plot_forecasts(self):\n",
    "        current_stock_prize, current_stock_prize_dates = self.get_stock_price_series()\n",
    "        idx_forecast_plot = 29  # max.number of forecast day to be plotted\n",
    "        start_date = self._get_start_date(current_stock_prize_dates[0])\n",
    "        \n",
    "        fig, ax = plt.subplots(figsize=(10, 5))\n",
    "        for idx, fc in enumerate(self.forecasts):\n",
    "            date = pd.to_datetime(self.forecasts[fc]['date'])\n",
    "            forecast_list = self.forecasts[fc]['forecast']\n",
    "            ax.plot(date, forecast_list, linestyle='dashed', label=f'Forecast - {fc}', color=cmap[idx % len(cmap)])\n",
    "            ax.scatter([date[0]], [forecast_list[0]], color=cmap[idx % len(cmap)], label=f'Start Forecast - {fc}', zorder=3)\n",
    "        # Current and past stock price as red line\n",
    "        ax.plot(current_stock_prize_dates, current_stock_prize, marker='o', linestyle='-', color='red', label='Current Price')\n",
    "        ax.set_title(f'{self.company} Forecast')\n",
    "        ax.set_xlabel('Date')\n",
    "        ax.set_ylabel('Price / USD')\n",
    "        ax.legend()\n",
    "        ax.grid(True)\n",
    "        plt.xticks(rotation=45)\n",
    "        plt.tight_layout()\n",
    "        plt.xlim([pd.to_datetime(start_date), date[min(idx_forecast_plot, len(date)-1)]])\n",
    "        plt.ylim([0, max(max(current_stock_prize), max(forecast_list[:idx_forecast_plot])) * 1.4])\n",
    "\n",
    "        plt.show()\n",
    "\n",
    "        fig = go.Figure()\n",
    "        for idx, fc in enumerate(self.forecasts):\n",
    "            date = pd.to_datetime(self.forecasts[fc]['date'])\n",
    "            forecast_list = self.forecasts[fc]['forecast']\n",
    "            #low = self.forecasts[fc]['low']\n",
    "            #high = self.forecasts[fc]['high']\n",
    "            \n",
    "            fig.add_trace(go.Scatter(\n",
    "                x=date, y=forecast_list,\n",
    "                mode='lines', \n",
    "                line=dict(dash='dash',color=cmap[idx]),\n",
    "                name=f'Forecast - {fc}'\n",
    "            ))\n",
    "\n",
    "            fig.add_trace(go.Scatter(\n",
    "                x=[date[0]], y=[forecast_list[0]],\n",
    "                mode='markers',\n",
    "                marker=dict(size=8, symbol='circle',color=cmap[idx]),\n",
    "                name=f'Start Forecast - {fc}'\n",
    "            ))\n",
    "            '''\n",
    "            fig.add_trace(go.Scatter(\n",
    "                x=list(date) + list(date[::-1]),\n",
    "                y=list(low) + list(high[::-1]),\n",
    "                fill='toself',\n",
    "                fillcolor='rgba(0, 100, 255, 0.2)',\n",
    "                line=dict(color='rgba(255,255,255,0)'),\n",
    "                name=f'Confidence Interval - {fc}'\n",
    "            ))\n",
    "            '''\n",
    "        # current and past stock prize as red line\n",
    "        fig.add_trace(go.Scatter(\n",
    "            x=current_stock_prize_dates, y=current_stock_prize,\n",
    "            mode='lines+markers',\n",
    "            marker=dict(color='red', size=6),\n",
    "            line=dict(color='red'),\n",
    "            name='Current Price'\n",
    "        ))\n",
    "\n",
    "        fig.update_layout(\n",
    "            title=f'{self.company} Forecast',\n",
    "            xaxis_title='Date',\n",
    "            yaxis_title='Price / USD',\n",
    "            xaxis=dict(tickangle=-45),\n",
    "            template='plotly_white',\n",
    "            legend=dict(\n",
    "                x=1.05,\n",
    "                y=1,\n",
    "                xanchor=\"left\",\n",
    "                yanchor=\"top\",\n",
    "                font=dict(size=10)\n",
    "            )\n",
    "        )\n",
    "        fig.update_xaxes(range=[pd.to_datetime(start_date), date[min(idx_forecast_plot, len(date)-1)]])\n",
    "        fig.update_yaxes(range=[0, max(max(current_stock_prize), max(forecast_list[:idx_forecast_plot])) * 1.4])\n",
    "\n",
    "        #fig.update_layout(\n",
    "        #    plot_bgcolor=\"black\",  # Hintergrund der Zeichenfläche\n",
    "        #    paper_bgcolor=\"black\",  # Gesamter Plot-Hintergrund\n",
    "        #    font=dict(color=\"white\"),  # Schriftfarbe auf weiß setzen\n",
    "        #    xaxis=dict(gridcolor=\"gray\"),  # Gitterlinien in Grau\n",
    "        #    yaxis=dict(gridcolor=\"gray\")\n",
    "        #)\n",
    "        # Plot anzeigen\n",
    "        fig.show()"
   ]
  },
  {
   "cell_type": "code",
   "execution_count": 2,
   "metadata": {},
   "outputs": [
    {
     "name": "stdout",
     "output_type": "stream",
     "text": [
      "found forecast files: ['20250312_nvidia_forecast.csv', '20250313_nvidia_forecast.csv', '20250315_nvidia_forecast.csv', '20250317_nvidia_forecast.csv', '20250318_nvidia_forecast.csv', '20250319_nvidia_forecast.csv', '20250329_nvidia_forecast.csv', '20250402_nvidia_forecast.csv']\n",
      "load file 20250312_nvidia_forecast.csv\n",
      "load file 20250313_nvidia_forecast.csv\n",
      "load file 20250315_nvidia_forecast.csv\n",
      "load file 20250317_nvidia_forecast.csv\n",
      "load file 20250318_nvidia_forecast.csv\n",
      "load file 20250319_nvidia_forecast.csv\n",
      "load file 20250329_nvidia_forecast.csv\n",
      "load file 20250402_nvidia_forecast.csv\n"
     ]
    },
    {
     "data": {
      "image/png": "[encoded data removed]",
      "text/plain": [
       "<Figure size 1000x500 with 1 Axes>"
      ]
     },
     "metadata": {},
     "output_type": "display_data"
    },
    {
     "data": {
      "application/vnd.plotly.v1+json": {
       "config": {
        "plotlyServerURL": "https://plot.ly"
       },
       "data": [
        {
         "line": {
          "color": "#636EFA",
          "dash": "dash"
         },
         "mode": "lines",
         "name": "Forecast - 20250312",
         "type": "scatter",
         "x": [
          "2025-03-13T00:00:00.000000000",
          "2025-03-14T00:00:00.000000000",
          "2025-03-17T00:00:00.000000000",
          "2025-03-18T00:00:00.000000000",
          "2025-03-19T00:00:00.000000000",
          "2025-03-20T00:00:00.000000000",
          "2025-03-21T00:00:00.000000000",
          "2025-03-24T00:00:00.000000000",
          "2025-03-25T00:00:00.000000000",
          "2025-03-26T00:00:00.000000000",
          "2025-03-27T00:00:00.000000000",
          "2025-03-28T00:00:00.000000000",
          "2025-03-31T00:00:00.000000000",
          "2025-04-01T00:00:00.000000000",
          "2025-04-02T00:00:00.000000000",
          "2025-04-03T00:00:00.000000000",
          "2025-04-04T00:00:00.000000000",
          "2025-04-07T00:00:00.000000000",
          "2025-04-08T00:00:00.000000000",
          "2025-04-09T00:00:00.000000000",
          "2025-04-10T00:00:00.000000000",
          "2025-04-11T00:00:00.000000000",
          "2025-04-14T00:00:00.000000000",
          "2025-04-15T00:00:00.000000000",
          "2025-05-01T00:00:00.000000000",
          "2025-06-01T00:00:00.000000000",
          "2025-07-01T00:00:00.000000000",
          "2025-08-01T00:00:00.000000000",
          "2025-09-01T00:00:00.000000000",
          "2025-10-01T00:00:00.000000000",
          "2025-11-01T00:00:00.000000000",
          "2025-12-01T00:00:00.000000000",
          "2026-01-01T00:00:00.000000000",
          "2026-02-01T00:00:00.000000000",
          "2026-03-01T00:00:00.000000000",
          "2026-04-01T00:00:00.000000000",
          "2026-05-01T00:00:00.000000000",
          "2026-06-01T00:00:00.000000000",
          "2026-07-01T00:00:00.000000000",
          "2026-08-01T00:00:00.000000000",
          "2026-09-01T00:00:00.000000000",
          "2026-10-01T00:00:00.000000000",
          "2026-11-01T00:00:00.000000000",
          "2026-12-01T00:00:00.000000000",
          "2027-01-01T00:00:00.000000000",
          "2027-02-01T00:00:00.000000000",
          "2027-03-01T00:00:00.000000000"
         ],
         "y": {
          "bdata": "AAAAAACAXkAAAAAAAABfQAAAAAAAgF1AAAAAAAAAXkAAAAAAAIBcQAAAAAAAwFxAAAAAAABAXUAAAAAAAMBbQAAAAAAAwFxAAAAAAABAW0AAAAAAAEBcQAAAAAAAgFtAAAAAAADAWkAAAAAAAMBZQAAAAAAAAFpAAAAAAAAAWkAAAAAAAABaQAAAAAAAAFpAAAAAAADAWkAAAAAAAIBbQAAAAAAAQFtAAAAAAAAAW0AAAAAAAMBbQAAAAAAAAFxAAAAAAADAWUAAAAAAAABXQAAAAAAAQFZAAAAAAADAVkAAAAAAAEBaQAAAAAAAgFpAAAAAAADAXUAAAAAAAABeQAAAAAAAQGFAAAAAAACgYUAAAAAAAEBjQAAAAAAAIGZAAAAAAACAaUAAAAAAAOBqQAAAAAAAoG1AAAAAAACAbEAAAAAAACBqQAAAAAAAQGtAAAAAAADgbUAAAAAAAKBvQAAAAAAAMHJAAAAAAABgckAAAAAAACB1QA==",
          "dtype": "f8"
         }
        },
        {
         "marker": {
          "color": "#636EFA",
          "size": 8,
          "symbol": "circle"
         },
         "mode": "markers",
         "name": "Start Forecast - 20250312",
         "type": "scatter",
         "x": [
          "2025-03-13T00:00:00"
         ],
         "y": [
          122
         ]
        },
        {
         "line": {
          "color": "#EF553B",
          "dash": "dash"
         },
         "mode": "lines",
         "name": "Forecast - 20250313",
         "type": "scatter",
         "x": [
          "2025-03-13T00:00:00.000000000",
          "2025-03-14T00:00:00.000000000",
          "2025-03-17T00:00:00.000000000",
          "2025-03-18T00:00:00.000000000",
          "2025-03-19T00:00:00.000000000",
          "2025-03-20T00:00:00.000000000",
          "2025-03-21T00:00:00.000000000",
          "2025-03-24T00:00:00.000000000",
          "2025-03-25T00:00:00.000000000",
          "2025-03-26T00:00:00.000000000",
          "2025-03-27T00:00:00.000000000",
          "2025-03-28T00:00:00.000000000",
          "2025-03-31T00:00:00.000000000",
          "2025-04-01T00:00:00.000000000",
          "2025-04-02T00:00:00.000000000",
          "2025-04-03T00:00:00.000000000",
          "2025-04-04T00:00:00.000000000",
          "2025-04-07T00:00:00.000000000",
          "2025-04-08T00:00:00.000000000",
          "2025-04-09T00:00:00.000000000",
          "2025-04-10T00:00:00.000000000",
          "2025-04-11T00:00:00.000000000",
          "2025-04-14T00:00:00.000000000",
          "2025-04-15T00:00:00.000000000",
          "2025-05-01T00:00:00.000000000",
          "2025-06-01T00:00:00.000000000",
          "2025-07-01T00:00:00.000000000",
          "2025-08-01T00:00:00.000000000",
          "2025-09-01T00:00:00.000000000",
          "2025-10-01T00:00:00.000000000",
          "2025-11-01T00:00:00.000000000",
          "2025-12-01T00:00:00.000000000",
          "2026-01-01T00:00:00.000000000",
          "2026-02-01T00:00:00.000000000",
          "2026-03-01T00:00:00.000000000",
          "2026-04-01T00:00:00.000000000",
          "2026-05-01T00:00:00.000000000",
          "2026-06-01T00:00:00.000000000",
          "2026-07-01T00:00:00.000000000",
          "2026-08-01T00:00:00.000000000",
          "2026-09-01T00:00:00.000000000",
          "2026-10-01T00:00:00.000000000",
          "2026-11-01T00:00:00.000000000",
          "2026-12-01T00:00:00.000000000",
          "2027-01-01T00:00:00.000000000",
          "2027-02-01T00:00:00.000000000",
          "2027-03-01T00:00:00.000000000"
         ],
         "y": {
          "bdata": "AAAAAACAXkAAAAAAAABfQAAAAAAAgF1AAAAAAAAAXkAAAAAAAIBcQAAAAAAAwFxAAAAAAABAXUAAAAAAAMBbQAAAAAAAwFxAAAAAAABAW0AAAAAAAEBcQAAAAAAAgFtAAAAAAADAWkAAAAAAAMBZQAAAAAAAAFpAAAAAAAAAWkAAAAAAAABaQAAAAAAAAFpAAAAAAADAWkAAAAAAAIBbQAAAAAAAQFtAAAAAAAAAW0AAAAAAAMBbQAAAAAAAAFxAAAAAAADAWUAAAAAAAABXQAAAAAAAQFZAAAAAAADAVkAAAAAAAEBaQAAAAAAAgFpAAAAAAADAXUAAAAAAAABeQAAAAAAAQGFAAAAAAACgYUAAAAAAAEBjQAAAAAAAIGZAAAAAAACAaUAAAAAAAOBqQAAAAAAAoG1AAAAAAACAbEAAAAAAACBqQAAAAAAAQGtAAAAAAADgbUAAAAAAAKBvQAAAAAAAMHJAAAAAAABgckAAAAAAACB1QA==",
          "dtype": "f8"
         }
        },
        {
         "marker": {
          "color": "#EF553B",
          "size": 8,
          "symbol": "circle"
         },
         "mode": "markers",
         "name": "Start Forecast - 20250313",
         "type": "scatter",
         "x": [
          "2025-03-13T00:00:00"
         ],
         "y": [
          122
         ]
        },
        {
         "line": {
          "color": "#00CC96",
          "dash": "dash"
         },
         "mode": "lines",
         "name": "Forecast - 20250315",
         "type": "scatter",
         "x": [
          "2025-03-17T00:00:00.000000000",
          "2025-03-18T00:00:00.000000000",
          "2025-03-19T00:00:00.000000000",
          "2025-03-20T00:00:00.000000000",
          "2025-03-21T00:00:00.000000000",
          "2025-03-24T00:00:00.000000000",
          "2025-03-25T00:00:00.000000000",
          "2025-03-26T00:00:00.000000000",
          "2025-03-27T00:00:00.000000000",
          "2025-03-28T00:00:00.000000000",
          "2025-03-31T00:00:00.000000000",
          "2025-04-01T00:00:00.000000000",
          "2025-04-02T00:00:00.000000000",
          "2025-04-03T00:00:00.000000000",
          "2025-04-04T00:00:00.000000000",
          "2025-04-07T00:00:00.000000000",
          "2025-04-08T00:00:00.000000000",
          "2025-04-09T00:00:00.000000000",
          "2025-04-10T00:00:00.000000000",
          "2025-04-11T00:00:00.000000000",
          "2025-04-14T00:00:00.000000000",
          "2025-04-15T00:00:00.000000000",
          "2025-04-16T00:00:00.000000000",
          "2025-04-17T00:00:00.000000000",
          "2025-05-01T00:00:00.000000000",
          "2025-06-01T00:00:00.000000000",
          "2025-07-01T00:00:00.000000000",
          "2025-08-01T00:00:00.000000000",
          "2025-09-01T00:00:00.000000000",
          "2025-10-01T00:00:00.000000000",
          "2025-11-01T00:00:00.000000000",
          "2025-12-01T00:00:00.000000000",
          "2026-01-01T00:00:00.000000000",
          "2026-02-01T00:00:00.000000000",
          "2026-03-01T00:00:00.000000000",
          "2026-04-01T00:00:00.000000000",
          "2026-05-01T00:00:00.000000000",
          "2026-06-01T00:00:00.000000000",
          "2026-07-01T00:00:00.000000000",
          "2026-08-01T00:00:00.000000000",
          "2026-09-01T00:00:00.000000000",
          "2026-10-01T00:00:00.000000000",
          "2026-11-01T00:00:00.000000000",
          "2026-12-01T00:00:00.000000000",
          "2027-01-01T00:00:00.000000000",
          "2027-02-01T00:00:00.000000000",
          "2027-03-01T00:00:00.000000000"
         ],
         "y": {
          "bdata": "AAAAAAAAYEAAAAAAAABgQAAAAAAAwGBAAAAAAAAAYUAAAAAAACBgQAAAAAAAYGBAAAAAAAAAX0AAAAAAAEBfQAAAAAAAwF9AAAAAAABAXkAAAAAAAIBfQAAAAAAAAF5AAAAAAAAAX0AAAAAAAEBeQAAAAAAAQF1AAAAAAAAAXEAAAAAAAEBcQAAAAAAAQFxAAAAAAABAXEAAAAAAAEBcQAAAAAAAAF1AAAAAAAAAXkAAAAAAAMBdQAAAAAAAgF1AAAAAAADgYEAAAAAAAEBeQAAAAAAAgF1AAAAAAABAXkAAAAAAAGBhQAAAAAAAgGFAAAAAAACgY0AAAAAAAMBjQAAAAAAAwGZAAAAAAABAZ0AAAAAAAIBpQAAAAAAAYG1AAAAAAADgcEAAAAAAANBxQAAAAAAAsHNAAAAAAADwckAAAAAAAFBxQAAAAAAAEHJAAAAAAADQc0AAAAAAAAB1QAAAAAAAIHhAAAAAAABweEAAAAAAACB8QA==",
          "dtype": "f8"
         }
        },
        {
         "marker": {
          "color": "#00CC96",
          "size": 8,
          "symbol": "circle"
         },
         "mode": "markers",
         "name": "Start Forecast - 20250315",
         "type": "scatter",
         "x": [
          "2025-03-17T00:00:00"
         ],
         "y": [
          128
         ]
        },
        {
         "line": {
          "color": "#AB63FA",
          "dash": "dash"
         },
         "mode": "lines",
         "name": "Forecast - 20250317",
         "type": "scatter",
         "x": [
          "2025-03-18T00:00:00.000000000",
          "2025-03-19T00:00:00.000000000",
          "2025-03-20T00:00:00.000000000",
          "2025-03-21T00:00:00.000000000",
          "2025-03-24T00:00:00.000000000",
          "2025-03-25T00:00:00.000000000",
          "2025-03-26T00:00:00.000000000",
          "2025-03-27T00:00:00.000000000",
          "2025-03-28T00:00:00.000000000",
          "2025-03-31T00:00:00.000000000",
          "2025-04-01T00:00:00.000000000",
          "2025-04-02T00:00:00.000000000",
          "2025-04-03T00:00:00.000000000",
          "2025-04-04T00:00:00.000000000",
          "2025-04-07T00:00:00.000000000",
          "2025-04-08T00:00:00.000000000",
          "2025-04-09T00:00:00.000000000",
          "2025-04-10T00:00:00.000000000",
          "2025-04-11T00:00:00.000000000",
          "2025-04-14T00:00:00.000000000",
          "2025-04-15T00:00:00.000000000",
          "2025-04-16T00:00:00.000000000",
          "2025-04-17T00:00:00.000000000",
          "2025-04-18T00:00:00.000000000",
          "2025-05-01T00:00:00.000000000",
          "2025-06-01T00:00:00.000000000",
          "2025-07-01T00:00:00.000000000",
          "2025-08-01T00:00:00.000000000",
          "2025-09-01T00:00:00.000000000",
          "2025-10-01T00:00:00.000000000",
          "2025-11-01T00:00:00.000000000",
          "2025-12-01T00:00:00.000000000",
          "2026-01-01T00:00:00.000000000",
          "2026-02-01T00:00:00.000000000",
          "2026-03-01T00:00:00.000000000",
          "2026-04-01T00:00:00.000000000",
          "2026-05-01T00:00:00.000000000",
          "2026-06-01T00:00:00.000000000",
          "2026-07-01T00:00:00.000000000",
          "2026-08-01T00:00:00.000000000",
          "2026-09-01T00:00:00.000000000",
          "2026-10-01T00:00:00.000000000",
          "2026-11-01T00:00:00.000000000",
          "2026-12-01T00:00:00.000000000",
          "2027-01-01T00:00:00.000000000",
          "2027-02-01T00:00:00.000000000",
          "2027-03-01T00:00:00.000000000"
         ],
         "y": {
          "bdata": "AAAAAAAAYEAAAAAAAABgQAAAAAAAwGBAAAAAAAAAYUAAAAAAACBgQAAAAAAAYGBAAAAAAAAAX0AAAAAAAEBfQAAAAAAAwF9AAAAAAABAXkAAAAAAAIBfQAAAAAAAAF5AAAAAAAAAX0AAAAAAAEBeQAAAAAAAQF1AAAAAAAAAXEAAAAAAAEBcQAAAAAAAQFxAAAAAAABAXEAAAAAAAEBcQAAAAAAAAF1AAAAAAAAAXkAAAAAAAMBdQAAAAAAAgF1AAAAAAABAX0AAAAAAAABcQAAAAAAAQFtAAAAAAADAW0AAAAAAAABgQAAAAAAAIGBAAAAAAAAAYkAAAAAAACBiQAAAAAAA4GRAAAAAAABAZUAAAAAAAEBnQAAAAAAAwGpAAAAAAADAbkAAAAAAAEBwQAAAAAAA8HFAAAAAAABAcUAAAAAAAIBvQAAAAAAAcHBAAAAAAAAAckAAAAAAABBzQAAAAAAA8HVAAAAAAAAwdkAAAAAAAIB5QA==",
          "dtype": "f8"
         }
        },
        {
         "marker": {
          "color": "#AB63FA",
          "size": 8,
          "symbol": "circle"
         },
         "mode": "markers",
         "name": "Start Forecast - 20250317",
         "type": "scatter",
         "x": [
          "2025-03-18T00:00:00"
         ],
         "y": [
          128
         ]
        },
        {
         "line": {
          "color": "#FFA15A",
          "dash": "dash"
         },
         "mode": "lines",
         "name": "Forecast - 20250318",
         "type": "scatter",
         "x": [
          "2025-03-19T00:00:00.000000000",
          "2025-03-20T00:00:00.000000000",
          "2025-03-21T00:00:00.000000000",
          "2025-03-24T00:00:00.000000000",
          "2025-03-25T00:00:00.000000000",
          "2025-03-26T00:00:00.000000000",
          "2025-03-27T00:00:00.000000000",
          "2025-03-28T00:00:00.000000000",
          "2025-03-31T00:00:00.000000000",
          "2025-04-01T00:00:00.000000000",
          "2025-04-02T00:00:00.000000000",
          "2025-04-03T00:00:00.000000000",
          "2025-04-04T00:00:00.000000000",
          "2025-04-07T00:00:00.000000000",
          "2025-04-08T00:00:00.000000000",
          "2025-04-09T00:00:00.000000000",
          "2025-04-10T00:00:00.000000000",
          "2025-04-11T00:00:00.000000000",
          "2025-04-14T00:00:00.000000000",
          "2025-04-15T00:00:00.000000000",
          "2025-04-16T00:00:00.000000000",
          "2025-04-17T00:00:00.000000000",
          "2025-04-18T00:00:00.000000000",
          "2025-04-21T00:00:00.000000000",
          "2025-05-01T00:00:00.000000000",
          "2025-06-01T00:00:00.000000000",
          "2025-07-01T00:00:00.000000000",
          "2025-08-01T00:00:00.000000000",
          "2025-09-01T00:00:00.000000000",
          "2025-10-01T00:00:00.000000000",
          "2025-11-01T00:00:00.000000000",
          "2025-12-01T00:00:00.000000000",
          "2026-01-01T00:00:00.000000000",
          "2026-02-01T00:00:00.000000000",
          "2026-03-01T00:00:00.000000000",
          "2026-04-01T00:00:00.000000000",
          "2026-05-01T00:00:00.000000000",
          "2026-06-01T00:00:00.000000000",
          "2026-07-01T00:00:00.000000000",
          "2026-08-01T00:00:00.000000000",
          "2026-09-01T00:00:00.000000000",
          "2026-10-01T00:00:00.000000000",
          "2026-11-01T00:00:00.000000000",
          "2026-12-01T00:00:00.000000000",
          "2027-01-01T00:00:00.000000000",
          "2027-02-01T00:00:00.000000000",
          "2027-03-01T00:00:00.000000000"
         ],
         "y": {
          "bdata": "AAAAAADAW0AAAAAAAEBbQAAAAAAAgFxAAAAAAACAXEAAAAAAAABeQAAAAAAAgF5AAAAAAAAAXUAAAAAAAIBdQAAAAAAAAFxAAAAAAABAXEAAAAAAAMBcQAAAAAAAQFtAAAAAAABAXEAAAAAAAMBaQAAAAAAAwFtAAAAAAAAAW0AAAAAAAEBaQAAAAAAAQFlAAAAAAACAWUAAAAAAAIBZQAAAAAAAgFlAAAAAAACAWUAAAAAAAEBaQAAAAAAAAFtAAAAAAABAXEAAAAAAAEBZQAAAAAAAgFhAAAAAAAAAWUAAAAAAAMBcQAAAAAAAAF1AAAAAAABAYEAAAAAAAGBgQAAAAAAA4GJAAAAAAABAY0AAAAAAACBlQAAAAAAAQGhAAAAAAADga0AAAAAAAGBtQAAAAAAAMHBAAAAAAAAgb0AAAAAAAIBsQAAAAAAAwG1AAAAAAABQcEAAAAAAAEBxQAAAAAAA0HNAAAAAAAAQdEAAAAAAABB3QA==",
          "dtype": "f8"
         }
        },
        {
         "marker": {
          "color": "#FFA15A",
          "size": 8,
          "symbol": "circle"
         },
         "mode": "markers",
         "name": "Start Forecast - 20250318",
         "type": "scatter",
         "x": [
          "2025-03-19T00:00:00"
         ],
         "y": [
          111
         ]
        },
        {
         "line": {
          "color": "#19D3F3",
          "dash": "dash"
         },
         "mode": "lines",
         "name": "Forecast - 20250319",
         "type": "scatter",
         "x": [
          "2025-03-20T00:00:00.000000000",
          "2025-03-21T00:00:00.000000000",
          "2025-03-24T00:00:00.000000000",
          "2025-03-25T00:00:00.000000000",
          "2025-03-26T00:00:00.000000000",
          "2025-03-27T00:00:00.000000000",
          "2025-03-28T00:00:00.000000000",
          "2025-03-31T00:00:00.000000000",
          "2025-04-01T00:00:00.000000000",
          "2025-04-02T00:00:00.000000000",
          "2025-04-03T00:00:00.000000000",
          "2025-04-04T00:00:00.000000000",
          "2025-04-07T00:00:00.000000000",
          "2025-04-08T00:00:00.000000000",
          "2025-04-09T00:00:00.000000000",
          "2025-04-10T00:00:00.000000000",
          "2025-04-11T00:00:00.000000000",
          "2025-04-14T00:00:00.000000000",
          "2025-04-15T00:00:00.000000000",
          "2025-04-16T00:00:00.000000000",
          "2025-04-17T00:00:00.000000000",
          "2025-04-18T00:00:00.000000000",
          "2025-04-21T00:00:00.000000000",
          "2025-04-22T00:00:00.000000000",
          "2025-05-01T00:00:00.000000000",
          "2025-06-01T00:00:00.000000000",
          "2025-07-01T00:00:00.000000000",
          "2025-08-01T00:00:00.000000000",
          "2025-09-01T00:00:00.000000000",
          "2025-10-01T00:00:00.000000000",
          "2025-11-01T00:00:00.000000000",
          "2025-12-01T00:00:00.000000000",
          "2026-01-01T00:00:00.000000000",
          "2026-02-01T00:00:00.000000000",
          "2026-03-01T00:00:00.000000000",
          "2026-04-01T00:00:00.000000000",
          "2026-05-01T00:00:00.000000000",
          "2026-06-01T00:00:00.000000000",
          "2026-07-01T00:00:00.000000000",
          "2026-08-01T00:00:00.000000000",
          "2026-09-01T00:00:00.000000000",
          "2026-10-01T00:00:00.000000000",
          "2026-11-01T00:00:00.000000000",
          "2026-12-01T00:00:00.000000000",
          "2027-01-01T00:00:00.000000000",
          "2027-02-01T00:00:00.000000000",
          "2027-03-01T00:00:00.000000000"
         ],
         "y": {
          "bdata": "AAAAAADAW0AAAAAAAEBbQAAAAAAAgFxAAAAAAACAXEAAAAAAAABeQAAAAAAAgF5AAAAAAAAAXUAAAAAAAIBdQAAAAAAAAFxAAAAAAABAXEAAAAAAAMBcQAAAAAAAQFtAAAAAAABAXEAAAAAAAMBaQAAAAAAAwFtAAAAAAAAAW0AAAAAAAEBaQAAAAAAAQFlAAAAAAACAWUAAAAAAAIBZQAAAAAAAgFlAAAAAAACAWUAAAAAAAEBaQAAAAAAAAFtAAAAAAACAX0AAAAAAAEBcQAAAAAAAgFtAAAAAAAAAXEAAAAAAACBgQAAAAAAAQGBAAAAAAAAgYkAAAAAAAEBiQAAAAAAAAGVAAAAAAABgZUAAAAAAAGBnQAAAAAAA4GpAAAAAAADgbkAAAAAAAFBwQAAAAAAAAHJAAAAAAABQcUAAAAAAAKBvQAAAAAAAgHBAAAAAAAAQckAAAAAAACBzQAAAAAAAAHZAAAAAAABAdkAAAAAAAJB5QA==",
          "dtype": "f8"
         }
        },
        {
         "marker": {
          "color": "#19D3F3",
          "size": 8,
          "symbol": "circle"
         },
         "mode": "markers",
         "name": "Start Forecast - 20250319",
         "type": "scatter",
         "x": [
          "2025-03-20T00:00:00"
         ],
         "y": [
          111
         ]
        },
        {
         "line": {
          "color": "#FF6692",
          "dash": "dash"
         },
         "mode": "lines",
         "name": "Forecast - 20250329",
         "type": "scatter",
         "x": [
          "2025-03-31T00:00:00.000000000",
          "2025-04-01T00:00:00.000000000",
          "2025-04-02T00:00:00.000000000",
          "2025-04-03T00:00:00.000000000",
          "2025-04-04T00:00:00.000000000",
          "2025-04-07T00:00:00.000000000",
          "2025-04-08T00:00:00.000000000",
          "2025-04-09T00:00:00.000000000",
          "2025-04-10T00:00:00.000000000",
          "2025-04-11T00:00:00.000000000",
          "2025-04-14T00:00:00.000000000",
          "2025-04-15T00:00:00.000000000",
          "2025-04-16T00:00:00.000000000",
          "2025-04-17T00:00:00.000000000",
          "2025-04-18T00:00:00.000000000",
          "2025-04-21T00:00:00.000000000",
          "2025-04-22T00:00:00.000000000",
          "2025-04-23T00:00:00.000000000",
          "2025-04-24T00:00:00.000000000",
          "2025-04-25T00:00:00.000000000",
          "2025-04-28T00:00:00.000000000",
          "2025-04-29T00:00:00.000000000",
          "2025-04-30T00:00:00.000000000",
          "2025-05-01T00:00:00.000000000",
          "2025-05-01T00:00:00.000000000",
          "2025-06-01T00:00:00.000000000",
          "2025-07-01T00:00:00.000000000",
          "2025-08-01T00:00:00.000000000",
          "2025-09-01T00:00:00.000000000",
          "2025-10-01T00:00:00.000000000",
          "2025-11-01T00:00:00.000000000",
          "2025-12-01T00:00:00.000000000",
          "2026-01-01T00:00:00.000000000",
          "2026-02-01T00:00:00.000000000",
          "2026-03-01T00:00:00.000000000",
          "2026-04-01T00:00:00.000000000",
          "2026-05-01T00:00:00.000000000",
          "2026-06-01T00:00:00.000000000",
          "2026-07-01T00:00:00.000000000",
          "2026-08-01T00:00:00.000000000",
          "2026-09-01T00:00:00.000000000",
          "2026-10-01T00:00:00.000000000",
          "2026-11-01T00:00:00.000000000",
          "2026-12-01T00:00:00.000000000",
          "2027-01-01T00:00:00.000000000",
          "2027-02-01T00:00:00.000000000",
          "2027-03-01T00:00:00.000000000"
         ],
         "y": {
          "bdata": "AAAAAAAAW0AAAAAAAIBaQAAAAAAAQFlAAAAAAAAAWUAAAAAAAMBZQAAAAAAAgFlAAAAAAADAWUAAAAAAAEBaQAAAAAAAQFlAAAAAAADAWEAAAAAAAABaQAAAAAAAAFpAAAAAAABAW0AAAAAAAMBbQAAAAAAAQFpAAAAAAADAWkAAAAAAAIBZQAAAAAAAwFlAAAAAAABAWkAAAAAAAABZQAAAAAAAAFpAAAAAAADAWEAAAAAAAMBZQAAAAAAAAFlAAAAAAADAWkAAAAAAAABYQAAAAAAAQFdAAAAAAADAV0AAAAAAAEBbQAAAAAAAgFtAAAAAAADAXkAAAAAAAABfQAAAAAAA4GFAAAAAAABAYkAAAAAAAABkQAAAAAAAAGdAAAAAAACAakAAAAAAAABsQAAAAAAA4G5AAAAAAACgbUAAAAAAACBrQAAAAAAAYGxAAAAAAAAgb0AAAAAAAIBwQAAAAAAAAHNAAAAAAABAc0AAAAAAACB2QA==",
          "dtype": "f8"
         }
        },
        {
         "marker": {
          "color": "#FF6692",
          "size": 8,
          "symbol": "circle"
         },
         "mode": "markers",
         "name": "Start Forecast - 20250329",
         "type": "scatter",
         "x": [
          "2025-03-31T00:00:00"
         ],
         "y": [
          108
         ]
        },
        {
         "line": {
          "color": "#B6E880",
          "dash": "dash"
         },
         "mode": "lines",
         "name": "Forecast - 20250402",
         "type": "scatter",
         "x": [
          "2025-04-03T00:00:00.000000000",
          "2025-04-04T00:00:00.000000000",
          "2025-04-07T00:00:00.000000000",
          "2025-04-08T00:00:00.000000000",
          "2025-04-09T00:00:00.000000000",
          "2025-04-10T00:00:00.000000000",
          "2025-04-11T00:00:00.000000000",
          "2025-04-14T00:00:00.000000000",
          "2025-04-15T00:00:00.000000000",
          "2025-04-16T00:00:00.000000000",
          "2025-04-17T00:00:00.000000000",
          "2025-04-18T00:00:00.000000000",
          "2025-04-21T00:00:00.000000000",
          "2025-04-22T00:00:00.000000000",
          "2025-04-23T00:00:00.000000000",
          "2025-04-24T00:00:00.000000000",
          "2025-04-25T00:00:00.000000000",
          "2025-04-28T00:00:00.000000000",
          "2025-04-29T00:00:00.000000000",
          "2025-04-30T00:00:00.000000000",
          "2025-05-01T00:00:00.000000000",
          "2025-05-02T00:00:00.000000000",
          "2025-05-05T00:00:00.000000000",
          "2025-05-06T00:00:00.000000000",
          "2025-06-01T00:00:00.000000000",
          "2025-07-01T00:00:00.000000000",
          "2025-08-01T00:00:00.000000000",
          "2025-09-01T00:00:00.000000000",
          "2025-10-01T00:00:00.000000000",
          "2025-11-01T00:00:00.000000000",
          "2025-12-01T00:00:00.000000000",
          "2026-01-01T00:00:00.000000000",
          "2026-02-01T00:00:00.000000000",
          "2026-03-01T00:00:00.000000000",
          "2026-04-01T00:00:00.000000000",
          "2026-05-01T00:00:00.000000000",
          "2026-06-01T00:00:00.000000000",
          "2026-07-01T00:00:00.000000000",
          "2026-08-01T00:00:00.000000000",
          "2026-09-01T00:00:00.000000000",
          "2026-10-01T00:00:00.000000000",
          "2026-11-01T00:00:00.000000000",
          "2026-12-01T00:00:00.000000000",
          "2027-01-01T00:00:00.000000000",
          "2027-02-01T00:00:00.000000000",
          "2027-03-01T00:00:00.000000000",
          "2027-04-01T00:00:00.000000000"
         ],
         "y": {
          "bdata": "AAAAAADAW0AAAAAAAEBcQAAAAAAAAFxAAAAAAACAW0AAAAAAAABbQAAAAAAAwFlAAAAAAACAWUAAAAAAAEBaQAAAAAAAAFpAAAAAAABAWkAAAAAAAMBaQAAAAAAAwFlAAAAAAABAWUAAAAAAAIBaQAAAAAAAgFpAAAAAAADAW0AAAAAAAEBcQAAAAAAAwFpAAAAAAABAW0AAAAAAAABaQAAAAAAAQFpAAAAAAADAWkAAAAAAAIBZQAAAAAAAgFpAAAAAAACAVUAAAAAAAEBWQAAAAAAAAFRAAAAAAABAVEAAAAAAAMBUQAAAAAAAwFdAAAAAAADAV0AAAAAAAIBaQAAAAAAAwFpAAAAAAADAXkAAAAAAAEBfQAAAAAAAIGFAAAAAAADAY0AAAAAAAMBmQAAAAAAAAGhAAAAAAACAakAAAAAAAIBpQAAAAAAAYGdAAAAAAABgaEAAAAAAAMBqQAAAAAAAYGxAAAAAAABQcEAAAAAAAIBwQA==",
          "dtype": "f8"
         }
        },
        {
         "marker": {
          "color": "#B6E880",
          "size": 8,
          "symbol": "circle"
         },
         "mode": "markers",
         "name": "Start Forecast - 20250402",
         "type": "scatter",
         "x": [
          "2025-04-03T00:00:00"
         ],
         "y": [
          111
         ]
        },
        {
         "line": {
          "color": "red"
         },
         "marker": {
          "color": "red",
          "size": 6
         },
         "mode": "lines+markers",
         "name": "Current Price",
         "type": "scatter",
         "x": [
          "2025-03-03T00:00:00",
          "2025-03-04T00:00:00",
          "2025-03-05T00:00:00",
          "2025-03-06T00:00:00",
          "2025-03-07T00:00:00",
          "2025-03-10T00:00:00",
          "2025-03-11T00:00:00",
          "2025-03-12T00:00:00",
          "2025-03-13T00:00:00",
          "2025-03-14T00:00:00",
          "2025-03-17T00:00:00",
          "2025-03-18T00:00:00",
          "2025-03-19T00:00:00",
          "2025-03-20T00:00:00",
          "2025-03-21T00:00:00",
          "2025-03-24T00:00:00",
          "2025-03-25T00:00:00",
          "2025-03-26T00:00:00",
          "2025-03-27T00:00:00",
          "2025-03-28T00:00:00",
          "2025-03-31T00:00:00",
          "2025-04-01T00:00:00",
          "2025-04-02T00:00:00"
         ],
         "y": {
          "bdata": "AAAAICuDXEAAAABgrf5cQAAAAICCUl1AAAAAQNSjW0AAAABAfytcQAAAACAXvlpAAAAAAAAwW0AAAAAgXO9cQAAAAMAe5VxAAAAAQOFqXkAAAACA6+FdQAAAACCF21xAAAAAoEdhXUAAAACA66FdQAAAAMDMbF1AAAAAgD1aXkAAAAAAKSxeQAAAAOCjcFxAAAAAIIXbW0AAAABA4WpbQAAAAOBRGFtAAAAAoJmJW0AAAABA4ZpbQA==",
          "dtype": "f8"
         }
        }
       ],
       "layout": {
        "legend": {
         "font": {
          "size": 10
         },
         "x": 1.05,
         "xanchor": "left",
         "y": 1,
         "yanchor": "top"
        },
        "template": {
         "data": {
          "bar": [
           {
            "error_x": {
             "color": "#2a3f5f"
            },
            "error_y": {
             "color": "#2a3f5f"
            },
            "marker": {
             "line": {
              "color": "white",
              "width": 0.5
             },
             "pattern": {
              "fillmode": "overlay",
              "size": 10,
              "solidity": 0.2
             }
            },
            "type": "bar"
           }
          ],
          "barpolar": [
           {
            "marker": {
             "line": {
              "color": "white",
              "width": 0.5
             },
             "pattern": {
              "fillmode": "overlay",
              "size": 10,
              "solidity": 0.2
             }
            },
            "type": "barpolar"
           }
          ],
          "carpet": [
           {
            "aaxis": {
             "endlinecolor": "#2a3f5f",
             "gridcolor": "#C8D4E3",
             "linecolor": "#C8D4E3",
             "minorgridcolor": "#C8D4E3",
             "startlinecolor": "#2a3f5f"
            },
            "baxis": {
             "endlinecolor": "#2a3f5f",
             "gridcolor": "#C8D4E3",
             "linecolor": "#C8D4E3",
             "minorgridcolor": "#C8D4E3",
             "startlinecolor": "#2a3f5f"
            },
            "type": "carpet"
           }
          ],
          "choropleth": [
           {
            "colorbar": {
             "outlinewidth": 0,
             "ticks": ""
            },
            "type": "choropleth"
           }
          ],
          "contour": [
           {
            "colorbar": {
             "outlinewidth": 0,
             "ticks": ""
            },
            "colorscale": [
             [
              0,
              "#0d0887"
             ],
             [
              0.1111111111111111,
              "#46039f"
             ],
             [
              0.2222222222222222,
              "#7201a8"
             ],
             [
              0.3333333333333333,
              "#9c179e"
             ],
             [
              0.4444444444444444,
              "#bd3786"
             ],
             [
              0.5555555555555556,
              "#d8576b"
             ],
             [
              0.6666666666666666,
              "#ed7953"
             ],
             [
              0.7777777777777778,
              "#fb9f3a"
             ],
             [
              0.8888888888888888,
              "#fdca26"
             ],
             [
              1,
              "#f0f921"
             ]
            ],
            "type": "contour"
           }
          ],
          "contourcarpet": [
           {
            "colorbar": {
             "outlinewidth": 0,
             "ticks": ""
            },
            "type": "contourcarpet"
           }
          ],
          "heatmap": [
           {
            "colorbar": {
             "outlinewidth": 0,
             "ticks": ""
            },
            "colorscale": [
             [
              0,
              "#0d0887"
             ],
             [
              0.1111111111111111,
              "#46039f"
             ],
             [
              0.2222222222222222,
              "#7201a8"
             ],
             [
              0.3333333333333333,
              "#9c179e"
             ],
             [
              0.4444444444444444,
              "#bd3786"
             ],
             [
              0.5555555555555556,
              "#d8576b"
             ],
             [
              0.6666666666666666,
              "#ed7953"
             ],
             [
              0.7777777777777778,
              "#fb9f3a"
             ],
             [
              0.8888888888888888,
              "#fdca26"
             ],
             [
              1,
              "#f0f921"
             ]
            ],
            "type": "heatmap"
           }
          ],
          "histogram": [
           {
            "marker": {
             "pattern": {
              "fillmode": "overlay",
              "size": 10,
              "solidity": 0.2
             }
            },
            "type": "histogram"
           }
          ],
          "histogram2d": [
           {
            "colorbar": {
             "outlinewidth": 0,
             "ticks": ""
            },
            "colorscale": [
             [
              0,
              "#0d0887"
             ],
             [
              0.1111111111111111,
              "#46039f"
             ],
             [
              0.2222222222222222,
              "#7201a8"
             ],
             [
              0.3333333333333333,
              "#9c179e"
             ],
             [
              0.4444444444444444,
              "#bd3786"
             ],
             [
              0.5555555555555556,
              "#d8576b"
             ],
             [
              0.6666666666666666,
              "#ed7953"
             ],
             [
              0.7777777777777778,
              "#fb9f3a"
             ],
             [
              0.8888888888888888,
              "#fdca26"
             ],
             [
              1,
              "#f0f921"
             ]
            ],
            "type": "histogram2d"
           }
          ],
          "histogram2dcontour": [
           {
            "colorbar": {
             "outlinewidth": 0,
             "ticks": ""
            },
            "colorscale": [
             [
              0,
              "#0d0887"
             ],
             [
              0.1111111111111111,
              "#46039f"
             ],
             [
              0.2222222222222222,
              "#7201a8"
             ],
             [
              0.3333333333333333,
              "#9c179e"
             ],
             [
              0.4444444444444444,
              "#bd3786"
             ],
             [
              0.5555555555555556,
              "#d8576b"
             ],
             [
              0.6666666666666666,
              "#ed7953"
             ],
             [
              0.7777777777777778,
              "#fb9f3a"
             ],
             [
              0.8888888888888888,
              "#fdca26"
             ],
             [
              1,
              "#f0f921"
             ]
            ],
            "type": "histogram2dcontour"
           }
          ],
          "mesh3d": [
           {
            "colorbar": {
             "outlinewidth": 0,
             "ticks": ""
            },
            "type": "mesh3d"
           }
          ],
          "parcoords": [
           {
            "line": {
             "colorbar": {
              "outlinewidth": 0,
              "ticks": ""
             }
            },
            "type": "parcoords"
           }
          ],
          "pie": [
           {
            "automargin": true,
            "type": "pie"
           }
          ],
          "scatter": [
           {
            "fillpattern": {
             "fillmode": "overlay",
             "size": 10,
             "solidity": 0.2
            },
            "type": "scatter"
           }
          ],
          "scatter3d": [
           {
            "line": {
             "colorbar": {
              "outlinewidth": 0,
              "ticks": ""
             }
            },
            "marker": {
             "colorbar": {
              "outlinewidth": 0,
              "ticks": ""
             }
            },
            "type": "scatter3d"
           }
          ],
          "scattercarpet": [
           {
            "marker": {
             "colorbar": {
              "outlinewidth": 0,
              "ticks": ""
             }
            },
            "type": "scattercarpet"
           }
          ],
          "scattergeo": [
           {
            "marker": {
             "colorbar": {
              "outlinewidth": 0,
              "ticks": ""
             }
            },
            "type": "scattergeo"
           }
          ],
          "scattergl": [
           {
            "marker": {
             "colorbar": {
              "outlinewidth": 0,
              "ticks": ""
             }
            },
            "type": "scattergl"
           }
          ],
          "scattermap": [
           {
            "marker": {
             "colorbar": {
              "outlinewidth": 0,
              "ticks": ""
             }
            },
            "type": "scattermap"
           }
          ],
          "scattermapbox": [
           {
            "marker": {
             "colorbar": {
              "outlinewidth": 0,
              "ticks": ""
             }
            },
            "type": "scattermapbox"
           }
          ],
          "scatterpolar": [
           {
            "marker": {
             "colorbar": {
              "outlinewidth": 0,
              "ticks": ""
             }
            },
            "type": "scatterpolar"
           }
          ],
          "scatterpolargl": [
           {
            "marker": {
             "colorbar": {
              "outlinewidth": 0,
              "ticks": ""
             }
            },
            "type": "scatterpolargl"
           }
          ],
          "scatterternary": [
           {
            "marker": {
             "colorbar": {
              "outlinewidth": 0,
              "ticks": ""
             }
            },
            "type": "scatterternary"
           }
          ],
          "surface": [
           {
            "colorbar": {
             "outlinewidth": 0,
             "ticks": ""
            },
            "colorscale": [
             [
              0,
              "#0d0887"
             ],
             [
              0.1111111111111111,
              "#46039f"
             ],
             [
              0.2222222222222222,
              "#7201a8"
             ],
             [
              0.3333333333333333,
              "#9c179e"
             ],
             [
              0.4444444444444444,
              "#bd3786"
             ],
             [
              0.5555555555555556,
              "#d8576b"
             ],
             [
              0.6666666666666666,
              "#ed7953"
             ],
             [
              0.7777777777777778,
              "#fb9f3a"
             ],
             [
              0.8888888888888888,
              "#fdca26"
             ],
             [
              1,
              "#f0f921"
             ]
            ],
            "type": "surface"
           }
          ],
          "table": [
           {
            "cells": {
             "fill": {
              "color": "#EBF0F8"
             },
             "line": {
              "color": "white"
             }
            },
            "header": {
             "fill": {
              "color": "#C8D4E3"
             },
             "line": {
              "color": "white"
             }
            },
            "type": "table"
           }
          ]
         },
         "layout": {
          "annotationdefaults": {
           "arrowcolor": "#2a3f5f",
           "arrowhead": 0,
           "arrowwidth": 1
          },
          "autotypenumbers": "strict",
          "coloraxis": {
           "colorbar": {
            "outlinewidth": 0,
            "ticks": ""
           }
          },
          "colorscale": {
           "diverging": [
            [
             0,
             "#8e0152"
            ],
            [
             0.1,
             "#c51b7d"
            ],
            [
             0.2,
             "#de77ae"
            ],
            [
             0.3,
             "#f1b6da"
            ],
            [
             0.4,
             "#fde0ef"
            ],
            [
             0.5,
             "#f7f7f7"
            ],
            [
             0.6,
             "#e6f5d0"
            ],
            [
             0.7,
             "#b8e186"
            ],
            [
             0.8,
             "#7fbc41"
            ],
            [
             0.9,
             "#4d9221"
            ],
            [
             1,
             "#276419"
            ]
           ],
           "sequential": [
            [
             0,
             "#0d0887"
            ],
            [
             0.1111111111111111,
             "#46039f"
            ],
            [
             0.2222222222222222,
             "#7201a8"
            ],
            [
             0.3333333333333333,
             "#9c179e"
            ],
            [
             0.4444444444444444,
             "#bd3786"
            ],
            [
             0.5555555555555556,
             "#d8576b"
            ],
            [
             0.6666666666666666,
             "#ed7953"
            ],
            [
             0.7777777777777778,
             "#fb9f3a"
            ],
            [
             0.8888888888888888,
             "#fdca26"
            ],
            [
             1,
             "#f0f921"
            ]
           ],
           "sequentialminus": [
            [
             0,
             "#0d0887"
            ],
            [
             0.1111111111111111,
             "#46039f"
            ],
            [
             0.2222222222222222,
             "#7201a8"
            ],
            [
             0.3333333333333333,
             "#9c179e"
            ],
            [
             0.4444444444444444,
             "#bd3786"
            ],
            [
             0.5555555555555556,
             "#d8576b"
            ],
            [
             0.6666666666666666,
             "#ed7953"
            ],
            [
             0.7777777777777778,
             "#fb9f3a"
            ],
            [
             0.8888888888888888,
             "#fdca26"
            ],
            [
             1,
             "#f0f921"
            ]
           ]
          },
          "colorway": [
           "#636efa",
           "#EF553B",
           "#00cc96",
           "#ab63fa",
           "#FFA15A",
           "#19d3f3",
           "#FF6692",
           "#B6E880",
           "#FF97FF",
           "#FECB52"
          ],
          "font": {
           "color": "#2a3f5f"
          },
          "geo": {
           "bgcolor": "white",
           "lakecolor": "white",
           "landcolor": "white",
           "showlakes": true,
           "showland": true,
           "subunitcolor": "#C8D4E3"
          },
          "hoverlabel": {
           "align": "left"
          },
          "hovermode": "closest",
          "mapbox": {
           "style": "light"
          },
          "paper_bgcolor": "white",
          "plot_bgcolor": "white",
          "polar": {
           "angularaxis": {
            "gridcolor": "#EBF0F8",
            "linecolor": "#EBF0F8",
            "ticks": ""
           },
           "bgcolor": "white",
           "radialaxis": {
            "gridcolor": "#EBF0F8",
            "linecolor": "#EBF0F8",
            "ticks": ""
           }
          },
          "scene": {
           "xaxis": {
            "backgroundcolor": "white",
            "gridcolor": "#DFE8F3",
            "gridwidth": 2,
            "linecolor": "#EBF0F8",
            "showbackground": true,
            "ticks": "",
            "zerolinecolor": "#EBF0F8"
           },
           "yaxis": {
            "backgroundcolor": "white",
            "gridcolor": "#DFE8F3",
            "gridwidth": 2,
            "linecolor": "#EBF0F8",
            "showbackground": true,
            "ticks": "",
            "zerolinecolor": "#EBF0F8"
           },
           "zaxis": {
            "backgroundcolor": "white",
            "gridcolor": "#DFE8F3",
            "gridwidth": 2,
            "linecolor": "#EBF0F8",
            "showbackground": true,
            "ticks": "",
            "zerolinecolor": "#EBF0F8"
           }
          },
          "shapedefaults": {
           "line": {
            "color": "#2a3f5f"
           }
          },
          "ternary": {
           "aaxis": {
            "gridcolor": "#DFE8F3",
            "linecolor": "#A2B1C6",
            "ticks": ""
           },
           "baxis": {
            "gridcolor": "#DFE8F3",
            "linecolor": "#A2B1C6",
            "ticks": ""
           },
           "bgcolor": "white",
           "caxis": {
            "gridcolor": "#DFE8F3",
            "linecolor": "#A2B1C6",
            "ticks": ""
           }
          },
          "title": {
           "x": 0.05
          },
          "xaxis": {
           "automargin": true,
           "gridcolor": "#EBF0F8",
           "linecolor": "#EBF0F8",
           "ticks": "",
           "title": {
            "standoff": 15
           },
           "zerolinecolor": "#EBF0F8",
           "zerolinewidth": 2
          },
          "yaxis": {
           "automargin": true,
           "gridcolor": "#EBF0F8",
           "linecolor": "#EBF0F8",
           "ticks": "",
           "title": {
            "standoff": 15
           },
           "zerolinecolor": "#EBF0F8",
           "zerolinewidth": 2
          }
         }
        },
        "title": {
         "text": "nvidia Forecast"
        },
        "xaxis": {
         "range": [
          "2025-03-03T00:00:00",
          "2025-11-01T00:00:00"
         ],
         "tickangle": -45,
         "title": {
          "text": "Date"
         }
        },
        "yaxis": {
         "range": [
          0,
          170.33799743652344
         ],
         "title": {
          "text": "Price / USD"
         }
        }
       }
      }
     },
     "metadata": {},
     "output_type": "display_data"
    }
   ],
   "source": [
    "fh=ForecastHandler(company='nvidia')\n",
    "fh.load_all_forecasts()\n",
    "fh.plot_forecasts()"
   ]
  },
  {
   "cell_type": "code",
   "execution_count": 3,
   "metadata": {},
   "outputs": [
    {
     "name": "stdout",
     "output_type": "stream",
     "text": [
      "found forecast files: ['20250312_rhm-aktie_forecast.csv', '20250313_rhm-aktie_forecast.csv', '20250315_rhm-aktie_forecast.csv', '20250317_rhm-aktie_forecast.csv', '20250318_rhm-aktie_forecast.csv', '20250319_rhm-aktie_forecast.csv', '20250329_rhm-aktie_forecast.csv', '20250402_rhm-aktie_forecast.csv']\n",
      "load file 20250312_rhm-aktie_forecast.csv\n",
      "load file 20250313_rhm-aktie_forecast.csv\n",
      "load file 20250315_rhm-aktie_forecast.csv\n",
      "load file 20250317_rhm-aktie_forecast.csv\n",
      "load file 20250318_rhm-aktie_forecast.csv\n",
      "load file 20250319_rhm-aktie_forecast.csv\n",
      "load file 20250329_rhm-aktie_forecast.csv\n",
      "load file 20250402_rhm-aktie_forecast.csv\n"
     ]
    },
    {
     "data": {
      "image/png": "[encoded data removed]",
      "text/plain": [
       "<Figure size 1000x500 with 1 Axes>"
      ]
     },
     "metadata": {},
     "output_type": "display_data"
    },
    {
     "data": {
      "application/vnd.plotly.v1+json": {
       "config": {
        "plotlyServerURL": "https://plot.ly"
       },
       "data": [
        {
         "line": {
          "color": "#636EFA",
          "dash": "dash"
         },
         "mode": "lines",
         "name": "Forecast - 20250312",
         "type": "scatter",
         "x": [
          "2025-03-13T00:00:00.000000000",
          "2025-03-14T00:00:00.000000000",
          "2025-03-17T00:00:00.000000000",
          "2025-03-18T00:00:00.000000000",
          "2025-03-19T00:00:00.000000000",
          "2025-03-20T00:00:00.000000000",
          "2025-03-21T00:00:00.000000000",
          "2025-03-24T00:00:00.000000000",
          "2025-03-25T00:00:00.000000000",
          "2025-03-26T00:00:00.000000000",
          "2025-03-27T00:00:00.000000000",
          "2025-03-28T00:00:00.000000000",
          "2025-03-31T00:00:00.000000000",
          "2025-04-01T00:00:00.000000000",
          "2025-04-02T00:00:00.000000000",
          "2025-04-03T00:00:00.000000000",
          "2025-04-04T00:00:00.000000000",
          "2025-04-07T00:00:00.000000000",
          "2025-04-08T00:00:00.000000000",
          "2025-04-09T00:00:00.000000000",
          "2025-04-10T00:00:00.000000000",
          "2025-04-11T00:00:00.000000000",
          "2025-04-14T00:00:00.000000000",
          "2025-04-15T00:00:00.000000000",
          "2025-05-01T00:00:00.000000000",
          "2025-06-01T00:00:00.000000000",
          "2025-07-01T00:00:00.000000000",
          "2025-08-01T00:00:00.000000000",
          "2025-09-01T00:00:00.000000000",
          "2025-10-01T00:00:00.000000000",
          "2025-11-01T00:00:00.000000000",
          "2025-12-01T00:00:00.000000000",
          "2026-01-01T00:00:00.000000000",
          "2026-02-01T00:00:00.000000000",
          "2026-03-01T00:00:00.000000000",
          "2026-04-01T00:00:00.000000000",
          "2026-05-01T00:00:00.000000000",
          "2026-06-01T00:00:00.000000000",
          "2026-07-01T00:00:00.000000000",
          "2026-08-01T00:00:00.000000000",
          "2026-09-01T00:00:00.000000000",
          "2026-10-01T00:00:00.000000000",
          "2026-11-01T00:00:00.000000000",
          "2026-12-01T00:00:00.000000000",
          "2027-01-01T00:00:00.000000000",
          "2027-02-01T00:00:00.000000000",
          "2027-03-01T00:00:00.000000000"
         ],
         "y": {
          "bdata": "AAAAAADAlEAAAAAAAGiVQAAAAAAAfJVAAAAAAABolEAAAAAAAFiUQAAAAAAAXJVAAAAAAADwlEAAAAAAAPyVQAAAAAAAHJZAAAAAAADQlkAAAAAAADiXQAAAAAAAQJdAAAAAAABomEAAAAAAAIiYQAAAAAAAZJdAAAAAAAB8l0AAAAAAAGiXQAAAAAAAlJhAAAAAAADQmUAAAAAAANiaQAAAAAAAuJpAAAAAAAC8mkAAAAAAAASbQAAAAAAArJtAAAAAAADomkAAAAAAAJCZQAAAAAAAUJpAAAAAAAAIm0AAAAAAAGCbQAAAAAAA8JtAAAAAAAD8m0AAAAAAAGSdQAAAAAAA3J5AAAAAAAA0oEAAAAAAAIKgQAAAAAAA0qBAAAAAAACqoUAAAAAAAOKhQAAAAAAAWKJAAAAAAAAgo0AAAAAAAKCjQAAAAAAAaKNAAAAAAAAgpEAAAAAAACKlQAAAAAAAjKRAAAAAAAC+o0AAAAAAALqkQA==",
          "dtype": "f8"
         }
        },
        {
         "marker": {
          "color": "#636EFA",
          "size": 8,
          "symbol": "circle"
         },
         "mode": "markers",
         "name": "Start Forecast - 20250312",
         "type": "scatter",
         "x": [
          "2025-03-13T00:00:00"
         ],
         "y": [
          1328
         ]
        },
        {
         "line": {
          "color": "#EF553B",
          "dash": "dash"
         },
         "mode": "lines",
         "name": "Forecast - 20250313",
         "type": "scatter",
         "x": [
          "2025-03-13T00:00:00.000000000",
          "2025-03-14T00:00:00.000000000",
          "2025-03-17T00:00:00.000000000",
          "2025-03-18T00:00:00.000000000",
          "2025-03-19T00:00:00.000000000",
          "2025-03-20T00:00:00.000000000",
          "2025-03-21T00:00:00.000000000",
          "2025-03-24T00:00:00.000000000",
          "2025-03-25T00:00:00.000000000",
          "2025-03-26T00:00:00.000000000",
          "2025-03-27T00:00:00.000000000",
          "2025-03-28T00:00:00.000000000",
          "2025-03-31T00:00:00.000000000",
          "2025-04-01T00:00:00.000000000",
          "2025-04-02T00:00:00.000000000",
          "2025-04-03T00:00:00.000000000",
          "2025-04-04T00:00:00.000000000",
          "2025-04-07T00:00:00.000000000",
          "2025-04-08T00:00:00.000000000",
          "2025-04-09T00:00:00.000000000",
          "2025-04-10T00:00:00.000000000",
          "2025-04-11T00:00:00.000000000",
          "2025-04-14T00:00:00.000000000",
          "2025-04-15T00:00:00.000000000",
          "2025-05-01T00:00:00.000000000",
          "2025-06-01T00:00:00.000000000",
          "2025-07-01T00:00:00.000000000",
          "2025-08-01T00:00:00.000000000",
          "2025-09-01T00:00:00.000000000",
          "2025-10-01T00:00:00.000000000",
          "2025-11-01T00:00:00.000000000",
          "2025-12-01T00:00:00.000000000",
          "2026-01-01T00:00:00.000000000",
          "2026-02-01T00:00:00.000000000",
          "2026-03-01T00:00:00.000000000",
          "2026-04-01T00:00:00.000000000",
          "2026-05-01T00:00:00.000000000",
          "2026-06-01T00:00:00.000000000",
          "2026-07-01T00:00:00.000000000",
          "2026-08-01T00:00:00.000000000",
          "2026-09-01T00:00:00.000000000",
          "2026-10-01T00:00:00.000000000",
          "2026-11-01T00:00:00.000000000",
          "2026-12-01T00:00:00.000000000",
          "2027-01-01T00:00:00.000000000",
          "2027-02-01T00:00:00.000000000",
          "2027-03-01T00:00:00.000000000"
         ],
         "y": {
          "bdata": "AAAAAADAlEAAAAAAAGiVQAAAAAAAfJVAAAAAAABolEAAAAAAAFiUQAAAAAAAXJVAAAAAAADwlEAAAAAAAPyVQAAAAAAAHJZAAAAAAADQlkAAAAAAADiXQAAAAAAAQJdAAAAAAABomEAAAAAAAIiYQAAAAAAAZJdAAAAAAAB8l0AAAAAAAGiXQAAAAAAAlJhAAAAAAADQmUAAAAAAANiaQAAAAAAAuJpAAAAAAAC8mkAAAAAAAASbQAAAAAAArJtAAAAAAADomkAAAAAAAJCZQAAAAAAAUJpAAAAAAAAIm0AAAAAAAGCbQAAAAAAA8JtAAAAAAAD8m0AAAAAAAGSdQAAAAAAA3J5AAAAAAAA0oEAAAAAAAIKgQAAAAAAA0qBAAAAAAACqoUAAAAAAAOKhQAAAAAAAWKJAAAAAAAAgo0AAAAAAAKCjQAAAAAAAaKNAAAAAAAAgpEAAAAAAACKlQAAAAAAAjKRAAAAAAAC+o0AAAAAAALqkQA==",
          "dtype": "f8"
         }
        },
        {
         "marker": {
          "color": "#EF553B",
          "size": 8,
          "symbol": "circle"
         },
         "mode": "markers",
         "name": "Start Forecast - 20250313",
         "type": "scatter",
         "x": [
          "2025-03-13T00:00:00"
         ],
         "y": [
          1328
         ]
        },
        {
         "line": {
          "color": "#00CC96",
          "dash": "dash"
         },
         "mode": "lines",
         "name": "Forecast - 20250315",
         "type": "scatter",
         "x": [
          "2025-03-17T00:00:00.000000000",
          "2025-03-18T00:00:00.000000000",
          "2025-03-19T00:00:00.000000000",
          "2025-03-20T00:00:00.000000000",
          "2025-03-21T00:00:00.000000000",
          "2025-03-24T00:00:00.000000000",
          "2025-03-25T00:00:00.000000000",
          "2025-03-26T00:00:00.000000000",
          "2025-03-27T00:00:00.000000000",
          "2025-03-28T00:00:00.000000000",
          "2025-03-31T00:00:00.000000000",
          "2025-04-01T00:00:00.000000000",
          "2025-04-02T00:00:00.000000000",
          "2025-04-03T00:00:00.000000000",
          "2025-04-04T00:00:00.000000000",
          "2025-04-07T00:00:00.000000000",
          "2025-04-08T00:00:00.000000000",
          "2025-04-09T00:00:00.000000000",
          "2025-04-10T00:00:00.000000000",
          "2025-04-11T00:00:00.000000000",
          "2025-04-14T00:00:00.000000000",
          "2025-04-15T00:00:00.000000000",
          "2025-04-16T00:00:00.000000000",
          "2025-04-17T00:00:00.000000000",
          "2025-05-01T00:00:00.000000000",
          "2025-06-01T00:00:00.000000000",
          "2025-07-01T00:00:00.000000000",
          "2025-08-01T00:00:00.000000000",
          "2025-09-01T00:00:00.000000000",
          "2025-10-01T00:00:00.000000000",
          "2025-11-01T00:00:00.000000000",
          "2025-12-01T00:00:00.000000000",
          "2026-01-01T00:00:00.000000000",
          "2026-02-01T00:00:00.000000000",
          "2026-03-01T00:00:00.000000000",
          "2026-04-01T00:00:00.000000000",
          "2026-05-01T00:00:00.000000000",
          "2026-06-01T00:00:00.000000000",
          "2026-07-01T00:00:00.000000000",
          "2026-08-01T00:00:00.000000000",
          "2026-09-01T00:00:00.000000000",
          "2026-10-01T00:00:00.000000000",
          "2026-11-01T00:00:00.000000000",
          "2026-12-01T00:00:00.000000000",
          "2027-01-01T00:00:00.000000000",
          "2027-02-01T00:00:00.000000000",
          "2027-03-01T00:00:00.000000000"
         ],
         "y": {
          "bdata": "AAAAAAB0lkAAAAAAANyWQAAAAAAAAJhAAAAAAADAmEAAAAAAANiYQAAAAAAAnJdAAAAAAACMl0AAAAAAALiYQAAAAAAAPJhAAAAAAAB0mUAAAAAAAJiZQAAAAAAAaJpAAAAAAADkmkAAAAAAAPCaQAAAAAAASJxAAAAAAABsnEAAAAAAABybQAAAAAAAOJtAAAAAAAAkm0AAAAAAAICcQAAAAAAA7J1AAAAAAAAcn0AAAAAAAPieQAAAAAAA/J5AAAAAAAA4nEAAAAAAANCaQAAAAAAAmJtAAAAAAABYnEAAAAAAALScQAAAAAAATJ1AAAAAAABYnUAAAAAAANCeQAAAAAAALqBAAAAAAAD+oEAAAAAAAFChQAAAAAAApKFAAAAAAACGokAAAAAAAMKiQAAAAAAAPqNAAAAAAAAQpEAAAAAAAJakQAAAAAAAXKRAAAAAAAAepUAAAAAAACymQAAAAAAAkKVAAAAAAAC4pEAAAAAAAMKlQA==",
          "dtype": "f8"
         }
        },
        {
         "marker": {
          "color": "#00CC96",
          "size": 8,
          "symbol": "circle"
         },
         "mode": "markers",
         "name": "Start Forecast - 20250315",
         "type": "scatter",
         "x": [
          "2025-03-17T00:00:00"
         ],
         "y": [
          1437
         ]
        },
        {
         "line": {
          "color": "#AB63FA",
          "dash": "dash"
         },
         "mode": "lines",
         "name": "Forecast - 20250317",
         "type": "scatter",
         "x": [
          "2025-03-18T00:00:00.000000000",
          "2025-03-19T00:00:00.000000000",
          "2025-03-20T00:00:00.000000000",
          "2025-03-21T00:00:00.000000000",
          "2025-03-24T00:00:00.000000000",
          "2025-03-25T00:00:00.000000000",
          "2025-03-26T00:00:00.000000000",
          "2025-03-27T00:00:00.000000000",
          "2025-03-28T00:00:00.000000000",
          "2025-03-31T00:00:00.000000000",
          "2025-04-01T00:00:00.000000000",
          "2025-04-02T00:00:00.000000000",
          "2025-04-03T00:00:00.000000000",
          "2025-04-04T00:00:00.000000000",
          "2025-04-07T00:00:00.000000000",
          "2025-04-08T00:00:00.000000000",
          "2025-04-09T00:00:00.000000000",
          "2025-04-10T00:00:00.000000000",
          "2025-04-11T00:00:00.000000000",
          "2025-04-14T00:00:00.000000000",
          "2025-04-15T00:00:00.000000000",
          "2025-04-16T00:00:00.000000000",
          "2025-04-17T00:00:00.000000000",
          "2025-04-18T00:00:00.000000000",
          "2025-05-01T00:00:00.000000000",
          "2025-06-01T00:00:00.000000000",
          "2025-07-01T00:00:00.000000000",
          "2025-08-01T00:00:00.000000000",
          "2025-09-01T00:00:00.000000000",
          "2025-10-01T00:00:00.000000000",
          "2025-11-01T00:00:00.000000000",
          "2025-12-01T00:00:00.000000000",
          "2026-01-01T00:00:00.000000000",
          "2026-02-01T00:00:00.000000000",
          "2026-03-01T00:00:00.000000000",
          "2026-04-01T00:00:00.000000000",
          "2026-05-01T00:00:00.000000000",
          "2026-06-01T00:00:00.000000000",
          "2026-07-01T00:00:00.000000000",
          "2026-08-01T00:00:00.000000000",
          "2026-09-01T00:00:00.000000000",
          "2026-10-01T00:00:00.000000000",
          "2026-11-01T00:00:00.000000000",
          "2026-12-01T00:00:00.000000000",
          "2027-01-01T00:00:00.000000000",
          "2027-02-01T00:00:00.000000000",
          "2027-03-01T00:00:00.000000000"
         ],
         "y": {
          "bdata": "AAAAAAB0lkAAAAAAANyWQAAAAAAAAJhAAAAAAADAmEAAAAAAANiYQAAAAAAAnJdAAAAAAACMl0AAAAAAALiYQAAAAAAAPJhAAAAAAAB0mUAAAAAAAJiZQAAAAAAAaJpAAAAAAADkmkAAAAAAAPCaQAAAAAAASJxAAAAAAABsnEAAAAAAABybQAAAAAAAOJtAAAAAAAAkm0AAAAAAAICcQAAAAAAA7J1AAAAAAAAcn0AAAAAAAPieQAAAAAAA/J5AAAAAAAAQnEAAAAAAAKiaQAAAAAAAcJtAAAAAAAAwnEAAAAAAAIycQAAAAAAAIJ1AAAAAAAAsnUAAAAAAAKCeQAAAAAAAFKBAAAAAAADioEAAAAAAADShQAAAAAAAhqFAAAAAAABmokAAAAAAAKCiQAAAAAAAGqNAAAAAAADqo0AAAAAAAG6kQAAAAAAANKRAAAAAAAD0pEAAAAAAAACmQAAAAAAAZKVAAAAAAACOpEAAAAAAAJalQA==",
          "dtype": "f8"
         }
        },
        {
         "marker": {
          "color": "#AB63FA",
          "size": 8,
          "symbol": "circle"
         },
         "mode": "markers",
         "name": "Start Forecast - 20250317",
         "type": "scatter",
         "x": [
          "2025-03-18T00:00:00"
         ],
         "y": [
          1437
         ]
        },
        {
         "line": {
          "color": "#FFA15A",
          "dash": "dash"
         },
         "mode": "lines",
         "name": "Forecast - 20250318",
         "type": "scatter",
         "x": [
          "2025-03-19T00:00:00.000000000",
          "2025-03-20T00:00:00.000000000",
          "2025-03-21T00:00:00.000000000",
          "2025-03-24T00:00:00.000000000",
          "2025-03-25T00:00:00.000000000",
          "2025-03-26T00:00:00.000000000",
          "2025-03-27T00:00:00.000000000",
          "2025-03-28T00:00:00.000000000",
          "2025-03-31T00:00:00.000000000",
          "2025-04-01T00:00:00.000000000",
          "2025-04-02T00:00:00.000000000",
          "2025-04-03T00:00:00.000000000",
          "2025-04-04T00:00:00.000000000",
          "2025-04-07T00:00:00.000000000",
          "2025-04-08T00:00:00.000000000",
          "2025-04-09T00:00:00.000000000",
          "2025-04-10T00:00:00.000000000",
          "2025-04-11T00:00:00.000000000",
          "2025-04-14T00:00:00.000000000",
          "2025-04-15T00:00:00.000000000",
          "2025-04-16T00:00:00.000000000",
          "2025-04-17T00:00:00.000000000",
          "2025-04-18T00:00:00.000000000",
          "2025-04-21T00:00:00.000000000",
          "2025-05-01T00:00:00.000000000",
          "2025-06-01T00:00:00.000000000",
          "2025-07-01T00:00:00.000000000",
          "2025-08-01T00:00:00.000000000",
          "2025-09-01T00:00:00.000000000",
          "2025-10-01T00:00:00.000000000",
          "2025-11-01T00:00:00.000000000",
          "2025-12-01T00:00:00.000000000",
          "2026-01-01T00:00:00.000000000",
          "2026-02-01T00:00:00.000000000",
          "2026-03-01T00:00:00.000000000",
          "2026-04-01T00:00:00.000000000",
          "2026-05-01T00:00:00.000000000",
          "2026-06-01T00:00:00.000000000",
          "2026-07-01T00:00:00.000000000",
          "2026-08-01T00:00:00.000000000",
          "2026-09-01T00:00:00.000000000",
          "2026-10-01T00:00:00.000000000",
          "2026-11-01T00:00:00.000000000",
          "2026-12-01T00:00:00.000000000",
          "2027-01-01T00:00:00.000000000",
          "2027-02-01T00:00:00.000000000",
          "2027-03-01T00:00:00.000000000"
         ],
         "y": {
          "bdata": "AAAAAAC4l0AAAAAAALSXQAAAAAAA5JhAAAAAAABYmUAAAAAAAJyaQAAAAAAAcJtAAAAAAACIm0AAAAAAACiaQAAAAAAAFJpAAAAAAABgm0AAAAAAANiaQAAAAAAAMJxAAAAAAABYnEAAAAAAAECdQAAAAAAAyJ1AAAAAAADUnUAAAAAAAFCfQAAAAAAAeJ9AAAAAAAAEnkAAAAAAACSeQAAAAAAADJ5AAAAAAACMn0AAAAAAAJCgQAAAAAAAOKFAAAAAAADAnEAAAAAAAFCbQAAAAAAAHJxAAAAAAADgnEAAAAAAADydQAAAAAAA1J1AAAAAAADgnUAAAAAAAGCfQAAAAAAAeKBAAAAAAABKoUAAAAAAAJ6hQAAAAAAA8qFAAAAAAADYokAAAAAAABSjQAAAAAAAkqNAAAAAAABmpEAAAAAAAO6kQAAAAAAAsqRAAAAAAAB2pUAAAAAAAIimQAAAAAAA6KVAAAAAAAAMpUAAAAAAABqmQA==",
          "dtype": "f8"
         }
        },
        {
         "marker": {
          "color": "#FFA15A",
          "size": 8,
          "symbol": "circle"
         },
         "mode": "markers",
         "name": "Start Forecast - 20250318",
         "type": "scatter",
         "x": [
          "2025-03-19T00:00:00"
         ],
         "y": [
          1518
         ]
        },
        {
         "line": {
          "color": "#19D3F3",
          "dash": "dash"
         },
         "mode": "lines",
         "name": "Forecast - 20250319",
         "type": "scatter",
         "x": [
          "2025-03-20T00:00:00.000000000",
          "2025-03-21T00:00:00.000000000",
          "2025-03-24T00:00:00.000000000",
          "2025-03-25T00:00:00.000000000",
          "2025-03-26T00:00:00.000000000",
          "2025-03-27T00:00:00.000000000",
          "2025-03-28T00:00:00.000000000",
          "2025-03-31T00:00:00.000000000",
          "2025-04-01T00:00:00.000000000",
          "2025-04-02T00:00:00.000000000",
          "2025-04-03T00:00:00.000000000",
          "2025-04-04T00:00:00.000000000",
          "2025-04-07T00:00:00.000000000",
          "2025-04-08T00:00:00.000000000",
          "2025-04-09T00:00:00.000000000",
          "2025-04-10T00:00:00.000000000",
          "2025-04-11T00:00:00.000000000",
          "2025-04-14T00:00:00.000000000",
          "2025-04-15T00:00:00.000000000",
          "2025-04-16T00:00:00.000000000",
          "2025-04-17T00:00:00.000000000",
          "2025-04-18T00:00:00.000000000",
          "2025-04-21T00:00:00.000000000",
          "2025-04-22T00:00:00.000000000",
          "2025-05-01T00:00:00.000000000",
          "2025-06-01T00:00:00.000000000",
          "2025-07-01T00:00:00.000000000",
          "2025-08-01T00:00:00.000000000",
          "2025-09-01T00:00:00.000000000",
          "2025-10-01T00:00:00.000000000",
          "2025-11-01T00:00:00.000000000",
          "2025-12-01T00:00:00.000000000",
          "2026-01-01T00:00:00.000000000",
          "2026-02-01T00:00:00.000000000",
          "2026-03-01T00:00:00.000000000",
          "2026-04-01T00:00:00.000000000",
          "2026-05-01T00:00:00.000000000",
          "2026-06-01T00:00:00.000000000",
          "2026-07-01T00:00:00.000000000",
          "2026-08-01T00:00:00.000000000",
          "2026-09-01T00:00:00.000000000",
          "2026-10-01T00:00:00.000000000",
          "2026-11-01T00:00:00.000000000",
          "2026-12-01T00:00:00.000000000",
          "2027-01-01T00:00:00.000000000",
          "2027-02-01T00:00:00.000000000",
          "2027-03-01T00:00:00.000000000"
         ],
         "y": {
          "bdata": "AAAAAAC4l0AAAAAAALSXQAAAAAAA5JhAAAAAAABYmUAAAAAAAJyaQAAAAAAAcJtAAAAAAACIm0AAAAAAACiaQAAAAAAAFJpAAAAAAABgm0AAAAAAANiaQAAAAAAAMJxAAAAAAABYnEAAAAAAAECdQAAAAAAAyJ1AAAAAAADUnUAAAAAAAFCfQAAAAAAAeJ9AAAAAAAAEnkAAAAAAACSeQAAAAAAADJ5AAAAAAACMn0AAAAAAAJCgQAAAAAAAOKFAAAAAAADYnEAAAAAAAGibQAAAAAAANJxAAAAAAAD4nEAAAAAAAFSdQAAAAAAA7J1AAAAAAAD4nUAAAAAAAHifQAAAAAAAhqBAAAAAAABaoUAAAAAAAK6hQAAAAAAABKJAAAAAAADqokAAAAAAACajQAAAAAAApKNAAAAAAAB6pEAAAAAAAAKlQAAAAAAAxqRAAAAAAACMpUAAAAAAAKCmQAAAAAAAAKZAAAAAAAAkpUAAAAAAADKmQA==",
          "dtype": "f8"
         }
        },
        {
         "marker": {
          "color": "#19D3F3",
          "size": 8,
          "symbol": "circle"
         },
         "mode": "markers",
         "name": "Start Forecast - 20250319",
         "type": "scatter",
         "x": [
          "2025-03-20T00:00:00"
         ],
         "y": [
          1518
         ]
        },
        {
         "line": {
          "color": "#FF6692",
          "dash": "dash"
         },
         "mode": "lines",
         "name": "Forecast - 20250329",
         "type": "scatter",
         "x": [
          "2025-03-31T00:00:00.000000000",
          "2025-04-01T00:00:00.000000000",
          "2025-04-02T00:00:00.000000000",
          "2025-04-03T00:00:00.000000000",
          "2025-04-04T00:00:00.000000000",
          "2025-04-07T00:00:00.000000000",
          "2025-04-08T00:00:00.000000000",
          "2025-04-09T00:00:00.000000000",
          "2025-04-10T00:00:00.000000000",
          "2025-04-11T00:00:00.000000000",
          "2025-04-14T00:00:00.000000000",
          "2025-04-15T00:00:00.000000000",
          "2025-04-16T00:00:00.000000000",
          "2025-04-17T00:00:00.000000000",
          "2025-04-18T00:00:00.000000000",
          "2025-04-21T00:00:00.000000000",
          "2025-04-22T00:00:00.000000000",
          "2025-04-23T00:00:00.000000000",
          "2025-04-24T00:00:00.000000000",
          "2025-04-25T00:00:00.000000000",
          "2025-04-28T00:00:00.000000000",
          "2025-04-29T00:00:00.000000000",
          "2025-04-30T00:00:00.000000000",
          "2025-05-01T00:00:00.000000000",
          "2025-05-01T00:00:00.000000000",
          "2025-06-01T00:00:00.000000000",
          "2025-07-01T00:00:00.000000000",
          "2025-08-01T00:00:00.000000000",
          "2025-09-01T00:00:00.000000000",
          "2025-10-01T00:00:00.000000000",
          "2025-11-01T00:00:00.000000000",
          "2025-12-01T00:00:00.000000000",
          "2026-01-01T00:00:00.000000000",
          "2026-02-01T00:00:00.000000000",
          "2026-03-01T00:00:00.000000000",
          "2026-04-01T00:00:00.000000000",
          "2026-05-01T00:00:00.000000000",
          "2026-06-01T00:00:00.000000000",
          "2026-07-01T00:00:00.000000000",
          "2026-08-01T00:00:00.000000000",
          "2026-09-01T00:00:00.000000000",
          "2026-10-01T00:00:00.000000000",
          "2026-11-01T00:00:00.000000000",
          "2026-12-01T00:00:00.000000000",
          "2027-01-01T00:00:00.000000000",
          "2027-02-01T00:00:00.000000000",
          "2027-03-01T00:00:00.000000000"
         ],
         "y": {
          "bdata": "AAAAAADck0AAAAAAANCTQAAAAAAAVJRAAAAAAABUlEAAAAAAAIyUQAAAAAAAEJRAAAAAAABsk0AAAAAAAIySQAAAAAAAeJNAAAAAAAB0k0AAAAAAAGyUQAAAAAAAzJRAAAAAAADYlUAAAAAAAIiWQAAAAAAAnJZAAAAAAAB8lUAAAAAAAGyVQAAAAAAAgJZAAAAAAAAQlkAAAAAAACyXQAAAAAAATJdAAAAAAAAMmEAAAAAAAHyYQAAAAAAAhJhAAAAAAAC0mUAAAAAAAGyYQAAAAAAAJJlAAAAAAADUmUAAAAAAACiaQAAAAAAAsJpAAAAAAAC8mkAAAAAAABScQAAAAAAAfJ1AAAAAAAD0nkAAAAAAAIifQAAAAAAAEKBAAAAAAADeoEAAAAAAABShQAAAAAAAhKFAAAAAAABCokAAAAAAALyiQAAAAAAAhqJAAAAAAAA2o0AAAAAAACykQAAAAAAAnqNAAAAAAADaokAAAAAAAMyjQA==",
          "dtype": "f8"
         }
        },
        {
         "marker": {
          "color": "#FF6692",
          "size": 8,
          "symbol": "circle"
         },
         "mode": "markers",
         "name": "Start Forecast - 20250329",
         "type": "scatter",
         "x": [
          "2025-03-31T00:00:00"
         ],
         "y": [
          1271
         ]
        },
        {
         "line": {
          "color": "#B6E880",
          "dash": "dash"
         },
         "mode": "lines",
         "name": "Forecast - 20250402",
         "type": "scatter",
         "x": [
          "2025-04-03T00:00:00.000000000",
          "2025-04-04T00:00:00.000000000",
          "2025-04-07T00:00:00.000000000",
          "2025-04-08T00:00:00.000000000",
          "2025-04-09T00:00:00.000000000",
          "2025-04-10T00:00:00.000000000",
          "2025-04-11T00:00:00.000000000",
          "2025-04-14T00:00:00.000000000",
          "2025-04-15T00:00:00.000000000",
          "2025-04-16T00:00:00.000000000",
          "2025-04-17T00:00:00.000000000",
          "2025-04-18T00:00:00.000000000",
          "2025-04-21T00:00:00.000000000",
          "2025-04-22T00:00:00.000000000",
          "2025-04-23T00:00:00.000000000",
          "2025-04-24T00:00:00.000000000",
          "2025-04-25T00:00:00.000000000",
          "2025-04-28T00:00:00.000000000",
          "2025-04-29T00:00:00.000000000",
          "2025-04-30T00:00:00.000000000",
          "2025-05-01T00:00:00.000000000",
          "2025-05-02T00:00:00.000000000",
          "2025-05-05T00:00:00.000000000",
          "2025-05-06T00:00:00.000000000",
          "2025-06-01T00:00:00.000000000",
          "2025-07-01T00:00:00.000000000",
          "2025-08-01T00:00:00.000000000",
          "2025-09-01T00:00:00.000000000",
          "2025-10-01T00:00:00.000000000",
          "2025-11-01T00:00:00.000000000",
          "2025-12-01T00:00:00.000000000",
          "2026-01-01T00:00:00.000000000",
          "2026-02-01T00:00:00.000000000",
          "2026-03-01T00:00:00.000000000",
          "2026-04-01T00:00:00.000000000",
          "2026-05-01T00:00:00.000000000",
          "2026-06-01T00:00:00.000000000",
          "2026-07-01T00:00:00.000000000",
          "2026-08-01T00:00:00.000000000",
          "2026-09-01T00:00:00.000000000",
          "2026-10-01T00:00:00.000000000",
          "2026-11-01T00:00:00.000000000",
          "2026-12-01T00:00:00.000000000",
          "2027-01-01T00:00:00.000000000",
          "2027-02-01T00:00:00.000000000",
          "2027-03-01T00:00:00.000000000",
          "2027-04-01T00:00:00.000000000"
         ],
         "y": {
          "bdata": "AAAAAAC4lUAAAAAAAOCVQAAAAAAAPJVAAAAAAAAslUAAAAAAALiVQAAAAAAAuJVAAAAAAAD0lUAAAAAAAHCVQAAAAAAAwJRAAAAAAADQk0AAAAAAAMyUQAAAAAAAyJRAAAAAAADUlUAAAAAAADiWQAAAAAAAVJdAAAAAAAAQmEAAAAAAACiYQAAAAAAA9JZAAAAAAADklkAAAAAAAAiYQAAAAAAAkJdAAAAAAAC8mEAAAAAAAOCYQAAAAAAArJlAAAAAAACAmkAAAAAAANSbQAAAAAAAcJpAAAAAAAA0m0AAAAAAAPCbQAAAAAAASJxAAAAAAADcnEAAAAAAAOicQAAAAAAAXJ5AAAAAAADgn0AAAAAAALygQAAAAAAADKFAAAAAAABeoUAAAAAAADyiQAAAAAAAdqJAAAAAAADwokAAAAAAAL6jQAAAAAAAQqRAAAAAAAAIpEAAAAAAAMakQAAAAAAA0KVAAAAAAAA2pUAAAAAAAGKkQA==",
          "dtype": "f8"
         }
        },
        {
         "marker": {
          "color": "#B6E880",
          "size": 8,
          "symbol": "circle"
         },
         "mode": "markers",
         "name": "Start Forecast - 20250402",
         "type": "scatter",
         "x": [
          "2025-04-03T00:00:00"
         ],
         "y": [
          1390
         ]
        },
        {
         "line": {
          "color": "red"
         },
         "marker": {
          "color": "red",
          "size": 6
         },
         "mode": "lines+markers",
         "name": "Current Price",
         "type": "scatter",
         "x": [
          "2025-03-03T00:00:00",
          "2025-03-04T00:00:00",
          "2025-03-05T00:00:00",
          "2025-03-06T00:00:00",
          "2025-03-07T00:00:00",
          "2025-03-10T00:00:00",
          "2025-03-11T00:00:00",
          "2025-03-12T00:00:00",
          "2025-03-13T00:00:00",
          "2025-03-14T00:00:00",
          "2025-03-17T00:00:00",
          "2025-03-18T00:00:00",
          "2025-03-19T00:00:00",
          "2025-03-20T00:00:00",
          "2025-03-21T00:00:00",
          "2025-03-24T00:00:00",
          "2025-03-25T00:00:00",
          "2025-03-26T00:00:00",
          "2025-03-27T00:00:00",
          "2025-03-28T00:00:00",
          "2025-03-31T00:00:00",
          "2025-04-01T00:00:00",
          "2025-04-02T00:00:00"
         ],
         "y": {
          "bdata": "AAAAAACMk0AAAAAAqaSTQAAAAAAAGJRAAAAAAABwlEAAAAAAAN+SQAAAAMAeT5NAAAAA4HpYlEAAAADAzNyVQAAAAAAAqJZAAAAAAACEl0AAAABguqiXQAAAAAAAtJhAAAAAAABgl0AAAAAAAASWQAAAAAAAdJZAAAAAAAAjlkAAAAAAAIGWQAAAAAAAqJZAAAAAQAi0lkAAAABAMzuWQAAAAAAAUJZAAAAAAADElkAAAAAAAAiWQA==",
          "dtype": "f8"
         }
        }
       ],
       "layout": {
        "legend": {
         "font": {
          "size": 10
         },
         "x": 1.05,
         "xanchor": "left",
         "y": 1,
         "yanchor": "top"
        },
        "template": {
         "data": {
          "bar": [
           {
            "error_x": {
             "color": "#2a3f5f"
            },
            "error_y": {
             "color": "#2a3f5f"
            },
            "marker": {
             "line": {
              "color": "white",
              "width": 0.5
             },
             "pattern": {
              "fillmode": "overlay",
              "size": 10,
              "solidity": 0.2
             }
            },
            "type": "bar"
           }
          ],
          "barpolar": [
           {
            "marker": {
             "line": {
              "color": "white",
              "width": 0.5
             },
             "pattern": {
              "fillmode": "overlay",
              "size": 10,
              "solidity": 0.2
             }
            },
            "type": "barpolar"
           }
          ],
          "carpet": [
           {
            "aaxis": {
             "endlinecolor": "#2a3f5f",
             "gridcolor": "#C8D4E3",
             "linecolor": "#C8D4E3",
             "minorgridcolor": "#C8D4E3",
             "startlinecolor": "#2a3f5f"
            },
            "baxis": {
             "endlinecolor": "#2a3f5f",
             "gridcolor": "#C8D4E3",
             "linecolor": "#C8D4E3",
             "minorgridcolor": "#C8D4E3",
             "startlinecolor": "#2a3f5f"
            },
            "type": "carpet"
           }
          ],
          "choropleth": [
           {
            "colorbar": {
             "outlinewidth": 0,
             "ticks": ""
            },
            "type": "choropleth"
           }
          ],
          "contour": [
           {
            "colorbar": {
             "outlinewidth": 0,
             "ticks": ""
            },
            "colorscale": [
             [
              0,
              "#0d0887"
             ],
             [
              0.1111111111111111,
              "#46039f"
             ],
             [
              0.2222222222222222,
              "#7201a8"
             ],
             [
              0.3333333333333333,
              "#9c179e"
             ],
             [
              0.4444444444444444,
              "#bd3786"
             ],
             [
              0.5555555555555556,
              "#d8576b"
             ],
             [
              0.6666666666666666,
              "#ed7953"
             ],
             [
              0.7777777777777778,
              "#fb9f3a"
             ],
             [
              0.8888888888888888,
              "#fdca26"
             ],
             [
              1,
              "#f0f921"
             ]
            ],
            "type": "contour"
           }
          ],
          "contourcarpet": [
           {
            "colorbar": {
             "outlinewidth": 0,
             "ticks": ""
            },
            "type": "contourcarpet"
           }
          ],
          "heatmap": [
           {
            "colorbar": {
             "outlinewidth": 0,
             "ticks": ""
            },
            "colorscale": [
             [
              0,
              "#0d0887"
             ],
             [
              0.1111111111111111,
              "#46039f"
             ],
             [
              0.2222222222222222,
              "#7201a8"
             ],
             [
              0.3333333333333333,
              "#9c179e"
             ],
             [
              0.4444444444444444,
              "#bd3786"
             ],
             [
              0.5555555555555556,
              "#d8576b"
             ],
             [
              0.6666666666666666,
              "#ed7953"
             ],
             [
              0.7777777777777778,
              "#fb9f3a"
             ],
             [
              0.8888888888888888,
              "#fdca26"
             ],
             [
              1,
              "#f0f921"
             ]
            ],
            "type": "heatmap"
           }
          ],
          "histogram": [
           {
            "marker": {
             "pattern": {
              "fillmode": "overlay",
              "size": 10,
              "solidity": 0.2
             }
            },
            "type": "histogram"
           }
          ],
          "histogram2d": [
           {
            "colorbar": {
             "outlinewidth": 0,
             "ticks": ""
            },
            "colorscale": [
             [
              0,
              "#0d0887"
             ],
             [
              0.1111111111111111,
              "#46039f"
             ],
             [
              0.2222222222222222,
              "#7201a8"
             ],
             [
              0.3333333333333333,
              "#9c179e"
             ],
             [
              0.4444444444444444,
              "#bd3786"
             ],
             [
              0.5555555555555556,
              "#d8576b"
             ],
             [
              0.6666666666666666,
              "#ed7953"
             ],
             [
              0.7777777777777778,
              "#fb9f3a"
             ],
             [
              0.8888888888888888,
              "#fdca26"
             ],
             [
              1,
              "#f0f921"
             ]
            ],
            "type": "histogram2d"
           }
          ],
          "histogram2dcontour": [
           {
            "colorbar": {
             "outlinewidth": 0,
             "ticks": ""
            },
            "colorscale": [
             [
              0,
              "#0d0887"
             ],
             [
              0.1111111111111111,
              "#46039f"
             ],
             [
              0.2222222222222222,
              "#7201a8"
             ],
             [
              0.3333333333333333,
              "#9c179e"
             ],
             [
              0.4444444444444444,
              "#bd3786"
             ],
             [
              0.5555555555555556,
              "#d8576b"
             ],
             [
              0.6666666666666666,
              "#ed7953"
             ],
             [
              0.7777777777777778,
              "#fb9f3a"
             ],
             [
              0.8888888888888888,
              "#fdca26"
             ],
             [
              1,
              "#f0f921"
             ]
            ],
            "type": "histogram2dcontour"
           }
          ],
          "mesh3d": [
           {
            "colorbar": {
             "outlinewidth": 0,
             "ticks": ""
            },
            "type": "mesh3d"
           }
          ],
          "parcoords": [
           {
            "line": {
             "colorbar": {
              "outlinewidth": 0,
              "ticks": ""
             }
            },
            "type": "parcoords"
           }
          ],
          "pie": [
           {
            "automargin": true,
            "type": "pie"
           }
          ],
          "scatter": [
           {
            "fillpattern": {
             "fillmode": "overlay",
             "size": 10,
             "solidity": 0.2
            },
            "type": "scatter"
           }
          ],
          "scatter3d": [
           {
            "line": {
             "colorbar": {
              "outlinewidth": 0,
              "ticks": ""
             }
            },
            "marker": {
             "colorbar": {
              "outlinewidth": 0,
              "ticks": ""
             }
            },
            "type": "scatter3d"
           }
          ],
          "scattercarpet": [
           {
            "marker": {
             "colorbar": {
              "outlinewidth": 0,
              "ticks": ""
             }
            },
            "type": "scattercarpet"
           }
          ],
          "scattergeo": [
           {
            "marker": {
             "colorbar": {
              "outlinewidth": 0,
              "ticks": ""
             }
            },
            "type": "scattergeo"
           }
          ],
          "scattergl": [
           {
            "marker": {
             "colorbar": {
              "outlinewidth": 0,
              "ticks": ""
             }
            },
            "type": "scattergl"
           }
          ],
          "scattermap": [
           {
            "marker": {
             "colorbar": {
              "outlinewidth": 0,
              "ticks": ""
             }
            },
            "type": "scattermap"
           }
          ],
          "scattermapbox": [
           {
            "marker": {
             "colorbar": {
              "outlinewidth": 0,
              "ticks": ""
             }
            },
            "type": "scattermapbox"
           }
          ],
          "scatterpolar": [
           {
            "marker": {
             "colorbar": {
              "outlinewidth": 0,
              "ticks": ""
             }
            },
            "type": "scatterpolar"
           }
          ],
          "scatterpolargl": [
           {
            "marker": {
             "colorbar": {
              "outlinewidth": 0,
              "ticks": ""
             }
            },
            "type": "scatterpolargl"
           }
          ],
          "scatterternary": [
           {
            "marker": {
             "colorbar": {
              "outlinewidth": 0,
              "ticks": ""
             }
            },
            "type": "scatterternary"
           }
          ],
          "surface": [
           {
            "colorbar": {
             "outlinewidth": 0,
             "ticks": ""
            },
            "colorscale": [
             [
              0,
              "#0d0887"
             ],
             [
              0.1111111111111111,
              "#46039f"
             ],
             [
              0.2222222222222222,
              "#7201a8"
             ],
             [
              0.3333333333333333,
              "#9c179e"
             ],
             [
              0.4444444444444444,
              "#bd3786"
             ],
             [
              0.5555555555555556,
              "#d8576b"
             ],
             [
              0.6666666666666666,
              "#ed7953"
             ],
             [
              0.7777777777777778,
              "#fb9f3a"
             ],
             [
              0.8888888888888888,
              "#fdca26"
             ],
             [
              1,
              "#f0f921"
             ]
            ],
            "type": "surface"
           }
          ],
          "table": [
           {
            "cells": {
             "fill": {
              "color": "#EBF0F8"
             },
             "line": {
              "color": "white"
             }
            },
            "header": {
             "fill": {
              "color": "#C8D4E3"
             },
             "line": {
              "color": "white"
             }
            },
            "type": "table"
           }
          ]
         },
         "layout": {
          "annotationdefaults": {
           "arrowcolor": "#2a3f5f",
           "arrowhead": 0,
           "arrowwidth": 1
          },
          "autotypenumbers": "strict",
          "coloraxis": {
           "colorbar": {
            "outlinewidth": 0,
            "ticks": ""
           }
          },
          "colorscale": {
           "diverging": [
            [
             0,
             "#8e0152"
            ],
            [
             0.1,
             "#c51b7d"
            ],
            [
             0.2,
             "#de77ae"
            ],
            [
             0.3,
             "#f1b6da"
            ],
            [
             0.4,
             "#fde0ef"
            ],
            [
             0.5,
             "#f7f7f7"
            ],
            [
             0.6,
             "#e6f5d0"
            ],
            [
             0.7,
             "#b8e186"
            ],
            [
             0.8,
             "#7fbc41"
            ],
            [
             0.9,
             "#4d9221"
            ],
            [
             1,
             "#276419"
            ]
           ],
           "sequential": [
            [
             0,
             "#0d0887"
            ],
            [
             0.1111111111111111,
             "#46039f"
            ],
            [
             0.2222222222222222,
             "#7201a8"
            ],
            [
             0.3333333333333333,
             "#9c179e"
            ],
            [
             0.4444444444444444,
             "#bd3786"
            ],
            [
             0.5555555555555556,
             "#d8576b"
            ],
            [
             0.6666666666666666,
             "#ed7953"
            ],
            [
             0.7777777777777778,
             "#fb9f3a"
            ],
            [
             0.8888888888888888,
             "#fdca26"
            ],
            [
             1,
             "#f0f921"
            ]
           ],
           "sequentialminus": [
            [
             0,
             "#0d0887"
            ],
            [
             0.1111111111111111,
             "#46039f"
            ],
            [
             0.2222222222222222,
             "#7201a8"
            ],
            [
             0.3333333333333333,
             "#9c179e"
            ],
            [
             0.4444444444444444,
             "#bd3786"
            ],
            [
             0.5555555555555556,
             "#d8576b"
            ],
            [
             0.6666666666666666,
             "#ed7953"
            ],
            [
             0.7777777777777778,
             "#fb9f3a"
            ],
            [
             0.8888888888888888,
             "#fdca26"
            ],
            [
             1,
             "#f0f921"
            ]
           ]
          },
          "colorway": [
           "#636efa",
           "#EF553B",
           "#00cc96",
           "#ab63fa",
           "#FFA15A",
           "#19d3f3",
           "#FF6692",
           "#B6E880",
           "#FF97FF",
           "#FECB52"
          ],
          "font": {
           "color": "#2a3f5f"
          },
          "geo": {
           "bgcolor": "white",
           "lakecolor": "white",
           "landcolor": "white",
           "showlakes": true,
           "showland": true,
           "subunitcolor": "#C8D4E3"
          },
          "hoverlabel": {
           "align": "left"
          },
          "hovermode": "closest",
          "mapbox": {
           "style": "light"
          },
          "paper_bgcolor": "white",
          "plot_bgcolor": "white",
          "polar": {
           "angularaxis": {
            "gridcolor": "#EBF0F8",
            "linecolor": "#EBF0F8",
            "ticks": ""
           },
           "bgcolor": "white",
           "radialaxis": {
            "gridcolor": "#EBF0F8",
            "linecolor": "#EBF0F8",
            "ticks": ""
           }
          },
          "scene": {
           "xaxis": {
            "backgroundcolor": "white",
            "gridcolor": "#DFE8F3",
            "gridwidth": 2,
            "linecolor": "#EBF0F8",
            "showbackground": true,
            "ticks": "",
            "zerolinecolor": "#EBF0F8"
           },
           "yaxis": {
            "backgroundcolor": "white",
            "gridcolor": "#DFE8F3",
            "gridwidth": 2,
            "linecolor": "#EBF0F8",
            "showbackground": true,
            "ticks": "",
            "zerolinecolor": "#EBF0F8"
           },
           "zaxis": {
            "backgroundcolor": "white",
            "gridcolor": "#DFE8F3",
            "gridwidth": 2,
            "linecolor": "#EBF0F8",
            "showbackground": true,
            "ticks": "",
            "zerolinecolor": "#EBF0F8"
           }
          },
          "shapedefaults": {
           "line": {
            "color": "#2a3f5f"
           }
          },
          "ternary": {
           "aaxis": {
            "gridcolor": "#DFE8F3",
            "linecolor": "#A2B1C6",
            "ticks": ""
           },
           "baxis": {
            "gridcolor": "#DFE8F3",
            "linecolor": "#A2B1C6",
            "ticks": ""
           },
           "bgcolor": "white",
           "caxis": {
            "gridcolor": "#DFE8F3",
            "linecolor": "#A2B1C6",
            "ticks": ""
           }
          },
          "title": {
           "x": 0.05
          },
          "xaxis": {
           "automargin": true,
           "gridcolor": "#EBF0F8",
           "linecolor": "#EBF0F8",
           "ticks": "",
           "title": {
            "standoff": 15
           },
           "zerolinecolor": "#EBF0F8",
           "zerolinewidth": 2
          },
          "yaxis": {
           "automargin": true,
           "gridcolor": "#EBF0F8",
           "linecolor": "#EBF0F8",
           "ticks": "",
           "title": {
            "standoff": 15
           },
           "zerolinecolor": "#EBF0F8",
           "zerolinewidth": 2
          }
         }
        },
        "title": {
         "text": "rhm-aktie Forecast"
        },
        "xaxis": {
         "range": [
          "2025-03-03T00:00:00",
          "2025-11-01T00:00:00"
         ],
         "tickangle": -45,
         "title": {
          "text": "Date"
         }
        },
        "yaxis": {
         "range": [
          0,
          2503.2
         ],
         "title": {
          "text": "Price / USD"
         }
        }
       }
      }
     },
     "metadata": {},
     "output_type": "display_data"
    }
   ],
   "source": [
    "fh=ForecastHandler(company='rhm-aktie')\n",
    "fh.load_all_forecasts()\n",
    "fh.plot_forecasts()"
   ]
  },
  {
   "cell_type": "code",
   "execution_count": 4,
   "metadata": {},
   "outputs": [
    {
     "name": "stdout",
     "output_type": "stream",
     "text": [
      "found forecast files: ['20250329_netflix_forecast.csv', '20250402_netflix_forecast.csv']\n",
      "load file 20250329_netflix_forecast.csv\n",
      "load file 20250402_netflix_forecast.csv\n"
     ]
    },
    {
     "data": {
      "image/png": "[encoded data removed]",
      "text/plain": [
       "<Figure size 1000x500 with 1 Axes>"
      ]
     },
     "metadata": {},
     "output_type": "display_data"
    },
    {
     "data": {
      "application/vnd.plotly.v1+json": {
       "config": {
        "plotlyServerURL": "https://plot.ly"
       },
       "data": [
        {
         "line": {
          "color": "#636EFA",
          "dash": "dash"
         },
         "mode": "lines",
         "name": "Forecast - 20250329",
         "type": "scatter",
         "x": [
          "2025-03-31T00:00:00.000000000",
          "2025-04-01T00:00:00.000000000",
          "2025-04-02T00:00:00.000000000",
          "2025-04-03T00:00:00.000000000",
          "2025-04-04T00:00:00.000000000",
          "2025-04-07T00:00:00.000000000",
          "2025-04-08T00:00:00.000000000",
          "2025-04-09T00:00:00.000000000",
          "2025-04-10T00:00:00.000000000",
          "2025-04-11T00:00:00.000000000",
          "2025-04-14T00:00:00.000000000",
          "2025-04-15T00:00:00.000000000",
          "2025-04-16T00:00:00.000000000",
          "2025-04-17T00:00:00.000000000",
          "2025-04-18T00:00:00.000000000",
          "2025-04-21T00:00:00.000000000",
          "2025-04-22T00:00:00.000000000",
          "2025-04-23T00:00:00.000000000",
          "2025-04-24T00:00:00.000000000",
          "2025-04-25T00:00:00.000000000",
          "2025-04-28T00:00:00.000000000",
          "2025-04-29T00:00:00.000000000",
          "2025-04-30T00:00:00.000000000",
          "2025-05-01T00:00:00.000000000",
          "2025-05-01T00:00:00.000000000",
          "2025-06-01T00:00:00.000000000",
          "2025-07-01T00:00:00.000000000",
          "2025-08-01T00:00:00.000000000",
          "2025-09-01T00:00:00.000000000",
          "2025-10-01T00:00:00.000000000",
          "2025-11-01T00:00:00.000000000",
          "2025-12-01T00:00:00.000000000",
          "2026-01-01T00:00:00.000000000",
          "2026-02-01T00:00:00.000000000",
          "2026-03-01T00:00:00.000000000",
          "2026-04-01T00:00:00.000000000",
          "2026-05-01T00:00:00.000000000",
          "2026-06-01T00:00:00.000000000",
          "2026-07-01T00:00:00.000000000",
          "2026-08-01T00:00:00.000000000",
          "2026-09-01T00:00:00.000000000",
          "2026-10-01T00:00:00.000000000",
          "2026-11-01T00:00:00.000000000",
          "2026-12-01T00:00:00.000000000",
          "2027-01-01T00:00:00.000000000",
          "2027-02-01T00:00:00.000000000",
          "2027-03-01T00:00:00.000000000"
         ],
         "y": {
          "bdata": "AAAAAADoi0AAAAAAABiMQAAAAAAAWItAAAAAAAAQjEAAAAAAAGiMQAAAAAAAsIxAAAAAAABwjEAAAAAAAFiNQAAAAAAAuIxAAAAAAAC4jUAAAAAAAKiOQAAAAAAAsI1AAAAAAACAjkAAAAAAAICPQAAAAAAAoI5AAAAAAAAgjkAAAAAAAKCMQAAAAAAAKI1AAAAAAAAgjUAAAAAAAOiMQAAAAAAAcI1AAAAAAACgjEAAAAAAAACNQAAAAAAAqIxAAAAAAAAgjUAAAAAAAOiPQAAAAAAACJBAAAAAAABwkkAAAAAAAMCTQAAAAAAA5JNAAAAAAABYlkAAAAAAAICWQAAAAAAA4JlAAAAAAACImkAAAAAAAJSaQAAAAAAAAJ1AAAAAAACsoEAAAAAAAG6hQAAAAAAAUqNAAAAAAACApUAAAAAAAHSiQAAAAAAAgqJAAAAAAABuokAAAAAAACSkQAAAAAAAKqdAAAAAAAC8pUAAAAAAAPSnQA==",
          "dtype": "f8"
         }
        },
        {
         "marker": {
          "color": "#636EFA",
          "size": 8,
          "symbol": "circle"
         },
         "mode": "markers",
         "name": "Start Forecast - 20250329",
         "type": "scatter",
         "x": [
          "2025-03-31T00:00:00"
         ],
         "y": [
          893
         ]
        },
        {
         "line": {
          "color": "#EF553B",
          "dash": "dash"
         },
         "mode": "lines",
         "name": "Forecast - 20250402",
         "type": "scatter",
         "x": [
          "2025-04-03T00:00:00.000000000",
          "2025-04-04T00:00:00.000000000",
          "2025-04-07T00:00:00.000000000",
          "2025-04-08T00:00:00.000000000",
          "2025-04-09T00:00:00.000000000",
          "2025-04-10T00:00:00.000000000",
          "2025-04-11T00:00:00.000000000",
          "2025-04-14T00:00:00.000000000",
          "2025-04-15T00:00:00.000000000",
          "2025-04-16T00:00:00.000000000",
          "2025-04-17T00:00:00.000000000",
          "2025-04-18T00:00:00.000000000",
          "2025-04-21T00:00:00.000000000",
          "2025-04-22T00:00:00.000000000",
          "2025-04-23T00:00:00.000000000",
          "2025-04-24T00:00:00.000000000",
          "2025-04-25T00:00:00.000000000",
          "2025-04-28T00:00:00.000000000",
          "2025-04-29T00:00:00.000000000",
          "2025-04-30T00:00:00.000000000",
          "2025-05-01T00:00:00.000000000",
          "2025-05-02T00:00:00.000000000",
          "2025-05-05T00:00:00.000000000",
          "2025-05-06T00:00:00.000000000",
          "2025-06-01T00:00:00.000000000",
          "2025-07-01T00:00:00.000000000",
          "2025-08-01T00:00:00.000000000",
          "2025-09-01T00:00:00.000000000",
          "2025-10-01T00:00:00.000000000",
          "2025-11-01T00:00:00.000000000",
          "2025-12-01T00:00:00.000000000",
          "2026-01-01T00:00:00.000000000",
          "2026-02-01T00:00:00.000000000",
          "2026-03-01T00:00:00.000000000",
          "2026-04-01T00:00:00.000000000",
          "2026-05-01T00:00:00.000000000",
          "2026-06-01T00:00:00.000000000",
          "2026-07-01T00:00:00.000000000",
          "2026-08-01T00:00:00.000000000",
          "2026-09-01T00:00:00.000000000",
          "2026-10-01T00:00:00.000000000",
          "2026-11-01T00:00:00.000000000",
          "2026-12-01T00:00:00.000000000",
          "2027-01-01T00:00:00.000000000",
          "2027-02-01T00:00:00.000000000",
          "2027-03-01T00:00:00.000000000",
          "2027-04-01T00:00:00.000000000"
         ],
         "y": {
          "bdata": "AAAAAAB4jUAAAAAAAFiNQAAAAAAAUI1AAAAAAAAIjEAAAAAAADiMQAAAAAAAeItAAAAAAAAwjEAAAAAAAIiMQAAAAAAA0IxAAAAAAACQjEAAAAAAAHiNQAAAAAAA2IxAAAAAAADYjUAAAAAAAMiOQAAAAAAAyI1AAAAAAACYjkAAAAAAAJiPQAAAAAAAuI5AAAAAAAAwjkAAAAAAALCMQAAAAAAAOI1AAAAAAAAwjUAAAAAAAPiMQAAAAAAAgI1AAAAAAACoikAAAAAAAMCKQAAAAAAAUI1AAAAAAAB4jUAAAAAAAPCQQAAAAAAAJJJAAAAAAABEkkAAAAAAAISUQAAAAAAAqJRAAAAAAADAl0AAAAAAAFyYQAAAAAAAaJhAAAAAAACkmkAAAAAAAKSeQAAAAAAABKBAAAAAAADAoUAAAAAAAMCjQAAAAAAA9KBAAAAAAAAAoUAAAAAAAO6gQAAAAAAAgKJAAAAAAABGpUAAAAAAAPajQA==",
          "dtype": "f8"
         }
        },
        {
         "marker": {
          "color": "#EF553B",
          "size": 8,
          "symbol": "circle"
         },
         "mode": "markers",
         "name": "Start Forecast - 20250402",
         "type": "scatter",
         "x": [
          "2025-04-03T00:00:00"
         ],
         "y": [
          943
         ]
        },
        {
         "line": {
          "color": "red"
         },
         "marker": {
          "color": "red",
          "size": 6
         },
         "mode": "lines+markers",
         "name": "Current Price",
         "type": "scatter",
         "x": [
          "2025-03-03T00:00:00",
          "2025-03-04T00:00:00",
          "2025-03-05T00:00:00",
          "2025-03-06T00:00:00",
          "2025-03-07T00:00:00",
          "2025-03-10T00:00:00",
          "2025-03-11T00:00:00",
          "2025-03-12T00:00:00",
          "2025-03-13T00:00:00",
          "2025-03-14T00:00:00",
          "2025-03-17T00:00:00",
          "2025-03-18T00:00:00",
          "2025-03-19T00:00:00",
          "2025-03-20T00:00:00",
          "2025-03-21T00:00:00",
          "2025-03-24T00:00:00",
          "2025-03-25T00:00:00",
          "2025-03-26T00:00:00",
          "2025-03-27T00:00:00",
          "2025-03-28T00:00:00",
          "2025-03-31T00:00:00",
          "2025-04-01T00:00:00",
          "2025-04-02T00:00:00"
         ],
         "y": {
          "bdata": "AAAAoJltjkAAAADgo2SOQAAAACBc945AAAAAQOFSjEAAAABA4diLQAAAAKBwFYtAAAAAwMz4i0AAAACgcL2MQAAAACBc0YtAAAAAAACwjEAAAAAAKbCNQAAAAADXD41AAAAAgOv7jUAAAABguLaNQAAAAOBRAo5AAAAAgOtfjkAAAACAPSqPQAAAAEAzVY5AAAAAgMKFjkAAAADAzC6NQAAAAIA9JI1AAAAAQAoDjUAAAAAAKTyNQA==",
          "dtype": "f8"
         }
        }
       ],
       "layout": {
        "legend": {
         "font": {
          "size": 10
         },
         "x": 1.05,
         "xanchor": "left",
         "y": 1,
         "yanchor": "top"
        },
        "template": {
         "data": {
          "bar": [
           {
            "error_x": {
             "color": "#2a3f5f"
            },
            "error_y": {
             "color": "#2a3f5f"
            },
            "marker": {
             "line": {
              "color": "white",
              "width": 0.5
             },
             "pattern": {
              "fillmode": "overlay",
              "size": 10,
              "solidity": 0.2
             }
            },
            "type": "bar"
           }
          ],
          "barpolar": [
           {
            "marker": {
             "line": {
              "color": "white",
              "width": 0.5
             },
             "pattern": {
              "fillmode": "overlay",
              "size": 10,
              "solidity": 0.2
             }
            },
            "type": "barpolar"
           }
          ],
          "carpet": [
           {
            "aaxis": {
             "endlinecolor": "#2a3f5f",
             "gridcolor": "#C8D4E3",
             "linecolor": "#C8D4E3",
             "minorgridcolor": "#C8D4E3",
             "startlinecolor": "#2a3f5f"
            },
            "baxis": {
             "endlinecolor": "#2a3f5f",
             "gridcolor": "#C8D4E3",
             "linecolor": "#C8D4E3",
             "minorgridcolor": "#C8D4E3",
             "startlinecolor": "#2a3f5f"
            },
            "type": "carpet"
           }
          ],
          "choropleth": [
           {
            "colorbar": {
             "outlinewidth": 0,
             "ticks": ""
            },
            "type": "choropleth"
           }
          ],
          "contour": [
           {
            "colorbar": {
             "outlinewidth": 0,
             "ticks": ""
            },
            "colorscale": [
             [
              0,
              "#0d0887"
             ],
             [
              0.1111111111111111,
              "#46039f"
             ],
             [
              0.2222222222222222,
              "#7201a8"
             ],
             [
              0.3333333333333333,
              "#9c179e"
             ],
             [
              0.4444444444444444,
              "#bd3786"
             ],
             [
              0.5555555555555556,
              "#d8576b"
             ],
             [
              0.6666666666666666,
              "#ed7953"
             ],
             [
              0.7777777777777778,
              "#fb9f3a"
             ],
             [
              0.8888888888888888,
              "#fdca26"
             ],
             [
              1,
              "#f0f921"
             ]
            ],
            "type": "contour"
           }
          ],
          "contourcarpet": [
           {
            "colorbar": {
             "outlinewidth": 0,
             "ticks": ""
            },
            "type": "contourcarpet"
           }
          ],
          "heatmap": [
           {
            "colorbar": {
             "outlinewidth": 0,
             "ticks": ""
            },
            "colorscale": [
             [
              0,
              "#0d0887"
             ],
             [
              0.1111111111111111,
              "#46039f"
             ],
             [
              0.2222222222222222,
              "#7201a8"
             ],
             [
              0.3333333333333333,
              "#9c179e"
             ],
             [
              0.4444444444444444,
              "#bd3786"
             ],
             [
              0.5555555555555556,
              "#d8576b"
             ],
             [
              0.6666666666666666,
              "#ed7953"
             ],
             [
              0.7777777777777778,
              "#fb9f3a"
             ],
             [
              0.8888888888888888,
              "#fdca26"
             ],
             [
              1,
              "#f0f921"
             ]
            ],
            "type": "heatmap"
           }
          ],
          "histogram": [
           {
            "marker": {
             "pattern": {
              "fillmode": "overlay",
              "size": 10,
              "solidity": 0.2
             }
            },
            "type": "histogram"
           }
          ],
          "histogram2d": [
           {
            "colorbar": {
             "outlinewidth": 0,
             "ticks": ""
            },
            "colorscale": [
             [
              0,
              "#0d0887"
             ],
             [
              0.1111111111111111,
              "#46039f"
             ],
             [
              0.2222222222222222,
              "#7201a8"
             ],
             [
              0.3333333333333333,
              "#9c179e"
             ],
             [
              0.4444444444444444,
              "#bd3786"
             ],
             [
              0.5555555555555556,
              "#d8576b"
             ],
             [
              0.6666666666666666,
              "#ed7953"
             ],
             [
              0.7777777777777778,
              "#fb9f3a"
             ],
             [
              0.8888888888888888,
              "#fdca26"
             ],
             [
              1,
              "#f0f921"
             ]
            ],
            "type": "histogram2d"
           }
          ],
          "histogram2dcontour": [
           {
            "colorbar": {
             "outlinewidth": 0,
             "ticks": ""
            },
            "colorscale": [
             [
              0,
              "#0d0887"
             ],
             [
              0.1111111111111111,
              "#46039f"
             ],
             [
              0.2222222222222222,
              "#7201a8"
             ],
             [
              0.3333333333333333,
              "#9c179e"
             ],
             [
              0.4444444444444444,
              "#bd3786"
             ],
             [
              0.5555555555555556,
              "#d8576b"
             ],
             [
              0.6666666666666666,
              "#ed7953"
             ],
             [
              0.7777777777777778,
              "#fb9f3a"
             ],
             [
              0.8888888888888888,
              "#fdca26"
             ],
             [
              1,
              "#f0f921"
             ]
            ],
            "type": "histogram2dcontour"
           }
          ],
          "mesh3d": [
           {
            "colorbar": {
             "outlinewidth": 0,
             "ticks": ""
            },
            "type": "mesh3d"
           }
          ],
          "parcoords": [
           {
            "line": {
             "colorbar": {
              "outlinewidth": 0,
              "ticks": ""
             }
            },
            "type": "parcoords"
           }
          ],
          "pie": [
           {
            "automargin": true,
            "type": "pie"
           }
          ],
          "scatter": [
           {
            "fillpattern": {
             "fillmode": "overlay",
             "size": 10,
             "solidity": 0.2
            },
            "type": "scatter"
           }
          ],
          "scatter3d": [
           {
            "line": {
             "colorbar": {
              "outlinewidth": 0,
              "ticks": ""
             }
            },
            "marker": {
             "colorbar": {
              "outlinewidth": 0,
              "ticks": ""
             }
            },
            "type": "scatter3d"
           }
          ],
          "scattercarpet": [
           {
            "marker": {
             "colorbar": {
              "outlinewidth": 0,
              "ticks": ""
             }
            },
            "type": "scattercarpet"
           }
          ],
          "scattergeo": [
           {
            "marker": {
             "colorbar": {
              "outlinewidth": 0,
              "ticks": ""
             }
            },
            "type": "scattergeo"
           }
          ],
          "scattergl": [
           {
            "marker": {
             "colorbar": {
              "outlinewidth": 0,
              "ticks": ""
             }
            },
            "type": "scattergl"
           }
          ],
          "scattermap": [
           {
            "marker": {
             "colorbar": {
              "outlinewidth": 0,
              "ticks": ""
             }
            },
            "type": "scattermap"
           }
          ],
          "scattermapbox": [
           {
            "marker": {
             "colorbar": {
              "outlinewidth": 0,
              "ticks": ""
             }
            },
            "type": "scattermapbox"
           }
          ],
          "scatterpolar": [
           {
            "marker": {
             "colorbar": {
              "outlinewidth": 0,
              "ticks": ""
             }
            },
            "type": "scatterpolar"
           }
          ],
          "scatterpolargl": [
           {
            "marker": {
             "colorbar": {
              "outlinewidth": 0,
              "ticks": ""
             }
            },
            "type": "scatterpolargl"
           }
          ],
          "scatterternary": [
           {
            "marker": {
             "colorbar": {
              "outlinewidth": 0,
              "ticks": ""
             }
            },
            "type": "scatterternary"
           }
          ],
          "surface": [
           {
            "colorbar": {
             "outlinewidth": 0,
             "ticks": ""
            },
            "colorscale": [
             [
              0,
              "#0d0887"
             ],
             [
              0.1111111111111111,
              "#46039f"
             ],
             [
              0.2222222222222222,
              "#7201a8"
             ],
             [
              0.3333333333333333,
              "#9c179e"
             ],
             [
              0.4444444444444444,
              "#bd3786"
             ],
             [
              0.5555555555555556,
              "#d8576b"
             ],
             [
              0.6666666666666666,
              "#ed7953"
             ],
             [
              0.7777777777777778,
              "#fb9f3a"
             ],
             [
              0.8888888888888888,
              "#fdca26"
             ],
             [
              1,
              "#f0f921"
             ]
            ],
            "type": "surface"
           }
          ],
          "table": [
           {
            "cells": {
             "fill": {
              "color": "#EBF0F8"
             },
             "line": {
              "color": "white"
             }
            },
            "header": {
             "fill": {
              "color": "#C8D4E3"
             },
             "line": {
              "color": "white"
             }
            },
            "type": "table"
           }
          ]
         },
         "layout": {
          "annotationdefaults": {
           "arrowcolor": "#2a3f5f",
           "arrowhead": 0,
           "arrowwidth": 1
          },
          "autotypenumbers": "strict",
          "coloraxis": {
           "colorbar": {
            "outlinewidth": 0,
            "ticks": ""
           }
          },
          "colorscale": {
           "diverging": [
            [
             0,
             "#8e0152"
            ],
            [
             0.1,
             "#c51b7d"
            ],
            [
             0.2,
             "#de77ae"
            ],
            [
             0.3,
             "#f1b6da"
            ],
            [
             0.4,
             "#fde0ef"
            ],
            [
             0.5,
             "#f7f7f7"
            ],
            [
             0.6,
             "#e6f5d0"
            ],
            [
             0.7,
             "#b8e186"
            ],
            [
             0.8,
             "#7fbc41"
            ],
            [
             0.9,
             "#4d9221"
            ],
            [
             1,
             "#276419"
            ]
           ],
           "sequential": [
            [
             0,
             "#0d0887"
            ],
            [
             0.1111111111111111,
             "#46039f"
            ],
            [
             0.2222222222222222,
             "#7201a8"
            ],
            [
             0.3333333333333333,
             "#9c179e"
            ],
            [
             0.4444444444444444,
             "#bd3786"
            ],
            [
             0.5555555555555556,
             "#d8576b"
            ],
            [
             0.6666666666666666,
             "#ed7953"
            ],
            [
             0.7777777777777778,
             "#fb9f3a"
            ],
            [
             0.8888888888888888,
             "#fdca26"
            ],
            [
             1,
             "#f0f921"
            ]
           ],
           "sequentialminus": [
            [
             0,
             "#0d0887"
            ],
            [
             0.1111111111111111,
             "#46039f"
            ],
            [
             0.2222222222222222,
             "#7201a8"
            ],
            [
             0.3333333333333333,
             "#9c179e"
            ],
            [
             0.4444444444444444,
             "#bd3786"
            ],
            [
             0.5555555555555556,
             "#d8576b"
            ],
            [
             0.6666666666666666,
             "#ed7953"
            ],
            [
             0.7777777777777778,
             "#fb9f3a"
            ],
            [
             0.8888888888888888,
             "#fdca26"
            ],
            [
             1,
             "#f0f921"
            ]
           ]
          },
          "colorway": [
           "#636efa",
           "#EF553B",
           "#00cc96",
           "#ab63fa",
           "#FFA15A",
           "#19d3f3",
           "#FF6692",
           "#B6E880",
           "#FF97FF",
           "#FECB52"
          ],
          "font": {
           "color": "#2a3f5f"
          },
          "geo": {
           "bgcolor": "white",
           "lakecolor": "white",
           "landcolor": "white",
           "showlakes": true,
           "showland": true,
           "subunitcolor": "#C8D4E3"
          },
          "hoverlabel": {
           "align": "left"
          },
          "hovermode": "closest",
          "mapbox": {
           "style": "light"
          },
          "paper_bgcolor": "white",
          "plot_bgcolor": "white",
          "polar": {
           "angularaxis": {
            "gridcolor": "#EBF0F8",
            "linecolor": "#EBF0F8",
            "ticks": ""
           },
           "bgcolor": "white",
           "radialaxis": {
            "gridcolor": "#EBF0F8",
            "linecolor": "#EBF0F8",
            "ticks": ""
           }
          },
          "scene": {
           "xaxis": {
            "backgroundcolor": "white",
            "gridcolor": "#DFE8F3",
            "gridwidth": 2,
            "linecolor": "#EBF0F8",
            "showbackground": true,
            "ticks": "",
            "zerolinecolor": "#EBF0F8"
           },
           "yaxis": {
            "backgroundcolor": "white",
            "gridcolor": "#DFE8F3",
            "gridwidth": 2,
            "linecolor": "#EBF0F8",
            "showbackground": true,
            "ticks": "",
            "zerolinecolor": "#EBF0F8"
           },
           "zaxis": {
            "backgroundcolor": "white",
            "gridcolor": "#DFE8F3",
            "gridwidth": 2,
            "linecolor": "#EBF0F8",
            "showbackground": true,
            "ticks": "",
            "zerolinecolor": "#EBF0F8"
           }
          },
          "shapedefaults": {
           "line": {
            "color": "#2a3f5f"
           }
          },
          "ternary": {
           "aaxis": {
            "gridcolor": "#DFE8F3",
            "linecolor": "#A2B1C6",
            "ticks": ""
           },
           "baxis": {
            "gridcolor": "#DFE8F3",
            "linecolor": "#A2B1C6",
            "ticks": ""
           },
           "bgcolor": "white",
           "caxis": {
            "gridcolor": "#DFE8F3",
            "linecolor": "#A2B1C6",
            "ticks": ""
           }
          },
          "title": {
           "x": 0.05
          },
          "xaxis": {
           "automargin": true,
           "gridcolor": "#EBF0F8",
           "linecolor": "#EBF0F8",
           "ticks": "",
           "title": {
            "standoff": 15
           },
           "zerolinecolor": "#EBF0F8",
           "zerolinewidth": 2
          },
          "yaxis": {
           "automargin": true,
           "gridcolor": "#EBF0F8",
           "linecolor": "#EBF0F8",
           "ticks": "",
           "title": {
            "standoff": 15
           },
           "zerolinecolor": "#EBF0F8",
           "zerolinewidth": 2
          }
         }
        },
        "title": {
         "text": "netflix Forecast"
        },
        "xaxis": {
         "range": [
          "2025-03-03T00:00:00",
          "2025-11-01T00:00:00"
         ],
         "tickangle": -45,
         "title": {
          "text": "Date"
         }
        },
        "yaxis": {
         "range": [
          0,
          1517.6
         ],
         "title": {
          "text": "Price / USD"
         }
        }
       }
      }
     },
     "metadata": {},
     "output_type": "display_data"
    }
   ],
   "source": [
    "fh=ForecastHandler(company='netflix')\n",
    "fh.load_all_forecasts()\n",
    "fh.plot_forecasts()"
   ]
  },
  {
   "cell_type": "code",
   "execution_count": 5,
   "metadata": {},
   "outputs": [
    {
     "name": "stdout",
     "output_type": "stream",
     "text": [
      "found forecast files: ['20250402_wmt-stock_forecast.csv']\n",
      "load file 20250402_wmt-stock_forecast.csv\n"
     ]
    },
    {
     "data": {
      "image/png": "[encoded data removed]",
      "text/plain": [
       "<Figure size 1000x500 with 1 Axes>"
      ]
     },
     "metadata": {},
     "output_type": "display_data"
    },
    {
     "data": {
      "application/vnd.plotly.v1+json": {
       "config": {
        "plotlyServerURL": "https://plot.ly"
       },
       "data": [
        {
         "line": {
          "color": "#636EFA",
          "dash": "dash"
         },
         "mode": "lines",
         "name": "Forecast - 20250402",
         "type": "scatter",
         "x": [
          "2025-04-03T00:00:00.000000000",
          "2025-04-04T00:00:00.000000000",
          "2025-04-07T00:00:00.000000000",
          "2025-04-08T00:00:00.000000000",
          "2025-04-09T00:00:00.000000000",
          "2025-04-10T00:00:00.000000000",
          "2025-04-11T00:00:00.000000000",
          "2025-04-14T00:00:00.000000000",
          "2025-04-15T00:00:00.000000000",
          "2025-04-16T00:00:00.000000000",
          "2025-04-17T00:00:00.000000000",
          "2025-04-18T00:00:00.000000000",
          "2025-04-21T00:00:00.000000000",
          "2025-04-22T00:00:00.000000000",
          "2025-04-23T00:00:00.000000000",
          "2025-04-24T00:00:00.000000000",
          "2025-04-25T00:00:00.000000000",
          "2025-04-28T00:00:00.000000000",
          "2025-04-29T00:00:00.000000000",
          "2025-04-30T00:00:00.000000000",
          "2025-05-01T00:00:00.000000000",
          "2025-05-02T00:00:00.000000000",
          "2025-05-05T00:00:00.000000000",
          "2025-05-06T00:00:00.000000000",
          "2025-06-01T00:00:00.000000000",
          "2025-07-01T00:00:00.000000000",
          "2025-08-01T00:00:00.000000000",
          "2025-09-01T00:00:00.000000000",
          "2025-10-01T00:00:00.000000000",
          "2025-11-01T00:00:00.000000000",
          "2025-12-01T00:00:00.000000000",
          "2026-01-01T00:00:00.000000000",
          "2026-02-01T00:00:00.000000000",
          "2026-03-01T00:00:00.000000000",
          "2026-04-01T00:00:00.000000000",
          "2026-05-01T00:00:00.000000000",
          "2026-06-01T00:00:00.000000000",
          "2026-07-01T00:00:00.000000000",
          "2026-08-01T00:00:00.000000000",
          "2026-09-01T00:00:00.000000000",
          "2026-10-01T00:00:00.000000000",
          "2026-11-01T00:00:00.000000000",
          "2026-12-01T00:00:00.000000000",
          "2027-01-01T00:00:00.000000000",
          "2027-02-01T00:00:00.000000000",
          "2027-03-01T00:00:00.000000000",
          "2027-04-01T00:00:00.000000000"
         ],
         "y": {
          "bdata": "/////yisVkD/////KOxWQAEAAEDhqldA////PzODV0D///8/M6NXQAAAAKBHwVdAAAAAQAoHV0AAAACAFG5XQAAAAIDCdVdAAAAAYI9SV0AAAADgeoRXQAEAAADXA1dAAAAAoJmZV0ABAAAA19NXQAEAAADXo1dA////31EIV0AAAACAFO5WQAAAAEAK91VAAAAA4FFIVUAAAABA4fpUQAAAAEAzM1VAAAAAAACgVEAAAABA4WpUQAAAAKCZyVRAAAAAQOGqUUAAAAAgXL9RQAAAAOBRSFNAAAAAwB5lU0AAAAAA19NVQAAAAEAzE1ZAAAAAgD06V0ABAAAgrqdZQAEAACCuR1tAAAAAIIV7XkABAADgo6BeQAAAAGBmRl9AAAAAoEc5YEAAAACAPVJhQAAAAKBHsWFAAAAAAACQYEAAAABA4RJhQAAAAGBm5mBAAAAAoEcpYUAAAAAgXF9hQAAAAGBmpmFAAAAAgBRmYkAAAADA9eBiQA==",
          "dtype": "f8"
         }
        },
        {
         "marker": {
          "color": "#636EFA",
          "size": 8,
          "symbol": "circle"
         },
         "mode": "markers",
         "name": "Start Forecast - 20250402",
         "type": "scatter",
         "x": [
          "2025-04-03T00:00:00"
         ],
         "y": [
          90.69000244140624
         ]
        },
        {
         "line": {
          "color": "red"
         },
         "marker": {
          "color": "red",
          "size": 6
         },
         "mode": "lines+markers",
         "name": "Current Price",
         "type": "scatter",
         "x": [
          "2025-03-03T00:00:00",
          "2025-03-04T00:00:00",
          "2025-03-05T00:00:00",
          "2025-03-06T00:00:00",
          "2025-03-07T00:00:00",
          "2025-03-10T00:00:00",
          "2025-03-11T00:00:00",
          "2025-03-12T00:00:00",
          "2025-03-13T00:00:00",
          "2025-03-14T00:00:00",
          "2025-03-17T00:00:00",
          "2025-03-18T00:00:00",
          "2025-03-19T00:00:00",
          "2025-03-20T00:00:00",
          "2025-03-21T00:00:00",
          "2025-03-24T00:00:00",
          "2025-03-25T00:00:00",
          "2025-03-26T00:00:00",
          "2025-03-27T00:00:00",
          "2025-03-28T00:00:00",
          "2025-03-31T00:00:00",
          "2025-04-01T00:00:00",
          "2025-04-02T00:00:00"
         ],
         "y": {
          "bdata": "AAAAwKdUWEAAAABAb61XQAAAAODl7VdAAAAAYF+YV0AAAAAgAd5WQAAAAIAW5VVAAAAAoNXMVUAAAADg3T1VQAAAAIAwEVVAAAAAwHBHVUAAAABgHM5VQAAAACDCVlVAAAAAQP2FVUAAAADAzGRVQAAAAGC4flVAAAAAIFzfVUAAAADgozBVQAAAAKBwTVVAAAAA4FFoVUAAAACgmUlVQAAAAGCP8lVAAAAAwB41VkAAAADgo3BWQA==",
          "dtype": "f8"
         }
        }
       ],
       "layout": {
        "legend": {
         "font": {
          "size": 10
         },
         "x": 1.05,
         "xanchor": "left",
         "y": 1,
         "yanchor": "top"
        },
        "template": {
         "data": {
          "bar": [
           {
            "error_x": {
             "color": "#2a3f5f"
            },
            "error_y": {
             "color": "#2a3f5f"
            },
            "marker": {
             "line": {
              "color": "white",
              "width": 0.5
             },
             "pattern": {
              "fillmode": "overlay",
              "size": 10,
              "solidity": 0.2
             }
            },
            "type": "bar"
           }
          ],
          "barpolar": [
           {
            "marker": {
             "line": {
              "color": "white",
              "width": 0.5
             },
             "pattern": {
              "fillmode": "overlay",
              "size": 10,
              "solidity": 0.2
             }
            },
            "type": "barpolar"
           }
          ],
          "carpet": [
           {
            "aaxis": {
             "endlinecolor": "#2a3f5f",
             "gridcolor": "#C8D4E3",
             "linecolor": "#C8D4E3",
             "minorgridcolor": "#C8D4E3",
             "startlinecolor": "#2a3f5f"
            },
            "baxis": {
             "endlinecolor": "#2a3f5f",
             "gridcolor": "#C8D4E3",
             "linecolor": "#C8D4E3",
             "minorgridcolor": "#C8D4E3",
             "startlinecolor": "#2a3f5f"
            },
            "type": "carpet"
           }
          ],
          "choropleth": [
           {
            "colorbar": {
             "outlinewidth": 0,
             "ticks": ""
            },
            "type": "choropleth"
           }
          ],
          "contour": [
           {
            "colorbar": {
             "outlinewidth": 0,
             "ticks": ""
            },
            "colorscale": [
             [
              0,
              "#0d0887"
             ],
             [
              0.1111111111111111,
              "#46039f"
             ],
             [
              0.2222222222222222,
              "#7201a8"
             ],
             [
              0.3333333333333333,
              "#9c179e"
             ],
             [
              0.4444444444444444,
              "#bd3786"
             ],
             [
              0.5555555555555556,
              "#d8576b"
             ],
             [
              0.6666666666666666,
              "#ed7953"
             ],
             [
              0.7777777777777778,
              "#fb9f3a"
             ],
             [
              0.8888888888888888,
              "#fdca26"
             ],
             [
              1,
              "#f0f921"
             ]
            ],
            "type": "contour"
           }
          ],
          "contourcarpet": [
           {
            "colorbar": {
             "outlinewidth": 0,
             "ticks": ""
            },
            "type": "contourcarpet"
           }
          ],
          "heatmap": [
           {
            "colorbar": {
             "outlinewidth": 0,
             "ticks": ""
            },
            "colorscale": [
             [
              0,
              "#0d0887"
             ],
             [
              0.1111111111111111,
              "#46039f"
             ],
             [
              0.2222222222222222,
              "#7201a8"
             ],
             [
              0.3333333333333333,
              "#9c179e"
             ],
             [
              0.4444444444444444,
              "#bd3786"
             ],
             [
              0.5555555555555556,
              "#d8576b"
             ],
             [
              0.6666666666666666,
              "#ed7953"
             ],
             [
              0.7777777777777778,
              "#fb9f3a"
             ],
             [
              0.8888888888888888,
              "#fdca26"
             ],
             [
              1,
              "#f0f921"
             ]
            ],
            "type": "heatmap"
           }
          ],
          "histogram": [
           {
            "marker": {
             "pattern": {
              "fillmode": "overlay",
              "size": 10,
              "solidity": 0.2
             }
            },
            "type": "histogram"
           }
          ],
          "histogram2d": [
           {
            "colorbar": {
             "outlinewidth": 0,
             "ticks": ""
            },
            "colorscale": [
             [
              0,
              "#0d0887"
             ],
             [
              0.1111111111111111,
              "#46039f"
             ],
             [
              0.2222222222222222,
              "#7201a8"
             ],
             [
              0.3333333333333333,
              "#9c179e"
             ],
             [
              0.4444444444444444,
              "#bd3786"
             ],
             [
              0.5555555555555556,
              "#d8576b"
             ],
             [
              0.6666666666666666,
              "#ed7953"
             ],
             [
              0.7777777777777778,
              "#fb9f3a"
             ],
             [
              0.8888888888888888,
              "#fdca26"
             ],
             [
              1,
              "#f0f921"
             ]
            ],
            "type": "histogram2d"
           }
          ],
          "histogram2dcontour": [
           {
            "colorbar": {
             "outlinewidth": 0,
             "ticks": ""
            },
            "colorscale": [
             [
              0,
              "#0d0887"
             ],
             [
              0.1111111111111111,
              "#46039f"
             ],
             [
              0.2222222222222222,
              "#7201a8"
             ],
             [
              0.3333333333333333,
              "#9c179e"
             ],
             [
              0.4444444444444444,
              "#bd3786"
             ],
             [
              0.5555555555555556,
              "#d8576b"
             ],
             [
              0.6666666666666666,
              "#ed7953"
             ],
             [
              0.7777777777777778,
              "#fb9f3a"
             ],
             [
              0.8888888888888888,
              "#fdca26"
             ],
             [
              1,
              "#f0f921"
             ]
            ],
            "type": "histogram2dcontour"
           }
          ],
          "mesh3d": [
           {
            "colorbar": {
             "outlinewidth": 0,
             "ticks": ""
            },
            "type": "mesh3d"
           }
          ],
          "parcoords": [
           {
            "line": {
             "colorbar": {
              "outlinewidth": 0,
              "ticks": ""
             }
            },
            "type": "parcoords"
           }
          ],
          "pie": [
           {
            "automargin": true,
            "type": "pie"
           }
          ],
          "scatter": [
           {
            "fillpattern": {
             "fillmode": "overlay",
             "size": 10,
             "solidity": 0.2
            },
            "type": "scatter"
           }
          ],
          "scatter3d": [
           {
            "line": {
             "colorbar": {
              "outlinewidth": 0,
              "ticks": ""
             }
            },
            "marker": {
             "colorbar": {
              "outlinewidth": 0,
              "ticks": ""
             }
            },
            "type": "scatter3d"
           }
          ],
          "scattercarpet": [
           {
            "marker": {
             "colorbar": {
              "outlinewidth": 0,
              "ticks": ""
             }
            },
            "type": "scattercarpet"
           }
          ],
          "scattergeo": [
           {
            "marker": {
             "colorbar": {
              "outlinewidth": 0,
              "ticks": ""
             }
            },
            "type": "scattergeo"
           }
          ],
          "scattergl": [
           {
            "marker": {
             "colorbar": {
              "outlinewidth": 0,
              "ticks": ""
             }
            },
            "type": "scattergl"
           }
          ],
          "scattermap": [
           {
            "marker": {
             "colorbar": {
              "outlinewidth": 0,
              "ticks": ""
             }
            },
            "type": "scattermap"
           }
          ],
          "scattermapbox": [
           {
            "marker": {
             "colorbar": {
              "outlinewidth": 0,
              "ticks": ""
             }
            },
            "type": "scattermapbox"
           }
          ],
          "scatterpolar": [
           {
            "marker": {
             "colorbar": {
              "outlinewidth": 0,
              "ticks": ""
             }
            },
            "type": "scatterpolar"
           }
          ],
          "scatterpolargl": [
           {
            "marker": {
             "colorbar": {
              "outlinewidth": 0,
              "ticks": ""
             }
            },
            "type": "scatterpolargl"
           }
          ],
          "scatterternary": [
           {
            "marker": {
             "colorbar": {
              "outlinewidth": 0,
              "ticks": ""
             }
            },
            "type": "scatterternary"
           }
          ],
          "surface": [
           {
            "colorbar": {
             "outlinewidth": 0,
             "ticks": ""
            },
            "colorscale": [
             [
              0,
              "#0d0887"
             ],
             [
              0.1111111111111111,
              "#46039f"
             ],
             [
              0.2222222222222222,
              "#7201a8"
             ],
             [
              0.3333333333333333,
              "#9c179e"
             ],
             [
              0.4444444444444444,
              "#bd3786"
             ],
             [
              0.5555555555555556,
              "#d8576b"
             ],
             [
              0.6666666666666666,
              "#ed7953"
             ],
             [
              0.7777777777777778,
              "#fb9f3a"
             ],
             [
              0.8888888888888888,
              "#fdca26"
             ],
             [
              1,
              "#f0f921"
             ]
            ],
            "type": "surface"
           }
          ],
          "table": [
           {
            "cells": {
             "fill": {
              "color": "#EBF0F8"
             },
             "line": {
              "color": "white"
             }
            },
            "header": {
             "fill": {
              "color": "#C8D4E3"
             },
             "line": {
              "color": "white"
             }
            },
            "type": "table"
           }
          ]
         },
         "layout": {
          "annotationdefaults": {
           "arrowcolor": "#2a3f5f",
           "arrowhead": 0,
           "arrowwidth": 1
          },
          "autotypenumbers": "strict",
          "coloraxis": {
           "colorbar": {
            "outlinewidth": 0,
            "ticks": ""
           }
          },
          "colorscale": {
           "diverging": [
            [
             0,
             "#8e0152"
            ],
            [
             0.1,
             "#c51b7d"
            ],
            [
             0.2,
             "#de77ae"
            ],
            [
             0.3,
             "#f1b6da"
            ],
            [
             0.4,
             "#fde0ef"
            ],
            [
             0.5,
             "#f7f7f7"
            ],
            [
             0.6,
             "#e6f5d0"
            ],
            [
             0.7,
             "#b8e186"
            ],
            [
             0.8,
             "#7fbc41"
            ],
            [
             0.9,
             "#4d9221"
            ],
            [
             1,
             "#276419"
            ]
           ],
           "sequential": [
            [
             0,
             "#0d0887"
            ],
            [
             0.1111111111111111,
             "#46039f"
            ],
            [
             0.2222222222222222,
             "#7201a8"
            ],
            [
             0.3333333333333333,
             "#9c179e"
            ],
            [
             0.4444444444444444,
             "#bd3786"
            ],
            [
             0.5555555555555556,
             "#d8576b"
            ],
            [
             0.6666666666666666,
             "#ed7953"
            ],
            [
             0.7777777777777778,
             "#fb9f3a"
            ],
            [
             0.8888888888888888,
             "#fdca26"
            ],
            [
             1,
             "#f0f921"
            ]
           ],
           "sequentialminus": [
            [
             0,
             "#0d0887"
            ],
            [
             0.1111111111111111,
             "#46039f"
            ],
            [
             0.2222222222222222,
             "#7201a8"
            ],
            [
             0.3333333333333333,
             "#9c179e"
            ],
            [
             0.4444444444444444,
             "#bd3786"
            ],
            [
             0.5555555555555556,
             "#d8576b"
            ],
            [
             0.6666666666666666,
             "#ed7953"
            ],
            [
             0.7777777777777778,
             "#fb9f3a"
            ],
            [
             0.8888888888888888,
             "#fdca26"
            ],
            [
             1,
             "#f0f921"
            ]
           ]
          },
          "colorway": [
           "#636efa",
           "#EF553B",
           "#00cc96",
           "#ab63fa",
           "#FFA15A",
           "#19d3f3",
           "#FF6692",
           "#B6E880",
           "#FF97FF",
           "#FECB52"
          ],
          "font": {
           "color": "#2a3f5f"
          },
          "geo": {
           "bgcolor": "white",
           "lakecolor": "white",
           "landcolor": "white",
           "showlakes": true,
           "showland": true,
           "subunitcolor": "#C8D4E3"
          },
          "hoverlabel": {
           "align": "left"
          },
          "hovermode": "closest",
          "mapbox": {
           "style": "light"
          },
          "paper_bgcolor": "white",
          "plot_bgcolor": "white",
          "polar": {
           "angularaxis": {
            "gridcolor": "#EBF0F8",
            "linecolor": "#EBF0F8",
            "ticks": ""
           },
           "bgcolor": "white",
           "radialaxis": {
            "gridcolor": "#EBF0F8",
            "linecolor": "#EBF0F8",
            "ticks": ""
           }
          },
          "scene": {
           "xaxis": {
            "backgroundcolor": "white",
            "gridcolor": "#DFE8F3",
            "gridwidth": 2,
            "linecolor": "#EBF0F8",
            "showbackground": true,
            "ticks": "",
            "zerolinecolor": "#EBF0F8"
           },
           "yaxis": {
            "backgroundcolor": "white",
            "gridcolor": "#DFE8F3",
            "gridwidth": 2,
            "linecolor": "#EBF0F8",
            "showbackground": true,
            "ticks": "",
            "zerolinecolor": "#EBF0F8"
           },
           "zaxis": {
            "backgroundcolor": "white",
            "gridcolor": "#DFE8F3",
            "gridwidth": 2,
            "linecolor": "#EBF0F8",
            "showbackground": true,
            "ticks": "",
            "zerolinecolor": "#EBF0F8"
           }
          },
          "shapedefaults": {
           "line": {
            "color": "#2a3f5f"
           }
          },
          "ternary": {
           "aaxis": {
            "gridcolor": "#DFE8F3",
            "linecolor": "#A2B1C6",
            "ticks": ""
           },
           "baxis": {
            "gridcolor": "#DFE8F3",
            "linecolor": "#A2B1C6",
            "ticks": ""
           },
           "bgcolor": "white",
           "caxis": {
            "gridcolor": "#DFE8F3",
            "linecolor": "#A2B1C6",
            "ticks": ""
           }
          },
          "title": {
           "x": 0.05
          },
          "xaxis": {
           "automargin": true,
           "gridcolor": "#EBF0F8",
           "linecolor": "#EBF0F8",
           "ticks": "",
           "title": {
            "standoff": 15
           },
           "zerolinecolor": "#EBF0F8",
           "zerolinewidth": 2
          },
          "yaxis": {
           "automargin": true,
           "gridcolor": "#EBF0F8",
           "linecolor": "#EBF0F8",
           "ticks": "",
           "title": {
            "standoff": 15
           },
           "zerolinecolor": "#EBF0F8",
           "zerolinewidth": 2
          }
         }
        },
        "title": {
         "text": "wmt-stock Forecast"
        },
        "xaxis": {
         "range": [
          "2025-03-03T00:00:00",
          "2025-11-01T00:00:00"
         ],
         "tickangle": -45,
         "title": {
          "text": "Date"
         }
        },
        "yaxis": {
         "range": [
          0,
          136.2518341064453
         ],
         "title": {
          "text": "Price / USD"
         }
        }
       }
      }
     },
     "metadata": {},
     "output_type": "display_data"
    }
   ],
   "source": [
    "fh=ForecastHandler(company='wmt-stock')\n",
    "fh.load_all_forecasts()\n",
    "fh.plot_forecasts()"
   ]
  },
  {
   "cell_type": "code",
   "execution_count": 6,
   "metadata": {},
   "outputs": [
    {
     "name": "stdout",
     "output_type": "stream",
     "text": [
      "found forecast files: ['20250402_xpeng_forecast.csv']\n",
      "load file 20250402_xpeng_forecast.csv\n"
     ]
    },
    {
     "data": {
      "image/png": "[encoded data removed]",
      "text/plain": [
       "<Figure size 1000x500 with 1 Axes>"
      ]
     },
     "metadata": {},
     "output_type": "display_data"
    },
    {
     "data": {
      "application/vnd.plotly.v1+json": {
       "config": {
        "plotlyServerURL": "https://plot.ly"
       },
       "data": [
        {
         "line": {
          "color": "#636EFA",
          "dash": "dash"
         },
         "mode": "lines",
         "name": "Forecast - 20250402",
         "type": "scatter",
         "x": [
          "2025-04-03T00:00:00.000000000",
          "2025-04-04T00:00:00.000000000",
          "2025-04-07T00:00:00.000000000",
          "2025-04-08T00:00:00.000000000",
          "2025-04-09T00:00:00.000000000",
          "2025-04-10T00:00:00.000000000",
          "2025-04-11T00:00:00.000000000",
          "2025-04-14T00:00:00.000000000",
          "2025-04-15T00:00:00.000000000",
          "2025-04-16T00:00:00.000000000",
          "2025-04-17T00:00:00.000000000",
          "2025-04-18T00:00:00.000000000",
          "2025-04-21T00:00:00.000000000",
          "2025-04-22T00:00:00.000000000",
          "2025-04-23T00:00:00.000000000",
          "2025-04-24T00:00:00.000000000",
          "2025-04-25T00:00:00.000000000",
          "2025-04-28T00:00:00.000000000",
          "2025-04-29T00:00:00.000000000",
          "2025-04-30T00:00:00.000000000",
          "2025-05-01T00:00:00.000000000",
          "2025-05-02T00:00:00.000000000",
          "2025-05-05T00:00:00.000000000",
          "2025-05-06T00:00:00.000000000",
          "2025-06-01T00:00:00.000000000",
          "2025-07-01T00:00:00.000000000",
          "2025-08-01T00:00:00.000000000",
          "2025-09-01T00:00:00.000000000",
          "2025-10-01T00:00:00.000000000",
          "2025-11-01T00:00:00.000000000",
          "2025-12-01T00:00:00.000000000",
          "2026-01-01T00:00:00.000000000",
          "2026-02-01T00:00:00.000000000",
          "2026-03-01T00:00:00.000000000",
          "2026-04-01T00:00:00.000000000",
          "2026-05-01T00:00:00.000000000",
          "2026-06-01T00:00:00.000000000",
          "2026-07-01T00:00:00.000000000",
          "2026-08-01T00:00:00.000000000",
          "2026-09-01T00:00:00.000000000",
          "2026-10-01T00:00:00.000000000",
          "2026-11-01T00:00:00.000000000",
          "2026-12-01T00:00:00.000000000",
          "2027-01-01T00:00:00.000000000",
          "2027-02-01T00:00:00.000000000",
          "2027-03-01T00:00:00.000000000",
          "2027-04-01T00:00:00.000000000"
         ],
         "y": {
          "bdata": "AAAAIK5HNUABAABgj4I1QAAAAEAKlzZAAAAAgD0KNkD////fUXg1QAAAAEAzMzVA////33rUNEAAAACAFG40QAAAACCFKzRAAAAAwPUoM0AAAABguB40QP////8oHDNAAAAAwB7FM0AAAAAgrscyQAAAAKBwPTNAAAAAIK5HMkAAAADgozAzQAAAACCFqzJAAAAAoJmZM0ABAAAA1yM0QAEAAGBmJjVAAAAAYLgeNUAAAAAgXA80QAAAAIDrUTNAAAAAoHC9MkAAAADAzIw1QAAAACCuxzhAAQAAYGbmOEAAAAAgXA86QAAAAKBwvTpAAAAAAADAPkAAAABACpdAQAAAAADXA0FAAAAAgD1qQUAAAACgmTlCQAAAAMD16EJAAAAAYLi+RUAAAAAgXI9GQP///99R+EZAAAAAQDNTR0AAAABAM9NDQAAAAOB6dENAAAAAIK4nQkAAAACgR+FEQAAAAGCPAkhAAAAAwPVoREAAAAAgXC9CQA==",
          "dtype": "f8"
         }
        },
        {
         "marker": {
          "color": "#636EFA",
          "size": 8,
          "symbol": "circle"
         },
         "mode": "markers",
         "name": "Start Forecast - 20250402",
         "type": "scatter",
         "x": [
          "2025-04-03T00:00:00"
         ],
         "y": [
          21.280000686645508
         ]
        },
        {
         "line": {
          "color": "red"
         },
         "marker": {
          "color": "red",
          "size": 6
         },
         "mode": "lines+markers",
         "name": "Current Price",
         "type": "scatter",
         "x": [
          "2025-03-03T00:00:00",
          "2025-03-04T00:00:00",
          "2025-03-05T00:00:00",
          "2025-03-06T00:00:00",
          "2025-03-07T00:00:00",
          "2025-03-10T00:00:00",
          "2025-03-11T00:00:00",
          "2025-03-12T00:00:00",
          "2025-03-13T00:00:00",
          "2025-03-14T00:00:00",
          "2025-03-17T00:00:00",
          "2025-03-18T00:00:00",
          "2025-03-19T00:00:00",
          "2025-03-20T00:00:00",
          "2025-03-21T00:00:00",
          "2025-03-24T00:00:00",
          "2025-03-25T00:00:00",
          "2025-03-26T00:00:00",
          "2025-03-27T00:00:00",
          "2025-03-28T00:00:00",
          "2025-03-31T00:00:00",
          "2025-04-01T00:00:00",
          "2025-04-02T00:00:00"
         ],
         "y": {
          "bdata": "AAAAAABANEAAAADgUTg0QAAAAMD1qDVAAAAAQOE6NkAAAACgmZk3QAAAAEAz8zZAAAAAQApXOkAAAABA4bo4QAAAAKCZWTlAAAAAQOG6N0AAAAAgXI84QAAAAADXozZAAAAAwMzMN0AAAACA6xE2QAAAAMDMzDVAAAAAANdjNUAAAABgjwI1QAAAAOBRuDRAAAAAQDMzNEAAAABAM7MzQAAAAOBRuDRAAAAAgML1NEAAAABguB41QA==",
          "dtype": "f8"
         }
        }
       ],
       "layout": {
        "legend": {
         "font": {
          "size": 10
         },
         "x": 1.05,
         "xanchor": "left",
         "y": 1,
         "yanchor": "top"
        },
        "template": {
         "data": {
          "bar": [
           {
            "error_x": {
             "color": "#2a3f5f"
            },
            "error_y": {
             "color": "#2a3f5f"
            },
            "marker": {
             "line": {
              "color": "white",
              "width": 0.5
             },
             "pattern": {
              "fillmode": "overlay",
              "size": 10,
              "solidity": 0.2
             }
            },
            "type": "bar"
           }
          ],
          "barpolar": [
           {
            "marker": {
             "line": {
              "color": "white",
              "width": 0.5
             },
             "pattern": {
              "fillmode": "overlay",
              "size": 10,
              "solidity": 0.2
             }
            },
            "type": "barpolar"
           }
          ],
          "carpet": [
           {
            "aaxis": {
             "endlinecolor": "#2a3f5f",
             "gridcolor": "#C8D4E3",
             "linecolor": "#C8D4E3",
             "minorgridcolor": "#C8D4E3",
             "startlinecolor": "#2a3f5f"
            },
            "baxis": {
             "endlinecolor": "#2a3f5f",
             "gridcolor": "#C8D4E3",
             "linecolor": "#C8D4E3",
             "minorgridcolor": "#C8D4E3",
             "startlinecolor": "#2a3f5f"
            },
            "type": "carpet"
           }
          ],
          "choropleth": [
           {
            "colorbar": {
             "outlinewidth": 0,
             "ticks": ""
            },
            "type": "choropleth"
           }
          ],
          "contour": [
           {
            "colorbar": {
             "outlinewidth": 0,
             "ticks": ""
            },
            "colorscale": [
             [
              0,
              "#0d0887"
             ],
             [
              0.1111111111111111,
              "#46039f"
             ],
             [
              0.2222222222222222,
              "#7201a8"
             ],
             [
              0.3333333333333333,
              "#9c179e"
             ],
             [
              0.4444444444444444,
              "#bd3786"
             ],
             [
              0.5555555555555556,
              "#d8576b"
             ],
             [
              0.6666666666666666,
              "#ed7953"
             ],
             [
              0.7777777777777778,
              "#fb9f3a"
             ],
             [
              0.8888888888888888,
              "#fdca26"
             ],
             [
              1,
              "#f0f921"
             ]
            ],
            "type": "contour"
           }
          ],
          "contourcarpet": [
           {
            "colorbar": {
             "outlinewidth": 0,
             "ticks": ""
            },
            "type": "contourcarpet"
           }
          ],
          "heatmap": [
           {
            "colorbar": {
             "outlinewidth": 0,
             "ticks": ""
            },
            "colorscale": [
             [
              0,
              "#0d0887"
             ],
             [
              0.1111111111111111,
              "#46039f"
             ],
             [
              0.2222222222222222,
              "#7201a8"
             ],
             [
              0.3333333333333333,
              "#9c179e"
             ],
             [
              0.4444444444444444,
              "#bd3786"
             ],
             [
              0.5555555555555556,
              "#d8576b"
             ],
             [
              0.6666666666666666,
              "#ed7953"
             ],
             [
              0.7777777777777778,
              "#fb9f3a"
             ],
             [
              0.8888888888888888,
              "#fdca26"
             ],
             [
              1,
              "#f0f921"
             ]
            ],
            "type": "heatmap"
           }
          ],
          "histogram": [
           {
            "marker": {
             "pattern": {
              "fillmode": "overlay",
              "size": 10,
              "solidity": 0.2
             }
            },
            "type": "histogram"
           }
          ],
          "histogram2d": [
           {
            "colorbar": {
             "outlinewidth": 0,
             "ticks": ""
            },
            "colorscale": [
             [
              0,
              "#0d0887"
             ],
             [
              0.1111111111111111,
              "#46039f"
             ],
             [
              0.2222222222222222,
              "#7201a8"
             ],
             [
              0.3333333333333333,
              "#9c179e"
             ],
             [
              0.4444444444444444,
              "#bd3786"
             ],
             [
              0.5555555555555556,
              "#d8576b"
             ],
             [
              0.6666666666666666,
              "#ed7953"
             ],
             [
              0.7777777777777778,
              "#fb9f3a"
             ],
             [
              0.8888888888888888,
              "#fdca26"
             ],
             [
              1,
              "#f0f921"
             ]
            ],
            "type": "histogram2d"
           }
          ],
          "histogram2dcontour": [
           {
            "colorbar": {
             "outlinewidth": 0,
             "ticks": ""
            },
            "colorscale": [
             [
              0,
              "#0d0887"
             ],
             [
              0.1111111111111111,
              "#46039f"
             ],
             [
              0.2222222222222222,
              "#7201a8"
             ],
             [
              0.3333333333333333,
              "#9c179e"
             ],
             [
              0.4444444444444444,
              "#bd3786"
             ],
             [
              0.5555555555555556,
              "#d8576b"
             ],
             [
              0.6666666666666666,
              "#ed7953"
             ],
             [
              0.7777777777777778,
              "#fb9f3a"
             ],
             [
              0.8888888888888888,
              "#fdca26"
             ],
             [
              1,
              "#f0f921"
             ]
            ],
            "type": "histogram2dcontour"
           }
          ],
          "mesh3d": [
           {
            "colorbar": {
             "outlinewidth": 0,
             "ticks": ""
            },
            "type": "mesh3d"
           }
          ],
          "parcoords": [
           {
            "line": {
             "colorbar": {
              "outlinewidth": 0,
              "ticks": ""
             }
            },
            "type": "parcoords"
           }
          ],
          "pie": [
           {
            "automargin": true,
            "type": "pie"
           }
          ],
          "scatter": [
           {
            "fillpattern": {
             "fillmode": "overlay",
             "size": 10,
             "solidity": 0.2
            },
            "type": "scatter"
           }
          ],
          "scatter3d": [
           {
            "line": {
             "colorbar": {
              "outlinewidth": 0,
              "ticks": ""
             }
            },
            "marker": {
             "colorbar": {
              "outlinewidth": 0,
              "ticks": ""
             }
            },
            "type": "scatter3d"
           }
          ],
          "scattercarpet": [
           {
            "marker": {
             "colorbar": {
              "outlinewidth": 0,
              "ticks": ""
             }
            },
            "type": "scattercarpet"
           }
          ],
          "scattergeo": [
           {
            "marker": {
             "colorbar": {
              "outlinewidth": 0,
              "ticks": ""
             }
            },
            "type": "scattergeo"
           }
          ],
          "scattergl": [
           {
            "marker": {
             "colorbar": {
              "outlinewidth": 0,
              "ticks": ""
             }
            },
            "type": "scattergl"
           }
          ],
          "scattermap": [
           {
            "marker": {
             "colorbar": {
              "outlinewidth": 0,
              "ticks": ""
             }
            },
            "type": "scattermap"
           }
          ],
          "scattermapbox": [
           {
            "marker": {
             "colorbar": {
              "outlinewidth": 0,
              "ticks": ""
             }
            },
            "type": "scattermapbox"
           }
          ],
          "scatterpolar": [
           {
            "marker": {
             "colorbar": {
              "outlinewidth": 0,
              "ticks": ""
             }
            },
            "type": "scatterpolar"
           }
          ],
          "scatterpolargl": [
           {
            "marker": {
             "colorbar": {
              "outlinewidth": 0,
              "ticks": ""
             }
            },
            "type": "scatterpolargl"
           }
          ],
          "scatterternary": [
           {
            "marker": {
             "colorbar": {
              "outlinewidth": 0,
              "ticks": ""
             }
            },
            "type": "scatterternary"
           }
          ],
          "surface": [
           {
            "colorbar": {
             "outlinewidth": 0,
             "ticks": ""
            },
            "colorscale": [
             [
              0,
              "#0d0887"
             ],
             [
              0.1111111111111111,
              "#46039f"
             ],
             [
              0.2222222222222222,
              "#7201a8"
             ],
             [
              0.3333333333333333,
              "#9c179e"
             ],
             [
              0.4444444444444444,
              "#bd3786"
             ],
             [
              0.5555555555555556,
              "#d8576b"
             ],
             [
              0.6666666666666666,
              "#ed7953"
             ],
             [
              0.7777777777777778,
              "#fb9f3a"
             ],
             [
              0.8888888888888888,
              "#fdca26"
             ],
             [
              1,
              "#f0f921"
             ]
            ],
            "type": "surface"
           }
          ],
          "table": [
           {
            "cells": {
             "fill": {
              "color": "#EBF0F8"
             },
             "line": {
              "color": "white"
             }
            },
            "header": {
             "fill": {
              "color": "#C8D4E3"
             },
             "line": {
              "color": "white"
             }
            },
            "type": "table"
           }
          ]
         },
         "layout": {
          "annotationdefaults": {
           "arrowcolor": "#2a3f5f",
           "arrowhead": 0,
           "arrowwidth": 1
          },
          "autotypenumbers": "strict",
          "coloraxis": {
           "colorbar": {
            "outlinewidth": 0,
            "ticks": ""
           }
          },
          "colorscale": {
           "diverging": [
            [
             0,
             "#8e0152"
            ],
            [
             0.1,
             "#c51b7d"
            ],
            [
             0.2,
             "#de77ae"
            ],
            [
             0.3,
             "#f1b6da"
            ],
            [
             0.4,
             "#fde0ef"
            ],
            [
             0.5,
             "#f7f7f7"
            ],
            [
             0.6,
             "#e6f5d0"
            ],
            [
             0.7,
             "#b8e186"
            ],
            [
             0.8,
             "#7fbc41"
            ],
            [
             0.9,
             "#4d9221"
            ],
            [
             1,
             "#276419"
            ]
           ],
           "sequential": [
            [
             0,
             "#0d0887"
            ],
            [
             0.1111111111111111,
             "#46039f"
            ],
            [
             0.2222222222222222,
             "#7201a8"
            ],
            [
             0.3333333333333333,
             "#9c179e"
            ],
            [
             0.4444444444444444,
             "#bd3786"
            ],
            [
             0.5555555555555556,
             "#d8576b"
            ],
            [
             0.6666666666666666,
             "#ed7953"
            ],
            [
             0.7777777777777778,
             "#fb9f3a"
            ],
            [
             0.8888888888888888,
             "#fdca26"
            ],
            [
             1,
             "#f0f921"
            ]
           ],
           "sequentialminus": [
            [
             0,
             "#0d0887"
            ],
            [
             0.1111111111111111,
             "#46039f"
            ],
            [
             0.2222222222222222,
             "#7201a8"
            ],
            [
             0.3333333333333333,
             "#9c179e"
            ],
            [
             0.4444444444444444,
             "#bd3786"
            ],
            [
             0.5555555555555556,
             "#d8576b"
            ],
            [
             0.6666666666666666,
             "#ed7953"
            ],
            [
             0.7777777777777778,
             "#fb9f3a"
            ],
            [
             0.8888888888888888,
             "#fdca26"
            ],
            [
             1,
             "#f0f921"
            ]
           ]
          },
          "colorway": [
           "#636efa",
           "#EF553B",
           "#00cc96",
           "#ab63fa",
           "#FFA15A",
           "#19d3f3",
           "#FF6692",
           "#B6E880",
           "#FF97FF",
           "#FECB52"
          ],
          "font": {
           "color": "#2a3f5f"
          },
          "geo": {
           "bgcolor": "white",
           "lakecolor": "white",
           "landcolor": "white",
           "showlakes": true,
           "showland": true,
           "subunitcolor": "#C8D4E3"
          },
          "hoverlabel": {
           "align": "left"
          },
          "hovermode": "closest",
          "mapbox": {
           "style": "light"
          },
          "paper_bgcolor": "white",
          "plot_bgcolor": "white",
          "polar": {
           "angularaxis": {
            "gridcolor": "#EBF0F8",
            "linecolor": "#EBF0F8",
            "ticks": ""
           },
           "bgcolor": "white",
           "radialaxis": {
            "gridcolor": "#EBF0F8",
            "linecolor": "#EBF0F8",
            "ticks": ""
           }
          },
          "scene": {
           "xaxis": {
            "backgroundcolor": "white",
            "gridcolor": "#DFE8F3",
            "gridwidth": 2,
            "linecolor": "#EBF0F8",
            "showbackground": true,
            "ticks": "",
            "zerolinecolor": "#EBF0F8"
           },
           "yaxis": {
            "backgroundcolor": "white",
            "gridcolor": "#DFE8F3",
            "gridwidth": 2,
            "linecolor": "#EBF0F8",
            "showbackground": true,
            "ticks": "",
            "zerolinecolor": "#EBF0F8"
           },
           "zaxis": {
            "backgroundcolor": "white",
            "gridcolor": "#DFE8F3",
            "gridwidth": 2,
            "linecolor": "#EBF0F8",
            "showbackground": true,
            "ticks": "",
            "zerolinecolor": "#EBF0F8"
           }
          },
          "shapedefaults": {
           "line": {
            "color": "#2a3f5f"
           }
          },
          "ternary": {
           "aaxis": {
            "gridcolor": "#DFE8F3",
            "linecolor": "#A2B1C6",
            "ticks": ""
           },
           "baxis": {
            "gridcolor": "#DFE8F3",
            "linecolor": "#A2B1C6",
            "ticks": ""
           },
           "bgcolor": "white",
           "caxis": {
            "gridcolor": "#DFE8F3",
            "linecolor": "#A2B1C6",
            "ticks": ""
           }
          },
          "title": {
           "x": 0.05
          },
          "xaxis": {
           "automargin": true,
           "gridcolor": "#EBF0F8",
           "linecolor": "#EBF0F8",
           "ticks": "",
           "title": {
            "standoff": 15
           },
           "zerolinecolor": "#EBF0F8",
           "zerolinewidth": 2
          },
          "yaxis": {
           "automargin": true,
           "gridcolor": "#EBF0F8",
           "linecolor": "#EBF0F8",
           "ticks": "",
           "title": {
            "standoff": 15
           },
           "zerolinecolor": "#EBF0F8",
           "zerolinewidth": 2
          }
         }
        },
        "title": {
         "text": "xpeng Forecast"
        },
        "xaxis": {
         "range": [
          "2025-03-03T00:00:00",
          "2025-11-01T00:00:00"
         ],
         "tickangle": -45,
         "title": {
          "text": "Date"
         }
        },
        "yaxis": {
         "range": [
          0,
          36.876000213623044
         ],
         "title": {
          "text": "Price / USD"
         }
        }
       }
      }
     },
     "metadata": {},
     "output_type": "display_data"
    }
   ],
   "source": [
    "fh=ForecastHandler(company='xpeng')\n",
    "fh.load_all_forecasts()\n",
    "fh.plot_forecasts()"
   ]
  },
  {
   "cell_type": "code",
   "execution_count": 7,
   "metadata": {},
   "outputs": [
    {
     "name": "stdout",
     "output_type": "stream",
     "text": [
      "found forecast files: ['20250402_mo-stock_forecast.csv']\n",
      "load file 20250402_mo-stock_forecast.csv\n"
     ]
    },
    {
     "data": {
      "image/png": "[encoded data removed]",
      "text/plain": [
       "<Figure size 1000x500 with 1 Axes>"
      ]
     },
     "metadata": {},
     "output_type": "display_data"
    },
    {
     "data": {
      "application/vnd.plotly.v1+json": {
       "config": {
        "plotlyServerURL": "https://plot.ly"
       },
       "data": [
        {
         "line": {
          "color": "#636EFA",
          "dash": "dash"
         },
         "mode": "lines",
         "name": "Forecast - 20250402",
         "type": "scatter",
         "x": [
          "2025-04-03T00:00:00.000000000",
          "2025-04-04T00:00:00.000000000",
          "2025-04-07T00:00:00.000000000",
          "2025-04-08T00:00:00.000000000",
          "2025-04-09T00:00:00.000000000",
          "2025-04-10T00:00:00.000000000",
          "2025-04-11T00:00:00.000000000",
          "2025-04-14T00:00:00.000000000",
          "2025-04-15T00:00:00.000000000",
          "2025-04-16T00:00:00.000000000",
          "2025-04-17T00:00:00.000000000",
          "2025-04-18T00:00:00.000000000",
          "2025-04-21T00:00:00.000000000",
          "2025-04-22T00:00:00.000000000",
          "2025-04-23T00:00:00.000000000",
          "2025-04-24T00:00:00.000000000",
          "2025-04-25T00:00:00.000000000",
          "2025-04-28T00:00:00.000000000",
          "2025-04-29T00:00:00.000000000",
          "2025-04-30T00:00:00.000000000",
          "2025-05-01T00:00:00.000000000",
          "2025-05-02T00:00:00.000000000",
          "2025-05-05T00:00:00.000000000",
          "2025-05-06T00:00:00.000000000",
          "2025-06-01T00:00:00.000000000",
          "2025-07-01T00:00:00.000000000",
          "2025-08-01T00:00:00.000000000",
          "2025-09-01T00:00:00.000000000",
          "2025-10-01T00:00:00.000000000",
          "2025-11-01T00:00:00.000000000",
          "2025-12-01T00:00:00.000000000",
          "2026-01-01T00:00:00.000000000",
          "2026-02-01T00:00:00.000000000",
          "2026-03-01T00:00:00.000000000",
          "2026-04-01T00:00:00.000000000",
          "2026-05-01T00:00:00.000000000",
          "2026-06-01T00:00:00.000000000",
          "2026-07-01T00:00:00.000000000",
          "2026-08-01T00:00:00.000000000",
          "2026-09-01T00:00:00.000000000",
          "2026-10-01T00:00:00.000000000",
          "2026-11-01T00:00:00.000000000",
          "2026-12-01T00:00:00.000000000",
          "2027-01-01T00:00:00.000000000",
          "2027-02-01T00:00:00.000000000",
          "2027-03-01T00:00:00.000000000",
          "2027-04-01T00:00:00.000000000"
         ],
         "y": {
          "bdata": "AAAAQOG6S0AAAAAgridLQAAAAKBwHUxAAAAAQAr3S0AAAAAAKTxMQAAAAGC4vkxAAAAAgD1KTEAAAACA61FMQAAAAOCjEExAAAAAAAAgTEAAAADgo/BLQAAAACCFq0tAAAAAgBSuS0AAAACgmdlLQAAAAEAKN0xAAAAAIK4HTEAAAACgcJ1LQAAAAEAKN0xAAAAAoJmZTEAAAABgjyJNQAAAAEAz80xAAAAAgOtxTEAAAAAgXC9NQAAAAEAzk01AAAAAIIVLT0AAAABACndNQAAAACCFC0lAAAAAACn8SUAAAABgj+JNQAAAAKBHAU9AAAAAgMIVUEAAAAAAALBQQAAAAAAAUFFAAAAAgMKlUUAAAACAPbpRQAAAAOB6ZFJAAAAAwMyMUkAAAABguD5TQAAAAIDrIVZAAAAAAADQUkAAAABA4fpPQAEAAADXY09AAAAAwMwMUkAAAACA68FUQAAAAMAepVFAAAAAwB5lUkAAAAAgXN9SQA==",
          "dtype": "f8"
         }
        },
        {
         "marker": {
          "color": "#636EFA",
          "size": 8,
          "symbol": "circle"
         },
         "mode": "markers",
         "name": "Start Forecast - 20250402",
         "type": "scatter",
         "x": [
          "2025-04-03T00:00:00"
         ],
         "y": [
          55.459999084472656
         ]
        },
        {
         "line": {
          "color": "red"
         },
         "marker": {
          "color": "red",
          "size": 6
         },
         "mode": "lines+markers",
         "name": "Current Price",
         "type": "scatter",
         "x": [
          "2025-03-03T00:00:00",
          "2025-03-04T00:00:00",
          "2025-03-05T00:00:00",
          "2025-03-06T00:00:00",
          "2025-03-07T00:00:00",
          "2025-03-10T00:00:00",
          "2025-03-11T00:00:00",
          "2025-03-12T00:00:00",
          "2025-03-13T00:00:00",
          "2025-03-14T00:00:00",
          "2025-03-17T00:00:00",
          "2025-03-18T00:00:00",
          "2025-03-19T00:00:00",
          "2025-03-20T00:00:00",
          "2025-03-21T00:00:00",
          "2025-03-24T00:00:00",
          "2025-03-25T00:00:00",
          "2025-03-26T00:00:00",
          "2025-03-27T00:00:00",
          "2025-03-28T00:00:00",
          "2025-03-31T00:00:00",
          "2025-04-01T00:00:00",
          "2025-04-02T00:00:00"
         ],
         "y": {
          "bdata": "AAAA4OMlTEAAAACg5aZLQAAAAODjektAAAAAQCsATEAAAABAPmJMQAAAACAg+UxAAAAAAIKPTEAAAAAAwmRMQAAAAEDNwUxAAAAAABHvTEAAAAAgz+1MQAAAAMBlp0xAAAAAYFx2TEAAAACg9odMQAAAAGBaSkxAAAAA4KNQTEAAAABA4VpMQAAAAAAA4ExAAAAAYGYmTUAAAABAMxNNQAAAAGCPAk5AAAAAwB5lTUAAAAAgXI9MQA==",
          "dtype": "f8"
         }
        }
       ],
       "layout": {
        "legend": {
         "font": {
          "size": 10
         },
         "x": 1.05,
         "xanchor": "left",
         "y": 1,
         "yanchor": "top"
        },
        "template": {
         "data": {
          "bar": [
           {
            "error_x": {
             "color": "#2a3f5f"
            },
            "error_y": {
             "color": "#2a3f5f"
            },
            "marker": {
             "line": {
              "color": "white",
              "width": 0.5
             },
             "pattern": {
              "fillmode": "overlay",
              "size": 10,
              "solidity": 0.2
             }
            },
            "type": "bar"
           }
          ],
          "barpolar": [
           {
            "marker": {
             "line": {
              "color": "white",
              "width": 0.5
             },
             "pattern": {
              "fillmode": "overlay",
              "size": 10,
              "solidity": 0.2
             }
            },
            "type": "barpolar"
           }
          ],
          "carpet": [
           {
            "aaxis": {
             "endlinecolor": "#2a3f5f",
             "gridcolor": "#C8D4E3",
             "linecolor": "#C8D4E3",
             "minorgridcolor": "#C8D4E3",
             "startlinecolor": "#2a3f5f"
            },
            "baxis": {
             "endlinecolor": "#2a3f5f",
             "gridcolor": "#C8D4E3",
             "linecolor": "#C8D4E3",
             "minorgridcolor": "#C8D4E3",
             "startlinecolor": "#2a3f5f"
            },
            "type": "carpet"
           }
          ],
          "choropleth": [
           {
            "colorbar": {
             "outlinewidth": 0,
             "ticks": ""
            },
            "type": "choropleth"
           }
          ],
          "contour": [
           {
            "colorbar": {
             "outlinewidth": 0,
             "ticks": ""
            },
            "colorscale": [
             [
              0,
              "#0d0887"
             ],
             [
              0.1111111111111111,
              "#46039f"
             ],
             [
              0.2222222222222222,
              "#7201a8"
             ],
             [
              0.3333333333333333,
              "#9c179e"
             ],
             [
              0.4444444444444444,
              "#bd3786"
             ],
             [
              0.5555555555555556,
              "#d8576b"
             ],
             [
              0.6666666666666666,
              "#ed7953"
             ],
             [
              0.7777777777777778,
              "#fb9f3a"
             ],
             [
              0.8888888888888888,
              "#fdca26"
             ],
             [
              1,
              "#f0f921"
             ]
            ],
            "type": "contour"
           }
          ],
          "contourcarpet": [
           {
            "colorbar": {
             "outlinewidth": 0,
             "ticks": ""
            },
            "type": "contourcarpet"
           }
          ],
          "heatmap": [
           {
            "colorbar": {
             "outlinewidth": 0,
             "ticks": ""
            },
            "colorscale": [
             [
              0,
              "#0d0887"
             ],
             [
              0.1111111111111111,
              "#46039f"
             ],
             [
              0.2222222222222222,
              "#7201a8"
             ],
             [
              0.3333333333333333,
              "#9c179e"
             ],
             [
              0.4444444444444444,
              "#bd3786"
             ],
             [
              0.5555555555555556,
              "#d8576b"
             ],
             [
              0.6666666666666666,
              "#ed7953"
             ],
             [
              0.7777777777777778,
              "#fb9f3a"
             ],
             [
              0.8888888888888888,
              "#fdca26"
             ],
             [
              1,
              "#f0f921"
             ]
            ],
            "type": "heatmap"
           }
          ],
          "histogram": [
           {
            "marker": {
             "pattern": {
              "fillmode": "overlay",
              "size": 10,
              "solidity": 0.2
             }
            },
            "type": "histogram"
           }
          ],
          "histogram2d": [
           {
            "colorbar": {
             "outlinewidth": 0,
             "ticks": ""
            },
            "colorscale": [
             [
              0,
              "#0d0887"
             ],
             [
              0.1111111111111111,
              "#46039f"
             ],
             [
              0.2222222222222222,
              "#7201a8"
             ],
             [
              0.3333333333333333,
              "#9c179e"
             ],
             [
              0.4444444444444444,
              "#bd3786"
             ],
             [
              0.5555555555555556,
              "#d8576b"
             ],
             [
              0.6666666666666666,
              "#ed7953"
             ],
             [
              0.7777777777777778,
              "#fb9f3a"
             ],
             [
              0.8888888888888888,
              "#fdca26"
             ],
             [
              1,
              "#f0f921"
             ]
            ],
            "type": "histogram2d"
           }
          ],
          "histogram2dcontour": [
           {
            "colorbar": {
             "outlinewidth": 0,
             "ticks": ""
            },
            "colorscale": [
             [
              0,
              "#0d0887"
             ],
             [
              0.1111111111111111,
              "#46039f"
             ],
             [
              0.2222222222222222,
              "#7201a8"
             ],
             [
              0.3333333333333333,
              "#9c179e"
             ],
             [
              0.4444444444444444,
              "#bd3786"
             ],
             [
              0.5555555555555556,
              "#d8576b"
             ],
             [
              0.6666666666666666,
              "#ed7953"
             ],
             [
              0.7777777777777778,
              "#fb9f3a"
             ],
             [
              0.8888888888888888,
              "#fdca26"
             ],
             [
              1,
              "#f0f921"
             ]
            ],
            "type": "histogram2dcontour"
           }
          ],
          "mesh3d": [
           {
            "colorbar": {
             "outlinewidth": 0,
             "ticks": ""
            },
            "type": "mesh3d"
           }
          ],
          "parcoords": [
           {
            "line": {
             "colorbar": {
              "outlinewidth": 0,
              "ticks": ""
             }
            },
            "type": "parcoords"
           }
          ],
          "pie": [
           {
            "automargin": true,
            "type": "pie"
           }
          ],
          "scatter": [
           {
            "fillpattern": {
             "fillmode": "overlay",
             "size": 10,
             "solidity": 0.2
            },
            "type": "scatter"
           }
          ],
          "scatter3d": [
           {
            "line": {
             "colorbar": {
              "outlinewidth": 0,
              "ticks": ""
             }
            },
            "marker": {
             "colorbar": {
              "outlinewidth": 0,
              "ticks": ""
             }
            },
            "type": "scatter3d"
           }
          ],
          "scattercarpet": [
           {
            "marker": {
             "colorbar": {
              "outlinewidth": 0,
              "ticks": ""
             }
            },
            "type": "scattercarpet"
           }
          ],
          "scattergeo": [
           {
            "marker": {
             "colorbar": {
              "outlinewidth": 0,
              "ticks": ""
             }
            },
            "type": "scattergeo"
           }
          ],
          "scattergl": [
           {
            "marker": {
             "colorbar": {
              "outlinewidth": 0,
              "ticks": ""
             }
            },
            "type": "scattergl"
           }
          ],
          "scattermap": [
           {
            "marker": {
             "colorbar": {
              "outlinewidth": 0,
              "ticks": ""
             }
            },
            "type": "scattermap"
           }
          ],
          "scattermapbox": [
           {
            "marker": {
             "colorbar": {
              "outlinewidth": 0,
              "ticks": ""
             }
            },
            "type": "scattermapbox"
           }
          ],
          "scatterpolar": [
           {
            "marker": {
             "colorbar": {
              "outlinewidth": 0,
              "ticks": ""
             }
            },
            "type": "scatterpolar"
           }
          ],
          "scatterpolargl": [
           {
            "marker": {
             "colorbar": {
              "outlinewidth": 0,
              "ticks": ""
             }
            },
            "type": "scatterpolargl"
           }
          ],
          "scatterternary": [
           {
            "marker": {
             "colorbar": {
              "outlinewidth": 0,
              "ticks": ""
             }
            },
            "type": "scatterternary"
           }
          ],
          "surface": [
           {
            "colorbar": {
             "outlinewidth": 0,
             "ticks": ""
            },
            "colorscale": [
             [
              0,
              "#0d0887"
             ],
             [
              0.1111111111111111,
              "#46039f"
             ],
             [
              0.2222222222222222,
              "#7201a8"
             ],
             [
              0.3333333333333333,
              "#9c179e"
             ],
             [
              0.4444444444444444,
              "#bd3786"
             ],
             [
              0.5555555555555556,
              "#d8576b"
             ],
             [
              0.6666666666666666,
              "#ed7953"
             ],
             [
              0.7777777777777778,
              "#fb9f3a"
             ],
             [
              0.8888888888888888,
              "#fdca26"
             ],
             [
              1,
              "#f0f921"
             ]
            ],
            "type": "surface"
           }
          ],
          "table": [
           {
            "cells": {
             "fill": {
              "color": "#EBF0F8"
             },
             "line": {
              "color": "white"
             }
            },
            "header": {
             "fill": {
              "color": "#C8D4E3"
             },
             "line": {
              "color": "white"
             }
            },
            "type": "table"
           }
          ]
         },
         "layout": {
          "annotationdefaults": {
           "arrowcolor": "#2a3f5f",
           "arrowhead": 0,
           "arrowwidth": 1
          },
          "autotypenumbers": "strict",
          "coloraxis": {
           "colorbar": {
            "outlinewidth": 0,
            "ticks": ""
           }
          },
          "colorscale": {
           "diverging": [
            [
             0,
             "#8e0152"
            ],
            [
             0.1,
             "#c51b7d"
            ],
            [
             0.2,
             "#de77ae"
            ],
            [
             0.3,
             "#f1b6da"
            ],
            [
             0.4,
             "#fde0ef"
            ],
            [
             0.5,
             "#f7f7f7"
            ],
            [
             0.6,
             "#e6f5d0"
            ],
            [
             0.7,
             "#b8e186"
            ],
            [
             0.8,
             "#7fbc41"
            ],
            [
             0.9,
             "#4d9221"
            ],
            [
             1,
             "#276419"
            ]
           ],
           "sequential": [
            [
             0,
             "#0d0887"
            ],
            [
             0.1111111111111111,
             "#46039f"
            ],
            [
             0.2222222222222222,
             "#7201a8"
            ],
            [
             0.3333333333333333,
             "#9c179e"
            ],
            [
             0.4444444444444444,
             "#bd3786"
            ],
            [
             0.5555555555555556,
             "#d8576b"
            ],
            [
             0.6666666666666666,
             "#ed7953"
            ],
            [
             0.7777777777777778,
             "#fb9f3a"
            ],
            [
             0.8888888888888888,
             "#fdca26"
            ],
            [
             1,
             "#f0f921"
            ]
           ],
           "sequentialminus": [
            [
             0,
             "#0d0887"
            ],
            [
             0.1111111111111111,
             "#46039f"
            ],
            [
             0.2222222222222222,
             "#7201a8"
            ],
            [
             0.3333333333333333,
             "#9c179e"
            ],
            [
             0.4444444444444444,
             "#bd3786"
            ],
            [
             0.5555555555555556,
             "#d8576b"
            ],
            [
             0.6666666666666666,
             "#ed7953"
            ],
            [
             0.7777777777777778,
             "#fb9f3a"
            ],
            [
             0.8888888888888888,
             "#fdca26"
            ],
            [
             1,
             "#f0f921"
            ]
           ]
          },
          "colorway": [
           "#636efa",
           "#EF553B",
           "#00cc96",
           "#ab63fa",
           "#FFA15A",
           "#19d3f3",
           "#FF6692",
           "#B6E880",
           "#FF97FF",
           "#FECB52"
          ],
          "font": {
           "color": "#2a3f5f"
          },
          "geo": {
           "bgcolor": "white",
           "lakecolor": "white",
           "landcolor": "white",
           "showlakes": true,
           "showland": true,
           "subunitcolor": "#C8D4E3"
          },
          "hoverlabel": {
           "align": "left"
          },
          "hovermode": "closest",
          "mapbox": {
           "style": "light"
          },
          "paper_bgcolor": "white",
          "plot_bgcolor": "white",
          "polar": {
           "angularaxis": {
            "gridcolor": "#EBF0F8",
            "linecolor": "#EBF0F8",
            "ticks": ""
           },
           "bgcolor": "white",
           "radialaxis": {
            "gridcolor": "#EBF0F8",
            "linecolor": "#EBF0F8",
            "ticks": ""
           }
          },
          "scene": {
           "xaxis": {
            "backgroundcolor": "white",
            "gridcolor": "#DFE8F3",
            "gridwidth": 2,
            "linecolor": "#EBF0F8",
            "showbackground": true,
            "ticks": "",
            "zerolinecolor": "#EBF0F8"
           },
           "yaxis": {
            "backgroundcolor": "white",
            "gridcolor": "#DFE8F3",
            "gridwidth": 2,
            "linecolor": "#EBF0F8",
            "showbackground": true,
            "ticks": "",
            "zerolinecolor": "#EBF0F8"
           },
           "zaxis": {
            "backgroundcolor": "white",
            "gridcolor": "#DFE8F3",
            "gridwidth": 2,
            "linecolor": "#EBF0F8",
            "showbackground": true,
            "ticks": "",
            "zerolinecolor": "#EBF0F8"
           }
          },
          "shapedefaults": {
           "line": {
            "color": "#2a3f5f"
           }
          },
          "ternary": {
           "aaxis": {
            "gridcolor": "#DFE8F3",
            "linecolor": "#A2B1C6",
            "ticks": ""
           },
           "baxis": {
            "gridcolor": "#DFE8F3",
            "linecolor": "#A2B1C6",
            "ticks": ""
           },
           "bgcolor": "white",
           "caxis": {
            "gridcolor": "#DFE8F3",
            "linecolor": "#A2B1C6",
            "ticks": ""
           }
          },
          "title": {
           "x": 0.05
          },
          "xaxis": {
           "automargin": true,
           "gridcolor": "#EBF0F8",
           "linecolor": "#EBF0F8",
           "ticks": "",
           "title": {
            "standoff": 15
           },
           "zerolinecolor": "#EBF0F8",
           "zerolinewidth": 2
          },
          "yaxis": {
           "automargin": true,
           "gridcolor": "#EBF0F8",
           "linecolor": "#EBF0F8",
           "ticks": "",
           "title": {
            "standoff": 15
           },
           "zerolinecolor": "#EBF0F8",
           "zerolinewidth": 2
          }
         }
        },
        "title": {
         "text": "mo-stock Forecast"
        },
        "xaxis": {
         "range": [
          "2025-03-03T00:00:00",
          "2025-11-01T00:00:00"
         ],
         "tickangle": -45,
         "title": {
          "text": "Date"
         }
        },
        "yaxis": {
         "range": [
          0,
          87.62600021362304
         ],
         "title": {
          "text": "Price / USD"
         }
        }
       }
      }
     },
     "metadata": {},
     "output_type": "display_data"
    }
   ],
   "source": [
    "fh=ForecastHandler(company='mo-stock')\n",
    "fh.load_all_forecasts()\n",
    "fh.plot_forecasts()"
   ]
  }
 ],
 "metadata": {
  "kernelspec": {
   "display_name": ".venv",
   "language": "python",
   "name": "python3"
  },
  "language_info": {
   "codemirror_mode": {
    "name": "ipython",
    "version": 3
   },
   "file_extension": ".py",
   "mimetype": "text/x-python",
   "name": "python",
   "nbconvert_exporter": "python",
   "pygments_lexer": "ipython3",
   "version": "3.10.0"
  }
 },
 "nbformat": 4,
 "nbformat_minor": 2
}
